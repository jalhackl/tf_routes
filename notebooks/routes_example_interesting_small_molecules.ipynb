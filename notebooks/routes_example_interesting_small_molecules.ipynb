{
 "cells": [
  {
   "cell_type": "code",
   "execution_count": 1,
   "id": "6a2ef302",
   "metadata": {},
   "outputs": [
    {
     "name": "stderr",
     "output_type": "stream",
     "text": [
      "C:\\Users\\josef\\AppData\\Local\\Temp/ipykernel_14080/583891924.py:4: DeprecationWarning: The rdkit.Chem.MCS module is deprecated; please use rdkit.Chem.rdFMCS instead.\n",
      "  from rdkit.Chem import MCS\n"
     ]
    }
   ],
   "source": [
    "import rdkit\n",
    "from rdkit import Chem\n",
    "from rdkit.Chem.Draw import IPythonConsole\n",
    "from rdkit.Chem import MCS\n",
    "from rdkit.Chem import rdFMCS\n",
    "from rdkit.Chem import Draw\n",
    "from rdkit.Chem import *\n",
    "from rdkit.Chem import AllChem, Draw, rdFMCS\n",
    "from rdkit.Chem.Draw import rdMolDraw2D\n",
    "from rdkit.Chem.Draw import IPythonConsole\n",
    "IPythonConsole.ipython_useSVG=False  \n",
    "import os\n",
    "from os import listdir\n",
    "from os.path import isfile, join\n",
    "import numpy as np\n",
    "from copy import deepcopy\n",
    "from IPython.display import SVG\n",
    "import time\n",
    "\n",
    "\n",
    "import tf_routes\n",
    "from tf_routes import preprocessing\n",
    "from tf_routes import routes\n",
    "from tf_routes import visualizations\n"
   ]
  },
  {
   "cell_type": "code",
   "execution_count": 2,
   "id": "09217dc5",
   "metadata": {},
   "outputs": [],
   "source": [
    "import networkx as nx\n",
    "import logging\n",
    "logger = logging.getLogger(__name__)\n",
    "logging.getLogger().setLevel(logging.INFO)"
   ]
  },
  {
   "cell_type": "markdown",
   "id": "824ee6d3",
   "metadata": {},
   "source": [
    "### interesting example molecules"
   ]
  },
  {
   "cell_type": "code",
   "execution_count": 3,
   "id": "d8ff9add",
   "metadata": {},
   "outputs": [],
   "source": [
    "methylindole2 = \"CC1=CC2=CC=CC=C2N1\"\n",
    "neopentane = \"CC(C)(C)C\"\n",
    "toluene = \"CC1=CC=CC=C1\"\n",
    "\n",
    "\n",
    "ethane = \"CC\"\n",
    "\n",
    "methylfuran2 = \"CC1=CC=CO1\"\n",
    "\n",
    "cholesterol = \"CC(C)CCCC(C)C1CCC2C1(CCC3C2CC=C4C3(CCC(C4)O)C)C\"\n",
    "cortisol = \"CC12CCC(=O)C=C1CCC3C2C(CC4(C3CCC4(C(=O)CO)O)C)O\"\n",
    "\n",
    "\n",
    "#neue molekuele\n",
    "methanol = \"CO\"\n",
    "\n",
    "naphthol2 = \"C1=CC=C2C=C(C=CC2=C1)O\"\n",
    "#https://pubchem.ncbi.nlm.nih.gov/compound/85530192#section=3D-Conformer\n",
    "dimethylindenol = \"CC1=C(C2=CC=CC=C2C1O)C\"\n",
    "\n",
    "propylphenol4 = \"CCCC1=CC=C(C=C1)O\""
   ]
  },
  {
   "cell_type": "markdown",
   "id": "0a0d5ff4",
   "metadata": {},
   "source": [
    "### or use molecules from the pdbbind-folder"
   ]
  },
  {
   "cell_type": "code",
   "execution_count": 4,
   "id": "3e5689ae",
   "metadata": {},
   "outputs": [],
   "source": [
    "files = os.listdir('pdbbindsdf20/')"
   ]
  },
  {
   "cell_type": "code",
   "execution_count": 5,
   "id": "ddc79158",
   "metadata": {},
   "outputs": [
    {
     "name": "stdout",
     "output_type": "stream",
     "text": [
      "Folder contains:\n",
      "['1a07_ligand.sdf', '1a0q_ligand.sdf', '1a0t_ligand.sdf', '1a1b_ligand.sdf', '1a1c_ligand.sdf', '1a1e_ligand.sdf', '1a2c_ligand.sdf', '1a3e_ligand.sdf', '1a4g_ligand.sdf', '1a4h_ligand.sdf', '1a4k_ligand.sdf', '1a4m_ligand.sdf', '1a4q_ligand.sdf', '1a4r_ligand.sdf', '1a4w_ligand.sdf', '1a5g_ligand.sdf', '1a5h_ligand.sdf', '1a5v_ligand.sdf', '1a7c_ligand.sdf', '1a7t_ligand.sdf']\n"
     ]
    }
   ],
   "source": [
    "print(\"Folder contains:\")\n",
    "print(files)"
   ]
  },
  {
   "cell_type": "code",
   "execution_count": 6,
   "id": "afde4d24",
   "metadata": {},
   "outputs": [],
   "source": [
    "#sdf to smiles"
   ]
  },
  {
   "cell_type": "code",
   "execution_count": 7,
   "id": "126de3dc",
   "metadata": {},
   "outputs": [],
   "source": [
    "\n",
    "l1a07sdf = Chem.SDMolSupplier('pdbbindsdf20/' + '1a07_ligand.sdf' )\n",
    "for i in l1a07sdf:\n",
    "    l1a07 = Chem.MolToSmiles(i)\n",
    "\n",
    "l1a1csdf = Chem.SDMolSupplier('pdbbindsdf20/' + '1a1c_ligand.sdf' )\n",
    "for i in l1a1csdf:\n",
    "    l1a1c = Chem.MolToSmiles(i)\n",
    "\n",
    "l1a7csdf = Chem.SDMolSupplier('pdbbindsdf20/' + '1a7c_ligand.sdf' )\n",
    "for i in l1a7csdf:\n",
    "    l1a7c = Chem.MolToSmiles(i)\n",
    "    \n",
    "#interesting polycycles\n",
    "l1a4msdf = Chem.SDMolSupplier('pdbbindsdf20/' + '1a4m_ligand.sdf' )\n",
    "for i in l1a4msdf:\n",
    "    l1a4m = Chem.MolToSmiles(i)\n",
    "#ccore with:\n",
    "l1a7tsdf = Chem.SDMolSupplier('pdbbindsdf20/' + '1a7t_ligand.sdf' )\n",
    "for i in l1a7tsdf:\n",
    "    l1a7t = Chem.MolToSmiles(i)\n",
    "    \n",
    "l1a0tsdf = Chem.SDMolSupplier('pdbbindsdf20/' + '1a0t_ligand.sdf' )\n",
    "for i in l1a0tsdf:\n",
    "    l1a0t = Chem.MolToSmiles(i)\n",
    "    \n",
    "l1a4hsdf = Chem.SDMolSupplier('pdbbindsdf20/' + '1a4h_ligand.sdf' )\n",
    "for i in l1a4hsdf:\n",
    "    l1a4h = Chem.MolToSmiles(i)\n",
    "    \n",
    "l1a4ksdf = Chem.SDMolSupplier('pdbbindsdf20/' + '1a4k_ligand.sdf' )\n",
    "for i in l1a4ksdf:\n",
    "    l1a4k = Chem.MolToSmiles(i)\n",
    "    \n",
    "l1a2csdf = Chem.SDMolSupplier('pdbbindsdf20/' + '1a2c_ligand.sdf' )\n",
    "for i in l1a2csdf:\n",
    "    l1a2c = Chem.MolToSmiles(i)\n",
    "    \n",
    "l1a5gsdf = Chem.SDMolSupplier('pdbbindsdf20/' + '1a5g_ligand.sdf' )\n",
    "for i in l1a5gsdf:\n",
    "    l1a5g = Chem.MolToSmiles(i)\n",
    "    \n"
   ]
  },
  {
   "cell_type": "code",
   "execution_count": 8,
   "id": "07978f5c",
   "metadata": {},
   "outputs": [],
   "source": [
    "#smiles to rdkit-mol"
   ]
  },
  {
   "cell_type": "code",
   "execution_count": 9,
   "id": "a0341b75",
   "metadata": {},
   "outputs": [],
   "source": [
    "l1a07mol = Chem.MolFromSmiles(l1a07)\n",
    "\n",
    "l1a1cmol = Chem.MolFromSmiles(l1a1c)\n",
    "\n",
    "l1a7cmol = Chem.MolFromSmiles(l1a7c)\n",
    "\n",
    "#interesting polycycles\n",
    "l1a4mmol = Chem.MolFromSmiles(l1a4m)\n",
    "l1a7tmol = Chem.MolFromSmiles(l1a7t)\n",
    "\n",
    "l1a0tmol = Chem.MolFromSmiles(l1a0t)\n",
    "\n",
    "l1a4hmol = Chem.MolFromSmiles(l1a4h)\n",
    "\n",
    "l1a4kmol = Chem.MolFromSmiles(l1a4k)\n",
    "\n",
    "l1a2cmol = Chem.MolFromSmiles(l1a2c)\n",
    "l1a5gmol = Chem.MolFromSmiles(l1a5g)"
   ]
  },
  {
   "cell_type": "markdown",
   "id": "e0e11725",
   "metadata": {},
   "source": [
    "# In the cell below, select two molecules for further processing!"
   ]
  },
  {
   "cell_type": "code",
   "execution_count": 10,
   "id": "fae9bd6f",
   "metadata": {},
   "outputs": [],
   "source": [
    "#selection of two molecules\n",
    "\n",
    "#mol1 = Chem.MolFromSmiles(cholesterol)\n",
    "\n",
    "#mol2 = Chem.MolFromSmiles(cortisol)\n",
    "\n",
    "#mol1 = l1a07mol\n",
    "\n",
    "#mol2 = l1a7cmol\n",
    "\n",
    "#mol1 = l1a2cmol\n",
    "\n",
    "#mol2 = l1a5gmol\n",
    "\n",
    "mol1 = Chem.MolFromSmiles(propylphenol4)\n",
    "\n",
    "mol2 = Chem.MolFromSmiles(methanol)"
   ]
  },
  {
   "cell_type": "code",
   "execution_count": null,
   "id": "20f636f4",
   "metadata": {},
   "outputs": [],
   "source": []
  },
  {
   "cell_type": "code",
   "execution_count": 11,
   "id": "77480d08",
   "metadata": {},
   "outputs": [],
   "source": [
    "#optionally, add hydrogens (in usual Transformato workflow, hydrogens are necessarily present)\n",
    "mol1 = Chem.AddHs(mol1)\n",
    "mol2 = Chem.AddHs(mol2)"
   ]
  },
  {
   "cell_type": "code",
   "execution_count": null,
   "id": "c6596f54",
   "metadata": {},
   "outputs": [],
   "source": []
  },
  {
   "cell_type": "code",
   "execution_count": 12,
   "id": "5980f6f0",
   "metadata": {},
   "outputs": [],
   "source": [
    "mols = [mol1, mol2]"
   ]
  },
  {
   "cell_type": "code",
   "execution_count": 13,
   "id": "8e7e18fb",
   "metadata": {},
   "outputs": [],
   "source": [
    "mol1 = preprocessing.generate_apply_dicts(mol1)\n",
    "mol2 = preprocessing.generate_apply_dicts(mol2)"
   ]
  },
  {
   "cell_type": "code",
   "execution_count": 14,
   "id": "1e3c95e4",
   "metadata": {},
   "outputs": [],
   "source": [
    "graphmol1 = preprocessing._mol_to_nx_full_weight(mol1)\n",
    "graphmol2 = preprocessing._mol_to_nx_full_weight(mol2)"
   ]
  },
  {
   "cell_type": "code",
   "execution_count": 15,
   "id": "878b24e9",
   "metadata": {},
   "outputs": [],
   "source": [
    "mol1coreindex, mol2coreindex, hit_ats1, hit_ats2, ccoremol = preprocessing.get_common_core_adjustHs(mol1=mols[0], mol2=mols[1], return_ccoremol=True)"
   ]
  },
  {
   "cell_type": "markdown",
   "id": "7aa62466",
   "metadata": {},
   "source": [
    "### graphs are created and initialized with weights; now the search for a mutation route starts; first step: find connected dummy regions"
   ]
  },
  {
   "cell_type": "code",
   "execution_count": 16,
   "id": "90a7978d",
   "metadata": {},
   "outputs": [],
   "source": [
    "subg1, G_dummy1 = preprocessing._find_connected_dummy_regions_mol(mol1, mol1coreindex, graphmol1)\n",
    "subg2, G_dummy2 = preprocessing._find_connected_dummy_regions_mol(mol2, mol2coreindex, graphmol2)\n"
   ]
  },
  {
   "cell_type": "code",
   "execution_count": 17,
   "id": "0cecd0db",
   "metadata": {},
   "outputs": [],
   "source": [
    "terminaldummy1, terminalreal1 = preprocessing._find_terminal_atom(mol1coreindex,  mol1)"
   ]
  },
  {
   "cell_type": "code",
   "execution_count": 18,
   "id": "3357b04f",
   "metadata": {},
   "outputs": [],
   "source": [
    "terminaldummy2, terminalreal2 = preprocessing._find_terminal_atom(mol2coreindex,  mol2)"
   ]
  },
  {
   "cell_type": "code",
   "execution_count": 19,
   "id": "9f851b85",
   "metadata": {},
   "outputs": [],
   "source": [
    "matchterminal1 = preprocessing._match_terminal_real_and_dummy_atoms(mol1, terminalreal1, terminaldummy1)"
   ]
  },
  {
   "cell_type": "code",
   "execution_count": 20,
   "id": "90b6bebf",
   "metadata": {},
   "outputs": [],
   "source": [
    "matchterminal2 = preprocessing._match_terminal_real_and_dummy_atoms(mol2, terminalreal2, terminaldummy2)"
   ]
  },
  {
   "cell_type": "code",
   "execution_count": 21,
   "id": "d80f41e3",
   "metadata": {},
   "outputs": [],
   "source": [
    "#not necessary\n",
    "#matchterminal1 = reduce_terminal(matchterminal1, subg1, G_dummy1)"
   ]
  },
  {
   "cell_type": "markdown",
   "id": "db5a2794",
   "metadata": {},
   "source": [
    "### call mutation route algorithms"
   ]
  },
  {
   "cell_type": "code",
   "execution_count": 22,
   "id": "2c148e45",
   "metadata": {},
   "outputs": [],
   "source": [
    "order1 = routes._calculate_order_of_LJ_mutations(\n",
    "    subg1, matchterminal1, graphmol1\n",
    ")"
   ]
  },
  {
   "cell_type": "code",
   "execution_count": 23,
   "id": "4a524c2d",
   "metadata": {},
   "outputs": [],
   "source": [
    "order2 = routes._calculate_order_of_LJ_mutations(\n",
    "    subg2, matchterminal2, graphmol2\n",
    ")"
   ]
  },
  {
   "cell_type": "code",
   "execution_count": 24,
   "id": "70496f23",
   "metadata": {},
   "outputs": [],
   "source": [
    "order1new = routes._calculate_order_of_LJ_mutations_new(\n",
    "    subg1, matchterminal1, graphmol1\n",
    ")"
   ]
  },
  {
   "cell_type": "code",
   "execution_count": 25,
   "id": "70fac65a",
   "metadata": {},
   "outputs": [],
   "source": [
    "order1new = routes._calculate_order_of_LJ_mutations_new(\n",
    "    subg1, matchterminal1, graphmol1\n",
    ")"
   ]
  },
  {
   "cell_type": "code",
   "execution_count": 26,
   "id": "19e8e934",
   "metadata": {},
   "outputs": [],
   "source": [
    "order1newiter = routes._calculate_order_of_LJ_mutations_new_iter(\n",
    "    subg1, matchterminal1, graphmol1\n",
    ")"
   ]
  },
  {
   "cell_type": "code",
   "execution_count": 27,
   "id": "fce74093",
   "metadata": {},
   "outputs": [],
   "source": [
    "order1newiter_change = routes._calculate_order_of_LJ_mutations_new_iter_change(\n",
    "    subg1, matchterminal1, graphmol1\n",
    ")"
   ]
  },
  {
   "cell_type": "code",
   "execution_count": 28,
   "id": "e69c7f30",
   "metadata": {},
   "outputs": [
    {
     "name": "stdout",
     "output_type": "stream",
     "text": [
      "compare routes:\n",
      "dfs/transformato:\n",
      "[[7, 8, 0, 1, 2, 3, 4, 5, 6]]\n",
      "bfs/dijkstra:\n",
      "[[0, 1, 2, 3, 8, 4, 7, 5, 6]]\n",
      "bfs/dijkstra iterated:\n",
      "[[0, 1, 2, 3, 4, 8, 5, 7, 6]]\n",
      "bfs/dijkstra iterated + dfs:\n",
      "[[0, 1, 2, 3, 4, 8, 5, 7, 6]]\n"
     ]
    }
   ],
   "source": [
    "print(\"compare routes:\")\n",
    "print(\"dfs/transformato:\")\n",
    "print(order1)\n",
    "print(\"bfs/dijkstra:\")\n",
    "print(order1new)\n",
    "print(\"bfs/dijkstra iterated:\")\n",
    "print(order1newiter)\n",
    "print(\"bfs/dijkstra iterated + dfs:\")\n",
    "print(order1newiter_change)"
   ]
  },
  {
   "cell_type": "markdown",
   "id": "4abfc831",
   "metadata": {},
   "source": [
    "### visualize created routes"
   ]
  },
  {
   "cell_type": "code",
   "execution_count": 29,
   "id": "63af2760",
   "metadata": {},
   "outputs": [
    {
     "data": {
      "image/svg+xml": [
       "<svg xmlns=\"http://www.w3.org/2000/svg\" xmlns:rdkit=\"http://www.rdkit.org/xml\" xmlns:xlink=\"http://www.w3.org/1999/xlink\" version=\"1.1\" baseProfile=\"full\" xml:space=\"preserve\" width=\"800px\" height=\"800px\" viewBox=\"0 0 800 800\">\n",
       "<!-- END OF HEADER -->\n",
       "<rect style=\"opacity:1.0;fill:#FFFFFF;stroke:none\" width=\"800.0\" height=\"800.0\" x=\"0.0\" y=\"0.0\"> </rect>\n",
       "<path d=\"M 168.3,414.3 L 249.9,410.7\" style=\"fill:none;fill-rule:evenodd;stroke:#CCCCCC;stroke-width:17.4px;stroke-linecap:butt;stroke-linejoin:miter;stroke-opacity:1\"/>\n",
       "<path d=\"M 249.9,410.7 L 331.4,407.1\" style=\"fill:none;fill-rule:evenodd;stroke:#CCCCCC;stroke-width:17.4px;stroke-linecap:butt;stroke-linejoin:miter;stroke-opacity:1\"/>\n",
       "<path d=\"M 331.4,407.1 L 413.0,403.5\" style=\"fill:none;fill-rule:evenodd;stroke:#CCCCCC;stroke-width:17.4px;stroke-linecap:butt;stroke-linejoin:miter;stroke-opacity:1\"/>\n",
       "<path d=\"M 413.0,403.5 L 450.6,331.0\" style=\"fill:none;fill-rule:evenodd;stroke:#CCCCCC;stroke-width:17.4px;stroke-linecap:butt;stroke-linejoin:miter;stroke-opacity:1\"/>\n",
       "<path d=\"M 413.0,403.5 L 456.9,472.3\" style=\"fill:none;fill-rule:evenodd;stroke:#CCCCCC;stroke-width:17.4px;stroke-linecap:butt;stroke-linejoin:miter;stroke-opacity:1\"/>\n",
       "<path d=\"M 450.6,331.0 L 532.2,327.4\" style=\"fill:none;fill-rule:evenodd;stroke:#CCCCCC;stroke-width:17.4px;stroke-linecap:butt;stroke-linejoin:miter;stroke-opacity:1\"/>\n",
       "<path d=\"M 532.2,327.4 L 576.1,396.3\" style=\"fill:none;fill-rule:evenodd;stroke:#CCCCCC;stroke-width:17.4px;stroke-linecap:butt;stroke-linejoin:miter;stroke-opacity:1\"/>\n",
       "<path d=\"M 576.1,396.3 L 538.5,468.7\" style=\"fill:none;fill-rule:evenodd;stroke:#CCCCCC;stroke-width:17.4px;stroke-linecap:butt;stroke-linejoin:miter;stroke-opacity:1\"/>\n",
       "<path d=\"M 576.1,396.3 L 657.7,392.6\" style=\"fill:none;fill-rule:evenodd;stroke:#CCCCCC;stroke-width:17.4px;stroke-linecap:butt;stroke-linejoin:miter;stroke-opacity:1\"/>\n",
       "<path d=\"M 538.5,468.7 L 456.9,472.3\" style=\"fill:none;fill-rule:evenodd;stroke:#CCCCCC;stroke-width:17.4px;stroke-linecap:butt;stroke-linejoin:miter;stroke-opacity:1\"/>\n",
       "<path d=\"M 657.7,392.6 L 701.6,461.5\" style=\"fill:none;fill-rule:evenodd;stroke:#CCCCCC;stroke-width:17.4px;stroke-linecap:butt;stroke-linejoin:miter;stroke-opacity:1\"/>\n",
       "<ellipse cx=\"162.0\" cy=\"414.5\" rx=\"29.8\" ry=\"16.7\" style=\"fill:#FF7F00;fill-rule:evenodd;stroke:#FF7F00;stroke-width:1.0px;stroke-linecap:butt;stroke-linejoin:miter;stroke-opacity:1\"/>\n",
       "<ellipse cx=\"244.8\" cy=\"410.9\" rx=\"27.7\" ry=\"16.7\" style=\"fill:#FFBF00;fill-rule:evenodd;stroke:#FFBF00;stroke-width:1.0px;stroke-linecap:butt;stroke-linejoin:miter;stroke-opacity:1\"/>\n",
       "<ellipse cx=\"325.6\" cy=\"407.2\" rx=\"28.8\" ry=\"16.7\" style=\"fill:#FFFF00;fill-rule:evenodd;stroke:#FFFF00;stroke-width:1.0px;stroke-linecap:butt;stroke-linejoin:miter;stroke-opacity:1\"/>\n",
       "<ellipse cx=\"407.1\" cy=\"403.6\" rx=\"28.8\" ry=\"16.8\" style=\"fill:#BFFF00;fill-rule:evenodd;stroke:#BFFF00;stroke-width:1.0px;stroke-linecap:butt;stroke-linejoin:miter;stroke-opacity:1\"/>\n",
       "<ellipse cx=\"443.8\" cy=\"331.2\" rx=\"30.4\" ry=\"16.7\" style=\"fill:#7FFF00;fill-rule:evenodd;stroke:#7FFF00;stroke-width:1.0px;stroke-linecap:butt;stroke-linejoin:miter;stroke-opacity:1\"/>\n",
       "<ellipse cx=\"526.3\" cy=\"327.6\" rx=\"28.9\" ry=\"16.7\" style=\"fill:#3FFF00;fill-rule:evenodd;stroke:#3FFF00;stroke-width:1.0px;stroke-linecap:butt;stroke-linejoin:miter;stroke-opacity:1\"/>\n",
       "<ellipse cx=\"570.2\" cy=\"396.4\" rx=\"29.1\" ry=\"16.7\" style=\"fill:#00FF00;fill-rule:evenodd;stroke:#00FF00;stroke-width:1.0px;stroke-linecap:butt;stroke-linejoin:miter;stroke-opacity:1\"/>\n",
       "<ellipse cx=\"532.6\" cy=\"468.8\" rx=\"28.7\" ry=\"16.7\" style=\"fill:#FF0000;fill-rule:evenodd;stroke:#FF0000;stroke-width:1.0px;stroke-linecap:butt;stroke-linejoin:miter;stroke-opacity:1\"/>\n",
       "<ellipse cx=\"450.8\" cy=\"472.5\" rx=\"29.3\" ry=\"16.8\" style=\"fill:#FF3F00;fill-rule:evenodd;stroke:#FF3F00;stroke-width:1.0px;stroke-linecap:butt;stroke-linejoin:miter;stroke-opacity:1\"/>\n",
       "<ellipse cx=\"672.0\" cy=\"392.8\" rx=\"31.5\" ry=\"16.8\" style=\"fill:#002600;fill-rule:evenodd;stroke:#002600;stroke-width:1.0px;stroke-linecap:butt;stroke-linejoin:miter;stroke-opacity:1\"/>\n",
       "<ellipse cx=\"722.7\" cy=\"461.5\" rx=\"40.9\" ry=\"16.5\" style=\"fill:#002600;fill-rule:evenodd;stroke:#002600;stroke-width:1.0px;stroke-linecap:butt;stroke-linejoin:miter;stroke-opacity:1\"/>\n",
       "<path class=\"bond-0 atom-0 atom-1\" d=\"M 185.1,413.6 L 223.6,411.9\" style=\"fill:none;fill-rule:evenodd;stroke:#000000;stroke-width:2.0px;stroke-linecap:butt;stroke-linejoin:miter;stroke-opacity:1\"/>\n",
       "<path class=\"bond-10 atom-0 atom-10\" d=\"M 138.9,415.6 L 97.1,417.5\" style=\"fill:none;fill-rule:evenodd;stroke:#000000;stroke-width:2.0px;stroke-linecap:butt;stroke-linejoin:miter;stroke-opacity:1\"/>\n",
       "<path class=\"bond-11 atom-0 atom-11\" d=\"M 167.7,400.6 L 165.3,346.1\" style=\"fill:none;fill-rule:evenodd;stroke:#000000;stroke-width:2.0px;stroke-linecap:butt;stroke-linejoin:miter;stroke-opacity:1\"/>\n",
       "<path class=\"bond-12 atom-0 atom-12\" d=\"M 168.9,428.3 L 171.3,482.6\" style=\"fill:none;fill-rule:evenodd;stroke:#000000;stroke-width:2.0px;stroke-linecap:butt;stroke-linejoin:miter;stroke-opacity:1\"/>\n",
       "<path class=\"bond-1 atom-1 atom-2\" d=\"M 266.4,410.0 L 303.6,408.3\" style=\"fill:none;fill-rule:evenodd;stroke:#000000;stroke-width:2.0px;stroke-linecap:butt;stroke-linejoin:miter;stroke-opacity:1\"/>\n",
       "<path class=\"bond-13 atom-1 atom-13\" d=\"M 249.3,397.0 L 246.8,342.5\" style=\"fill:none;fill-rule:evenodd;stroke:#000000;stroke-width:2.0px;stroke-linecap:butt;stroke-linejoin:miter;stroke-opacity:1\"/>\n",
       "<path class=\"bond-14 atom-1 atom-14\" d=\"M 250.5,424.7 L 252.9,479.0\" style=\"fill:none;fill-rule:evenodd;stroke:#000000;stroke-width:2.0px;stroke-linecap:butt;stroke-linejoin:miter;stroke-opacity:1\"/>\n",
       "<path class=\"bond-2 atom-2 atom-3\" d=\"M 348.0,406.4 L 385.2,404.7\" style=\"fill:none;fill-rule:evenodd;stroke:#000000;stroke-width:2.0px;stroke-linecap:butt;stroke-linejoin:miter;stroke-opacity:1\"/>\n",
       "<path class=\"bond-15 atom-2 atom-15\" d=\"M 330.8,393.4 L 328.4,338.9\" style=\"fill:none;fill-rule:evenodd;stroke:#000000;stroke-width:2.0px;stroke-linecap:butt;stroke-linejoin:miter;stroke-opacity:1\"/>\n",
       "<path class=\"bond-16 atom-2 atom-16\" d=\"M 332.1,421.1 L 334.5,475.4\" style=\"fill:none;fill-rule:evenodd;stroke:#000000;stroke-width:2.0px;stroke-linecap:butt;stroke-linejoin:miter;stroke-opacity:1\"/>\n",
       "<path class=\"bond-3 atom-3 atom-4\" d=\"M 420.1,389.8 L 444.0,343.8\" style=\"fill:none;fill-rule:evenodd;stroke:#000000;stroke-width:2.0px;stroke-linecap:butt;stroke-linejoin:miter;stroke-opacity:1\"/>\n",
       "<path class=\"bond-3 atom-3 atom-4\" d=\"M 438.2,390.4 L 454.9,358.3\" style=\"fill:none;fill-rule:evenodd;stroke:#000000;stroke-width:2.0px;stroke-linecap:butt;stroke-linejoin:miter;stroke-opacity:1\"/>\n",
       "<path class=\"bond-9 atom-8 atom-3\" d=\"M 448.1,458.6 L 421.7,417.1\" style=\"fill:none;fill-rule:evenodd;stroke:#000000;stroke-width:2.0px;stroke-linecap:butt;stroke-linejoin:miter;stroke-opacity:1\"/>\n",
       "<path class=\"bond-4 atom-4 atom-5\" d=\"M 467.3,330.3 L 504.3,328.7\" style=\"fill:none;fill-rule:evenodd;stroke:#000000;stroke-width:2.0px;stroke-linecap:butt;stroke-linejoin:miter;stroke-opacity:1\"/>\n",
       "<path class=\"bond-17 atom-4 atom-17\" d=\"M 442.0,317.6 L 415.2,275.5\" style=\"fill:none;fill-rule:evenodd;stroke:#000000;stroke-width:2.0px;stroke-linecap:butt;stroke-linejoin:miter;stroke-opacity:1\"/>\n",
       "<path class=\"bond-5 atom-5 atom-6\" d=\"M 541.1,341.5 L 571.3,388.8\" style=\"fill:none;fill-rule:evenodd;stroke:#000000;stroke-width:2.0px;stroke-linecap:butt;stroke-linejoin:miter;stroke-opacity:1\"/>\n",
       "<path class=\"bond-5 atom-5 atom-6\" d=\"M 531.9,357.3 L 553.0,390.5\" style=\"fill:none;fill-rule:evenodd;stroke:#000000;stroke-width:2.0px;stroke-linecap:butt;stroke-linejoin:miter;stroke-opacity:1\"/>\n",
       "<path class=\"bond-18 atom-5 atom-18\" d=\"M 539.3,313.7 L 562.9,268.3\" style=\"fill:none;fill-rule:evenodd;stroke:#000000;stroke-width:2.0px;stroke-linecap:butt;stroke-linejoin:miter;stroke-opacity:1\"/>\n",
       "<path class=\"bond-6 atom-6 atom-7\" d=\"M 569.3,409.4 L 545.4,455.3\" style=\"fill:none;fill-rule:evenodd;stroke:#000000;stroke-width:2.0px;stroke-linecap:butt;stroke-linejoin:miter;stroke-opacity:1\"/>\n",
       "<path class=\"bond-8 atom-6 atom-9\" d=\"M 592.8,395.5 L 620.4,394.3\" style=\"fill:none;fill-rule:evenodd;stroke:#000000;stroke-width:2.0px;stroke-linecap:butt;stroke-linejoin:miter;stroke-opacity:1\"/>\n",
       "<path class=\"bond-8 atom-6 atom-9\" d=\"M 620.4,394.3 L 648.0,393.1\" style=\"fill:none;fill-rule:evenodd;stroke:#FF0000;stroke-width:2.0px;stroke-linecap:butt;stroke-linejoin:miter;stroke-opacity:1\"/>\n",
       "<path class=\"bond-7 atom-7 atom-8\" d=\"M 510.3,469.9 L 472.9,471.6\" style=\"fill:none;fill-rule:evenodd;stroke:#000000;stroke-width:2.0px;stroke-linecap:butt;stroke-linejoin:miter;stroke-opacity:1\"/>\n",
       "<path class=\"bond-7 atom-7 atom-8\" d=\"M 503.9,453.9 L 477.8,455.0\" style=\"fill:none;fill-rule:evenodd;stroke:#000000;stroke-width:2.0px;stroke-linecap:butt;stroke-linejoin:miter;stroke-opacity:1\"/>\n",
       "<path class=\"bond-19 atom-7 atom-19\" d=\"M 547.4,482.7 L 574.0,524.3\" style=\"fill:none;fill-rule:evenodd;stroke:#000000;stroke-width:2.0px;stroke-linecap:butt;stroke-linejoin:miter;stroke-opacity:1\"/>\n",
       "<path class=\"bond-20 atom-8 atom-20\" d=\"M 450.0,485.5 L 426.1,531.6\" style=\"fill:none;fill-rule:evenodd;stroke:#000000;stroke-width:2.0px;stroke-linecap:butt;stroke-linejoin:miter;stroke-opacity:1\"/>\n",
       "<path class=\"bond-21 atom-9 atom-21\" d=\"M 666.6,406.6 L 679.8,427.4\" style=\"fill:none;fill-rule:evenodd;stroke:#FF0000;stroke-width:2.0px;stroke-linecap:butt;stroke-linejoin:miter;stroke-opacity:1\"/>\n",
       "<path class=\"bond-21 atom-9 atom-21\" d=\"M 679.8,427.4 L 693.1,448.2\" style=\"fill:none;fill-rule:evenodd;stroke:#000000;stroke-width:2.0px;stroke-linecap:butt;stroke-linejoin:miter;stroke-opacity:1\"/>\n",
       "<path class=\"atom-0\" d=\"M 149.4 426.3 Q 145.2 426.3, 143.0 423.1 Q 140.9 420.0, 140.9 414.4 Q 140.9 408.8, 143.0 405.7 Q 145.1 402.6, 149.4 402.6 Q 153.7 402.6, 155.8 405.7 Q 157.9 408.8, 157.9 414.4 Q 157.9 420.0, 155.7 423.1 Q 153.6 426.3, 149.4 426.3 M 149.4 423.7 Q 151.9 423.7, 153.3 421.3 Q 154.6 419.0, 154.6 414.4 Q 154.6 409.9, 153.3 407.6 Q 151.9 405.2, 149.4 405.2 Q 146.9 405.2, 145.5 407.6 Q 144.2 409.9, 144.2 414.4 Q 144.2 419.0, 145.5 421.3 Q 146.9 423.7, 149.4 423.7 \" fill=\"#000000\"/>\n",
       "<path class=\"atom-0\" d=\"M 160.3 422.2 L 163.6 422.2 L 163.6 425.5 L 160.3 425.5 L 160.3 422.2 M 160.3 411.0 L 163.6 411.0 L 163.6 414.2 L 160.3 414.2 L 160.3 411.0 \" fill=\"#000000\"/>\n",
       "<path class=\"atom-0\" d=\"M 165.2 414.4 Q 165.2 408.7, 167.9 405.7 Q 170.6 402.6, 175.7 402.6 Q 180.5 402.6, 183.0 406.0 L 180.9 407.8 Q 179.0 405.3, 175.7 405.3 Q 172.2 405.3, 170.4 407.7 Q 168.5 410.0, 168.5 414.4 Q 168.5 419.0, 170.4 421.3 Q 172.4 423.7, 176.1 423.7 Q 178.6 423.7, 181.6 422.2 L 182.5 424.6 Q 181.3 425.4, 179.5 425.9 Q 177.7 426.3, 175.6 426.3 Q 170.6 426.3, 167.9 423.2 Q 165.2 420.2, 165.2 414.4 \" fill=\"#000000\"/>\n",
       "<path class=\"atom-1\" d=\"M 226.5 419.8 L 231.5 419.8 L 231.5 402.5 L 225.9 404.2 L 225.2 402.3 L 232.3 399.1 L 234.6 399.5 L 234.6 419.8 L 239.1 419.8 L 239.1 422.4 L 226.5 422.4 L 226.5 419.8 \" fill=\"#000000\"/>\n",
       "<path class=\"atom-1\" d=\"M 241.6 418.6 L 244.8 418.6 L 244.8 421.8 L 241.6 421.8 L 241.6 418.6 M 241.6 407.3 L 244.8 407.3 L 244.8 410.6 L 241.6 410.6 L 241.6 407.3 \" fill=\"#000000\"/>\n",
       "<path class=\"atom-1\" d=\"M 246.5 410.8 Q 246.5 405.1, 249.2 402.1 Q 251.9 399.0, 257.0 399.0 Q 261.8 399.0, 264.3 402.4 L 262.2 404.1 Q 260.3 401.7, 257.0 401.7 Q 253.5 401.7, 251.6 404.0 Q 249.8 406.4, 249.8 410.8 Q 249.8 415.4, 251.7 417.7 Q 253.6 420.1, 257.4 420.1 Q 259.9 420.1, 262.9 418.5 L 263.8 421.0 Q 262.6 421.8, 260.8 422.2 Q 258.9 422.7, 256.9 422.7 Q 251.9 422.7, 249.2 419.6 Q 246.5 416.6, 246.5 410.8 \" fill=\"#000000\"/>\n",
       "<path class=\"atom-2\" d=\"M 305.3 400.0 Q 306.1 397.9, 308.2 396.6 Q 310.2 395.4, 313.0 395.4 Q 316.5 395.4, 318.5 397.3 Q 320.4 399.2, 320.4 402.6 Q 320.4 406.0, 317.9 409.2 Q 315.4 412.4, 310.1 416.2 L 320.8 416.2 L 320.8 418.8 L 305.2 418.8 L 305.2 416.6 Q 309.5 413.5, 312.1 411.2 Q 314.7 409.0, 315.9 406.9 Q 317.2 404.8, 317.2 402.7 Q 317.2 400.5, 316.0 399.3 Q 314.9 398.0, 313.0 398.0 Q 311.1 398.0, 309.9 398.8 Q 308.7 399.5, 307.8 401.2 L 305.3 400.0 \" fill=\"#000000\"/>\n",
       "<path class=\"atom-2\" d=\"M 323.3 415.0 L 326.5 415.0 L 326.5 418.2 L 323.3 418.2 L 323.3 415.0 M 323.3 403.7 L 326.5 403.7 L 326.5 407.0 L 323.3 407.0 L 323.3 403.7 \" fill=\"#000000\"/>\n",
       "<path class=\"atom-2\" d=\"M 328.2 407.2 Q 328.2 401.4, 330.8 398.4 Q 333.5 395.4, 338.7 395.4 Q 343.4 395.4, 346.0 398.8 L 343.8 400.5 Q 342.0 398.1, 338.7 398.1 Q 335.2 398.1, 333.3 400.4 Q 331.5 402.8, 331.5 407.2 Q 331.5 411.8, 333.4 414.1 Q 335.3 416.5, 339.0 416.5 Q 341.6 416.5, 344.5 414.9 L 345.5 417.4 Q 344.3 418.2, 342.4 418.6 Q 340.6 419.1, 338.6 419.1 Q 333.5 419.1, 330.8 416.0 Q 328.2 412.9, 328.2 407.2 \" fill=\"#000000\"/>\n",
       "<path class=\"atom-3\" d=\"M 397.9 403.0 Q 400.1 403.6, 401.2 405.1 Q 402.3 406.6, 402.3 408.8 Q 402.3 410.8, 401.3 412.3 Q 400.4 413.8, 398.6 414.7 Q 396.8 415.5, 394.4 415.5 Q 391.9 415.5, 390.1 414.7 Q 388.2 413.8, 386.8 412.0 L 388.6 410.1 Q 390.1 411.7, 391.3 412.3 Q 392.5 412.9, 394.4 412.9 Q 396.5 412.9, 397.8 411.8 Q 399.1 410.6, 399.1 408.8 Q 399.1 406.5, 397.7 405.4 Q 396.4 404.3, 393.6 404.3 L 391.9 404.3 L 391.9 402.0 L 393.4 402.0 Q 395.9 401.9, 397.2 400.9 Q 398.6 399.8, 398.6 397.7 Q 398.6 396.2, 397.5 395.3 Q 396.3 394.4, 394.5 394.4 Q 392.5 394.4, 391.3 395.1 Q 390.1 395.8, 389.2 397.5 L 387.0 396.3 Q 387.8 394.4, 389.7 393.1 Q 391.7 391.8, 394.5 391.8 Q 397.8 391.8, 399.8 393.4 Q 401.8 395.0, 401.8 397.7 Q 401.8 399.6, 400.8 400.9 Q 399.8 402.2, 397.9 403.0 \" fill=\"#000000\"/>\n",
       "<path class=\"atom-3\" d=\"M 404.8 411.4 L 408.0 411.4 L 408.0 414.6 L 404.8 414.6 L 404.8 411.4 M 404.8 400.1 L 408.0 400.1 L 408.0 403.4 L 404.8 403.4 L 404.8 400.1 \" fill=\"#000000\"/>\n",
       "<path class=\"atom-3\" d=\"M 409.7 403.6 Q 409.7 397.8, 412.3 394.8 Q 415.1 391.8, 420.2 391.8 Q 425.0 391.8, 427.5 395.2 L 425.3 396.9 Q 423.5 394.5, 420.2 394.5 Q 416.7 394.5, 414.8 396.8 Q 413.0 399.1, 413.0 403.6 Q 413.0 408.2, 414.9 410.5 Q 416.8 412.9, 420.5 412.9 Q 423.1 412.9, 426.1 411.3 L 427.0 413.8 Q 425.8 414.6, 423.9 415.0 Q 422.1 415.5, 420.1 415.5 Q 415.1 415.5, 412.3 412.4 Q 409.7 409.3, 409.7 403.6 \" fill=\"#000000\"/>\n",
       "<path class=\"atom-4\" d=\"M 437.3 334.8 L 440.1 334.8 L 440.1 337.4 L 437.3 337.4 L 437.3 342.7 L 434.2 342.7 L 434.2 337.4 L 422.3 337.4 L 422.3 335.4 L 432.4 319.6 L 437.3 319.6 L 437.3 334.8 M 426.1 334.8 L 434.2 334.8 L 434.2 321.7 L 426.1 334.8 \" fill=\"#000000\"/>\n",
       "<path class=\"atom-4\" d=\"M 442.5 338.9 L 445.8 338.9 L 445.8 342.2 L 442.5 342.2 L 442.5 338.9 M 442.5 327.7 L 445.8 327.7 L 445.8 330.9 L 442.5 330.9 L 442.5 327.7 \" fill=\"#000000\"/>\n",
       "<path class=\"atom-4\" d=\"M 447.4 331.1 Q 447.4 325.4, 450.1 322.4 Q 452.8 319.4, 458.0 319.4 Q 462.7 319.4, 465.3 322.7 L 463.1 324.5 Q 461.3 322.0, 458.0 322.0 Q 454.5 322.0, 452.6 324.4 Q 450.8 326.7, 450.8 331.1 Q 450.8 335.7, 452.7 338.1 Q 454.6 340.4, 458.3 340.4 Q 460.9 340.4, 463.8 338.9 L 464.7 341.3 Q 463.5 342.1, 461.7 342.6 Q 459.9 343.0, 457.9 343.0 Q 452.8 343.0, 450.1 340.0 Q 447.4 336.9, 447.4 331.1 \" fill=\"#000000\"/>\n",
       "<path class=\"atom-5\" d=\"M 514.3 324.7 Q 516.3 324.7, 518.0 325.5 Q 519.7 326.4, 520.6 328.0 Q 521.6 329.6, 521.6 331.8 Q 521.6 334.2, 520.4 335.9 Q 519.2 337.6, 517.3 338.5 Q 515.5 339.4, 513.3 339.4 Q 511.2 339.4, 509.2 338.6 Q 507.3 337.8, 505.9 336.3 L 507.9 334.3 Q 509.0 335.5, 510.4 336.1 Q 511.9 336.7, 513.4 336.7 Q 515.5 336.7, 516.9 335.5 Q 518.3 334.2, 518.3 331.9 Q 518.3 329.4, 516.9 328.3 Q 515.5 327.1, 513.2 327.1 Q 511.2 327.1, 508.9 328.0 L 507.1 327.1 L 508.2 316.0 L 520.1 316.0 L 519.8 318.6 L 510.9 318.6 L 510.2 325.5 Q 512.3 324.7, 514.3 324.7 \" fill=\"#000000\"/>\n",
       "<path class=\"atom-5\" d=\"M 524.0 335.3 L 527.3 335.3 L 527.3 338.6 L 524.0 338.6 L 524.0 335.3 M 524.0 324.1 L 527.3 324.1 L 527.3 327.3 L 524.0 327.3 L 524.0 324.1 \" fill=\"#000000\"/>\n",
       "<path class=\"atom-5\" d=\"M 528.9 327.5 Q 528.9 321.8, 531.6 318.8 Q 534.3 315.7, 539.4 315.7 Q 544.2 315.7, 546.7 319.1 L 544.6 320.9 Q 542.7 318.4, 539.4 318.4 Q 535.9 318.4, 534.1 320.8 Q 532.2 323.1, 532.2 327.5 Q 532.2 332.1, 534.1 334.5 Q 536.1 336.8, 539.8 336.8 Q 542.3 336.8, 545.3 335.3 L 546.2 337.7 Q 545.0 338.5, 543.2 339.0 Q 541.3 339.4, 539.3 339.4 Q 534.3 339.4, 531.6 336.3 Q 528.9 333.3, 528.9 327.5 \" fill=\"#000000\"/>\n",
       "<path class=\"atom-6\" d=\"M 558.6 393.5 Q 560.7 393.5, 562.3 394.4 Q 563.9 395.3, 564.7 396.9 Q 565.6 398.5, 565.6 400.5 Q 565.6 402.8, 564.6 404.5 Q 563.6 406.2, 561.9 407.2 Q 560.1 408.2, 557.8 408.2 Q 553.7 408.2, 551.6 405.4 Q 549.6 402.6, 549.6 397.1 Q 549.6 390.9, 552.1 387.8 Q 554.7 384.6, 559.6 384.6 Q 561.1 384.6, 562.3 384.9 Q 563.5 385.2, 564.7 385.9 L 563.4 388.1 Q 561.7 387.2, 559.7 387.2 Q 556.4 387.2, 554.7 389.3 Q 553.1 391.4, 552.9 395.7 Q 554.1 394.7, 555.5 394.1 Q 557.0 393.5, 558.6 393.5 M 557.9 405.5 Q 559.1 405.5, 560.1 404.9 Q 561.2 404.2, 561.8 403.1 Q 562.4 401.9, 562.4 400.5 Q 562.4 398.5, 561.2 397.3 Q 560.1 396.1, 558.0 396.1 Q 556.6 396.1, 555.2 396.7 Q 553.9 397.3, 552.9 398.2 Q 553.0 402.1, 554.2 403.8 Q 555.4 405.5, 557.9 405.5 \" fill=\"#000000\"/>\n",
       "<path class=\"atom-6\" d=\"M 568.1 404.1 L 571.3 404.1 L 571.3 407.4 L 568.1 407.4 L 568.1 404.1 M 568.1 392.9 L 571.3 392.9 L 571.3 396.2 L 568.1 396.2 L 568.1 392.9 \" fill=\"#000000\"/>\n",
       "<path class=\"atom-6\" d=\"M 573.0 396.4 Q 573.0 390.6, 575.6 387.6 Q 578.4 384.6, 583.5 384.6 Q 588.3 384.6, 590.8 387.9 L 588.6 389.7 Q 586.8 387.2, 583.5 387.2 Q 580.0 387.2, 578.1 389.6 Q 576.3 391.9, 576.3 396.4 Q 576.3 400.9, 578.2 403.3 Q 580.1 405.6, 583.8 405.6 Q 586.4 405.6, 589.4 404.1 L 590.3 406.5 Q 589.1 407.3, 587.2 407.8 Q 585.4 408.2, 583.4 408.2 Q 578.4 408.2, 575.6 405.2 Q 573.0 402.1, 573.0 396.4 \" fill=\"#000000\"/>\n",
       "<path class=\"atom-7\" d=\"M 524.4 459.9 L 512.3 459.9 L 512.3 457.3 L 527.6 457.3 L 527.6 459.6 L 518.3 480.4 L 515.2 480.4 L 524.4 459.9 \" fill=\"#000000\"/>\n",
       "<path class=\"atom-7\" d=\"M 530.1 476.6 L 533.4 476.6 L 533.4 479.8 L 530.1 479.8 L 530.1 476.6 M 530.1 465.3 L 533.4 465.3 L 533.4 468.6 L 530.1 468.6 L 530.1 465.3 \" fill=\"#000000\"/>\n",
       "<path class=\"atom-7\" d=\"M 535.0 468.8 Q 535.0 463.0, 537.7 460.0 Q 540.4 457.0, 545.5 457.0 Q 550.3 457.0, 552.8 460.4 L 550.7 462.1 Q 548.8 459.7, 545.5 459.7 Q 542.0 459.7, 540.1 462.0 Q 538.3 464.4, 538.3 468.8 Q 538.3 473.4, 540.2 475.7 Q 542.1 478.1, 545.9 478.1 Q 548.4 478.1, 551.4 476.5 L 552.3 479.0 Q 551.1 479.8, 549.3 480.2 Q 547.4 480.7, 545.4 480.7 Q 540.4 480.7, 537.7 477.6 Q 535.0 474.5, 535.0 468.8 \" fill=\"#000000\"/>\n",
       "<path class=\"atom-8\" d=\"M 441.9 471.8 Q 444.0 472.7, 445.2 474.0 Q 446.4 475.4, 446.4 477.7 Q 446.4 479.6, 445.4 481.2 Q 444.4 482.7, 442.6 483.5 Q 440.8 484.3, 438.4 484.3 Q 434.5 484.3, 432.3 482.6 Q 430.1 480.8, 430.1 477.7 Q 430.1 475.8, 431.1 474.4 Q 432.0 472.9, 434.1 471.9 Q 432.6 471.0, 431.7 469.8 Q 430.9 468.5, 430.9 466.5 Q 430.9 463.8, 432.9 462.2 Q 434.9 460.6, 438.2 460.6 Q 441.6 460.6, 443.6 462.2 Q 445.6 463.8, 445.6 466.5 Q 445.6 468.2, 444.6 469.5 Q 443.7 470.7, 441.9 471.8 M 438.2 463.1 Q 436.3 463.1, 435.2 464.0 Q 434.2 464.9, 434.2 466.5 Q 434.2 467.7, 434.9 468.6 Q 435.6 469.3, 436.6 469.8 Q 437.7 470.3, 439.7 470.9 Q 441.1 470.0, 441.7 468.9 Q 442.3 467.9, 442.3 466.5 Q 442.3 464.9, 441.2 464.0 Q 440.2 463.1, 438.2 463.1 M 438.4 481.9 Q 440.5 481.9, 441.8 480.7 Q 443.1 479.6, 443.1 477.6 Q 443.1 476.4, 442.5 475.6 Q 441.8 474.8, 440.7 474.4 Q 439.7 473.9, 437.9 473.3 L 436.4 472.8 Q 434.8 473.8, 434.1 475.0 Q 433.3 476.1, 433.3 477.6 Q 433.3 479.6, 434.7 480.7 Q 436.1 481.9, 438.4 481.9 \" fill=\"#000000\"/>\n",
       "<path class=\"atom-8\" d=\"M 448.9 480.2 L 452.1 480.2 L 452.1 483.4 L 448.9 483.4 L 448.9 480.2 M 448.9 468.9 L 452.1 468.9 L 452.1 472.2 L 448.9 472.2 L 448.9 468.9 \" fill=\"#000000\"/>\n",
       "<path class=\"atom-8\" d=\"M 453.8 472.4 Q 453.8 466.7, 456.4 463.7 Q 459.1 460.6, 464.3 460.6 Q 469.0 460.6, 471.6 464.0 L 469.4 465.7 Q 467.6 463.3, 464.3 463.3 Q 460.8 463.3, 458.9 465.6 Q 457.1 468.0, 457.1 472.4 Q 457.1 477.0, 459.0 479.3 Q 460.9 481.7, 464.6 481.7 Q 467.2 481.7, 470.1 480.1 L 471.1 482.6 Q 469.9 483.4, 468.0 483.8 Q 466.2 484.3, 464.2 484.3 Q 459.1 484.3, 456.4 481.2 Q 453.8 478.2, 453.8 472.4 \" fill=\"#000000\"/>\n",
       "<path class=\"atom-9\" d=\"M 657.4 381.0 Q 661.5 381.0, 663.6 383.8 Q 665.7 386.5, 665.7 392.1 Q 665.7 398.2, 663.1 401.4 Q 660.6 404.6, 655.6 404.6 Q 654.2 404.6, 652.9 404.3 Q 651.7 403.9, 650.6 403.3 L 651.8 401.1 Q 653.5 402.0, 655.6 402.0 Q 658.9 402.0, 660.5 399.9 Q 662.2 397.8, 662.4 393.4 Q 661.2 394.5, 659.7 395.1 Q 658.2 395.6, 656.6 395.6 Q 654.6 395.6, 653.0 394.8 Q 651.4 393.9, 650.5 392.3 Q 649.6 390.7, 649.6 388.7 Q 649.6 386.4, 650.6 384.7 Q 651.6 382.9, 653.4 381.9 Q 655.2 381.0, 657.4 381.0 M 652.9 388.6 Q 652.9 390.7, 654.1 391.9 Q 655.2 393.0, 657.2 393.0 Q 658.6 393.0, 660.0 392.5 Q 661.4 391.9, 662.4 390.9 Q 662.3 387.1, 661.0 385.4 Q 659.8 383.6, 657.4 383.6 Q 656.1 383.6, 655.1 384.3 Q 654.1 384.9, 653.5 386.1 Q 652.9 387.2, 652.9 388.6 \" fill=\"#FF0000\"/>\n",
       "<path class=\"atom-9\" d=\"M 668.1 400.5 L 671.4 400.5 L 671.4 403.8 L 668.1 403.8 L 668.1 400.5 M 668.1 389.3 L 671.4 389.3 L 671.4 392.5 L 668.1 392.5 L 668.1 389.3 \" fill=\"#FF0000\"/>\n",
       "<path class=\"atom-9\" d=\"M 673.0 392.7 Q 673.0 387.2, 675.8 384.1 Q 678.5 381.0, 683.6 381.0 Q 688.8 381.0, 691.5 384.1 Q 694.3 387.2, 694.3 392.7 Q 694.3 398.3, 691.5 401.5 Q 688.7 404.7, 683.6 404.7 Q 678.5 404.7, 675.8 401.5 Q 673.0 398.4, 673.0 392.7 M 683.6 402.1 Q 687.2 402.1, 689.1 399.7 Q 691.0 397.3, 691.0 392.7 Q 691.0 388.2, 689.1 385.9 Q 687.2 383.6, 683.6 383.6 Q 680.1 383.6, 678.2 385.9 Q 676.3 388.1, 676.3 392.7 Q 676.3 397.4, 678.2 399.7 Q 680.1 402.1, 683.6 402.1 \" fill=\"#FF0000\"/>\n",
       "<path class=\"atom-10\" d=\"M 37.6 427.0 L 42.7 427.0 L 42.7 409.7 L 37.1 411.5 L 36.4 409.5 L 43.4 406.4 L 45.8 406.8 L 45.8 427.0 L 50.3 427.0 L 50.3 429.6 L 37.6 429.6 L 37.6 427.0 \" fill=\"#000000\"/>\n",
       "<path class=\"atom-10\" d=\"M 60.8 429.9 Q 56.5 429.9, 54.4 426.8 Q 52.3 423.6, 52.3 418.0 Q 52.3 412.5, 54.4 409.3 Q 56.5 406.2, 60.8 406.2 Q 65.0 406.2, 67.1 409.3 Q 69.2 412.5, 69.2 418.0 Q 69.2 423.6, 67.1 426.8 Q 65.0 429.9, 60.8 429.9 M 60.8 427.3 Q 63.3 427.3, 64.6 425.0 Q 65.9 422.6, 65.9 418.0 Q 65.9 413.5, 64.6 411.2 Q 63.3 408.9, 60.8 408.9 Q 58.3 408.9, 56.9 411.2 Q 55.6 413.5, 55.6 418.0 Q 55.6 422.6, 56.9 425.0 Q 58.3 427.3, 60.8 427.3 \" fill=\"#000000\"/>\n",
       "<path class=\"atom-10\" d=\"M 71.7 425.8 L 74.9 425.8 L 74.9 429.1 L 71.7 429.1 L 71.7 425.8 M 71.7 414.6 L 74.9 414.6 L 74.9 417.8 L 71.7 417.8 L 71.7 414.6 \" fill=\"#000000\"/>\n",
       "<path class=\"atom-10\" d=\"M 77.7 406.5 L 80.8 406.5 L 80.8 416.3 L 92.7 416.3 L 92.7 406.5 L 95.8 406.5 L 95.8 429.6 L 92.7 429.6 L 92.7 418.9 L 80.8 418.9 L 80.8 429.6 L 77.7 429.6 L 77.7 406.5 \" fill=\"#000000\"/>\n",
       "<path class=\"atom-11\" d=\"M 159.0 341.8 L 164.1 341.8 L 164.1 324.5 L 158.5 326.2 L 157.7 324.3 L 164.8 321.1 L 167.1 321.5 L 167.1 341.8 L 171.7 341.8 L 171.7 344.4 L 159.0 344.4 L 159.0 341.8 \" fill=\"#000000\"/>\n",
       "<path class=\"atom-11\" d=\"M 174.7 341.8 L 179.8 341.8 L 179.8 324.5 L 174.2 326.2 L 173.4 324.3 L 180.5 321.1 L 182.8 321.5 L 182.8 341.8 L 187.4 341.8 L 187.4 344.4 L 174.7 344.4 L 174.7 341.8 \" fill=\"#000000\"/>\n",
       "<path class=\"atom-11\" d=\"M 189.8 340.6 L 193.1 340.6 L 193.1 343.8 L 189.8 343.8 L 189.8 340.6 M 189.8 329.3 L 193.1 329.3 L 193.1 332.6 L 189.8 332.6 L 189.8 329.3 \" fill=\"#000000\"/>\n",
       "<path class=\"atom-11\" d=\"M 195.9 321.3 L 199.0 321.3 L 199.0 331.1 L 210.8 331.1 L 210.8 321.3 L 214.0 321.3 L 214.0 344.4 L 210.8 344.4 L 210.8 333.7 L 199.0 333.7 L 199.0 344.4 L 195.9 344.4 L 195.9 321.3 \" fill=\"#000000\"/>\n",
       "<path class=\"atom-12\" d=\"M 166.2 505.0 L 171.3 505.0 L 171.3 487.7 L 165.7 489.4 L 165.0 487.5 L 172.0 484.3 L 174.4 484.7 L 174.4 505.0 L 178.9 505.0 L 178.9 507.6 L 166.2 507.6 L 166.2 505.0 \" fill=\"#000000\"/>\n",
       "<path class=\"atom-12\" d=\"M 180.6 488.8 Q 181.4 486.6, 183.5 485.4 Q 185.5 484.2, 188.3 484.2 Q 191.8 484.2, 193.8 486.1 Q 195.7 488.0, 195.7 491.3 Q 195.7 494.8, 193.2 498.0 Q 190.7 501.2, 185.4 505.0 L 196.1 505.0 L 196.1 507.6 L 180.5 507.6 L 180.5 505.4 Q 184.8 502.3, 187.4 500.0 Q 190.0 497.7, 191.2 495.7 Q 192.4 493.6, 192.4 491.5 Q 192.4 489.3, 191.3 488.0 Q 190.2 486.8, 188.3 486.8 Q 186.4 486.8, 185.2 487.6 Q 184.0 488.3, 183.1 490.0 L 180.6 488.8 \" fill=\"#000000\"/>\n",
       "<path class=\"atom-12\" d=\"M 198.6 503.8 L 201.8 503.8 L 201.8 507.0 L 198.6 507.0 L 198.6 503.8 M 198.6 492.5 L 201.8 492.5 L 201.8 495.8 L 198.6 495.8 L 198.6 492.5 \" fill=\"#000000\"/>\n",
       "<path class=\"atom-12\" d=\"M 204.6 484.5 L 207.7 484.5 L 207.7 494.3 L 219.6 494.3 L 219.6 484.5 L 222.7 484.5 L 222.7 507.6 L 219.6 507.6 L 219.6 496.9 L 207.7 496.9 L 207.7 507.6 L 204.6 507.6 L 204.6 484.5 \" fill=\"#000000\"/>\n",
       "<path class=\"atom-13\" d=\"M 240.6 338.2 L 245.6 338.2 L 245.6 321.0 L 240.0 322.7 L 239.3 320.8 L 246.4 317.6 L 248.7 318.0 L 248.7 338.2 L 253.2 338.2 L 253.2 340.8 L 240.6 340.8 L 240.6 338.2 \" fill=\"#000000\"/>\n",
       "<path class=\"atom-13\" d=\"M 265.7 328.7 Q 268.0 329.3, 269.0 330.8 Q 270.1 332.2, 270.1 334.5 Q 270.1 336.5, 269.2 338.0 Q 268.2 339.5, 266.4 340.4 Q 264.6 341.2, 262.2 341.2 Q 259.8 341.2, 257.9 340.3 Q 256.1 339.4, 254.6 337.7 L 256.5 335.8 Q 257.9 337.3, 259.1 338.0 Q 260.3 338.6, 262.2 338.6 Q 264.3 338.6, 265.6 337.4 Q 266.9 336.3, 266.9 334.5 Q 266.9 332.1, 265.5 331.1 Q 264.2 330.0, 261.4 330.0 L 259.7 330.0 L 259.7 327.6 L 261.2 327.6 Q 263.7 327.6, 265.0 326.5 Q 266.4 325.4, 266.4 323.4 Q 266.4 321.9, 265.3 321.0 Q 264.2 320.1, 262.3 320.1 Q 260.3 320.1, 259.1 320.8 Q 258.0 321.4, 257.0 323.2 L 254.8 322.0 Q 255.6 320.0, 257.6 318.8 Q 259.5 317.5, 262.3 317.5 Q 265.7 317.5, 267.7 319.1 Q 269.7 320.7, 269.7 323.4 Q 269.7 325.2, 268.6 326.6 Q 267.6 327.9, 265.7 328.7 \" fill=\"#000000\"/>\n",
       "<path class=\"atom-13\" d=\"M 272.6 337.0 L 275.9 337.0 L 275.9 340.3 L 272.6 340.3 L 272.6 337.0 M 272.6 325.8 L 275.9 325.8 L 275.9 329.1 L 272.6 329.1 L 272.6 325.8 \" fill=\"#000000\"/>\n",
       "<path class=\"atom-13\" d=\"M 278.6 317.7 L 281.8 317.7 L 281.8 327.6 L 293.6 327.6 L 293.6 317.7 L 296.7 317.7 L 296.7 340.8 L 293.6 340.8 L 293.6 330.2 L 281.8 330.2 L 281.8 340.8 L 278.6 340.8 L 278.6 317.7 \" fill=\"#000000\"/>\n",
       "<path class=\"atom-14\" d=\"M 247.8 501.3 L 252.8 501.3 L 252.8 484.0 L 247.3 485.7 L 246.5 483.8 L 253.6 480.6 L 255.9 481.0 L 255.9 501.3 L 260.5 501.3 L 260.5 503.9 L 247.8 503.9 L 247.8 501.3 \" fill=\"#000000\"/>\n",
       "<path class=\"atom-14\" d=\"M 276.5 496.0 L 279.2 496.0 L 279.2 498.6 L 276.5 498.6 L 276.5 503.9 L 273.4 503.9 L 273.4 498.6 L 261.4 498.6 L 261.4 496.5 L 271.6 480.8 L 276.5 480.8 L 276.5 496.0 M 265.2 496.0 L 273.4 496.0 L 273.4 482.9 L 265.2 496.0 \" fill=\"#000000\"/>\n",
       "<path class=\"atom-14\" d=\"M 281.7 500.1 L 284.9 500.1 L 284.9 503.3 L 281.7 503.3 L 281.7 500.1 M 281.7 488.8 L 284.9 488.8 L 284.9 492.1 L 281.7 492.1 L 281.7 488.8 \" fill=\"#000000\"/>\n",
       "<path class=\"atom-14\" d=\"M 287.7 480.8 L 290.9 480.8 L 290.9 490.6 L 302.7 490.6 L 302.7 480.8 L 305.8 480.8 L 305.8 503.9 L 302.7 503.9 L 302.7 493.2 L 290.9 493.2 L 290.9 503.9 L 287.7 503.9 L 287.7 480.8 \" fill=\"#000000\"/>\n",
       "<path class=\"atom-15\" d=\"M 322.1 334.5 L 327.2 334.5 L 327.2 317.3 L 321.6 319.0 L 320.8 317.1 L 327.9 313.9 L 330.2 314.3 L 330.2 334.5 L 334.8 334.5 L 334.8 337.2 L 322.1 337.2 L 322.1 334.5 \" fill=\"#000000\"/>\n",
       "<path class=\"atom-15\" d=\"M 344.7 322.7 Q 346.7 322.7, 348.4 323.6 Q 350.0 324.4, 351.0 326.1 Q 351.9 327.7, 351.9 329.8 Q 351.9 332.2, 350.8 334.0 Q 349.6 335.7, 347.7 336.5 Q 345.8 337.4, 343.7 337.4 Q 341.5 337.4, 339.6 336.6 Q 337.6 335.9, 336.3 334.4 L 338.2 332.3 Q 339.3 333.5, 340.8 334.2 Q 342.3 334.8, 343.8 334.8 Q 345.8 334.8, 347.2 333.5 Q 348.7 332.2, 348.7 329.9 Q 348.7 327.5, 347.2 326.3 Q 345.8 325.1, 343.6 325.1 Q 341.5 325.1, 339.3 326.0 L 337.5 325.2 L 338.6 314.0 L 350.5 314.0 L 350.2 316.7 L 341.3 316.7 L 340.6 323.5 Q 342.7 322.7, 344.7 322.7 \" fill=\"#000000\"/>\n",
       "<path class=\"atom-15\" d=\"M 354.4 333.3 L 357.6 333.3 L 357.6 336.6 L 354.4 336.6 L 354.4 333.3 M 354.4 322.1 L 357.6 322.1 L 357.6 325.4 L 354.4 325.4 L 354.4 322.1 \" fill=\"#000000\"/>\n",
       "<path class=\"atom-15\" d=\"M 360.4 314.0 L 363.6 314.0 L 363.6 323.9 L 375.4 323.9 L 375.4 314.0 L 378.5 314.0 L 378.5 337.2 L 375.4 337.2 L 375.4 326.5 L 363.6 326.5 L 363.6 337.2 L 360.4 337.2 L 360.4 314.0 \" fill=\"#000000\"/>\n",
       "<path class=\"atom-16\" d=\"M 329.3 497.7 L 334.4 497.7 L 334.4 480.5 L 328.8 482.2 L 328.1 480.3 L 335.2 477.1 L 337.5 477.5 L 337.5 497.7 L 342.0 497.7 L 342.0 500.3 L 329.3 500.3 L 329.3 497.7 \" fill=\"#000000\"/>\n",
       "<path class=\"atom-16\" d=\"M 353.3 485.9 Q 355.3 485.9, 356.9 486.8 Q 358.5 487.7, 359.4 489.3 Q 360.3 490.9, 360.3 492.9 Q 360.3 495.2, 359.3 496.9 Q 358.3 498.6, 356.5 499.6 Q 354.7 500.6, 352.5 500.6 Q 348.4 500.6, 346.3 497.8 Q 344.2 495.0, 344.2 489.5 Q 344.2 483.3, 346.8 480.2 Q 349.4 477.0, 354.3 477.0 Q 355.7 477.0, 356.9 477.3 Q 358.2 477.6, 359.4 478.3 L 358.1 480.5 Q 356.4 479.6, 354.3 479.6 Q 351.1 479.6, 349.4 481.7 Q 347.7 483.8, 347.5 488.1 Q 348.7 487.1, 350.2 486.5 Q 351.7 485.9, 353.3 485.9 M 352.5 497.9 Q 353.8 497.9, 354.8 497.3 Q 355.8 496.6, 356.4 495.5 Q 357.0 494.3, 357.0 492.9 Q 357.0 490.9, 355.9 489.7 Q 354.7 488.5, 352.7 488.5 Q 351.3 488.5, 349.9 489.1 Q 348.5 489.7, 347.5 490.6 Q 347.7 494.5, 348.9 496.2 Q 350.1 497.9, 352.5 497.9 \" fill=\"#000000\"/>\n",
       "<path class=\"atom-16\" d=\"M 362.7 496.5 L 366.0 496.5 L 366.0 499.8 L 362.7 499.8 L 362.7 496.5 M 362.7 485.3 L 366.0 485.3 L 366.0 488.6 L 362.7 488.6 L 362.7 485.3 \" fill=\"#000000\"/>\n",
       "<path class=\"atom-16\" d=\"M 368.8 477.2 L 371.9 477.2 L 371.9 487.1 L 383.7 487.1 L 383.7 477.2 L 386.9 477.2 L 386.9 500.3 L 383.7 500.3 L 383.7 489.7 L 371.9 489.7 L 371.9 500.3 L 368.8 500.3 L 368.8 477.2 \" fill=\"#000000\"/>\n",
       "<path class=\"atom-17\" d=\"M 360.6 271.2 L 365.6 271.2 L 365.6 254.0 L 360.1 255.7 L 359.3 253.8 L 366.4 250.6 L 368.7 251.0 L 368.7 271.2 L 373.3 271.2 L 373.3 273.8 L 360.6 273.8 L 360.6 271.2 \" fill=\"#000000\"/>\n",
       "<path class=\"atom-17\" d=\"M 386.0 253.3 L 373.8 253.3 L 373.8 250.7 L 389.2 250.7 L 389.2 253.0 L 379.9 273.8 L 376.7 273.8 L 386.0 253.3 \" fill=\"#000000\"/>\n",
       "<path class=\"atom-17\" d=\"M 391.6 270.0 L 394.9 270.0 L 394.9 273.3 L 391.6 273.3 L 391.6 270.0 M 391.6 258.8 L 394.9 258.8 L 394.9 262.1 L 391.6 262.1 L 391.6 258.8 \" fill=\"#000000\"/>\n",
       "<path class=\"atom-17\" d=\"M 397.7 250.7 L 400.8 250.7 L 400.8 260.6 L 412.6 260.6 L 412.6 250.7 L 415.8 250.7 L 415.8 273.8 L 412.6 273.8 L 412.6 263.2 L 400.8 263.2 L 400.8 273.8 L 397.7 273.8 L 397.7 250.7 \" fill=\"#000000\"/>\n",
       "<path class=\"atom-18\" d=\"M 564.1 264.1 L 569.2 264.1 L 569.2 246.8 L 563.6 248.5 L 562.9 246.6 L 570.0 243.4 L 572.3 243.8 L 572.3 264.1 L 576.8 264.1 L 576.8 266.7 L 564.1 266.7 L 564.1 264.1 \" fill=\"#000000\"/>\n",
       "<path class=\"atom-18\" d=\"M 590.6 254.4 Q 592.8 255.4, 594.0 256.7 Q 595.2 258.1, 595.2 260.3 Q 595.2 262.3, 594.2 263.8 Q 593.1 265.3, 591.3 266.2 Q 589.5 267.0, 587.1 267.0 Q 583.3 267.0, 581.1 265.2 Q 578.8 263.4, 578.8 260.3 Q 578.8 258.5, 579.8 257.0 Q 580.8 255.6, 582.8 254.5 Q 581.3 253.7, 580.5 252.4 Q 579.7 251.2, 579.7 249.2 Q 579.7 246.5, 581.7 244.9 Q 583.6 243.3, 587.0 243.3 Q 590.4 243.3, 592.3 244.9 Q 594.3 246.5, 594.3 249.2 Q 594.3 250.9, 593.4 252.2 Q 592.5 253.4, 590.6 254.4 M 587.0 245.7 Q 585.1 245.7, 584.0 246.7 Q 583.0 247.6, 583.0 249.2 Q 583.0 250.4, 583.7 251.2 Q 584.4 252.0, 585.4 252.5 Q 586.5 252.9, 588.4 253.6 Q 589.8 252.6, 590.4 251.6 Q 591.1 250.6, 591.1 249.2 Q 591.1 247.6, 590.0 246.7 Q 588.9 245.7, 587.0 245.7 M 587.1 264.6 Q 589.3 264.6, 590.6 263.4 Q 591.9 262.2, 591.9 260.3 Q 591.9 259.1, 591.2 258.3 Q 590.5 257.5, 589.5 257.0 Q 588.5 256.6, 586.6 256.0 L 585.2 255.5 Q 583.5 256.5, 582.8 257.7 Q 582.1 258.8, 582.1 260.3 Q 582.1 262.2, 583.5 263.4 Q 584.9 264.6, 587.1 264.6 \" fill=\"#000000\"/>\n",
       "<path class=\"atom-18\" d=\"M 597.6 262.9 L 600.9 262.9 L 600.9 266.1 L 597.6 266.1 L 597.6 262.9 M 597.6 251.6 L 600.9 251.6 L 600.9 254.9 L 597.6 254.9 L 597.6 251.6 \" fill=\"#000000\"/>\n",
       "<path class=\"atom-18\" d=\"M 603.7 243.6 L 606.8 243.6 L 606.8 253.4 L 618.6 253.4 L 618.6 243.6 L 621.8 243.6 L 621.8 266.7 L 618.6 266.7 L 618.6 256.0 L 606.8 256.0 L 606.8 266.7 L 603.7 266.7 L 603.7 243.6 \" fill=\"#000000\"/>\n",
       "<path class=\"atom-19\" d=\"M 576.7 546.6 L 581.7 546.6 L 581.7 529.3 L 576.1 531.1 L 575.4 529.1 L 582.5 526.0 L 584.8 526.4 L 584.8 546.6 L 589.3 546.6 L 589.3 549.2 L 576.7 549.2 L 576.7 546.6 \" fill=\"#000000\"/>\n",
       "<path class=\"atom-19\" d=\"M 598.9 525.8 Q 603.0 525.8, 605.1 528.6 Q 607.2 531.4, 607.2 537.0 Q 607.2 543.1, 604.6 546.3 Q 602.0 549.5, 597.1 549.5 Q 595.7 549.5, 594.4 549.1 Q 593.2 548.8, 592.0 548.1 L 593.3 545.9 Q 595.0 546.9, 597.1 546.9 Q 600.3 546.9, 602.0 544.8 Q 603.7 542.6, 603.9 538.3 Q 602.7 539.4, 601.2 540.0 Q 599.7 540.5, 598.1 540.5 Q 596.1 540.5, 594.5 539.6 Q 592.9 538.8, 592.0 537.2 Q 591.1 535.6, 591.1 533.5 Q 591.1 531.3, 592.1 529.6 Q 593.1 527.8, 594.9 526.8 Q 596.7 525.8, 598.9 525.8 M 594.4 533.5 Q 594.4 535.6, 595.5 536.7 Q 596.7 537.9, 598.7 537.9 Q 600.1 537.9, 601.5 537.4 Q 602.9 536.8, 603.9 535.8 Q 603.7 532.0, 602.5 530.2 Q 601.3 528.5, 598.9 528.5 Q 597.6 528.5, 596.6 529.2 Q 595.6 529.8, 595.0 531.0 Q 594.4 532.1, 594.4 533.5 \" fill=\"#000000\"/>\n",
       "<path class=\"atom-19\" d=\"M 609.6 545.4 L 612.9 545.4 L 612.9 548.7 L 609.6 548.7 L 609.6 545.4 M 609.6 534.2 L 612.9 534.2 L 612.9 537.4 L 609.6 537.4 L 609.6 534.2 \" fill=\"#000000\"/>\n",
       "<path class=\"atom-19\" d=\"M 615.7 526.1 L 618.8 526.1 L 618.8 535.9 L 630.6 535.9 L 630.6 526.1 L 633.7 526.1 L 633.7 549.2 L 630.6 549.2 L 630.6 538.5 L 618.8 538.5 L 618.8 549.2 L 615.7 549.2 L 615.7 526.1 \" fill=\"#000000\"/>\n",
       "<path class=\"atom-20\" d=\"M 367.3 537.7 Q 368.1 535.5, 370.2 534.3 Q 372.2 533.1, 375.0 533.1 Q 378.5 533.1, 380.5 535.0 Q 382.4 536.8, 382.4 540.2 Q 382.4 543.6, 379.9 546.8 Q 377.3 550.0, 372.1 553.8 L 382.8 553.8 L 382.8 556.4 L 367.2 556.4 L 367.2 554.3 Q 371.5 551.2, 374.1 548.9 Q 376.7 546.6, 377.9 544.6 Q 379.1 542.5, 379.1 540.4 Q 379.1 538.2, 378.0 536.9 Q 376.9 535.7, 375.0 535.7 Q 373.1 535.7, 371.9 536.4 Q 370.7 537.2, 369.8 538.8 L 367.3 537.7 \" fill=\"#000000\"/>\n",
       "<path class=\"atom-20\" d=\"M 393.3 556.7 Q 389.0 556.7, 386.9 553.6 Q 384.8 550.4, 384.8 544.8 Q 384.8 539.3, 386.9 536.2 Q 389.0 533.1, 393.3 533.1 Q 397.5 533.1, 399.6 536.2 Q 401.7 539.3, 401.7 544.8 Q 401.7 550.4, 399.6 553.6 Q 397.5 556.7, 393.3 556.7 M 393.3 554.1 Q 395.8 554.1, 397.1 551.8 Q 398.4 549.4, 398.4 544.8 Q 398.4 540.3, 397.1 538.0 Q 395.8 535.7, 393.3 535.7 Q 390.8 535.7, 389.4 538.0 Q 388.1 540.3, 388.1 544.8 Q 388.1 549.4, 389.4 551.8 Q 390.8 554.1, 393.3 554.1 \" fill=\"#000000\"/>\n",
       "<path class=\"atom-20\" d=\"M 404.2 552.6 L 407.4 552.6 L 407.4 555.9 L 404.2 555.9 L 404.2 552.6 M 404.2 541.4 L 407.4 541.4 L 407.4 544.6 L 404.2 544.6 L 404.2 541.4 \" fill=\"#000000\"/>\n",
       "<path class=\"atom-20\" d=\"M 410.2 533.3 L 413.3 533.3 L 413.3 543.1 L 425.2 543.1 L 425.2 533.3 L 428.3 533.3 L 428.3 556.4 L 425.2 556.4 L 425.2 545.8 L 413.3 545.8 L 413.3 556.4 L 410.2 556.4 L 410.2 533.3 \" fill=\"#000000\"/>\n",
       "<path class=\"atom-21\" d=\"M 693.9 454.4 Q 694.7 452.2, 696.7 451.0 Q 698.7 449.8, 701.6 449.8 Q 705.1 449.8, 707.0 451.7 Q 709.0 453.6, 709.0 456.9 Q 709.0 460.4, 706.4 463.6 Q 703.9 466.8, 698.7 470.5 L 709.4 470.5 L 709.4 473.2 L 693.8 473.2 L 693.8 471.0 Q 698.1 467.9, 700.6 465.6 Q 703.2 463.3, 704.5 461.3 Q 705.7 459.2, 705.7 457.1 Q 705.7 454.9, 704.6 453.6 Q 703.5 452.4, 701.6 452.4 Q 699.7 452.4, 698.5 453.1 Q 697.2 453.9, 696.3 455.6 L 693.9 454.4 \" fill=\"#000000\"/>\n",
       "<path class=\"atom-21\" d=\"M 712.4 470.5 L 717.5 470.5 L 717.5 453.3 L 711.9 455.0 L 711.1 453.1 L 718.2 449.9 L 720.5 450.3 L 720.5 470.5 L 725.1 470.5 L 725.1 473.2 L 712.4 473.2 L 712.4 470.5 \" fill=\"#000000\"/>\n",
       "<path class=\"atom-21\" d=\"M 727.5 469.3 L 730.8 469.3 L 730.8 472.6 L 727.5 472.6 L 727.5 469.3 M 727.5 458.1 L 730.8 458.1 L 730.8 461.4 L 727.5 461.4 L 727.5 458.1 \" fill=\"#000000\"/>\n",
       "<path class=\"atom-21\" d=\"M 733.6 450.0 L 736.7 450.0 L 736.7 459.9 L 748.5 459.9 L 748.5 450.0 L 751.7 450.0 L 751.7 473.2 L 748.5 473.2 L 748.5 462.5 L 736.7 462.5 L 736.7 473.2 L 733.6 473.2 L 733.6 450.0 \" fill=\"#000000\"/>\n",
       "<path class=\"note\" d=\"M 188.3 394.0 Q 189.5 394.3, 190.0 395.1 Q 190.6 395.8, 190.6 396.9 Q 190.6 397.9, 190.1 398.7 Q 189.6 399.4, 188.7 399.8 Q 187.8 400.3, 186.6 400.3 Q 185.4 400.3, 184.4 399.8 Q 183.5 399.4, 182.8 398.5 L 183.7 397.6 Q 184.4 398.3, 185.0 398.7 Q 185.7 398.9, 186.6 398.9 Q 187.7 398.9, 188.3 398.4 Q 188.9 397.8, 188.9 396.9 Q 188.9 395.7, 188.3 395.2 Q 187.6 394.7, 186.2 394.7 L 185.4 394.7 L 185.4 393.5 L 186.1 393.5 Q 187.4 393.5, 188.0 392.9 Q 188.7 392.4, 188.7 391.4 Q 188.7 390.6, 188.1 390.2 Q 187.6 389.7, 186.6 389.7 Q 185.7 389.7, 185.1 390.1 Q 184.5 390.4, 184.0 391.3 L 182.9 390.7 Q 183.3 389.7, 184.3 389.1 Q 185.3 388.4, 186.6 388.4 Q 188.3 388.4, 189.3 389.2 Q 190.3 390.0, 190.3 391.4 Q 190.3 392.3, 189.8 393.0 Q 189.3 393.6, 188.3 394.0 \" fill=\"#000000\"/>\n",
       "<path class=\"note\" d=\"M 232.9 394.1 L 234.2 394.1 L 234.2 395.5 L 232.9 395.5 L 232.9 398.1 L 231.3 398.1 L 231.3 395.5 L 225.3 395.5 L 225.3 394.4 L 230.4 386.6 L 232.9 386.6 L 232.9 394.1 M 227.2 394.1 L 231.3 394.1 L 231.3 387.6 L 227.2 394.1 \" fill=\"#000000\"/>\n",
       "<path class=\"note\" d=\"M 311.6 387.3 Q 312.7 387.3, 313.5 387.7 Q 314.3 388.1, 314.8 389.0 Q 315.3 389.8, 315.3 390.8 Q 315.3 392.0, 314.7 392.9 Q 314.1 393.8, 313.2 394.2 Q 312.2 394.6, 311.1 394.6 Q 310.1 394.6, 309.1 394.2 Q 308.1 393.9, 307.4 393.1 L 308.4 392.1 Q 309.0 392.7, 309.7 393.0 Q 310.4 393.3, 311.2 393.3 Q 312.2 393.3, 312.9 392.7 Q 313.6 392.0, 313.6 390.9 Q 313.6 389.7, 312.9 389.1 Q 312.2 388.5, 311.1 388.5 Q 310.1 388.5, 308.9 388.9 L 308.0 388.5 L 308.6 382.9 L 314.5 382.9 L 314.4 384.3 L 309.9 384.3 L 309.6 387.7 Q 310.6 387.3, 311.6 387.3 \" fill=\"#000000\"/>\n",
       "<path class=\"note\" d=\"M 398.9 379.2 Q 399.9 379.2, 400.7 379.6 Q 401.5 380.1, 401.9 380.9 Q 402.4 381.7, 402.4 382.7 Q 402.4 383.8, 401.9 384.7 Q 401.4 385.5, 400.5 386.0 Q 399.6 386.5, 398.5 386.5 Q 396.4 386.5, 395.4 385.1 Q 394.3 383.7, 394.3 380.9 Q 394.3 377.9, 395.6 376.3 Q 396.9 374.7, 399.4 374.7 Q 400.1 374.7, 400.7 374.9 Q 401.3 375.0, 401.9 375.4 L 401.3 376.5 Q 400.4 376.0, 399.4 376.0 Q 397.8 376.0, 396.9 377.1 Q 396.1 378.1, 396.0 380.3 Q 396.6 379.7, 397.3 379.5 Q 398.1 379.2, 398.9 379.2 M 398.5 385.2 Q 399.1 385.2, 399.6 384.9 Q 400.1 384.5, 400.4 384.0 Q 400.7 383.4, 400.7 382.7 Q 400.7 381.7, 400.2 381.1 Q 399.6 380.5, 398.6 380.5 Q 397.9 380.5, 397.2 380.8 Q 396.5 381.0, 396.0 381.5 Q 396.1 383.4, 396.7 384.3 Q 397.3 385.2, 398.5 385.2 \" fill=\"#000000\"/>\n",
       "<path class=\"note\" d=\"M 467.5 349.5 L 461.4 349.5 L 461.4 348.2 L 469.1 348.2 L 469.1 349.4 L 464.4 359.8 L 462.9 359.8 L 467.5 349.5 \" fill=\"#000000\"/>\n",
       "<path class=\"note\" d=\"M 521.5 351.3 Q 522.5 351.8, 523.1 352.4 Q 523.7 353.1, 523.7 354.3 Q 523.7 355.2, 523.2 356.0 Q 522.7 356.8, 521.8 357.2 Q 520.9 357.6, 519.7 357.6 Q 517.8 357.6, 516.7 356.7 Q 515.6 355.8, 515.6 354.3 Q 515.6 353.3, 516.1 352.6 Q 516.5 351.9, 517.6 351.3 Q 516.8 350.9, 516.4 350.3 Q 516.0 349.7, 516.0 348.7 Q 516.0 347.3, 517.0 346.5 Q 518.0 345.7, 519.6 345.7 Q 521.3 345.7, 522.3 346.5 Q 523.3 347.3, 523.3 348.7 Q 523.3 349.5, 522.8 350.2 Q 522.4 350.8, 521.5 351.3 M 519.6 347.0 Q 518.7 347.0, 518.1 347.4 Q 517.6 347.9, 517.6 348.7 Q 517.6 349.3, 518.0 349.7 Q 518.3 350.1, 518.8 350.3 Q 519.4 350.5, 520.4 350.9 Q 521.1 350.4, 521.4 349.9 Q 521.7 349.4, 521.7 348.7 Q 521.7 347.9, 521.1 347.4 Q 520.6 347.0, 519.6 347.0 M 519.7 356.4 Q 520.8 356.4, 521.4 355.8 Q 522.1 355.2, 522.1 354.2 Q 522.1 353.6, 521.8 353.2 Q 521.4 352.8, 520.9 352.6 Q 520.4 352.4, 519.5 352.1 L 518.7 351.8 Q 517.9 352.3, 517.6 352.9 Q 517.2 353.5, 517.2 354.2 Q 517.2 355.2, 517.9 355.8 Q 518.6 356.4, 519.7 356.4 \" fill=\"#000000\"/>\n",
       "<path class=\"note\" d=\"M 548.8 391.6 Q 550.9 391.6, 551.9 393.0 Q 552.9 394.4, 552.9 397.2 Q 552.9 400.3, 551.6 401.9 Q 550.4 403.4, 547.9 403.4 Q 547.2 403.4, 546.6 403.3 Q 546.0 403.1, 545.4 402.8 L 546.0 401.7 Q 546.9 402.1, 547.9 402.1 Q 549.5 402.1, 550.3 401.1 Q 551.2 400.0, 551.3 397.9 Q 550.7 398.4, 549.9 398.7 Q 549.2 399.0, 548.4 399.0 Q 547.4 399.0, 546.6 398.5 Q 545.8 398.1, 545.4 397.3 Q 544.9 396.5, 544.9 395.5 Q 544.9 394.3, 545.4 393.5 Q 545.9 392.6, 546.8 392.1 Q 547.7 391.6, 548.8 391.6 M 546.5 395.5 Q 546.5 396.5, 547.1 397.1 Q 547.7 397.7, 548.7 397.7 Q 549.4 397.7, 550.1 397.4 Q 550.8 397.1, 551.3 396.6 Q 551.2 394.7, 550.6 393.8 Q 550.0 393.0, 548.8 393.0 Q 548.2 393.0, 547.6 393.3 Q 547.1 393.6, 546.8 394.2 Q 546.5 394.8, 546.5 395.5 \" fill=\"#000000\"/>\n",
       "<path class=\"note\" d=\"M 521.0 450.3 L 523.5 450.3 L 523.5 441.6 L 520.7 442.5 L 520.3 441.5 L 523.9 439.9 L 525.0 440.1 L 525.0 450.3 L 527.3 450.3 L 527.3 451.6 L 521.0 451.6 L 521.0 450.3 \" fill=\"#000000\"/>\n",
       "<path class=\"note\" d=\"M 465.6 444.6 Q 466.0 443.5, 467.0 442.9 Q 468.0 442.3, 469.4 442.3 Q 471.2 442.3, 472.2 443.3 Q 473.1 444.2, 473.1 445.9 Q 473.1 447.6, 471.9 449.2 Q 470.6 450.8, 468.0 452.7 L 473.3 452.7 L 473.3 454.0 L 465.6 454.0 L 465.6 452.9 Q 467.7 451.4, 469.0 450.2 Q 470.3 449.1, 470.9 448.1 Q 471.5 447.0, 471.5 446.0 Q 471.5 444.9, 471.0 444.2 Q 470.4 443.6, 469.4 443.6 Q 468.5 443.6, 467.9 444.0 Q 467.3 444.4, 466.8 445.2 L 465.6 444.6 \" fill=\"#000000\"/>\n",
       "</svg>"
      ],
      "text/plain": [
       "<IPython.core.display.SVG object>"
      ]
     },
     "execution_count": 29,
     "metadata": {},
     "output_type": "execute_result"
    }
   ],
   "source": [
    "svmol1 = visualizations._show_common_core_gradient( mol1, hit_ats1, order1, percomponent = True, numbers = True)\n",
    "SVG(svmol1)"
   ]
  },
  {
   "cell_type": "code",
   "execution_count": 30,
   "id": "d8e24ade",
   "metadata": {},
   "outputs": [
    {
     "data": {
      "image/svg+xml": [
       "<svg xmlns=\"http://www.w3.org/2000/svg\" xmlns:rdkit=\"http://www.rdkit.org/xml\" xmlns:xlink=\"http://www.w3.org/1999/xlink\" version=\"1.1\" baseProfile=\"full\" xml:space=\"preserve\" width=\"800px\" height=\"800px\" viewBox=\"0 0 800 800\">\n",
       "<!-- END OF HEADER -->\n",
       "<rect style=\"opacity:1.0;fill:#FFFFFF;stroke:none\" width=\"800.0\" height=\"800.0\" x=\"0.0\" y=\"0.0\"> </rect>\n",
       "<path d=\"M 516.3,399.7 L 307.2,520.5\" style=\"fill:none;fill-rule:evenodd;stroke:#CCCCCC;stroke-width:51.5px;stroke-linecap:butt;stroke-linejoin:miter;stroke-opacity:1\"/>\n",
       "<path d=\"M 307.2,520.5 L 98.1,399.7\" style=\"fill:none;fill-rule:evenodd;stroke:#CCCCCC;stroke-width:51.5px;stroke-linecap:butt;stroke-linejoin:miter;stroke-opacity:1\"/>\n",
       "<ellipse cx=\"508.5\" cy=\"399.9\" rx=\"48.3\" ry=\"48.3\" style=\"fill:#FF0000;fill-rule:evenodd;stroke:#FF0000;stroke-width:1.0px;stroke-linecap:butt;stroke-linejoin:miter;stroke-opacity:1\"/>\n",
       "<ellipse cx=\"301.3\" cy=\"520.7\" rx=\"48.3\" ry=\"48.3\" style=\"fill:#002600;fill-rule:evenodd;stroke:#002600;stroke-width:1.0px;stroke-linecap:butt;stroke-linejoin:miter;stroke-opacity:1\"/>\n",
       "<ellipse cx=\"83.3\" cy=\"399.9\" rx=\"48.3\" ry=\"48.3\" style=\"fill:#002600;fill-rule:evenodd;stroke:#002600;stroke-width:1.0px;stroke-linecap:butt;stroke-linejoin:miter;stroke-opacity:1\"/>\n",
       "<path class=\"bond-0 atom-0 atom-1\" d=\"M 480.5,420.4 L 406.4,463.2\" style=\"fill:none;fill-rule:evenodd;stroke:#000000;stroke-width:2.0px;stroke-linecap:butt;stroke-linejoin:miter;stroke-opacity:1\"/>\n",
       "<path class=\"bond-0 atom-0 atom-1\" d=\"M 406.4,463.2 L 332.3,506.0\" style=\"fill:none;fill-rule:evenodd;stroke:#FF0000;stroke-width:2.0px;stroke-linecap:butt;stroke-linejoin:miter;stroke-opacity:1\"/>\n",
       "<path class=\"bond-1 atom-0 atom-2\" d=\"M 540.3,385.8 L 710.5,287.6\" style=\"fill:none;fill-rule:evenodd;stroke:#000000;stroke-width:2.0px;stroke-linecap:butt;stroke-linejoin:miter;stroke-opacity:1\"/>\n",
       "<path class=\"bond-2 atom-0 atom-3\" d=\"M 528.2,420.5 L 625.6,589.1\" style=\"fill:none;fill-rule:evenodd;stroke:#000000;stroke-width:2.0px;stroke-linecap:butt;stroke-linejoin:miter;stroke-opacity:1\"/>\n",
       "<path class=\"bond-3 atom-0 atom-4\" d=\"M 504.5,379.4 L 406.9,210.3\" style=\"fill:none;fill-rule:evenodd;stroke:#000000;stroke-width:2.0px;stroke-linecap:butt;stroke-linejoin:miter;stroke-opacity:1\"/>\n",
       "<path class=\"bond-4 atom-1 atom-5\" d=\"M 272.2,500.3 L 193.2,454.7\" style=\"fill:none;fill-rule:evenodd;stroke:#FF0000;stroke-width:2.0px;stroke-linecap:butt;stroke-linejoin:miter;stroke-opacity:1\"/>\n",
       "<path class=\"bond-4 atom-1 atom-5\" d=\"M 193.2,454.7 L 114.2,409.0\" style=\"fill:none;fill-rule:evenodd;stroke:#000000;stroke-width:2.0px;stroke-linecap:butt;stroke-linejoin:miter;stroke-opacity:1\"/>\n",
       "<path class=\"atom-0\" d=\"M 493.1 414.4 Q 487.9 414.4, 485.3 410.5 Q 482.8 406.7, 482.8 399.9 Q 482.8 393.0, 485.3 389.2 Q 487.9 385.4, 493.1 385.4 Q 498.4 385.4, 500.9 389.2 Q 503.5 393.0, 503.5 399.9 Q 503.5 406.7, 500.9 410.5 Q 498.3 414.4, 493.1 414.4 M 493.1 411.2 Q 496.2 411.2, 497.8 408.3 Q 499.5 405.5, 499.5 399.9 Q 499.5 394.3, 497.8 391.5 Q 496.2 388.6, 493.1 388.6 Q 490.1 388.6, 488.4 391.5 Q 486.8 394.3, 486.8 399.9 Q 486.8 405.5, 488.4 408.3 Q 490.1 411.2, 493.1 411.2 \" fill=\"#000000\"/>\n",
       "<path class=\"atom-0\" d=\"M 506.5 409.4 L 510.5 409.4 L 510.5 413.4 L 506.5 413.4 L 506.5 409.4 M 506.5 395.6 L 510.5 395.6 L 510.5 399.6 L 506.5 399.6 L 506.5 395.6 \" fill=\"#000000\"/>\n",
       "<path class=\"atom-0\" d=\"M 512.5 399.9 Q 512.5 392.8, 515.8 389.1 Q 519.1 385.4, 525.4 385.4 Q 531.2 385.4, 534.3 389.5 L 531.7 391.7 Q 529.4 388.7, 525.4 388.7 Q 521.1 388.7, 518.8 391.6 Q 516.6 394.4, 516.6 399.9 Q 516.6 405.5, 518.9 408.3 Q 521.2 411.2, 525.8 411.2 Q 528.9 411.2, 532.6 409.3 L 533.7 412.3 Q 532.2 413.3, 530.0 413.9 Q 527.7 414.4, 525.2 414.4 Q 519.1 414.4, 515.8 410.7 Q 512.5 406.9, 512.5 399.9 \" fill=\"#000000\"/>\n",
       "<path class=\"atom-1\" d=\"M 276.8 531.6 L 283.0 531.6 L 283.0 510.4 L 276.1 512.5 L 275.2 510.2 L 283.9 506.3 L 286.7 506.8 L 286.7 531.6 L 292.3 531.6 L 292.3 534.8 L 276.8 534.8 L 276.8 531.6 \" fill=\"#FF0000\"/>\n",
       "<path class=\"atom-1\" d=\"M 295.3 530.1 L 299.3 530.1 L 299.3 534.1 L 295.3 534.1 L 295.3 530.1 M 295.3 516.3 L 299.3 516.3 L 299.3 520.3 L 295.3 520.3 L 295.3 516.3 \" fill=\"#FF0000\"/>\n",
       "<path class=\"atom-1\" d=\"M 301.3 520.5 Q 301.3 513.7, 304.7 509.9 Q 308.0 506.1, 314.3 506.1 Q 320.6 506.1, 323.9 509.9 Q 327.3 513.7, 327.3 520.5 Q 327.3 527.4, 323.9 531.3 Q 320.5 535.2, 314.3 535.2 Q 308.1 535.2, 304.7 531.3 Q 301.3 527.5, 301.3 520.5 M 314.3 532.0 Q 318.6 532.0, 320.9 529.1 Q 323.3 526.2, 323.3 520.5 Q 323.3 515.0, 320.9 512.2 Q 318.6 509.3, 314.3 509.3 Q 310.0 509.3, 307.6 512.1 Q 305.3 514.9, 305.3 520.5 Q 305.3 526.3, 307.6 529.1 Q 310.0 532.0, 314.3 532.0 \" fill=\"#FF0000\"/>\n",
       "<path class=\"atom-2\" d=\"M 715.9 270.4 Q 716.9 267.7, 719.4 266.2 Q 721.9 264.7, 725.3 264.7 Q 729.6 264.7, 732.0 267.0 Q 734.4 269.3, 734.4 273.5 Q 734.4 277.7, 731.3 281.6 Q 728.2 285.5, 721.8 290.1 L 734.9 290.1 L 734.9 293.3 L 715.8 293.3 L 715.8 290.7 Q 721.1 286.9, 724.2 284.1 Q 727.4 281.3, 728.9 278.8 Q 730.4 276.3, 730.4 273.7 Q 730.4 270.9, 729.1 269.4 Q 727.7 267.9, 725.3 267.9 Q 723.1 267.9, 721.5 268.8 Q 720.0 269.7, 718.9 271.8 L 715.9 270.4 \" fill=\"#000000\"/>\n",
       "<path class=\"atom-2\" d=\"M 737.9 288.7 L 741.9 288.7 L 741.9 292.7 L 737.9 292.7 L 737.9 288.7 M 737.9 274.9 L 741.9 274.9 L 741.9 278.9 L 737.9 278.9 L 737.9 274.9 \" fill=\"#000000\"/>\n",
       "<path class=\"atom-2\" d=\"M 745.3 265.0 L 749.1 265.0 L 749.1 277.1 L 763.6 277.1 L 763.6 265.0 L 767.5 265.0 L 767.5 293.3 L 763.6 293.3 L 763.6 280.3 L 749.1 280.3 L 749.1 293.3 L 745.3 293.3 L 745.3 265.0 \" fill=\"#000000\"/>\n",
       "<path class=\"atom-3\" d=\"M 641.1 608.2 Q 643.8 609.0, 645.2 610.8 Q 646.5 612.6, 646.5 615.4 Q 646.5 617.8, 645.3 619.7 Q 644.1 621.5, 641.9 622.6 Q 639.7 623.6, 636.8 623.6 Q 633.8 623.6, 631.5 622.5 Q 629.3 621.4, 627.5 619.3 L 629.8 617.0 Q 631.5 618.9, 633.0 619.6 Q 634.5 620.4, 636.8 620.4 Q 639.4 620.4, 641.0 619.0 Q 642.5 617.6, 642.5 615.4 Q 642.5 612.5, 640.9 611.2 Q 639.3 609.9, 635.8 609.9 L 633.8 609.9 L 633.8 607.0 L 635.6 607.0 Q 638.6 607.0, 640.3 605.6 Q 641.9 604.3, 641.9 601.8 Q 641.9 599.9, 640.6 598.8 Q 639.2 597.7, 636.9 597.7 Q 634.5 597.7, 633.0 598.6 Q 631.6 599.4, 630.5 601.5 L 627.7 600.0 Q 628.7 597.7, 631.1 596.1 Q 633.5 594.5, 636.9 594.5 Q 641.0 594.5, 643.5 596.5 Q 645.9 598.4, 645.9 601.8 Q 645.9 604.0, 644.7 605.7 Q 643.4 607.3, 641.1 608.2 \" fill=\"#000000\"/>\n",
       "<path class=\"atom-3\" d=\"M 649.5 618.5 L 653.5 618.5 L 653.5 622.5 L 649.5 622.5 L 649.5 618.5 M 649.5 604.7 L 653.5 604.7 L 653.5 608.7 L 649.5 608.7 L 649.5 604.7 \" fill=\"#000000\"/>\n",
       "<path class=\"atom-3\" d=\"M 656.9 594.8 L 660.8 594.8 L 660.8 606.9 L 675.2 606.9 L 675.2 594.8 L 679.1 594.8 L 679.1 623.2 L 675.2 623.2 L 675.2 610.1 L 660.8 610.1 L 660.8 623.2 L 656.9 623.2 L 656.9 594.8 \" fill=\"#000000\"/>\n",
       "<path class=\"atom-4\" d=\"M 370.7 195.1 L 374.1 195.1 L 374.1 198.3 L 370.7 198.3 L 370.7 204.8 L 366.9 204.8 L 366.9 198.3 L 352.3 198.3 L 352.3 195.8 L 364.7 176.5 L 370.7 176.5 L 370.7 195.1 M 356.9 195.1 L 366.9 195.1 L 366.9 179.1 L 356.9 195.1 \" fill=\"#000000\"/>\n",
       "<path class=\"atom-4\" d=\"M 377.1 200.1 L 381.1 200.1 L 381.1 204.1 L 377.1 204.1 L 377.1 200.1 M 377.1 186.4 L 381.1 186.4 L 381.1 190.4 L 377.1 190.4 L 377.1 186.4 \" fill=\"#000000\"/>\n",
       "<path class=\"atom-4\" d=\"M 384.5 176.5 L 388.3 176.5 L 388.3 188.5 L 402.8 188.5 L 402.8 176.5 L 406.6 176.5 L 406.6 204.8 L 402.8 204.8 L 402.8 191.7 L 388.3 191.7 L 388.3 204.8 L 384.5 204.8 L 384.5 176.5 \" fill=\"#000000\"/>\n",
       "<path class=\"atom-5\" d=\"M 67.7 396.2 Q 70.2 396.2, 72.2 397.3 Q 74.3 398.3, 75.4 400.3 Q 76.6 402.3, 76.6 404.9 Q 76.6 407.9, 75.2 410.0 Q 73.8 412.1, 71.4 413.1 Q 69.1 414.2, 66.5 414.2 Q 63.9 414.2, 61.5 413.3 Q 59.1 412.3, 57.4 410.5 L 59.8 408.0 Q 61.2 409.4, 63.0 410.2 Q 64.8 411.0, 66.6 411.0 Q 69.1 411.0, 70.8 409.4 Q 72.6 407.9, 72.6 405.0 Q 72.6 402.0, 70.8 400.6 Q 69.1 399.2, 66.4 399.2 Q 63.9 399.2, 61.1 400.3 L 58.9 399.2 L 60.3 385.6 L 74.8 385.6 L 74.4 388.8 L 63.6 388.8 L 62.7 397.2 Q 65.2 396.2, 67.7 396.2 \" fill=\"#000000\"/>\n",
       "<path class=\"atom-5\" d=\"M 79.6 409.2 L 83.6 409.2 L 83.6 413.2 L 79.6 413.2 L 79.6 409.2 M 79.6 395.5 L 83.6 395.5 L 83.6 399.5 L 79.6 399.5 L 79.6 395.5 \" fill=\"#000000\"/>\n",
       "<path class=\"atom-5\" d=\"M 87.0 385.6 L 90.8 385.6 L 90.8 397.6 L 105.3 397.6 L 105.3 385.6 L 109.2 385.6 L 109.2 413.9 L 105.3 413.9 L 105.3 400.8 L 90.8 400.8 L 90.8 413.9 L 87.0 413.9 L 87.0 385.6 \" fill=\"#000000\"/>\n",
       "<path class=\"note\" d=\"M 492.0 483.0 L 495.1 483.0 L 495.1 472.4 L 491.6 473.5 L 491.2 472.3 L 495.5 470.4 L 496.9 470.6 L 496.9 483.0 L 499.7 483.0 L 499.7 484.6 L 492.0 484.6 L 492.0 483.0 \" fill=\"#000000\"/>\n",
       "</svg>"
      ],
      "text/plain": [
       "<IPython.core.display.SVG object>"
      ]
     },
     "execution_count": 30,
     "metadata": {},
     "output_type": "execute_result"
    }
   ],
   "source": [
    "svmol2 = visualizations._show_common_core_gradient( mol2, hit_ats2, order2, percomponent = True, numbers = True)\n",
    "SVG(svmol2)"
   ]
  },
  {
   "cell_type": "code",
   "execution_count": 31,
   "id": "9ad9468f",
   "metadata": {},
   "outputs": [
    {
     "data": {
      "image/svg+xml": [
       "<svg xmlns=\"http://www.w3.org/2000/svg\" xmlns:rdkit=\"http://www.rdkit.org/xml\" xmlns:xlink=\"http://www.w3.org/1999/xlink\" version=\"1.1\" baseProfile=\"full\" xml:space=\"preserve\" width=\"800px\" height=\"800px\" viewBox=\"0 0 800 800\">\n",
       "<!-- END OF HEADER -->\n",
       "<rect style=\"opacity:1.0;fill:#FFFFFF;stroke:none\" width=\"800.0\" height=\"800.0\" x=\"0.0\" y=\"0.0\"> </rect>\n",
       "<path d=\"M 168.3,414.3 L 249.9,410.7\" style=\"fill:none;fill-rule:evenodd;stroke:#CCCCCC;stroke-width:17.4px;stroke-linecap:butt;stroke-linejoin:miter;stroke-opacity:1\"/>\n",
       "<path d=\"M 249.9,410.7 L 331.4,407.1\" style=\"fill:none;fill-rule:evenodd;stroke:#CCCCCC;stroke-width:17.4px;stroke-linecap:butt;stroke-linejoin:miter;stroke-opacity:1\"/>\n",
       "<path d=\"M 331.4,407.1 L 413.0,403.5\" style=\"fill:none;fill-rule:evenodd;stroke:#CCCCCC;stroke-width:17.4px;stroke-linecap:butt;stroke-linejoin:miter;stroke-opacity:1\"/>\n",
       "<path d=\"M 413.0,403.5 L 450.6,331.0\" style=\"fill:none;fill-rule:evenodd;stroke:#CCCCCC;stroke-width:17.4px;stroke-linecap:butt;stroke-linejoin:miter;stroke-opacity:1\"/>\n",
       "<path d=\"M 413.0,403.5 L 456.9,472.3\" style=\"fill:none;fill-rule:evenodd;stroke:#CCCCCC;stroke-width:17.4px;stroke-linecap:butt;stroke-linejoin:miter;stroke-opacity:1\"/>\n",
       "<path d=\"M 450.6,331.0 L 532.2,327.4\" style=\"fill:none;fill-rule:evenodd;stroke:#CCCCCC;stroke-width:17.4px;stroke-linecap:butt;stroke-linejoin:miter;stroke-opacity:1\"/>\n",
       "<path d=\"M 532.2,327.4 L 576.1,396.3\" style=\"fill:none;fill-rule:evenodd;stroke:#CCCCCC;stroke-width:17.4px;stroke-linecap:butt;stroke-linejoin:miter;stroke-opacity:1\"/>\n",
       "<path d=\"M 576.1,396.3 L 538.5,468.7\" style=\"fill:none;fill-rule:evenodd;stroke:#CCCCCC;stroke-width:17.4px;stroke-linecap:butt;stroke-linejoin:miter;stroke-opacity:1\"/>\n",
       "<path d=\"M 576.1,396.3 L 657.7,392.6\" style=\"fill:none;fill-rule:evenodd;stroke:#CCCCCC;stroke-width:17.4px;stroke-linecap:butt;stroke-linejoin:miter;stroke-opacity:1\"/>\n",
       "<path d=\"M 538.5,468.7 L 456.9,472.3\" style=\"fill:none;fill-rule:evenodd;stroke:#CCCCCC;stroke-width:17.4px;stroke-linecap:butt;stroke-linejoin:miter;stroke-opacity:1\"/>\n",
       "<path d=\"M 657.7,392.6 L 701.6,461.5\" style=\"fill:none;fill-rule:evenodd;stroke:#CCCCCC;stroke-width:17.4px;stroke-linecap:butt;stroke-linejoin:miter;stroke-opacity:1\"/>\n",
       "<ellipse cx=\"162.0\" cy=\"414.5\" rx=\"29.8\" ry=\"16.7\" style=\"fill:#FF0000;fill-rule:evenodd;stroke:#FF0000;stroke-width:1.0px;stroke-linecap:butt;stroke-linejoin:miter;stroke-opacity:1\"/>\n",
       "<ellipse cx=\"244.8\" cy=\"410.9\" rx=\"27.7\" ry=\"16.7\" style=\"fill:#FF3F00;fill-rule:evenodd;stroke:#FF3F00;stroke-width:1.0px;stroke-linecap:butt;stroke-linejoin:miter;stroke-opacity:1\"/>\n",
       "<ellipse cx=\"325.6\" cy=\"407.2\" rx=\"28.8\" ry=\"16.7\" style=\"fill:#FF7F00;fill-rule:evenodd;stroke:#FF7F00;stroke-width:1.0px;stroke-linecap:butt;stroke-linejoin:miter;stroke-opacity:1\"/>\n",
       "<ellipse cx=\"407.1\" cy=\"403.6\" rx=\"28.8\" ry=\"16.8\" style=\"fill:#FFBF00;fill-rule:evenodd;stroke:#FFBF00;stroke-width:1.0px;stroke-linecap:butt;stroke-linejoin:miter;stroke-opacity:1\"/>\n",
       "<ellipse cx=\"443.8\" cy=\"331.2\" rx=\"30.4\" ry=\"16.7\" style=\"fill:#BFFF00;fill-rule:evenodd;stroke:#BFFF00;stroke-width:1.0px;stroke-linecap:butt;stroke-linejoin:miter;stroke-opacity:1\"/>\n",
       "<ellipse cx=\"526.3\" cy=\"327.6\" rx=\"28.9\" ry=\"16.7\" style=\"fill:#3FFF00;fill-rule:evenodd;stroke:#3FFF00;stroke-width:1.0px;stroke-linecap:butt;stroke-linejoin:miter;stroke-opacity:1\"/>\n",
       "<ellipse cx=\"570.2\" cy=\"396.4\" rx=\"29.1\" ry=\"16.7\" style=\"fill:#00FF00;fill-rule:evenodd;stroke:#00FF00;stroke-width:1.0px;stroke-linecap:butt;stroke-linejoin:miter;stroke-opacity:1\"/>\n",
       "<ellipse cx=\"532.6\" cy=\"468.8\" rx=\"28.7\" ry=\"16.7\" style=\"fill:#7FFF00;fill-rule:evenodd;stroke:#7FFF00;stroke-width:1.0px;stroke-linecap:butt;stroke-linejoin:miter;stroke-opacity:1\"/>\n",
       "<ellipse cx=\"450.8\" cy=\"472.5\" rx=\"29.3\" ry=\"16.8\" style=\"fill:#FFFF00;fill-rule:evenodd;stroke:#FFFF00;stroke-width:1.0px;stroke-linecap:butt;stroke-linejoin:miter;stroke-opacity:1\"/>\n",
       "<ellipse cx=\"672.0\" cy=\"392.8\" rx=\"31.5\" ry=\"16.8\" style=\"fill:#002600;fill-rule:evenodd;stroke:#002600;stroke-width:1.0px;stroke-linecap:butt;stroke-linejoin:miter;stroke-opacity:1\"/>\n",
       "<ellipse cx=\"722.7\" cy=\"461.5\" rx=\"40.9\" ry=\"16.5\" style=\"fill:#002600;fill-rule:evenodd;stroke:#002600;stroke-width:1.0px;stroke-linecap:butt;stroke-linejoin:miter;stroke-opacity:1\"/>\n",
       "<path class=\"bond-0 atom-0 atom-1\" d=\"M 185.1,413.6 L 223.6,411.9\" style=\"fill:none;fill-rule:evenodd;stroke:#000000;stroke-width:2.0px;stroke-linecap:butt;stroke-linejoin:miter;stroke-opacity:1\"/>\n",
       "<path class=\"bond-10 atom-0 atom-10\" d=\"M 138.9,415.6 L 97.1,417.5\" style=\"fill:none;fill-rule:evenodd;stroke:#000000;stroke-width:2.0px;stroke-linecap:butt;stroke-linejoin:miter;stroke-opacity:1\"/>\n",
       "<path class=\"bond-11 atom-0 atom-11\" d=\"M 167.7,400.6 L 165.3,346.1\" style=\"fill:none;fill-rule:evenodd;stroke:#000000;stroke-width:2.0px;stroke-linecap:butt;stroke-linejoin:miter;stroke-opacity:1\"/>\n",
       "<path class=\"bond-12 atom-0 atom-12\" d=\"M 168.9,428.3 L 171.3,482.6\" style=\"fill:none;fill-rule:evenodd;stroke:#000000;stroke-width:2.0px;stroke-linecap:butt;stroke-linejoin:miter;stroke-opacity:1\"/>\n",
       "<path class=\"bond-1 atom-1 atom-2\" d=\"M 266.4,410.0 L 303.6,408.3\" style=\"fill:none;fill-rule:evenodd;stroke:#000000;stroke-width:2.0px;stroke-linecap:butt;stroke-linejoin:miter;stroke-opacity:1\"/>\n",
       "<path class=\"bond-13 atom-1 atom-13\" d=\"M 249.3,397.0 L 246.8,342.5\" style=\"fill:none;fill-rule:evenodd;stroke:#000000;stroke-width:2.0px;stroke-linecap:butt;stroke-linejoin:miter;stroke-opacity:1\"/>\n",
       "<path class=\"bond-14 atom-1 atom-14\" d=\"M 250.5,424.7 L 252.9,479.0\" style=\"fill:none;fill-rule:evenodd;stroke:#000000;stroke-width:2.0px;stroke-linecap:butt;stroke-linejoin:miter;stroke-opacity:1\"/>\n",
       "<path class=\"bond-2 atom-2 atom-3\" d=\"M 348.0,406.4 L 385.2,404.7\" style=\"fill:none;fill-rule:evenodd;stroke:#000000;stroke-width:2.0px;stroke-linecap:butt;stroke-linejoin:miter;stroke-opacity:1\"/>\n",
       "<path class=\"bond-15 atom-2 atom-15\" d=\"M 330.8,393.4 L 328.4,338.9\" style=\"fill:none;fill-rule:evenodd;stroke:#000000;stroke-width:2.0px;stroke-linecap:butt;stroke-linejoin:miter;stroke-opacity:1\"/>\n",
       "<path class=\"bond-16 atom-2 atom-16\" d=\"M 332.1,421.1 L 334.5,475.4\" style=\"fill:none;fill-rule:evenodd;stroke:#000000;stroke-width:2.0px;stroke-linecap:butt;stroke-linejoin:miter;stroke-opacity:1\"/>\n",
       "<path class=\"bond-3 atom-3 atom-4\" d=\"M 420.1,389.8 L 444.0,343.8\" style=\"fill:none;fill-rule:evenodd;stroke:#000000;stroke-width:2.0px;stroke-linecap:butt;stroke-linejoin:miter;stroke-opacity:1\"/>\n",
       "<path class=\"bond-3 atom-3 atom-4\" d=\"M 438.2,390.4 L 454.9,358.3\" style=\"fill:none;fill-rule:evenodd;stroke:#000000;stroke-width:2.0px;stroke-linecap:butt;stroke-linejoin:miter;stroke-opacity:1\"/>\n",
       "<path class=\"bond-9 atom-8 atom-3\" d=\"M 448.1,458.6 L 421.7,417.1\" style=\"fill:none;fill-rule:evenodd;stroke:#000000;stroke-width:2.0px;stroke-linecap:butt;stroke-linejoin:miter;stroke-opacity:1\"/>\n",
       "<path class=\"bond-4 atom-4 atom-5\" d=\"M 467.3,330.3 L 504.3,328.7\" style=\"fill:none;fill-rule:evenodd;stroke:#000000;stroke-width:2.0px;stroke-linecap:butt;stroke-linejoin:miter;stroke-opacity:1\"/>\n",
       "<path class=\"bond-17 atom-4 atom-17\" d=\"M 442.0,317.6 L 415.2,275.5\" style=\"fill:none;fill-rule:evenodd;stroke:#000000;stroke-width:2.0px;stroke-linecap:butt;stroke-linejoin:miter;stroke-opacity:1\"/>\n",
       "<path class=\"bond-5 atom-5 atom-6\" d=\"M 541.1,341.5 L 571.3,388.8\" style=\"fill:none;fill-rule:evenodd;stroke:#000000;stroke-width:2.0px;stroke-linecap:butt;stroke-linejoin:miter;stroke-opacity:1\"/>\n",
       "<path class=\"bond-5 atom-5 atom-6\" d=\"M 531.9,357.3 L 553.0,390.5\" style=\"fill:none;fill-rule:evenodd;stroke:#000000;stroke-width:2.0px;stroke-linecap:butt;stroke-linejoin:miter;stroke-opacity:1\"/>\n",
       "<path class=\"bond-18 atom-5 atom-18\" d=\"M 539.3,313.7 L 562.9,268.3\" style=\"fill:none;fill-rule:evenodd;stroke:#000000;stroke-width:2.0px;stroke-linecap:butt;stroke-linejoin:miter;stroke-opacity:1\"/>\n",
       "<path class=\"bond-6 atom-6 atom-7\" d=\"M 569.3,409.4 L 545.4,455.3\" style=\"fill:none;fill-rule:evenodd;stroke:#000000;stroke-width:2.0px;stroke-linecap:butt;stroke-linejoin:miter;stroke-opacity:1\"/>\n",
       "<path class=\"bond-8 atom-6 atom-9\" d=\"M 592.8,395.5 L 620.4,394.3\" style=\"fill:none;fill-rule:evenodd;stroke:#000000;stroke-width:2.0px;stroke-linecap:butt;stroke-linejoin:miter;stroke-opacity:1\"/>\n",
       "<path class=\"bond-8 atom-6 atom-9\" d=\"M 620.4,394.3 L 648.0,393.1\" style=\"fill:none;fill-rule:evenodd;stroke:#FF0000;stroke-width:2.0px;stroke-linecap:butt;stroke-linejoin:miter;stroke-opacity:1\"/>\n",
       "<path class=\"bond-7 atom-7 atom-8\" d=\"M 510.3,469.9 L 472.9,471.6\" style=\"fill:none;fill-rule:evenodd;stroke:#000000;stroke-width:2.0px;stroke-linecap:butt;stroke-linejoin:miter;stroke-opacity:1\"/>\n",
       "<path class=\"bond-7 atom-7 atom-8\" d=\"M 503.9,453.9 L 477.8,455.0\" style=\"fill:none;fill-rule:evenodd;stroke:#000000;stroke-width:2.0px;stroke-linecap:butt;stroke-linejoin:miter;stroke-opacity:1\"/>\n",
       "<path class=\"bond-19 atom-7 atom-19\" d=\"M 547.4,482.7 L 574.0,524.3\" style=\"fill:none;fill-rule:evenodd;stroke:#000000;stroke-width:2.0px;stroke-linecap:butt;stroke-linejoin:miter;stroke-opacity:1\"/>\n",
       "<path class=\"bond-20 atom-8 atom-20\" d=\"M 450.0,485.5 L 426.1,531.6\" style=\"fill:none;fill-rule:evenodd;stroke:#000000;stroke-width:2.0px;stroke-linecap:butt;stroke-linejoin:miter;stroke-opacity:1\"/>\n",
       "<path class=\"bond-21 atom-9 atom-21\" d=\"M 666.6,406.6 L 679.8,427.4\" style=\"fill:none;fill-rule:evenodd;stroke:#FF0000;stroke-width:2.0px;stroke-linecap:butt;stroke-linejoin:miter;stroke-opacity:1\"/>\n",
       "<path class=\"bond-21 atom-9 atom-21\" d=\"M 679.8,427.4 L 693.1,448.2\" style=\"fill:none;fill-rule:evenodd;stroke:#000000;stroke-width:2.0px;stroke-linecap:butt;stroke-linejoin:miter;stroke-opacity:1\"/>\n",
       "<path class=\"atom-0\" d=\"M 149.4 426.3 Q 145.2 426.3, 143.0 423.1 Q 140.9 420.0, 140.9 414.4 Q 140.9 408.8, 143.0 405.7 Q 145.1 402.6, 149.4 402.6 Q 153.7 402.6, 155.8 405.7 Q 157.9 408.8, 157.9 414.4 Q 157.9 420.0, 155.7 423.1 Q 153.6 426.3, 149.4 426.3 M 149.4 423.7 Q 151.9 423.7, 153.3 421.3 Q 154.6 419.0, 154.6 414.4 Q 154.6 409.9, 153.3 407.6 Q 151.9 405.2, 149.4 405.2 Q 146.9 405.2, 145.5 407.6 Q 144.2 409.9, 144.2 414.4 Q 144.2 419.0, 145.5 421.3 Q 146.9 423.7, 149.4 423.7 \" fill=\"#000000\"/>\n",
       "<path class=\"atom-0\" d=\"M 160.3 422.2 L 163.6 422.2 L 163.6 425.5 L 160.3 425.5 L 160.3 422.2 M 160.3 411.0 L 163.6 411.0 L 163.6 414.2 L 160.3 414.2 L 160.3 411.0 \" fill=\"#000000\"/>\n",
       "<path class=\"atom-0\" d=\"M 165.2 414.4 Q 165.2 408.7, 167.9 405.7 Q 170.6 402.6, 175.7 402.6 Q 180.5 402.6, 183.0 406.0 L 180.9 407.8 Q 179.0 405.3, 175.7 405.3 Q 172.2 405.3, 170.4 407.7 Q 168.5 410.0, 168.5 414.4 Q 168.5 419.0, 170.4 421.3 Q 172.4 423.7, 176.1 423.7 Q 178.6 423.7, 181.6 422.2 L 182.5 424.6 Q 181.3 425.4, 179.5 425.9 Q 177.7 426.3, 175.6 426.3 Q 170.6 426.3, 167.9 423.2 Q 165.2 420.2, 165.2 414.4 \" fill=\"#000000\"/>\n",
       "<path class=\"atom-1\" d=\"M 226.5 419.8 L 231.5 419.8 L 231.5 402.5 L 225.9 404.2 L 225.2 402.3 L 232.3 399.1 L 234.6 399.5 L 234.6 419.8 L 239.1 419.8 L 239.1 422.4 L 226.5 422.4 L 226.5 419.8 \" fill=\"#000000\"/>\n",
       "<path class=\"atom-1\" d=\"M 241.6 418.6 L 244.8 418.6 L 244.8 421.8 L 241.6 421.8 L 241.6 418.6 M 241.6 407.3 L 244.8 407.3 L 244.8 410.6 L 241.6 410.6 L 241.6 407.3 \" fill=\"#000000\"/>\n",
       "<path class=\"atom-1\" d=\"M 246.5 410.8 Q 246.5 405.1, 249.2 402.1 Q 251.9 399.0, 257.0 399.0 Q 261.8 399.0, 264.3 402.4 L 262.2 404.1 Q 260.3 401.7, 257.0 401.7 Q 253.5 401.7, 251.6 404.0 Q 249.8 406.4, 249.8 410.8 Q 249.8 415.4, 251.7 417.7 Q 253.6 420.1, 257.4 420.1 Q 259.9 420.1, 262.9 418.5 L 263.8 421.0 Q 262.6 421.8, 260.8 422.2 Q 258.9 422.7, 256.9 422.7 Q 251.9 422.7, 249.2 419.6 Q 246.5 416.6, 246.5 410.8 \" fill=\"#000000\"/>\n",
       "<path class=\"atom-2\" d=\"M 305.3 400.0 Q 306.1 397.9, 308.2 396.6 Q 310.2 395.4, 313.0 395.4 Q 316.5 395.4, 318.5 397.3 Q 320.4 399.2, 320.4 402.6 Q 320.4 406.0, 317.9 409.2 Q 315.4 412.4, 310.1 416.2 L 320.8 416.2 L 320.8 418.8 L 305.2 418.8 L 305.2 416.6 Q 309.5 413.5, 312.1 411.2 Q 314.7 409.0, 315.9 406.9 Q 317.2 404.8, 317.2 402.7 Q 317.2 400.5, 316.0 399.3 Q 314.9 398.0, 313.0 398.0 Q 311.1 398.0, 309.9 398.8 Q 308.7 399.5, 307.8 401.2 L 305.3 400.0 \" fill=\"#000000\"/>\n",
       "<path class=\"atom-2\" d=\"M 323.3 415.0 L 326.5 415.0 L 326.5 418.2 L 323.3 418.2 L 323.3 415.0 M 323.3 403.7 L 326.5 403.7 L 326.5 407.0 L 323.3 407.0 L 323.3 403.7 \" fill=\"#000000\"/>\n",
       "<path class=\"atom-2\" d=\"M 328.2 407.2 Q 328.2 401.4, 330.8 398.4 Q 333.5 395.4, 338.7 395.4 Q 343.4 395.4, 346.0 398.8 L 343.8 400.5 Q 342.0 398.1, 338.7 398.1 Q 335.2 398.1, 333.3 400.4 Q 331.5 402.8, 331.5 407.2 Q 331.5 411.8, 333.4 414.1 Q 335.3 416.5, 339.0 416.5 Q 341.6 416.5, 344.5 414.9 L 345.5 417.4 Q 344.3 418.2, 342.4 418.6 Q 340.6 419.1, 338.6 419.1 Q 333.5 419.1, 330.8 416.0 Q 328.2 412.9, 328.2 407.2 \" fill=\"#000000\"/>\n",
       "<path class=\"atom-3\" d=\"M 397.9 403.0 Q 400.1 403.6, 401.2 405.1 Q 402.3 406.6, 402.3 408.8 Q 402.3 410.8, 401.3 412.3 Q 400.4 413.8, 398.6 414.7 Q 396.8 415.5, 394.4 415.5 Q 391.9 415.5, 390.1 414.7 Q 388.2 413.8, 386.8 412.0 L 388.6 410.1 Q 390.1 411.7, 391.3 412.3 Q 392.5 412.9, 394.4 412.9 Q 396.5 412.9, 397.8 411.8 Q 399.1 410.6, 399.1 408.8 Q 399.1 406.5, 397.7 405.4 Q 396.4 404.3, 393.6 404.3 L 391.9 404.3 L 391.9 402.0 L 393.4 402.0 Q 395.9 401.9, 397.2 400.9 Q 398.6 399.8, 398.6 397.7 Q 398.6 396.2, 397.5 395.3 Q 396.3 394.4, 394.5 394.4 Q 392.5 394.4, 391.3 395.1 Q 390.1 395.8, 389.2 397.5 L 387.0 396.3 Q 387.8 394.4, 389.7 393.1 Q 391.7 391.8, 394.5 391.8 Q 397.8 391.8, 399.8 393.4 Q 401.8 395.0, 401.8 397.7 Q 401.8 399.6, 400.8 400.9 Q 399.8 402.2, 397.9 403.0 \" fill=\"#000000\"/>\n",
       "<path class=\"atom-3\" d=\"M 404.8 411.4 L 408.0 411.4 L 408.0 414.6 L 404.8 414.6 L 404.8 411.4 M 404.8 400.1 L 408.0 400.1 L 408.0 403.4 L 404.8 403.4 L 404.8 400.1 \" fill=\"#000000\"/>\n",
       "<path class=\"atom-3\" d=\"M 409.7 403.6 Q 409.7 397.8, 412.3 394.8 Q 415.1 391.8, 420.2 391.8 Q 425.0 391.8, 427.5 395.2 L 425.3 396.9 Q 423.5 394.5, 420.2 394.5 Q 416.7 394.5, 414.8 396.8 Q 413.0 399.1, 413.0 403.6 Q 413.0 408.2, 414.9 410.5 Q 416.8 412.9, 420.5 412.9 Q 423.1 412.9, 426.1 411.3 L 427.0 413.8 Q 425.8 414.6, 423.9 415.0 Q 422.1 415.5, 420.1 415.5 Q 415.1 415.5, 412.3 412.4 Q 409.7 409.3, 409.7 403.6 \" fill=\"#000000\"/>\n",
       "<path class=\"atom-4\" d=\"M 437.3 334.8 L 440.1 334.8 L 440.1 337.4 L 437.3 337.4 L 437.3 342.7 L 434.2 342.7 L 434.2 337.4 L 422.3 337.4 L 422.3 335.4 L 432.4 319.6 L 437.3 319.6 L 437.3 334.8 M 426.1 334.8 L 434.2 334.8 L 434.2 321.7 L 426.1 334.8 \" fill=\"#000000\"/>\n",
       "<path class=\"atom-4\" d=\"M 442.5 338.9 L 445.8 338.9 L 445.8 342.2 L 442.5 342.2 L 442.5 338.9 M 442.5 327.7 L 445.8 327.7 L 445.8 330.9 L 442.5 330.9 L 442.5 327.7 \" fill=\"#000000\"/>\n",
       "<path class=\"atom-4\" d=\"M 447.4 331.1 Q 447.4 325.4, 450.1 322.4 Q 452.8 319.4, 458.0 319.4 Q 462.7 319.4, 465.3 322.7 L 463.1 324.5 Q 461.3 322.0, 458.0 322.0 Q 454.5 322.0, 452.6 324.4 Q 450.8 326.7, 450.8 331.1 Q 450.8 335.7, 452.7 338.1 Q 454.6 340.4, 458.3 340.4 Q 460.9 340.4, 463.8 338.9 L 464.7 341.3 Q 463.5 342.1, 461.7 342.6 Q 459.9 343.0, 457.9 343.0 Q 452.8 343.0, 450.1 340.0 Q 447.4 336.9, 447.4 331.1 \" fill=\"#000000\"/>\n",
       "<path class=\"atom-5\" d=\"M 514.3 324.7 Q 516.3 324.7, 518.0 325.5 Q 519.7 326.4, 520.6 328.0 Q 521.6 329.6, 521.6 331.8 Q 521.6 334.2, 520.4 335.9 Q 519.2 337.6, 517.3 338.5 Q 515.5 339.4, 513.3 339.4 Q 511.2 339.4, 509.2 338.6 Q 507.3 337.8, 505.9 336.3 L 507.9 334.3 Q 509.0 335.5, 510.4 336.1 Q 511.9 336.7, 513.4 336.7 Q 515.5 336.7, 516.9 335.5 Q 518.3 334.2, 518.3 331.9 Q 518.3 329.4, 516.9 328.3 Q 515.5 327.1, 513.2 327.1 Q 511.2 327.1, 508.9 328.0 L 507.1 327.1 L 508.2 316.0 L 520.1 316.0 L 519.8 318.6 L 510.9 318.6 L 510.2 325.5 Q 512.3 324.7, 514.3 324.7 \" fill=\"#000000\"/>\n",
       "<path class=\"atom-5\" d=\"M 524.0 335.3 L 527.3 335.3 L 527.3 338.6 L 524.0 338.6 L 524.0 335.3 M 524.0 324.1 L 527.3 324.1 L 527.3 327.3 L 524.0 327.3 L 524.0 324.1 \" fill=\"#000000\"/>\n",
       "<path class=\"atom-5\" d=\"M 528.9 327.5 Q 528.9 321.8, 531.6 318.8 Q 534.3 315.7, 539.4 315.7 Q 544.2 315.7, 546.7 319.1 L 544.6 320.9 Q 542.7 318.4, 539.4 318.4 Q 535.9 318.4, 534.1 320.8 Q 532.2 323.1, 532.2 327.5 Q 532.2 332.1, 534.1 334.5 Q 536.1 336.8, 539.8 336.8 Q 542.3 336.8, 545.3 335.3 L 546.2 337.7 Q 545.0 338.5, 543.2 339.0 Q 541.3 339.4, 539.3 339.4 Q 534.3 339.4, 531.6 336.3 Q 528.9 333.3, 528.9 327.5 \" fill=\"#000000\"/>\n",
       "<path class=\"atom-6\" d=\"M 558.6 393.5 Q 560.7 393.5, 562.3 394.4 Q 563.9 395.3, 564.7 396.9 Q 565.6 398.5, 565.6 400.5 Q 565.6 402.8, 564.6 404.5 Q 563.6 406.2, 561.9 407.2 Q 560.1 408.2, 557.8 408.2 Q 553.7 408.2, 551.6 405.4 Q 549.6 402.6, 549.6 397.1 Q 549.6 390.9, 552.1 387.8 Q 554.7 384.6, 559.6 384.6 Q 561.1 384.6, 562.3 384.9 Q 563.5 385.2, 564.7 385.9 L 563.4 388.1 Q 561.7 387.2, 559.7 387.2 Q 556.4 387.2, 554.7 389.3 Q 553.1 391.4, 552.9 395.7 Q 554.1 394.7, 555.5 394.1 Q 557.0 393.5, 558.6 393.5 M 557.9 405.5 Q 559.1 405.5, 560.1 404.9 Q 561.2 404.2, 561.8 403.1 Q 562.4 401.9, 562.4 400.5 Q 562.4 398.5, 561.2 397.3 Q 560.1 396.1, 558.0 396.1 Q 556.6 396.1, 555.2 396.7 Q 553.9 397.3, 552.9 398.2 Q 553.0 402.1, 554.2 403.8 Q 555.4 405.5, 557.9 405.5 \" fill=\"#000000\"/>\n",
       "<path class=\"atom-6\" d=\"M 568.1 404.1 L 571.3 404.1 L 571.3 407.4 L 568.1 407.4 L 568.1 404.1 M 568.1 392.9 L 571.3 392.9 L 571.3 396.2 L 568.1 396.2 L 568.1 392.9 \" fill=\"#000000\"/>\n",
       "<path class=\"atom-6\" d=\"M 573.0 396.4 Q 573.0 390.6, 575.6 387.6 Q 578.4 384.6, 583.5 384.6 Q 588.3 384.6, 590.8 387.9 L 588.6 389.7 Q 586.8 387.2, 583.5 387.2 Q 580.0 387.2, 578.1 389.6 Q 576.3 391.9, 576.3 396.4 Q 576.3 400.9, 578.2 403.3 Q 580.1 405.6, 583.8 405.6 Q 586.4 405.6, 589.4 404.1 L 590.3 406.5 Q 589.1 407.3, 587.2 407.8 Q 585.4 408.2, 583.4 408.2 Q 578.4 408.2, 575.6 405.2 Q 573.0 402.1, 573.0 396.4 \" fill=\"#000000\"/>\n",
       "<path class=\"atom-7\" d=\"M 524.4 459.9 L 512.3 459.9 L 512.3 457.3 L 527.6 457.3 L 527.6 459.6 L 518.3 480.4 L 515.2 480.4 L 524.4 459.9 \" fill=\"#000000\"/>\n",
       "<path class=\"atom-7\" d=\"M 530.1 476.6 L 533.4 476.6 L 533.4 479.8 L 530.1 479.8 L 530.1 476.6 M 530.1 465.3 L 533.4 465.3 L 533.4 468.6 L 530.1 468.6 L 530.1 465.3 \" fill=\"#000000\"/>\n",
       "<path class=\"atom-7\" d=\"M 535.0 468.8 Q 535.0 463.0, 537.7 460.0 Q 540.4 457.0, 545.5 457.0 Q 550.3 457.0, 552.8 460.4 L 550.7 462.1 Q 548.8 459.7, 545.5 459.7 Q 542.0 459.7, 540.1 462.0 Q 538.3 464.4, 538.3 468.8 Q 538.3 473.4, 540.2 475.7 Q 542.1 478.1, 545.9 478.1 Q 548.4 478.1, 551.4 476.5 L 552.3 479.0 Q 551.1 479.8, 549.3 480.2 Q 547.4 480.7, 545.4 480.7 Q 540.4 480.7, 537.7 477.6 Q 535.0 474.5, 535.0 468.8 \" fill=\"#000000\"/>\n",
       "<path class=\"atom-8\" d=\"M 441.9 471.8 Q 444.0 472.7, 445.2 474.0 Q 446.4 475.4, 446.4 477.7 Q 446.4 479.6, 445.4 481.2 Q 444.4 482.7, 442.6 483.5 Q 440.8 484.3, 438.4 484.3 Q 434.5 484.3, 432.3 482.6 Q 430.1 480.8, 430.1 477.7 Q 430.1 475.8, 431.1 474.4 Q 432.0 472.9, 434.1 471.9 Q 432.6 471.0, 431.7 469.8 Q 430.9 468.5, 430.9 466.5 Q 430.9 463.8, 432.9 462.2 Q 434.9 460.6, 438.2 460.6 Q 441.6 460.6, 443.6 462.2 Q 445.6 463.8, 445.6 466.5 Q 445.6 468.2, 444.6 469.5 Q 443.7 470.7, 441.9 471.8 M 438.2 463.1 Q 436.3 463.1, 435.2 464.0 Q 434.2 464.9, 434.2 466.5 Q 434.2 467.7, 434.9 468.6 Q 435.6 469.3, 436.6 469.8 Q 437.7 470.3, 439.7 470.9 Q 441.1 470.0, 441.7 468.9 Q 442.3 467.9, 442.3 466.5 Q 442.3 464.9, 441.2 464.0 Q 440.2 463.1, 438.2 463.1 M 438.4 481.9 Q 440.5 481.9, 441.8 480.7 Q 443.1 479.6, 443.1 477.6 Q 443.1 476.4, 442.5 475.6 Q 441.8 474.8, 440.7 474.4 Q 439.7 473.9, 437.9 473.3 L 436.4 472.8 Q 434.8 473.8, 434.1 475.0 Q 433.3 476.1, 433.3 477.6 Q 433.3 479.6, 434.7 480.7 Q 436.1 481.9, 438.4 481.9 \" fill=\"#000000\"/>\n",
       "<path class=\"atom-8\" d=\"M 448.9 480.2 L 452.1 480.2 L 452.1 483.4 L 448.9 483.4 L 448.9 480.2 M 448.9 468.9 L 452.1 468.9 L 452.1 472.2 L 448.9 472.2 L 448.9 468.9 \" fill=\"#000000\"/>\n",
       "<path class=\"atom-8\" d=\"M 453.8 472.4 Q 453.8 466.7, 456.4 463.7 Q 459.1 460.6, 464.3 460.6 Q 469.0 460.6, 471.6 464.0 L 469.4 465.7 Q 467.6 463.3, 464.3 463.3 Q 460.8 463.3, 458.9 465.6 Q 457.1 468.0, 457.1 472.4 Q 457.1 477.0, 459.0 479.3 Q 460.9 481.7, 464.6 481.7 Q 467.2 481.7, 470.1 480.1 L 471.1 482.6 Q 469.9 483.4, 468.0 483.8 Q 466.2 484.3, 464.2 484.3 Q 459.1 484.3, 456.4 481.2 Q 453.8 478.2, 453.8 472.4 \" fill=\"#000000\"/>\n",
       "<path class=\"atom-9\" d=\"M 657.4 381.0 Q 661.5 381.0, 663.6 383.8 Q 665.7 386.5, 665.7 392.1 Q 665.7 398.2, 663.1 401.4 Q 660.6 404.6, 655.6 404.6 Q 654.2 404.6, 652.9 404.3 Q 651.7 403.9, 650.6 403.3 L 651.8 401.1 Q 653.5 402.0, 655.6 402.0 Q 658.9 402.0, 660.5 399.9 Q 662.2 397.8, 662.4 393.4 Q 661.2 394.5, 659.7 395.1 Q 658.2 395.6, 656.6 395.6 Q 654.6 395.6, 653.0 394.8 Q 651.4 393.9, 650.5 392.3 Q 649.6 390.7, 649.6 388.7 Q 649.6 386.4, 650.6 384.7 Q 651.6 382.9, 653.4 381.9 Q 655.2 381.0, 657.4 381.0 M 652.9 388.6 Q 652.9 390.7, 654.1 391.9 Q 655.2 393.0, 657.2 393.0 Q 658.6 393.0, 660.0 392.5 Q 661.4 391.9, 662.4 390.9 Q 662.3 387.1, 661.0 385.4 Q 659.8 383.6, 657.4 383.6 Q 656.1 383.6, 655.1 384.3 Q 654.1 384.9, 653.5 386.1 Q 652.9 387.2, 652.9 388.6 \" fill=\"#FF0000\"/>\n",
       "<path class=\"atom-9\" d=\"M 668.1 400.5 L 671.4 400.5 L 671.4 403.8 L 668.1 403.8 L 668.1 400.5 M 668.1 389.3 L 671.4 389.3 L 671.4 392.5 L 668.1 392.5 L 668.1 389.3 \" fill=\"#FF0000\"/>\n",
       "<path class=\"atom-9\" d=\"M 673.0 392.7 Q 673.0 387.2, 675.8 384.1 Q 678.5 381.0, 683.6 381.0 Q 688.8 381.0, 691.5 384.1 Q 694.3 387.2, 694.3 392.7 Q 694.3 398.3, 691.5 401.5 Q 688.7 404.7, 683.6 404.7 Q 678.5 404.7, 675.8 401.5 Q 673.0 398.4, 673.0 392.7 M 683.6 402.1 Q 687.2 402.1, 689.1 399.7 Q 691.0 397.3, 691.0 392.7 Q 691.0 388.2, 689.1 385.9 Q 687.2 383.6, 683.6 383.6 Q 680.1 383.6, 678.2 385.9 Q 676.3 388.1, 676.3 392.7 Q 676.3 397.4, 678.2 399.7 Q 680.1 402.1, 683.6 402.1 \" fill=\"#FF0000\"/>\n",
       "<path class=\"atom-10\" d=\"M 37.6 427.0 L 42.7 427.0 L 42.7 409.7 L 37.1 411.5 L 36.4 409.5 L 43.4 406.4 L 45.8 406.8 L 45.8 427.0 L 50.3 427.0 L 50.3 429.6 L 37.6 429.6 L 37.6 427.0 \" fill=\"#000000\"/>\n",
       "<path class=\"atom-10\" d=\"M 60.8 429.9 Q 56.5 429.9, 54.4 426.8 Q 52.3 423.6, 52.3 418.0 Q 52.3 412.5, 54.4 409.3 Q 56.5 406.2, 60.8 406.2 Q 65.0 406.2, 67.1 409.3 Q 69.2 412.5, 69.2 418.0 Q 69.2 423.6, 67.1 426.8 Q 65.0 429.9, 60.8 429.9 M 60.8 427.3 Q 63.3 427.3, 64.6 425.0 Q 65.9 422.6, 65.9 418.0 Q 65.9 413.5, 64.6 411.2 Q 63.3 408.9, 60.8 408.9 Q 58.3 408.9, 56.9 411.2 Q 55.6 413.5, 55.6 418.0 Q 55.6 422.6, 56.9 425.0 Q 58.3 427.3, 60.8 427.3 \" fill=\"#000000\"/>\n",
       "<path class=\"atom-10\" d=\"M 71.7 425.8 L 74.9 425.8 L 74.9 429.1 L 71.7 429.1 L 71.7 425.8 M 71.7 414.6 L 74.9 414.6 L 74.9 417.8 L 71.7 417.8 L 71.7 414.6 \" fill=\"#000000\"/>\n",
       "<path class=\"atom-10\" d=\"M 77.7 406.5 L 80.8 406.5 L 80.8 416.3 L 92.7 416.3 L 92.7 406.5 L 95.8 406.5 L 95.8 429.6 L 92.7 429.6 L 92.7 418.9 L 80.8 418.9 L 80.8 429.6 L 77.7 429.6 L 77.7 406.5 \" fill=\"#000000\"/>\n",
       "<path class=\"atom-11\" d=\"M 159.0 341.8 L 164.1 341.8 L 164.1 324.5 L 158.5 326.2 L 157.7 324.3 L 164.8 321.1 L 167.1 321.5 L 167.1 341.8 L 171.7 341.8 L 171.7 344.4 L 159.0 344.4 L 159.0 341.8 \" fill=\"#000000\"/>\n",
       "<path class=\"atom-11\" d=\"M 174.7 341.8 L 179.8 341.8 L 179.8 324.5 L 174.2 326.2 L 173.4 324.3 L 180.5 321.1 L 182.8 321.5 L 182.8 341.8 L 187.4 341.8 L 187.4 344.4 L 174.7 344.4 L 174.7 341.8 \" fill=\"#000000\"/>\n",
       "<path class=\"atom-11\" d=\"M 189.8 340.6 L 193.1 340.6 L 193.1 343.8 L 189.8 343.8 L 189.8 340.6 M 189.8 329.3 L 193.1 329.3 L 193.1 332.6 L 189.8 332.6 L 189.8 329.3 \" fill=\"#000000\"/>\n",
       "<path class=\"atom-11\" d=\"M 195.9 321.3 L 199.0 321.3 L 199.0 331.1 L 210.8 331.1 L 210.8 321.3 L 214.0 321.3 L 214.0 344.4 L 210.8 344.4 L 210.8 333.7 L 199.0 333.7 L 199.0 344.4 L 195.9 344.4 L 195.9 321.3 \" fill=\"#000000\"/>\n",
       "<path class=\"atom-12\" d=\"M 166.2 505.0 L 171.3 505.0 L 171.3 487.7 L 165.7 489.4 L 165.0 487.5 L 172.0 484.3 L 174.4 484.7 L 174.4 505.0 L 178.9 505.0 L 178.9 507.6 L 166.2 507.6 L 166.2 505.0 \" fill=\"#000000\"/>\n",
       "<path class=\"atom-12\" d=\"M 180.6 488.8 Q 181.4 486.6, 183.5 485.4 Q 185.5 484.2, 188.3 484.2 Q 191.8 484.2, 193.8 486.1 Q 195.7 488.0, 195.7 491.3 Q 195.7 494.8, 193.2 498.0 Q 190.7 501.2, 185.4 505.0 L 196.1 505.0 L 196.1 507.6 L 180.5 507.6 L 180.5 505.4 Q 184.8 502.3, 187.4 500.0 Q 190.0 497.7, 191.2 495.7 Q 192.4 493.6, 192.4 491.5 Q 192.4 489.3, 191.3 488.0 Q 190.2 486.8, 188.3 486.8 Q 186.4 486.8, 185.2 487.6 Q 184.0 488.3, 183.1 490.0 L 180.6 488.8 \" fill=\"#000000\"/>\n",
       "<path class=\"atom-12\" d=\"M 198.6 503.8 L 201.8 503.8 L 201.8 507.0 L 198.6 507.0 L 198.6 503.8 M 198.6 492.5 L 201.8 492.5 L 201.8 495.8 L 198.6 495.8 L 198.6 492.5 \" fill=\"#000000\"/>\n",
       "<path class=\"atom-12\" d=\"M 204.6 484.5 L 207.7 484.5 L 207.7 494.3 L 219.6 494.3 L 219.6 484.5 L 222.7 484.5 L 222.7 507.6 L 219.6 507.6 L 219.6 496.9 L 207.7 496.9 L 207.7 507.6 L 204.6 507.6 L 204.6 484.5 \" fill=\"#000000\"/>\n",
       "<path class=\"atom-13\" d=\"M 240.6 338.2 L 245.6 338.2 L 245.6 321.0 L 240.0 322.7 L 239.3 320.8 L 246.4 317.6 L 248.7 318.0 L 248.7 338.2 L 253.2 338.2 L 253.2 340.8 L 240.6 340.8 L 240.6 338.2 \" fill=\"#000000\"/>\n",
       "<path class=\"atom-13\" d=\"M 265.7 328.7 Q 268.0 329.3, 269.0 330.8 Q 270.1 332.2, 270.1 334.5 Q 270.1 336.5, 269.2 338.0 Q 268.2 339.5, 266.4 340.4 Q 264.6 341.2, 262.2 341.2 Q 259.8 341.2, 257.9 340.3 Q 256.1 339.4, 254.6 337.7 L 256.5 335.8 Q 257.9 337.3, 259.1 338.0 Q 260.3 338.6, 262.2 338.6 Q 264.3 338.6, 265.6 337.4 Q 266.9 336.3, 266.9 334.5 Q 266.9 332.1, 265.5 331.1 Q 264.2 330.0, 261.4 330.0 L 259.7 330.0 L 259.7 327.6 L 261.2 327.6 Q 263.7 327.6, 265.0 326.5 Q 266.4 325.4, 266.4 323.4 Q 266.4 321.9, 265.3 321.0 Q 264.2 320.1, 262.3 320.1 Q 260.3 320.1, 259.1 320.8 Q 258.0 321.4, 257.0 323.2 L 254.8 322.0 Q 255.6 320.0, 257.6 318.8 Q 259.5 317.5, 262.3 317.5 Q 265.7 317.5, 267.7 319.1 Q 269.7 320.7, 269.7 323.4 Q 269.7 325.2, 268.6 326.6 Q 267.6 327.9, 265.7 328.7 \" fill=\"#000000\"/>\n",
       "<path class=\"atom-13\" d=\"M 272.6 337.0 L 275.9 337.0 L 275.9 340.3 L 272.6 340.3 L 272.6 337.0 M 272.6 325.8 L 275.9 325.8 L 275.9 329.1 L 272.6 329.1 L 272.6 325.8 \" fill=\"#000000\"/>\n",
       "<path class=\"atom-13\" d=\"M 278.6 317.7 L 281.8 317.7 L 281.8 327.6 L 293.6 327.6 L 293.6 317.7 L 296.7 317.7 L 296.7 340.8 L 293.6 340.8 L 293.6 330.2 L 281.8 330.2 L 281.8 340.8 L 278.6 340.8 L 278.6 317.7 \" fill=\"#000000\"/>\n",
       "<path class=\"atom-14\" d=\"M 247.8 501.3 L 252.8 501.3 L 252.8 484.0 L 247.3 485.7 L 246.5 483.8 L 253.6 480.6 L 255.9 481.0 L 255.9 501.3 L 260.5 501.3 L 260.5 503.9 L 247.8 503.9 L 247.8 501.3 \" fill=\"#000000\"/>\n",
       "<path class=\"atom-14\" d=\"M 276.5 496.0 L 279.2 496.0 L 279.2 498.6 L 276.5 498.6 L 276.5 503.9 L 273.4 503.9 L 273.4 498.6 L 261.4 498.6 L 261.4 496.5 L 271.6 480.8 L 276.5 480.8 L 276.5 496.0 M 265.2 496.0 L 273.4 496.0 L 273.4 482.9 L 265.2 496.0 \" fill=\"#000000\"/>\n",
       "<path class=\"atom-14\" d=\"M 281.7 500.1 L 284.9 500.1 L 284.9 503.3 L 281.7 503.3 L 281.7 500.1 M 281.7 488.8 L 284.9 488.8 L 284.9 492.1 L 281.7 492.1 L 281.7 488.8 \" fill=\"#000000\"/>\n",
       "<path class=\"atom-14\" d=\"M 287.7 480.8 L 290.9 480.8 L 290.9 490.6 L 302.7 490.6 L 302.7 480.8 L 305.8 480.8 L 305.8 503.9 L 302.7 503.9 L 302.7 493.2 L 290.9 493.2 L 290.9 503.9 L 287.7 503.9 L 287.7 480.8 \" fill=\"#000000\"/>\n",
       "<path class=\"atom-15\" d=\"M 322.1 334.5 L 327.2 334.5 L 327.2 317.3 L 321.6 319.0 L 320.8 317.1 L 327.9 313.9 L 330.2 314.3 L 330.2 334.5 L 334.8 334.5 L 334.8 337.2 L 322.1 337.2 L 322.1 334.5 \" fill=\"#000000\"/>\n",
       "<path class=\"atom-15\" d=\"M 344.7 322.7 Q 346.7 322.7, 348.4 323.6 Q 350.0 324.4, 351.0 326.1 Q 351.9 327.7, 351.9 329.8 Q 351.9 332.2, 350.8 334.0 Q 349.6 335.7, 347.7 336.5 Q 345.8 337.4, 343.7 337.4 Q 341.5 337.4, 339.6 336.6 Q 337.6 335.9, 336.3 334.4 L 338.2 332.3 Q 339.3 333.5, 340.8 334.2 Q 342.3 334.8, 343.8 334.8 Q 345.8 334.8, 347.2 333.5 Q 348.7 332.2, 348.7 329.9 Q 348.7 327.5, 347.2 326.3 Q 345.8 325.1, 343.6 325.1 Q 341.5 325.1, 339.3 326.0 L 337.5 325.2 L 338.6 314.0 L 350.5 314.0 L 350.2 316.7 L 341.3 316.7 L 340.6 323.5 Q 342.7 322.7, 344.7 322.7 \" fill=\"#000000\"/>\n",
       "<path class=\"atom-15\" d=\"M 354.4 333.3 L 357.6 333.3 L 357.6 336.6 L 354.4 336.6 L 354.4 333.3 M 354.4 322.1 L 357.6 322.1 L 357.6 325.4 L 354.4 325.4 L 354.4 322.1 \" fill=\"#000000\"/>\n",
       "<path class=\"atom-15\" d=\"M 360.4 314.0 L 363.6 314.0 L 363.6 323.9 L 375.4 323.9 L 375.4 314.0 L 378.5 314.0 L 378.5 337.2 L 375.4 337.2 L 375.4 326.5 L 363.6 326.5 L 363.6 337.2 L 360.4 337.2 L 360.4 314.0 \" fill=\"#000000\"/>\n",
       "<path class=\"atom-16\" d=\"M 329.3 497.7 L 334.4 497.7 L 334.4 480.5 L 328.8 482.2 L 328.1 480.3 L 335.2 477.1 L 337.5 477.5 L 337.5 497.7 L 342.0 497.7 L 342.0 500.3 L 329.3 500.3 L 329.3 497.7 \" fill=\"#000000\"/>\n",
       "<path class=\"atom-16\" d=\"M 353.3 485.9 Q 355.3 485.9, 356.9 486.8 Q 358.5 487.7, 359.4 489.3 Q 360.3 490.9, 360.3 492.9 Q 360.3 495.2, 359.3 496.9 Q 358.3 498.6, 356.5 499.6 Q 354.7 500.6, 352.5 500.6 Q 348.4 500.6, 346.3 497.8 Q 344.2 495.0, 344.2 489.5 Q 344.2 483.3, 346.8 480.2 Q 349.4 477.0, 354.3 477.0 Q 355.7 477.0, 356.9 477.3 Q 358.2 477.6, 359.4 478.3 L 358.1 480.5 Q 356.4 479.6, 354.3 479.6 Q 351.1 479.6, 349.4 481.7 Q 347.7 483.8, 347.5 488.1 Q 348.7 487.1, 350.2 486.5 Q 351.7 485.9, 353.3 485.9 M 352.5 497.9 Q 353.8 497.9, 354.8 497.3 Q 355.8 496.6, 356.4 495.5 Q 357.0 494.3, 357.0 492.9 Q 357.0 490.9, 355.9 489.7 Q 354.7 488.5, 352.7 488.5 Q 351.3 488.5, 349.9 489.1 Q 348.5 489.7, 347.5 490.6 Q 347.7 494.5, 348.9 496.2 Q 350.1 497.9, 352.5 497.9 \" fill=\"#000000\"/>\n",
       "<path class=\"atom-16\" d=\"M 362.7 496.5 L 366.0 496.5 L 366.0 499.8 L 362.7 499.8 L 362.7 496.5 M 362.7 485.3 L 366.0 485.3 L 366.0 488.6 L 362.7 488.6 L 362.7 485.3 \" fill=\"#000000\"/>\n",
       "<path class=\"atom-16\" d=\"M 368.8 477.2 L 371.9 477.2 L 371.9 487.1 L 383.7 487.1 L 383.7 477.2 L 386.9 477.2 L 386.9 500.3 L 383.7 500.3 L 383.7 489.7 L 371.9 489.7 L 371.9 500.3 L 368.8 500.3 L 368.8 477.2 \" fill=\"#000000\"/>\n",
       "<path class=\"atom-17\" d=\"M 360.6 271.2 L 365.6 271.2 L 365.6 254.0 L 360.1 255.7 L 359.3 253.8 L 366.4 250.6 L 368.7 251.0 L 368.7 271.2 L 373.3 271.2 L 373.3 273.8 L 360.6 273.8 L 360.6 271.2 \" fill=\"#000000\"/>\n",
       "<path class=\"atom-17\" d=\"M 386.0 253.3 L 373.8 253.3 L 373.8 250.7 L 389.2 250.7 L 389.2 253.0 L 379.9 273.8 L 376.7 273.8 L 386.0 253.3 \" fill=\"#000000\"/>\n",
       "<path class=\"atom-17\" d=\"M 391.6 270.0 L 394.9 270.0 L 394.9 273.3 L 391.6 273.3 L 391.6 270.0 M 391.6 258.8 L 394.9 258.8 L 394.9 262.1 L 391.6 262.1 L 391.6 258.8 \" fill=\"#000000\"/>\n",
       "<path class=\"atom-17\" d=\"M 397.7 250.7 L 400.8 250.7 L 400.8 260.6 L 412.6 260.6 L 412.6 250.7 L 415.8 250.7 L 415.8 273.8 L 412.6 273.8 L 412.6 263.2 L 400.8 263.2 L 400.8 273.8 L 397.7 273.8 L 397.7 250.7 \" fill=\"#000000\"/>\n",
       "<path class=\"atom-18\" d=\"M 564.1 264.1 L 569.2 264.1 L 569.2 246.8 L 563.6 248.5 L 562.9 246.6 L 570.0 243.4 L 572.3 243.8 L 572.3 264.1 L 576.8 264.1 L 576.8 266.7 L 564.1 266.7 L 564.1 264.1 \" fill=\"#000000\"/>\n",
       "<path class=\"atom-18\" d=\"M 590.6 254.4 Q 592.8 255.4, 594.0 256.7 Q 595.2 258.1, 595.2 260.3 Q 595.2 262.3, 594.2 263.8 Q 593.1 265.3, 591.3 266.2 Q 589.5 267.0, 587.1 267.0 Q 583.3 267.0, 581.1 265.2 Q 578.8 263.4, 578.8 260.3 Q 578.8 258.5, 579.8 257.0 Q 580.8 255.6, 582.8 254.5 Q 581.3 253.7, 580.5 252.4 Q 579.7 251.2, 579.7 249.2 Q 579.7 246.5, 581.7 244.9 Q 583.6 243.3, 587.0 243.3 Q 590.4 243.3, 592.3 244.9 Q 594.3 246.5, 594.3 249.2 Q 594.3 250.9, 593.4 252.2 Q 592.5 253.4, 590.6 254.4 M 587.0 245.7 Q 585.1 245.7, 584.0 246.7 Q 583.0 247.6, 583.0 249.2 Q 583.0 250.4, 583.7 251.2 Q 584.4 252.0, 585.4 252.5 Q 586.5 252.9, 588.4 253.6 Q 589.8 252.6, 590.4 251.6 Q 591.1 250.6, 591.1 249.2 Q 591.1 247.6, 590.0 246.7 Q 588.9 245.7, 587.0 245.7 M 587.1 264.6 Q 589.3 264.6, 590.6 263.4 Q 591.9 262.2, 591.9 260.3 Q 591.9 259.1, 591.2 258.3 Q 590.5 257.5, 589.5 257.0 Q 588.5 256.6, 586.6 256.0 L 585.2 255.5 Q 583.5 256.5, 582.8 257.7 Q 582.1 258.8, 582.1 260.3 Q 582.1 262.2, 583.5 263.4 Q 584.9 264.6, 587.1 264.6 \" fill=\"#000000\"/>\n",
       "<path class=\"atom-18\" d=\"M 597.6 262.9 L 600.9 262.9 L 600.9 266.1 L 597.6 266.1 L 597.6 262.9 M 597.6 251.6 L 600.9 251.6 L 600.9 254.9 L 597.6 254.9 L 597.6 251.6 \" fill=\"#000000\"/>\n",
       "<path class=\"atom-18\" d=\"M 603.7 243.6 L 606.8 243.6 L 606.8 253.4 L 618.6 253.4 L 618.6 243.6 L 621.8 243.6 L 621.8 266.7 L 618.6 266.7 L 618.6 256.0 L 606.8 256.0 L 606.8 266.7 L 603.7 266.7 L 603.7 243.6 \" fill=\"#000000\"/>\n",
       "<path class=\"atom-19\" d=\"M 576.7 546.6 L 581.7 546.6 L 581.7 529.3 L 576.1 531.1 L 575.4 529.1 L 582.5 526.0 L 584.8 526.4 L 584.8 546.6 L 589.3 546.6 L 589.3 549.2 L 576.7 549.2 L 576.7 546.6 \" fill=\"#000000\"/>\n",
       "<path class=\"atom-19\" d=\"M 598.9 525.8 Q 603.0 525.8, 605.1 528.6 Q 607.2 531.4, 607.2 537.0 Q 607.2 543.1, 604.6 546.3 Q 602.0 549.5, 597.1 549.5 Q 595.7 549.5, 594.4 549.1 Q 593.2 548.8, 592.0 548.1 L 593.3 545.9 Q 595.0 546.9, 597.1 546.9 Q 600.3 546.9, 602.0 544.8 Q 603.7 542.6, 603.9 538.3 Q 602.7 539.4, 601.2 540.0 Q 599.7 540.5, 598.1 540.5 Q 596.1 540.5, 594.5 539.6 Q 592.9 538.8, 592.0 537.2 Q 591.1 535.6, 591.1 533.5 Q 591.1 531.3, 592.1 529.6 Q 593.1 527.8, 594.9 526.8 Q 596.7 525.8, 598.9 525.8 M 594.4 533.5 Q 594.4 535.6, 595.5 536.7 Q 596.7 537.9, 598.7 537.9 Q 600.1 537.9, 601.5 537.4 Q 602.9 536.8, 603.9 535.8 Q 603.7 532.0, 602.5 530.2 Q 601.3 528.5, 598.9 528.5 Q 597.6 528.5, 596.6 529.2 Q 595.6 529.8, 595.0 531.0 Q 594.4 532.1, 594.4 533.5 \" fill=\"#000000\"/>\n",
       "<path class=\"atom-19\" d=\"M 609.6 545.4 L 612.9 545.4 L 612.9 548.7 L 609.6 548.7 L 609.6 545.4 M 609.6 534.2 L 612.9 534.2 L 612.9 537.4 L 609.6 537.4 L 609.6 534.2 \" fill=\"#000000\"/>\n",
       "<path class=\"atom-19\" d=\"M 615.7 526.1 L 618.8 526.1 L 618.8 535.9 L 630.6 535.9 L 630.6 526.1 L 633.7 526.1 L 633.7 549.2 L 630.6 549.2 L 630.6 538.5 L 618.8 538.5 L 618.8 549.2 L 615.7 549.2 L 615.7 526.1 \" fill=\"#000000\"/>\n",
       "<path class=\"atom-20\" d=\"M 367.3 537.7 Q 368.1 535.5, 370.2 534.3 Q 372.2 533.1, 375.0 533.1 Q 378.5 533.1, 380.5 535.0 Q 382.4 536.8, 382.4 540.2 Q 382.4 543.6, 379.9 546.8 Q 377.3 550.0, 372.1 553.8 L 382.8 553.8 L 382.8 556.4 L 367.2 556.4 L 367.2 554.3 Q 371.5 551.2, 374.1 548.9 Q 376.7 546.6, 377.9 544.6 Q 379.1 542.5, 379.1 540.4 Q 379.1 538.2, 378.0 536.9 Q 376.9 535.7, 375.0 535.7 Q 373.1 535.7, 371.9 536.4 Q 370.7 537.2, 369.8 538.8 L 367.3 537.7 \" fill=\"#000000\"/>\n",
       "<path class=\"atom-20\" d=\"M 393.3 556.7 Q 389.0 556.7, 386.9 553.6 Q 384.8 550.4, 384.8 544.8 Q 384.8 539.3, 386.9 536.2 Q 389.0 533.1, 393.3 533.1 Q 397.5 533.1, 399.6 536.2 Q 401.7 539.3, 401.7 544.8 Q 401.7 550.4, 399.6 553.6 Q 397.5 556.7, 393.3 556.7 M 393.3 554.1 Q 395.8 554.1, 397.1 551.8 Q 398.4 549.4, 398.4 544.8 Q 398.4 540.3, 397.1 538.0 Q 395.8 535.7, 393.3 535.7 Q 390.8 535.7, 389.4 538.0 Q 388.1 540.3, 388.1 544.8 Q 388.1 549.4, 389.4 551.8 Q 390.8 554.1, 393.3 554.1 \" fill=\"#000000\"/>\n",
       "<path class=\"atom-20\" d=\"M 404.2 552.6 L 407.4 552.6 L 407.4 555.9 L 404.2 555.9 L 404.2 552.6 M 404.2 541.4 L 407.4 541.4 L 407.4 544.6 L 404.2 544.6 L 404.2 541.4 \" fill=\"#000000\"/>\n",
       "<path class=\"atom-20\" d=\"M 410.2 533.3 L 413.3 533.3 L 413.3 543.1 L 425.2 543.1 L 425.2 533.3 L 428.3 533.3 L 428.3 556.4 L 425.2 556.4 L 425.2 545.8 L 413.3 545.8 L 413.3 556.4 L 410.2 556.4 L 410.2 533.3 \" fill=\"#000000\"/>\n",
       "<path class=\"atom-21\" d=\"M 693.9 454.4 Q 694.7 452.2, 696.7 451.0 Q 698.7 449.8, 701.6 449.8 Q 705.1 449.8, 707.0 451.7 Q 709.0 453.6, 709.0 456.9 Q 709.0 460.4, 706.4 463.6 Q 703.9 466.8, 698.7 470.5 L 709.4 470.5 L 709.4 473.2 L 693.8 473.2 L 693.8 471.0 Q 698.1 467.9, 700.6 465.6 Q 703.2 463.3, 704.5 461.3 Q 705.7 459.2, 705.7 457.1 Q 705.7 454.9, 704.6 453.6 Q 703.5 452.4, 701.6 452.4 Q 699.7 452.4, 698.5 453.1 Q 697.2 453.9, 696.3 455.6 L 693.9 454.4 \" fill=\"#000000\"/>\n",
       "<path class=\"atom-21\" d=\"M 712.4 470.5 L 717.5 470.5 L 717.5 453.3 L 711.9 455.0 L 711.1 453.1 L 718.2 449.9 L 720.5 450.3 L 720.5 470.5 L 725.1 470.5 L 725.1 473.2 L 712.4 473.2 L 712.4 470.5 \" fill=\"#000000\"/>\n",
       "<path class=\"atom-21\" d=\"M 727.5 469.3 L 730.8 469.3 L 730.8 472.6 L 727.5 472.6 L 727.5 469.3 M 727.5 458.1 L 730.8 458.1 L 730.8 461.4 L 727.5 461.4 L 727.5 458.1 \" fill=\"#000000\"/>\n",
       "<path class=\"atom-21\" d=\"M 733.6 450.0 L 736.7 450.0 L 736.7 459.9 L 748.5 459.9 L 748.5 450.0 L 751.7 450.0 L 751.7 473.2 L 748.5 473.2 L 748.5 462.5 L 736.7 462.5 L 736.7 473.2 L 733.6 473.2 L 733.6 450.0 \" fill=\"#000000\"/>\n",
       "<path class=\"note\" d=\"M 183.8 398.8 L 186.4 398.8 L 186.4 390.1 L 183.6 391.0 L 183.2 390.0 L 186.7 388.4 L 187.9 388.6 L 187.9 398.8 L 190.2 398.8 L 190.2 400.1 L 183.8 400.1 L 183.8 398.8 \" fill=\"#000000\"/>\n",
       "<path class=\"note\" d=\"M 225.9 388.8 Q 226.4 387.7, 227.4 387.1 Q 228.4 386.5, 229.8 386.5 Q 231.5 386.5, 232.5 387.4 Q 233.5 388.4, 233.5 390.1 Q 233.5 391.8, 232.2 393.4 Q 231.0 395.0, 228.3 396.9 L 233.7 396.9 L 233.7 398.2 L 225.9 398.2 L 225.9 397.1 Q 228.1 395.6, 229.3 394.4 Q 230.6 393.3, 231.2 392.2 Q 231.9 391.2, 231.9 390.1 Q 231.9 389.0, 231.3 388.4 Q 230.7 387.8, 229.8 387.8 Q 228.9 387.8, 228.2 388.2 Q 227.6 388.5, 227.2 389.4 L 225.9 388.8 \" fill=\"#000000\"/>\n",
       "<path class=\"note\" d=\"M 313.0 388.5 Q 314.1 388.8, 314.7 389.5 Q 315.2 390.3, 315.2 391.4 Q 315.2 392.4, 314.7 393.1 Q 314.3 393.9, 313.4 394.3 Q 312.5 394.7, 311.3 394.7 Q 310.0 394.7, 309.1 394.3 Q 308.2 393.9, 307.5 393.0 L 308.4 392.0 Q 309.1 392.8, 309.7 393.1 Q 310.3 393.4, 311.3 393.4 Q 312.3 393.4, 313.0 392.9 Q 313.6 392.3, 313.6 391.4 Q 313.6 390.2, 312.9 389.7 Q 312.3 389.1, 310.9 389.1 L 310.0 389.1 L 310.0 388.0 L 310.8 388.0 Q 312.0 388.0, 312.7 387.4 Q 313.4 386.9, 313.4 385.8 Q 313.4 385.1, 312.8 384.6 Q 312.3 384.2, 311.3 384.2 Q 310.3 384.2, 309.7 384.5 Q 309.1 384.9, 308.7 385.7 L 307.6 385.1 Q 308.0 384.2, 309.0 383.5 Q 309.9 382.9, 311.3 382.9 Q 313.0 382.9, 314.0 383.7 Q 315.0 384.5, 315.0 385.8 Q 315.0 386.8, 314.5 387.4 Q 314.0 388.1, 313.0 388.5 \" fill=\"#000000\"/>\n",
       "<path class=\"note\" d=\"M 401.4 382.4 L 402.8 382.4 L 402.8 383.7 L 401.4 383.7 L 401.4 386.3 L 399.9 386.3 L 399.9 383.7 L 393.9 383.7 L 393.9 382.6 L 399.0 374.8 L 401.4 374.8 L 401.4 382.4 M 395.8 382.4 L 399.9 382.4 L 399.9 375.8 L 395.8 382.4 \" fill=\"#000000\"/>\n",
       "<path class=\"note\" d=\"M 465.8 352.6 Q 466.8 352.6, 467.6 353.1 Q 468.4 353.5, 468.8 354.3 Q 469.3 355.1, 469.3 356.1 Q 469.3 357.2, 468.8 358.1 Q 468.3 359.0, 467.4 359.5 Q 466.5 360.0, 465.4 360.0 Q 463.3 360.0, 462.3 358.6 Q 461.3 357.2, 461.3 354.4 Q 461.3 351.3, 462.5 349.7 Q 463.8 348.1, 466.3 348.1 Q 467.0 348.1, 467.6 348.3 Q 468.2 348.5, 468.8 348.8 L 468.2 349.9 Q 467.3 349.4, 466.3 349.4 Q 464.7 349.4, 463.8 350.5 Q 463.0 351.6, 462.9 353.7 Q 463.5 353.2, 464.2 352.9 Q 465.0 352.6, 465.8 352.6 M 465.4 358.6 Q 466.0 358.6, 466.5 358.3 Q 467.1 358.0, 467.4 357.4 Q 467.7 356.8, 467.7 356.1 Q 467.7 355.1, 467.1 354.5 Q 466.5 353.9, 465.5 353.9 Q 464.8 353.9, 464.1 354.2 Q 463.4 354.5, 462.9 355.0 Q 463.0 356.9, 463.6 357.8 Q 464.2 358.6, 465.4 358.6 \" fill=\"#000000\"/>\n",
       "<path class=\"note\" d=\"M 521.5 351.3 Q 522.5 351.8, 523.1 352.4 Q 523.7 353.1, 523.7 354.3 Q 523.7 355.2, 523.2 356.0 Q 522.7 356.8, 521.8 357.2 Q 520.9 357.6, 519.7 357.6 Q 517.8 357.6, 516.7 356.7 Q 515.6 355.8, 515.6 354.3 Q 515.6 353.3, 516.1 352.6 Q 516.5 351.9, 517.6 351.3 Q 516.8 350.9, 516.4 350.3 Q 516.0 349.7, 516.0 348.7 Q 516.0 347.3, 517.0 346.5 Q 518.0 345.7, 519.6 345.7 Q 521.3 345.7, 522.3 346.5 Q 523.3 347.3, 523.3 348.7 Q 523.3 349.5, 522.8 350.2 Q 522.4 350.8, 521.5 351.3 M 519.6 347.0 Q 518.7 347.0, 518.1 347.4 Q 517.6 347.9, 517.6 348.7 Q 517.6 349.3, 518.0 349.7 Q 518.3 350.1, 518.8 350.3 Q 519.4 350.5, 520.4 350.9 Q 521.1 350.4, 521.4 349.9 Q 521.7 349.4, 521.7 348.7 Q 521.7 347.9, 521.1 347.4 Q 520.6 347.0, 519.6 347.0 M 519.7 356.4 Q 520.8 356.4, 521.4 355.8 Q 522.1 355.2, 522.1 354.2 Q 522.1 353.6, 521.8 353.2 Q 521.4 352.8, 520.9 352.6 Q 520.4 352.4, 519.5 352.1 L 518.7 351.8 Q 517.9 352.3, 517.6 352.9 Q 517.2 353.5, 517.2 354.2 Q 517.2 355.2, 517.9 355.8 Q 518.6 356.4, 519.7 356.4 \" fill=\"#000000\"/>\n",
       "<path class=\"note\" d=\"M 548.8 391.6 Q 550.9 391.6, 551.9 393.0 Q 552.9 394.4, 552.9 397.2 Q 552.9 400.3, 551.6 401.9 Q 550.4 403.4, 547.9 403.4 Q 547.2 403.4, 546.6 403.3 Q 546.0 403.1, 545.4 402.8 L 546.0 401.7 Q 546.9 402.1, 547.9 402.1 Q 549.5 402.1, 550.3 401.1 Q 551.2 400.0, 551.3 397.9 Q 550.7 398.4, 549.9 398.7 Q 549.2 399.0, 548.4 399.0 Q 547.4 399.0, 546.6 398.5 Q 545.8 398.1, 545.4 397.3 Q 544.9 396.5, 544.9 395.5 Q 544.9 394.3, 545.4 393.5 Q 545.9 392.6, 546.8 392.1 Q 547.7 391.6, 548.8 391.6 M 546.5 395.5 Q 546.5 396.5, 547.1 397.1 Q 547.7 397.7, 548.7 397.7 Q 549.4 397.7, 550.1 397.4 Q 550.8 397.1, 551.3 396.6 Q 551.2 394.7, 550.6 393.8 Q 550.0 393.0, 548.8 393.0 Q 548.2 393.0, 547.6 393.3 Q 547.1 393.6, 546.8 394.2 Q 546.5 394.8, 546.5 395.5 \" fill=\"#000000\"/>\n",
       "<path class=\"note\" d=\"M 526.0 441.3 L 520.0 441.3 L 520.0 440.0 L 527.7 440.0 L 527.7 441.1 L 523.0 451.5 L 521.4 451.5 L 526.0 441.3 \" fill=\"#000000\"/>\n",
       "<path class=\"note\" d=\"M 469.7 446.7 Q 470.7 446.7, 471.6 447.1 Q 472.4 447.6, 472.9 448.4 Q 473.4 449.2, 473.4 450.3 Q 473.4 451.5, 472.8 452.3 Q 472.2 453.2, 471.3 453.6 Q 470.3 454.1, 469.2 454.1 Q 468.2 454.1, 467.2 453.7 Q 466.2 453.3, 465.5 452.5 L 466.5 451.5 Q 467.1 452.1, 467.8 452.4 Q 468.5 452.8, 469.3 452.8 Q 470.3 452.8, 471.0 452.1 Q 471.7 451.5, 471.7 450.3 Q 471.7 449.1, 471.0 448.5 Q 470.3 447.9, 469.2 447.9 Q 468.2 447.9, 467.0 448.4 L 466.1 447.9 L 466.7 442.4 L 472.6 442.4 L 472.5 443.7 L 468.0 443.7 L 467.7 447.1 Q 468.7 446.7, 469.7 446.7 \" fill=\"#000000\"/>\n",
       "</svg>"
      ],
      "text/plain": [
       "<IPython.core.display.SVG object>"
      ]
     },
     "execution_count": 31,
     "metadata": {},
     "output_type": "execute_result"
    }
   ],
   "source": [
    "svmol1new = visualizations._show_common_core_gradient( mol1, hit_ats1, order1new, percomponent = True, numbers = True)                   \n",
    "SVG(svmol1new)"
   ]
  },
  {
   "cell_type": "code",
   "execution_count": 32,
   "id": "df5297e1",
   "metadata": {},
   "outputs": [
    {
     "data": {
      "image/svg+xml": [
       "<svg xmlns=\"http://www.w3.org/2000/svg\" xmlns:rdkit=\"http://www.rdkit.org/xml\" xmlns:xlink=\"http://www.w3.org/1999/xlink\" version=\"1.1\" baseProfile=\"full\" xml:space=\"preserve\" width=\"800px\" height=\"800px\" viewBox=\"0 0 800 800\">\n",
       "<!-- END OF HEADER -->\n",
       "<rect style=\"opacity:1.0;fill:#FFFFFF;stroke:none\" width=\"800.0\" height=\"800.0\" x=\"0.0\" y=\"0.0\"> </rect>\n",
       "<path d=\"M 168.3,414.3 L 249.9,410.7\" style=\"fill:none;fill-rule:evenodd;stroke:#CCCCCC;stroke-width:17.4px;stroke-linecap:butt;stroke-linejoin:miter;stroke-opacity:1\"/>\n",
       "<path d=\"M 249.9,410.7 L 331.4,407.1\" style=\"fill:none;fill-rule:evenodd;stroke:#CCCCCC;stroke-width:17.4px;stroke-linecap:butt;stroke-linejoin:miter;stroke-opacity:1\"/>\n",
       "<path d=\"M 331.4,407.1 L 413.0,403.5\" style=\"fill:none;fill-rule:evenodd;stroke:#CCCCCC;stroke-width:17.4px;stroke-linecap:butt;stroke-linejoin:miter;stroke-opacity:1\"/>\n",
       "<path d=\"M 413.0,403.5 L 450.6,331.0\" style=\"fill:none;fill-rule:evenodd;stroke:#CCCCCC;stroke-width:17.4px;stroke-linecap:butt;stroke-linejoin:miter;stroke-opacity:1\"/>\n",
       "<path d=\"M 413.0,403.5 L 456.9,472.3\" style=\"fill:none;fill-rule:evenodd;stroke:#CCCCCC;stroke-width:17.4px;stroke-linecap:butt;stroke-linejoin:miter;stroke-opacity:1\"/>\n",
       "<path d=\"M 450.6,331.0 L 532.2,327.4\" style=\"fill:none;fill-rule:evenodd;stroke:#CCCCCC;stroke-width:17.4px;stroke-linecap:butt;stroke-linejoin:miter;stroke-opacity:1\"/>\n",
       "<path d=\"M 532.2,327.4 L 576.1,396.3\" style=\"fill:none;fill-rule:evenodd;stroke:#CCCCCC;stroke-width:17.4px;stroke-linecap:butt;stroke-linejoin:miter;stroke-opacity:1\"/>\n",
       "<path d=\"M 576.1,396.3 L 538.5,468.7\" style=\"fill:none;fill-rule:evenodd;stroke:#CCCCCC;stroke-width:17.4px;stroke-linecap:butt;stroke-linejoin:miter;stroke-opacity:1\"/>\n",
       "<path d=\"M 576.1,396.3 L 657.7,392.6\" style=\"fill:none;fill-rule:evenodd;stroke:#CCCCCC;stroke-width:17.4px;stroke-linecap:butt;stroke-linejoin:miter;stroke-opacity:1\"/>\n",
       "<path d=\"M 538.5,468.7 L 456.9,472.3\" style=\"fill:none;fill-rule:evenodd;stroke:#CCCCCC;stroke-width:17.4px;stroke-linecap:butt;stroke-linejoin:miter;stroke-opacity:1\"/>\n",
       "<path d=\"M 657.7,392.6 L 701.6,461.5\" style=\"fill:none;fill-rule:evenodd;stroke:#CCCCCC;stroke-width:17.4px;stroke-linecap:butt;stroke-linejoin:miter;stroke-opacity:1\"/>\n",
       "<ellipse cx=\"162.0\" cy=\"414.5\" rx=\"29.8\" ry=\"16.7\" style=\"fill:#FF0000;fill-rule:evenodd;stroke:#FF0000;stroke-width:1.0px;stroke-linecap:butt;stroke-linejoin:miter;stroke-opacity:1\"/>\n",
       "<ellipse cx=\"244.8\" cy=\"410.9\" rx=\"27.7\" ry=\"16.7\" style=\"fill:#FF3F00;fill-rule:evenodd;stroke:#FF3F00;stroke-width:1.0px;stroke-linecap:butt;stroke-linejoin:miter;stroke-opacity:1\"/>\n",
       "<ellipse cx=\"325.6\" cy=\"407.2\" rx=\"28.8\" ry=\"16.7\" style=\"fill:#FF7F00;fill-rule:evenodd;stroke:#FF7F00;stroke-width:1.0px;stroke-linecap:butt;stroke-linejoin:miter;stroke-opacity:1\"/>\n",
       "<ellipse cx=\"407.1\" cy=\"403.6\" rx=\"28.8\" ry=\"16.8\" style=\"fill:#FFBF00;fill-rule:evenodd;stroke:#FFBF00;stroke-width:1.0px;stroke-linecap:butt;stroke-linejoin:miter;stroke-opacity:1\"/>\n",
       "<ellipse cx=\"443.8\" cy=\"331.2\" rx=\"30.4\" ry=\"16.7\" style=\"fill:#BFFF00;fill-rule:evenodd;stroke:#BFFF00;stroke-width:1.0px;stroke-linecap:butt;stroke-linejoin:miter;stroke-opacity:1\"/>\n",
       "<ellipse cx=\"526.3\" cy=\"327.6\" rx=\"28.9\" ry=\"16.7\" style=\"fill:#3FFF00;fill-rule:evenodd;stroke:#3FFF00;stroke-width:1.0px;stroke-linecap:butt;stroke-linejoin:miter;stroke-opacity:1\"/>\n",
       "<ellipse cx=\"570.2\" cy=\"396.4\" rx=\"29.1\" ry=\"16.7\" style=\"fill:#00FF00;fill-rule:evenodd;stroke:#00FF00;stroke-width:1.0px;stroke-linecap:butt;stroke-linejoin:miter;stroke-opacity:1\"/>\n",
       "<ellipse cx=\"532.6\" cy=\"468.8\" rx=\"28.7\" ry=\"16.7\" style=\"fill:#7FFF00;fill-rule:evenodd;stroke:#7FFF00;stroke-width:1.0px;stroke-linecap:butt;stroke-linejoin:miter;stroke-opacity:1\"/>\n",
       "<ellipse cx=\"450.8\" cy=\"472.5\" rx=\"29.3\" ry=\"16.8\" style=\"fill:#FFFF00;fill-rule:evenodd;stroke:#FFFF00;stroke-width:1.0px;stroke-linecap:butt;stroke-linejoin:miter;stroke-opacity:1\"/>\n",
       "<ellipse cx=\"672.0\" cy=\"392.8\" rx=\"31.5\" ry=\"16.8\" style=\"fill:#002600;fill-rule:evenodd;stroke:#002600;stroke-width:1.0px;stroke-linecap:butt;stroke-linejoin:miter;stroke-opacity:1\"/>\n",
       "<ellipse cx=\"722.7\" cy=\"461.5\" rx=\"40.9\" ry=\"16.5\" style=\"fill:#002600;fill-rule:evenodd;stroke:#002600;stroke-width:1.0px;stroke-linecap:butt;stroke-linejoin:miter;stroke-opacity:1\"/>\n",
       "<path class=\"bond-0 atom-0 atom-1\" d=\"M 185.1,413.6 L 223.6,411.9\" style=\"fill:none;fill-rule:evenodd;stroke:#000000;stroke-width:2.0px;stroke-linecap:butt;stroke-linejoin:miter;stroke-opacity:1\"/>\n",
       "<path class=\"bond-10 atom-0 atom-10\" d=\"M 138.9,415.6 L 97.1,417.5\" style=\"fill:none;fill-rule:evenodd;stroke:#000000;stroke-width:2.0px;stroke-linecap:butt;stroke-linejoin:miter;stroke-opacity:1\"/>\n",
       "<path class=\"bond-11 atom-0 atom-11\" d=\"M 167.7,400.6 L 165.3,346.1\" style=\"fill:none;fill-rule:evenodd;stroke:#000000;stroke-width:2.0px;stroke-linecap:butt;stroke-linejoin:miter;stroke-opacity:1\"/>\n",
       "<path class=\"bond-12 atom-0 atom-12\" d=\"M 168.9,428.3 L 171.3,482.6\" style=\"fill:none;fill-rule:evenodd;stroke:#000000;stroke-width:2.0px;stroke-linecap:butt;stroke-linejoin:miter;stroke-opacity:1\"/>\n",
       "<path class=\"bond-1 atom-1 atom-2\" d=\"M 266.4,410.0 L 303.6,408.3\" style=\"fill:none;fill-rule:evenodd;stroke:#000000;stroke-width:2.0px;stroke-linecap:butt;stroke-linejoin:miter;stroke-opacity:1\"/>\n",
       "<path class=\"bond-13 atom-1 atom-13\" d=\"M 249.3,397.0 L 246.8,342.5\" style=\"fill:none;fill-rule:evenodd;stroke:#000000;stroke-width:2.0px;stroke-linecap:butt;stroke-linejoin:miter;stroke-opacity:1\"/>\n",
       "<path class=\"bond-14 atom-1 atom-14\" d=\"M 250.5,424.7 L 252.9,479.0\" style=\"fill:none;fill-rule:evenodd;stroke:#000000;stroke-width:2.0px;stroke-linecap:butt;stroke-linejoin:miter;stroke-opacity:1\"/>\n",
       "<path class=\"bond-2 atom-2 atom-3\" d=\"M 348.0,406.4 L 385.2,404.7\" style=\"fill:none;fill-rule:evenodd;stroke:#000000;stroke-width:2.0px;stroke-linecap:butt;stroke-linejoin:miter;stroke-opacity:1\"/>\n",
       "<path class=\"bond-15 atom-2 atom-15\" d=\"M 330.8,393.4 L 328.4,338.9\" style=\"fill:none;fill-rule:evenodd;stroke:#000000;stroke-width:2.0px;stroke-linecap:butt;stroke-linejoin:miter;stroke-opacity:1\"/>\n",
       "<path class=\"bond-16 atom-2 atom-16\" d=\"M 332.1,421.1 L 334.5,475.4\" style=\"fill:none;fill-rule:evenodd;stroke:#000000;stroke-width:2.0px;stroke-linecap:butt;stroke-linejoin:miter;stroke-opacity:1\"/>\n",
       "<path class=\"bond-3 atom-3 atom-4\" d=\"M 420.1,389.8 L 444.0,343.8\" style=\"fill:none;fill-rule:evenodd;stroke:#000000;stroke-width:2.0px;stroke-linecap:butt;stroke-linejoin:miter;stroke-opacity:1\"/>\n",
       "<path class=\"bond-3 atom-3 atom-4\" d=\"M 438.2,390.4 L 454.9,358.3\" style=\"fill:none;fill-rule:evenodd;stroke:#000000;stroke-width:2.0px;stroke-linecap:butt;stroke-linejoin:miter;stroke-opacity:1\"/>\n",
       "<path class=\"bond-9 atom-8 atom-3\" d=\"M 448.1,458.6 L 421.7,417.1\" style=\"fill:none;fill-rule:evenodd;stroke:#000000;stroke-width:2.0px;stroke-linecap:butt;stroke-linejoin:miter;stroke-opacity:1\"/>\n",
       "<path class=\"bond-4 atom-4 atom-5\" d=\"M 467.3,330.3 L 504.3,328.7\" style=\"fill:none;fill-rule:evenodd;stroke:#000000;stroke-width:2.0px;stroke-linecap:butt;stroke-linejoin:miter;stroke-opacity:1\"/>\n",
       "<path class=\"bond-17 atom-4 atom-17\" d=\"M 442.0,317.6 L 415.2,275.5\" style=\"fill:none;fill-rule:evenodd;stroke:#000000;stroke-width:2.0px;stroke-linecap:butt;stroke-linejoin:miter;stroke-opacity:1\"/>\n",
       "<path class=\"bond-5 atom-5 atom-6\" d=\"M 541.1,341.5 L 571.3,388.8\" style=\"fill:none;fill-rule:evenodd;stroke:#000000;stroke-width:2.0px;stroke-linecap:butt;stroke-linejoin:miter;stroke-opacity:1\"/>\n",
       "<path class=\"bond-5 atom-5 atom-6\" d=\"M 531.9,357.3 L 553.0,390.5\" style=\"fill:none;fill-rule:evenodd;stroke:#000000;stroke-width:2.0px;stroke-linecap:butt;stroke-linejoin:miter;stroke-opacity:1\"/>\n",
       "<path class=\"bond-18 atom-5 atom-18\" d=\"M 539.3,313.7 L 562.9,268.3\" style=\"fill:none;fill-rule:evenodd;stroke:#000000;stroke-width:2.0px;stroke-linecap:butt;stroke-linejoin:miter;stroke-opacity:1\"/>\n",
       "<path class=\"bond-6 atom-6 atom-7\" d=\"M 569.3,409.4 L 545.4,455.3\" style=\"fill:none;fill-rule:evenodd;stroke:#000000;stroke-width:2.0px;stroke-linecap:butt;stroke-linejoin:miter;stroke-opacity:1\"/>\n",
       "<path class=\"bond-8 atom-6 atom-9\" d=\"M 592.8,395.5 L 620.4,394.3\" style=\"fill:none;fill-rule:evenodd;stroke:#000000;stroke-width:2.0px;stroke-linecap:butt;stroke-linejoin:miter;stroke-opacity:1\"/>\n",
       "<path class=\"bond-8 atom-6 atom-9\" d=\"M 620.4,394.3 L 648.0,393.1\" style=\"fill:none;fill-rule:evenodd;stroke:#FF0000;stroke-width:2.0px;stroke-linecap:butt;stroke-linejoin:miter;stroke-opacity:1\"/>\n",
       "<path class=\"bond-7 atom-7 atom-8\" d=\"M 510.3,469.9 L 472.9,471.6\" style=\"fill:none;fill-rule:evenodd;stroke:#000000;stroke-width:2.0px;stroke-linecap:butt;stroke-linejoin:miter;stroke-opacity:1\"/>\n",
       "<path class=\"bond-7 atom-7 atom-8\" d=\"M 503.9,453.9 L 477.8,455.0\" style=\"fill:none;fill-rule:evenodd;stroke:#000000;stroke-width:2.0px;stroke-linecap:butt;stroke-linejoin:miter;stroke-opacity:1\"/>\n",
       "<path class=\"bond-19 atom-7 atom-19\" d=\"M 547.4,482.7 L 574.0,524.3\" style=\"fill:none;fill-rule:evenodd;stroke:#000000;stroke-width:2.0px;stroke-linecap:butt;stroke-linejoin:miter;stroke-opacity:1\"/>\n",
       "<path class=\"bond-20 atom-8 atom-20\" d=\"M 450.0,485.5 L 426.1,531.6\" style=\"fill:none;fill-rule:evenodd;stroke:#000000;stroke-width:2.0px;stroke-linecap:butt;stroke-linejoin:miter;stroke-opacity:1\"/>\n",
       "<path class=\"bond-21 atom-9 atom-21\" d=\"M 666.6,406.6 L 679.8,427.4\" style=\"fill:none;fill-rule:evenodd;stroke:#FF0000;stroke-width:2.0px;stroke-linecap:butt;stroke-linejoin:miter;stroke-opacity:1\"/>\n",
       "<path class=\"bond-21 atom-9 atom-21\" d=\"M 679.8,427.4 L 693.1,448.2\" style=\"fill:none;fill-rule:evenodd;stroke:#000000;stroke-width:2.0px;stroke-linecap:butt;stroke-linejoin:miter;stroke-opacity:1\"/>\n",
       "<path class=\"atom-0\" d=\"M 149.4 426.3 Q 145.2 426.3, 143.0 423.1 Q 140.9 420.0, 140.9 414.4 Q 140.9 408.8, 143.0 405.7 Q 145.1 402.6, 149.4 402.6 Q 153.7 402.6, 155.8 405.7 Q 157.9 408.8, 157.9 414.4 Q 157.9 420.0, 155.7 423.1 Q 153.6 426.3, 149.4 426.3 M 149.4 423.7 Q 151.9 423.7, 153.3 421.3 Q 154.6 419.0, 154.6 414.4 Q 154.6 409.9, 153.3 407.6 Q 151.9 405.2, 149.4 405.2 Q 146.9 405.2, 145.5 407.6 Q 144.2 409.9, 144.2 414.4 Q 144.2 419.0, 145.5 421.3 Q 146.9 423.7, 149.4 423.7 \" fill=\"#000000\"/>\n",
       "<path class=\"atom-0\" d=\"M 160.3 422.2 L 163.6 422.2 L 163.6 425.5 L 160.3 425.5 L 160.3 422.2 M 160.3 411.0 L 163.6 411.0 L 163.6 414.2 L 160.3 414.2 L 160.3 411.0 \" fill=\"#000000\"/>\n",
       "<path class=\"atom-0\" d=\"M 165.2 414.4 Q 165.2 408.7, 167.9 405.7 Q 170.6 402.6, 175.7 402.6 Q 180.5 402.6, 183.0 406.0 L 180.9 407.8 Q 179.0 405.3, 175.7 405.3 Q 172.2 405.3, 170.4 407.7 Q 168.5 410.0, 168.5 414.4 Q 168.5 419.0, 170.4 421.3 Q 172.4 423.7, 176.1 423.7 Q 178.6 423.7, 181.6 422.2 L 182.5 424.6 Q 181.3 425.4, 179.5 425.9 Q 177.7 426.3, 175.6 426.3 Q 170.6 426.3, 167.9 423.2 Q 165.2 420.2, 165.2 414.4 \" fill=\"#000000\"/>\n",
       "<path class=\"atom-1\" d=\"M 226.5 419.8 L 231.5 419.8 L 231.5 402.5 L 225.9 404.2 L 225.2 402.3 L 232.3 399.1 L 234.6 399.5 L 234.6 419.8 L 239.1 419.8 L 239.1 422.4 L 226.5 422.4 L 226.5 419.8 \" fill=\"#000000\"/>\n",
       "<path class=\"atom-1\" d=\"M 241.6 418.6 L 244.8 418.6 L 244.8 421.8 L 241.6 421.8 L 241.6 418.6 M 241.6 407.3 L 244.8 407.3 L 244.8 410.6 L 241.6 410.6 L 241.6 407.3 \" fill=\"#000000\"/>\n",
       "<path class=\"atom-1\" d=\"M 246.5 410.8 Q 246.5 405.1, 249.2 402.1 Q 251.9 399.0, 257.0 399.0 Q 261.8 399.0, 264.3 402.4 L 262.2 404.1 Q 260.3 401.7, 257.0 401.7 Q 253.5 401.7, 251.6 404.0 Q 249.8 406.4, 249.8 410.8 Q 249.8 415.4, 251.7 417.7 Q 253.6 420.1, 257.4 420.1 Q 259.9 420.1, 262.9 418.5 L 263.8 421.0 Q 262.6 421.8, 260.8 422.2 Q 258.9 422.7, 256.9 422.7 Q 251.9 422.7, 249.2 419.6 Q 246.5 416.6, 246.5 410.8 \" fill=\"#000000\"/>\n",
       "<path class=\"atom-2\" d=\"M 305.3 400.0 Q 306.1 397.9, 308.2 396.6 Q 310.2 395.4, 313.0 395.4 Q 316.5 395.4, 318.5 397.3 Q 320.4 399.2, 320.4 402.6 Q 320.4 406.0, 317.9 409.2 Q 315.4 412.4, 310.1 416.2 L 320.8 416.2 L 320.8 418.8 L 305.2 418.8 L 305.2 416.6 Q 309.5 413.5, 312.1 411.2 Q 314.7 409.0, 315.9 406.9 Q 317.2 404.8, 317.2 402.7 Q 317.2 400.5, 316.0 399.3 Q 314.9 398.0, 313.0 398.0 Q 311.1 398.0, 309.9 398.8 Q 308.7 399.5, 307.8 401.2 L 305.3 400.0 \" fill=\"#000000\"/>\n",
       "<path class=\"atom-2\" d=\"M 323.3 415.0 L 326.5 415.0 L 326.5 418.2 L 323.3 418.2 L 323.3 415.0 M 323.3 403.7 L 326.5 403.7 L 326.5 407.0 L 323.3 407.0 L 323.3 403.7 \" fill=\"#000000\"/>\n",
       "<path class=\"atom-2\" d=\"M 328.2 407.2 Q 328.2 401.4, 330.8 398.4 Q 333.5 395.4, 338.7 395.4 Q 343.4 395.4, 346.0 398.8 L 343.8 400.5 Q 342.0 398.1, 338.7 398.1 Q 335.2 398.1, 333.3 400.4 Q 331.5 402.8, 331.5 407.2 Q 331.5 411.8, 333.4 414.1 Q 335.3 416.5, 339.0 416.5 Q 341.6 416.5, 344.5 414.9 L 345.5 417.4 Q 344.3 418.2, 342.4 418.6 Q 340.6 419.1, 338.6 419.1 Q 333.5 419.1, 330.8 416.0 Q 328.2 412.9, 328.2 407.2 \" fill=\"#000000\"/>\n",
       "<path class=\"atom-3\" d=\"M 397.9 403.0 Q 400.1 403.6, 401.2 405.1 Q 402.3 406.6, 402.3 408.8 Q 402.3 410.8, 401.3 412.3 Q 400.4 413.8, 398.6 414.7 Q 396.8 415.5, 394.4 415.5 Q 391.9 415.5, 390.1 414.7 Q 388.2 413.8, 386.8 412.0 L 388.6 410.1 Q 390.1 411.7, 391.3 412.3 Q 392.5 412.9, 394.4 412.9 Q 396.5 412.9, 397.8 411.8 Q 399.1 410.6, 399.1 408.8 Q 399.1 406.5, 397.7 405.4 Q 396.4 404.3, 393.6 404.3 L 391.9 404.3 L 391.9 402.0 L 393.4 402.0 Q 395.9 401.9, 397.2 400.9 Q 398.6 399.8, 398.6 397.7 Q 398.6 396.2, 397.5 395.3 Q 396.3 394.4, 394.5 394.4 Q 392.5 394.4, 391.3 395.1 Q 390.1 395.8, 389.2 397.5 L 387.0 396.3 Q 387.8 394.4, 389.7 393.1 Q 391.7 391.8, 394.5 391.8 Q 397.8 391.8, 399.8 393.4 Q 401.8 395.0, 401.8 397.7 Q 401.8 399.6, 400.8 400.9 Q 399.8 402.2, 397.9 403.0 \" fill=\"#000000\"/>\n",
       "<path class=\"atom-3\" d=\"M 404.8 411.4 L 408.0 411.4 L 408.0 414.6 L 404.8 414.6 L 404.8 411.4 M 404.8 400.1 L 408.0 400.1 L 408.0 403.4 L 404.8 403.4 L 404.8 400.1 \" fill=\"#000000\"/>\n",
       "<path class=\"atom-3\" d=\"M 409.7 403.6 Q 409.7 397.8, 412.3 394.8 Q 415.1 391.8, 420.2 391.8 Q 425.0 391.8, 427.5 395.2 L 425.3 396.9 Q 423.5 394.5, 420.2 394.5 Q 416.7 394.5, 414.8 396.8 Q 413.0 399.1, 413.0 403.6 Q 413.0 408.2, 414.9 410.5 Q 416.8 412.9, 420.5 412.9 Q 423.1 412.9, 426.1 411.3 L 427.0 413.8 Q 425.8 414.6, 423.9 415.0 Q 422.1 415.5, 420.1 415.5 Q 415.1 415.5, 412.3 412.4 Q 409.7 409.3, 409.7 403.6 \" fill=\"#000000\"/>\n",
       "<path class=\"atom-4\" d=\"M 437.3 334.8 L 440.1 334.8 L 440.1 337.4 L 437.3 337.4 L 437.3 342.7 L 434.2 342.7 L 434.2 337.4 L 422.3 337.4 L 422.3 335.4 L 432.4 319.6 L 437.3 319.6 L 437.3 334.8 M 426.1 334.8 L 434.2 334.8 L 434.2 321.7 L 426.1 334.8 \" fill=\"#000000\"/>\n",
       "<path class=\"atom-4\" d=\"M 442.5 338.9 L 445.8 338.9 L 445.8 342.2 L 442.5 342.2 L 442.5 338.9 M 442.5 327.7 L 445.8 327.7 L 445.8 330.9 L 442.5 330.9 L 442.5 327.7 \" fill=\"#000000\"/>\n",
       "<path class=\"atom-4\" d=\"M 447.4 331.1 Q 447.4 325.4, 450.1 322.4 Q 452.8 319.4, 458.0 319.4 Q 462.7 319.4, 465.3 322.7 L 463.1 324.5 Q 461.3 322.0, 458.0 322.0 Q 454.5 322.0, 452.6 324.4 Q 450.8 326.7, 450.8 331.1 Q 450.8 335.7, 452.7 338.1 Q 454.6 340.4, 458.3 340.4 Q 460.9 340.4, 463.8 338.9 L 464.7 341.3 Q 463.5 342.1, 461.7 342.6 Q 459.9 343.0, 457.9 343.0 Q 452.8 343.0, 450.1 340.0 Q 447.4 336.9, 447.4 331.1 \" fill=\"#000000\"/>\n",
       "<path class=\"atom-5\" d=\"M 514.3 324.7 Q 516.3 324.7, 518.0 325.5 Q 519.7 326.4, 520.6 328.0 Q 521.6 329.6, 521.6 331.8 Q 521.6 334.2, 520.4 335.9 Q 519.2 337.6, 517.3 338.5 Q 515.5 339.4, 513.3 339.4 Q 511.2 339.4, 509.2 338.6 Q 507.3 337.8, 505.9 336.3 L 507.9 334.3 Q 509.0 335.5, 510.4 336.1 Q 511.9 336.7, 513.4 336.7 Q 515.5 336.7, 516.9 335.5 Q 518.3 334.2, 518.3 331.9 Q 518.3 329.4, 516.9 328.3 Q 515.5 327.1, 513.2 327.1 Q 511.2 327.1, 508.9 328.0 L 507.1 327.1 L 508.2 316.0 L 520.1 316.0 L 519.8 318.6 L 510.9 318.6 L 510.2 325.5 Q 512.3 324.7, 514.3 324.7 \" fill=\"#000000\"/>\n",
       "<path class=\"atom-5\" d=\"M 524.0 335.3 L 527.3 335.3 L 527.3 338.6 L 524.0 338.6 L 524.0 335.3 M 524.0 324.1 L 527.3 324.1 L 527.3 327.3 L 524.0 327.3 L 524.0 324.1 \" fill=\"#000000\"/>\n",
       "<path class=\"atom-5\" d=\"M 528.9 327.5 Q 528.9 321.8, 531.6 318.8 Q 534.3 315.7, 539.4 315.7 Q 544.2 315.7, 546.7 319.1 L 544.6 320.9 Q 542.7 318.4, 539.4 318.4 Q 535.9 318.4, 534.1 320.8 Q 532.2 323.1, 532.2 327.5 Q 532.2 332.1, 534.1 334.5 Q 536.1 336.8, 539.8 336.8 Q 542.3 336.8, 545.3 335.3 L 546.2 337.7 Q 545.0 338.5, 543.2 339.0 Q 541.3 339.4, 539.3 339.4 Q 534.3 339.4, 531.6 336.3 Q 528.9 333.3, 528.9 327.5 \" fill=\"#000000\"/>\n",
       "<path class=\"atom-6\" d=\"M 558.6 393.5 Q 560.7 393.5, 562.3 394.4 Q 563.9 395.3, 564.7 396.9 Q 565.6 398.5, 565.6 400.5 Q 565.6 402.8, 564.6 404.5 Q 563.6 406.2, 561.9 407.2 Q 560.1 408.2, 557.8 408.2 Q 553.7 408.2, 551.6 405.4 Q 549.6 402.6, 549.6 397.1 Q 549.6 390.9, 552.1 387.8 Q 554.7 384.6, 559.6 384.6 Q 561.1 384.6, 562.3 384.9 Q 563.5 385.2, 564.7 385.9 L 563.4 388.1 Q 561.7 387.2, 559.7 387.2 Q 556.4 387.2, 554.7 389.3 Q 553.1 391.4, 552.9 395.7 Q 554.1 394.7, 555.5 394.1 Q 557.0 393.5, 558.6 393.5 M 557.9 405.5 Q 559.1 405.5, 560.1 404.9 Q 561.2 404.2, 561.8 403.1 Q 562.4 401.9, 562.4 400.5 Q 562.4 398.5, 561.2 397.3 Q 560.1 396.1, 558.0 396.1 Q 556.6 396.1, 555.2 396.7 Q 553.9 397.3, 552.9 398.2 Q 553.0 402.1, 554.2 403.8 Q 555.4 405.5, 557.9 405.5 \" fill=\"#000000\"/>\n",
       "<path class=\"atom-6\" d=\"M 568.1 404.1 L 571.3 404.1 L 571.3 407.4 L 568.1 407.4 L 568.1 404.1 M 568.1 392.9 L 571.3 392.9 L 571.3 396.2 L 568.1 396.2 L 568.1 392.9 \" fill=\"#000000\"/>\n",
       "<path class=\"atom-6\" d=\"M 573.0 396.4 Q 573.0 390.6, 575.6 387.6 Q 578.4 384.6, 583.5 384.6 Q 588.3 384.6, 590.8 387.9 L 588.6 389.7 Q 586.8 387.2, 583.5 387.2 Q 580.0 387.2, 578.1 389.6 Q 576.3 391.9, 576.3 396.4 Q 576.3 400.9, 578.2 403.3 Q 580.1 405.6, 583.8 405.6 Q 586.4 405.6, 589.4 404.1 L 590.3 406.5 Q 589.1 407.3, 587.2 407.8 Q 585.4 408.2, 583.4 408.2 Q 578.4 408.2, 575.6 405.2 Q 573.0 402.1, 573.0 396.4 \" fill=\"#000000\"/>\n",
       "<path class=\"atom-7\" d=\"M 524.4 459.9 L 512.3 459.9 L 512.3 457.3 L 527.6 457.3 L 527.6 459.6 L 518.3 480.4 L 515.2 480.4 L 524.4 459.9 \" fill=\"#000000\"/>\n",
       "<path class=\"atom-7\" d=\"M 530.1 476.6 L 533.4 476.6 L 533.4 479.8 L 530.1 479.8 L 530.1 476.6 M 530.1 465.3 L 533.4 465.3 L 533.4 468.6 L 530.1 468.6 L 530.1 465.3 \" fill=\"#000000\"/>\n",
       "<path class=\"atom-7\" d=\"M 535.0 468.8 Q 535.0 463.0, 537.7 460.0 Q 540.4 457.0, 545.5 457.0 Q 550.3 457.0, 552.8 460.4 L 550.7 462.1 Q 548.8 459.7, 545.5 459.7 Q 542.0 459.7, 540.1 462.0 Q 538.3 464.4, 538.3 468.8 Q 538.3 473.4, 540.2 475.7 Q 542.1 478.1, 545.9 478.1 Q 548.4 478.1, 551.4 476.5 L 552.3 479.0 Q 551.1 479.8, 549.3 480.2 Q 547.4 480.7, 545.4 480.7 Q 540.4 480.7, 537.7 477.6 Q 535.0 474.5, 535.0 468.8 \" fill=\"#000000\"/>\n",
       "<path class=\"atom-8\" d=\"M 441.9 471.8 Q 444.0 472.7, 445.2 474.0 Q 446.4 475.4, 446.4 477.7 Q 446.4 479.6, 445.4 481.2 Q 444.4 482.7, 442.6 483.5 Q 440.8 484.3, 438.4 484.3 Q 434.5 484.3, 432.3 482.6 Q 430.1 480.8, 430.1 477.7 Q 430.1 475.8, 431.1 474.4 Q 432.0 472.9, 434.1 471.9 Q 432.6 471.0, 431.7 469.8 Q 430.9 468.5, 430.9 466.5 Q 430.9 463.8, 432.9 462.2 Q 434.9 460.6, 438.2 460.6 Q 441.6 460.6, 443.6 462.2 Q 445.6 463.8, 445.6 466.5 Q 445.6 468.2, 444.6 469.5 Q 443.7 470.7, 441.9 471.8 M 438.2 463.1 Q 436.3 463.1, 435.2 464.0 Q 434.2 464.9, 434.2 466.5 Q 434.2 467.7, 434.9 468.6 Q 435.6 469.3, 436.6 469.8 Q 437.7 470.3, 439.7 470.9 Q 441.1 470.0, 441.7 468.9 Q 442.3 467.9, 442.3 466.5 Q 442.3 464.9, 441.2 464.0 Q 440.2 463.1, 438.2 463.1 M 438.4 481.9 Q 440.5 481.9, 441.8 480.7 Q 443.1 479.6, 443.1 477.6 Q 443.1 476.4, 442.5 475.6 Q 441.8 474.8, 440.7 474.4 Q 439.7 473.9, 437.9 473.3 L 436.4 472.8 Q 434.8 473.8, 434.1 475.0 Q 433.3 476.1, 433.3 477.6 Q 433.3 479.6, 434.7 480.7 Q 436.1 481.9, 438.4 481.9 \" fill=\"#000000\"/>\n",
       "<path class=\"atom-8\" d=\"M 448.9 480.2 L 452.1 480.2 L 452.1 483.4 L 448.9 483.4 L 448.9 480.2 M 448.9 468.9 L 452.1 468.9 L 452.1 472.2 L 448.9 472.2 L 448.9 468.9 \" fill=\"#000000\"/>\n",
       "<path class=\"atom-8\" d=\"M 453.8 472.4 Q 453.8 466.7, 456.4 463.7 Q 459.1 460.6, 464.3 460.6 Q 469.0 460.6, 471.6 464.0 L 469.4 465.7 Q 467.6 463.3, 464.3 463.3 Q 460.8 463.3, 458.9 465.6 Q 457.1 468.0, 457.1 472.4 Q 457.1 477.0, 459.0 479.3 Q 460.9 481.7, 464.6 481.7 Q 467.2 481.7, 470.1 480.1 L 471.1 482.6 Q 469.9 483.4, 468.0 483.8 Q 466.2 484.3, 464.2 484.3 Q 459.1 484.3, 456.4 481.2 Q 453.8 478.2, 453.8 472.4 \" fill=\"#000000\"/>\n",
       "<path class=\"atom-9\" d=\"M 657.4 381.0 Q 661.5 381.0, 663.6 383.8 Q 665.7 386.5, 665.7 392.1 Q 665.7 398.2, 663.1 401.4 Q 660.6 404.6, 655.6 404.6 Q 654.2 404.6, 652.9 404.3 Q 651.7 403.9, 650.6 403.3 L 651.8 401.1 Q 653.5 402.0, 655.6 402.0 Q 658.9 402.0, 660.5 399.9 Q 662.2 397.8, 662.4 393.4 Q 661.2 394.5, 659.7 395.1 Q 658.2 395.6, 656.6 395.6 Q 654.6 395.6, 653.0 394.8 Q 651.4 393.9, 650.5 392.3 Q 649.6 390.7, 649.6 388.7 Q 649.6 386.4, 650.6 384.7 Q 651.6 382.9, 653.4 381.9 Q 655.2 381.0, 657.4 381.0 M 652.9 388.6 Q 652.9 390.7, 654.1 391.9 Q 655.2 393.0, 657.2 393.0 Q 658.6 393.0, 660.0 392.5 Q 661.4 391.9, 662.4 390.9 Q 662.3 387.1, 661.0 385.4 Q 659.8 383.6, 657.4 383.6 Q 656.1 383.6, 655.1 384.3 Q 654.1 384.9, 653.5 386.1 Q 652.9 387.2, 652.9 388.6 \" fill=\"#FF0000\"/>\n",
       "<path class=\"atom-9\" d=\"M 668.1 400.5 L 671.4 400.5 L 671.4 403.8 L 668.1 403.8 L 668.1 400.5 M 668.1 389.3 L 671.4 389.3 L 671.4 392.5 L 668.1 392.5 L 668.1 389.3 \" fill=\"#FF0000\"/>\n",
       "<path class=\"atom-9\" d=\"M 673.0 392.7 Q 673.0 387.2, 675.8 384.1 Q 678.5 381.0, 683.6 381.0 Q 688.8 381.0, 691.5 384.1 Q 694.3 387.2, 694.3 392.7 Q 694.3 398.3, 691.5 401.5 Q 688.7 404.7, 683.6 404.7 Q 678.5 404.7, 675.8 401.5 Q 673.0 398.4, 673.0 392.7 M 683.6 402.1 Q 687.2 402.1, 689.1 399.7 Q 691.0 397.3, 691.0 392.7 Q 691.0 388.2, 689.1 385.9 Q 687.2 383.6, 683.6 383.6 Q 680.1 383.6, 678.2 385.9 Q 676.3 388.1, 676.3 392.7 Q 676.3 397.4, 678.2 399.7 Q 680.1 402.1, 683.6 402.1 \" fill=\"#FF0000\"/>\n",
       "<path class=\"atom-10\" d=\"M 37.6 427.0 L 42.7 427.0 L 42.7 409.7 L 37.1 411.5 L 36.4 409.5 L 43.4 406.4 L 45.8 406.8 L 45.8 427.0 L 50.3 427.0 L 50.3 429.6 L 37.6 429.6 L 37.6 427.0 \" fill=\"#000000\"/>\n",
       "<path class=\"atom-10\" d=\"M 60.8 429.9 Q 56.5 429.9, 54.4 426.8 Q 52.3 423.6, 52.3 418.0 Q 52.3 412.5, 54.4 409.3 Q 56.5 406.2, 60.8 406.2 Q 65.0 406.2, 67.1 409.3 Q 69.2 412.5, 69.2 418.0 Q 69.2 423.6, 67.1 426.8 Q 65.0 429.9, 60.8 429.9 M 60.8 427.3 Q 63.3 427.3, 64.6 425.0 Q 65.9 422.6, 65.9 418.0 Q 65.9 413.5, 64.6 411.2 Q 63.3 408.9, 60.8 408.9 Q 58.3 408.9, 56.9 411.2 Q 55.6 413.5, 55.6 418.0 Q 55.6 422.6, 56.9 425.0 Q 58.3 427.3, 60.8 427.3 \" fill=\"#000000\"/>\n",
       "<path class=\"atom-10\" d=\"M 71.7 425.8 L 74.9 425.8 L 74.9 429.1 L 71.7 429.1 L 71.7 425.8 M 71.7 414.6 L 74.9 414.6 L 74.9 417.8 L 71.7 417.8 L 71.7 414.6 \" fill=\"#000000\"/>\n",
       "<path class=\"atom-10\" d=\"M 77.7 406.5 L 80.8 406.5 L 80.8 416.3 L 92.7 416.3 L 92.7 406.5 L 95.8 406.5 L 95.8 429.6 L 92.7 429.6 L 92.7 418.9 L 80.8 418.9 L 80.8 429.6 L 77.7 429.6 L 77.7 406.5 \" fill=\"#000000\"/>\n",
       "<path class=\"atom-11\" d=\"M 159.0 341.8 L 164.1 341.8 L 164.1 324.5 L 158.5 326.2 L 157.7 324.3 L 164.8 321.1 L 167.1 321.5 L 167.1 341.8 L 171.7 341.8 L 171.7 344.4 L 159.0 344.4 L 159.0 341.8 \" fill=\"#000000\"/>\n",
       "<path class=\"atom-11\" d=\"M 174.7 341.8 L 179.8 341.8 L 179.8 324.5 L 174.2 326.2 L 173.4 324.3 L 180.5 321.1 L 182.8 321.5 L 182.8 341.8 L 187.4 341.8 L 187.4 344.4 L 174.7 344.4 L 174.7 341.8 \" fill=\"#000000\"/>\n",
       "<path class=\"atom-11\" d=\"M 189.8 340.6 L 193.1 340.6 L 193.1 343.8 L 189.8 343.8 L 189.8 340.6 M 189.8 329.3 L 193.1 329.3 L 193.1 332.6 L 189.8 332.6 L 189.8 329.3 \" fill=\"#000000\"/>\n",
       "<path class=\"atom-11\" d=\"M 195.9 321.3 L 199.0 321.3 L 199.0 331.1 L 210.8 331.1 L 210.8 321.3 L 214.0 321.3 L 214.0 344.4 L 210.8 344.4 L 210.8 333.7 L 199.0 333.7 L 199.0 344.4 L 195.9 344.4 L 195.9 321.3 \" fill=\"#000000\"/>\n",
       "<path class=\"atom-12\" d=\"M 166.2 505.0 L 171.3 505.0 L 171.3 487.7 L 165.7 489.4 L 165.0 487.5 L 172.0 484.3 L 174.4 484.7 L 174.4 505.0 L 178.9 505.0 L 178.9 507.6 L 166.2 507.6 L 166.2 505.0 \" fill=\"#000000\"/>\n",
       "<path class=\"atom-12\" d=\"M 180.6 488.8 Q 181.4 486.6, 183.5 485.4 Q 185.5 484.2, 188.3 484.2 Q 191.8 484.2, 193.8 486.1 Q 195.7 488.0, 195.7 491.3 Q 195.7 494.8, 193.2 498.0 Q 190.7 501.2, 185.4 505.0 L 196.1 505.0 L 196.1 507.6 L 180.5 507.6 L 180.5 505.4 Q 184.8 502.3, 187.4 500.0 Q 190.0 497.7, 191.2 495.7 Q 192.4 493.6, 192.4 491.5 Q 192.4 489.3, 191.3 488.0 Q 190.2 486.8, 188.3 486.8 Q 186.4 486.8, 185.2 487.6 Q 184.0 488.3, 183.1 490.0 L 180.6 488.8 \" fill=\"#000000\"/>\n",
       "<path class=\"atom-12\" d=\"M 198.6 503.8 L 201.8 503.8 L 201.8 507.0 L 198.6 507.0 L 198.6 503.8 M 198.6 492.5 L 201.8 492.5 L 201.8 495.8 L 198.6 495.8 L 198.6 492.5 \" fill=\"#000000\"/>\n",
       "<path class=\"atom-12\" d=\"M 204.6 484.5 L 207.7 484.5 L 207.7 494.3 L 219.6 494.3 L 219.6 484.5 L 222.7 484.5 L 222.7 507.6 L 219.6 507.6 L 219.6 496.9 L 207.7 496.9 L 207.7 507.6 L 204.6 507.6 L 204.6 484.5 \" fill=\"#000000\"/>\n",
       "<path class=\"atom-13\" d=\"M 240.6 338.2 L 245.6 338.2 L 245.6 321.0 L 240.0 322.7 L 239.3 320.8 L 246.4 317.6 L 248.7 318.0 L 248.7 338.2 L 253.2 338.2 L 253.2 340.8 L 240.6 340.8 L 240.6 338.2 \" fill=\"#000000\"/>\n",
       "<path class=\"atom-13\" d=\"M 265.7 328.7 Q 268.0 329.3, 269.0 330.8 Q 270.1 332.2, 270.1 334.5 Q 270.1 336.5, 269.2 338.0 Q 268.2 339.5, 266.4 340.4 Q 264.6 341.2, 262.2 341.2 Q 259.8 341.2, 257.9 340.3 Q 256.1 339.4, 254.6 337.7 L 256.5 335.8 Q 257.9 337.3, 259.1 338.0 Q 260.3 338.6, 262.2 338.6 Q 264.3 338.6, 265.6 337.4 Q 266.9 336.3, 266.9 334.5 Q 266.9 332.1, 265.5 331.1 Q 264.2 330.0, 261.4 330.0 L 259.7 330.0 L 259.7 327.6 L 261.2 327.6 Q 263.7 327.6, 265.0 326.5 Q 266.4 325.4, 266.4 323.4 Q 266.4 321.9, 265.3 321.0 Q 264.2 320.1, 262.3 320.1 Q 260.3 320.1, 259.1 320.8 Q 258.0 321.4, 257.0 323.2 L 254.8 322.0 Q 255.6 320.0, 257.6 318.8 Q 259.5 317.5, 262.3 317.5 Q 265.7 317.5, 267.7 319.1 Q 269.7 320.7, 269.7 323.4 Q 269.7 325.2, 268.6 326.6 Q 267.6 327.9, 265.7 328.7 \" fill=\"#000000\"/>\n",
       "<path class=\"atom-13\" d=\"M 272.6 337.0 L 275.9 337.0 L 275.9 340.3 L 272.6 340.3 L 272.6 337.0 M 272.6 325.8 L 275.9 325.8 L 275.9 329.1 L 272.6 329.1 L 272.6 325.8 \" fill=\"#000000\"/>\n",
       "<path class=\"atom-13\" d=\"M 278.6 317.7 L 281.8 317.7 L 281.8 327.6 L 293.6 327.6 L 293.6 317.7 L 296.7 317.7 L 296.7 340.8 L 293.6 340.8 L 293.6 330.2 L 281.8 330.2 L 281.8 340.8 L 278.6 340.8 L 278.6 317.7 \" fill=\"#000000\"/>\n",
       "<path class=\"atom-14\" d=\"M 247.8 501.3 L 252.8 501.3 L 252.8 484.0 L 247.3 485.7 L 246.5 483.8 L 253.6 480.6 L 255.9 481.0 L 255.9 501.3 L 260.5 501.3 L 260.5 503.9 L 247.8 503.9 L 247.8 501.3 \" fill=\"#000000\"/>\n",
       "<path class=\"atom-14\" d=\"M 276.5 496.0 L 279.2 496.0 L 279.2 498.6 L 276.5 498.6 L 276.5 503.9 L 273.4 503.9 L 273.4 498.6 L 261.4 498.6 L 261.4 496.5 L 271.6 480.8 L 276.5 480.8 L 276.5 496.0 M 265.2 496.0 L 273.4 496.0 L 273.4 482.9 L 265.2 496.0 \" fill=\"#000000\"/>\n",
       "<path class=\"atom-14\" d=\"M 281.7 500.1 L 284.9 500.1 L 284.9 503.3 L 281.7 503.3 L 281.7 500.1 M 281.7 488.8 L 284.9 488.8 L 284.9 492.1 L 281.7 492.1 L 281.7 488.8 \" fill=\"#000000\"/>\n",
       "<path class=\"atom-14\" d=\"M 287.7 480.8 L 290.9 480.8 L 290.9 490.6 L 302.7 490.6 L 302.7 480.8 L 305.8 480.8 L 305.8 503.9 L 302.7 503.9 L 302.7 493.2 L 290.9 493.2 L 290.9 503.9 L 287.7 503.9 L 287.7 480.8 \" fill=\"#000000\"/>\n",
       "<path class=\"atom-15\" d=\"M 322.1 334.5 L 327.2 334.5 L 327.2 317.3 L 321.6 319.0 L 320.8 317.1 L 327.9 313.9 L 330.2 314.3 L 330.2 334.5 L 334.8 334.5 L 334.8 337.2 L 322.1 337.2 L 322.1 334.5 \" fill=\"#000000\"/>\n",
       "<path class=\"atom-15\" d=\"M 344.7 322.7 Q 346.7 322.7, 348.4 323.6 Q 350.0 324.4, 351.0 326.1 Q 351.9 327.7, 351.9 329.8 Q 351.9 332.2, 350.8 334.0 Q 349.6 335.7, 347.7 336.5 Q 345.8 337.4, 343.7 337.4 Q 341.5 337.4, 339.6 336.6 Q 337.6 335.9, 336.3 334.4 L 338.2 332.3 Q 339.3 333.5, 340.8 334.2 Q 342.3 334.8, 343.8 334.8 Q 345.8 334.8, 347.2 333.5 Q 348.7 332.2, 348.7 329.9 Q 348.7 327.5, 347.2 326.3 Q 345.8 325.1, 343.6 325.1 Q 341.5 325.1, 339.3 326.0 L 337.5 325.2 L 338.6 314.0 L 350.5 314.0 L 350.2 316.7 L 341.3 316.7 L 340.6 323.5 Q 342.7 322.7, 344.7 322.7 \" fill=\"#000000\"/>\n",
       "<path class=\"atom-15\" d=\"M 354.4 333.3 L 357.6 333.3 L 357.6 336.6 L 354.4 336.6 L 354.4 333.3 M 354.4 322.1 L 357.6 322.1 L 357.6 325.4 L 354.4 325.4 L 354.4 322.1 \" fill=\"#000000\"/>\n",
       "<path class=\"atom-15\" d=\"M 360.4 314.0 L 363.6 314.0 L 363.6 323.9 L 375.4 323.9 L 375.4 314.0 L 378.5 314.0 L 378.5 337.2 L 375.4 337.2 L 375.4 326.5 L 363.6 326.5 L 363.6 337.2 L 360.4 337.2 L 360.4 314.0 \" fill=\"#000000\"/>\n",
       "<path class=\"atom-16\" d=\"M 329.3 497.7 L 334.4 497.7 L 334.4 480.5 L 328.8 482.2 L 328.1 480.3 L 335.2 477.1 L 337.5 477.5 L 337.5 497.7 L 342.0 497.7 L 342.0 500.3 L 329.3 500.3 L 329.3 497.7 \" fill=\"#000000\"/>\n",
       "<path class=\"atom-16\" d=\"M 353.3 485.9 Q 355.3 485.9, 356.9 486.8 Q 358.5 487.7, 359.4 489.3 Q 360.3 490.9, 360.3 492.9 Q 360.3 495.2, 359.3 496.9 Q 358.3 498.6, 356.5 499.6 Q 354.7 500.6, 352.5 500.6 Q 348.4 500.6, 346.3 497.8 Q 344.2 495.0, 344.2 489.5 Q 344.2 483.3, 346.8 480.2 Q 349.4 477.0, 354.3 477.0 Q 355.7 477.0, 356.9 477.3 Q 358.2 477.6, 359.4 478.3 L 358.1 480.5 Q 356.4 479.6, 354.3 479.6 Q 351.1 479.6, 349.4 481.7 Q 347.7 483.8, 347.5 488.1 Q 348.7 487.1, 350.2 486.5 Q 351.7 485.9, 353.3 485.9 M 352.5 497.9 Q 353.8 497.9, 354.8 497.3 Q 355.8 496.6, 356.4 495.5 Q 357.0 494.3, 357.0 492.9 Q 357.0 490.9, 355.9 489.7 Q 354.7 488.5, 352.7 488.5 Q 351.3 488.5, 349.9 489.1 Q 348.5 489.7, 347.5 490.6 Q 347.7 494.5, 348.9 496.2 Q 350.1 497.9, 352.5 497.9 \" fill=\"#000000\"/>\n",
       "<path class=\"atom-16\" d=\"M 362.7 496.5 L 366.0 496.5 L 366.0 499.8 L 362.7 499.8 L 362.7 496.5 M 362.7 485.3 L 366.0 485.3 L 366.0 488.6 L 362.7 488.6 L 362.7 485.3 \" fill=\"#000000\"/>\n",
       "<path class=\"atom-16\" d=\"M 368.8 477.2 L 371.9 477.2 L 371.9 487.1 L 383.7 487.1 L 383.7 477.2 L 386.9 477.2 L 386.9 500.3 L 383.7 500.3 L 383.7 489.7 L 371.9 489.7 L 371.9 500.3 L 368.8 500.3 L 368.8 477.2 \" fill=\"#000000\"/>\n",
       "<path class=\"atom-17\" d=\"M 360.6 271.2 L 365.6 271.2 L 365.6 254.0 L 360.1 255.7 L 359.3 253.8 L 366.4 250.6 L 368.7 251.0 L 368.7 271.2 L 373.3 271.2 L 373.3 273.8 L 360.6 273.8 L 360.6 271.2 \" fill=\"#000000\"/>\n",
       "<path class=\"atom-17\" d=\"M 386.0 253.3 L 373.8 253.3 L 373.8 250.7 L 389.2 250.7 L 389.2 253.0 L 379.9 273.8 L 376.7 273.8 L 386.0 253.3 \" fill=\"#000000\"/>\n",
       "<path class=\"atom-17\" d=\"M 391.6 270.0 L 394.9 270.0 L 394.9 273.3 L 391.6 273.3 L 391.6 270.0 M 391.6 258.8 L 394.9 258.8 L 394.9 262.1 L 391.6 262.1 L 391.6 258.8 \" fill=\"#000000\"/>\n",
       "<path class=\"atom-17\" d=\"M 397.7 250.7 L 400.8 250.7 L 400.8 260.6 L 412.6 260.6 L 412.6 250.7 L 415.8 250.7 L 415.8 273.8 L 412.6 273.8 L 412.6 263.2 L 400.8 263.2 L 400.8 273.8 L 397.7 273.8 L 397.7 250.7 \" fill=\"#000000\"/>\n",
       "<path class=\"atom-18\" d=\"M 564.1 264.1 L 569.2 264.1 L 569.2 246.8 L 563.6 248.5 L 562.9 246.6 L 570.0 243.4 L 572.3 243.8 L 572.3 264.1 L 576.8 264.1 L 576.8 266.7 L 564.1 266.7 L 564.1 264.1 \" fill=\"#000000\"/>\n",
       "<path class=\"atom-18\" d=\"M 590.6 254.4 Q 592.8 255.4, 594.0 256.7 Q 595.2 258.1, 595.2 260.3 Q 595.2 262.3, 594.2 263.8 Q 593.1 265.3, 591.3 266.2 Q 589.5 267.0, 587.1 267.0 Q 583.3 267.0, 581.1 265.2 Q 578.8 263.4, 578.8 260.3 Q 578.8 258.5, 579.8 257.0 Q 580.8 255.6, 582.8 254.5 Q 581.3 253.7, 580.5 252.4 Q 579.7 251.2, 579.7 249.2 Q 579.7 246.5, 581.7 244.9 Q 583.6 243.3, 587.0 243.3 Q 590.4 243.3, 592.3 244.9 Q 594.3 246.5, 594.3 249.2 Q 594.3 250.9, 593.4 252.2 Q 592.5 253.4, 590.6 254.4 M 587.0 245.7 Q 585.1 245.7, 584.0 246.7 Q 583.0 247.6, 583.0 249.2 Q 583.0 250.4, 583.7 251.2 Q 584.4 252.0, 585.4 252.5 Q 586.5 252.9, 588.4 253.6 Q 589.8 252.6, 590.4 251.6 Q 591.1 250.6, 591.1 249.2 Q 591.1 247.6, 590.0 246.7 Q 588.9 245.7, 587.0 245.7 M 587.1 264.6 Q 589.3 264.6, 590.6 263.4 Q 591.9 262.2, 591.9 260.3 Q 591.9 259.1, 591.2 258.3 Q 590.5 257.5, 589.5 257.0 Q 588.5 256.6, 586.6 256.0 L 585.2 255.5 Q 583.5 256.5, 582.8 257.7 Q 582.1 258.8, 582.1 260.3 Q 582.1 262.2, 583.5 263.4 Q 584.9 264.6, 587.1 264.6 \" fill=\"#000000\"/>\n",
       "<path class=\"atom-18\" d=\"M 597.6 262.9 L 600.9 262.9 L 600.9 266.1 L 597.6 266.1 L 597.6 262.9 M 597.6 251.6 L 600.9 251.6 L 600.9 254.9 L 597.6 254.9 L 597.6 251.6 \" fill=\"#000000\"/>\n",
       "<path class=\"atom-18\" d=\"M 603.7 243.6 L 606.8 243.6 L 606.8 253.4 L 618.6 253.4 L 618.6 243.6 L 621.8 243.6 L 621.8 266.7 L 618.6 266.7 L 618.6 256.0 L 606.8 256.0 L 606.8 266.7 L 603.7 266.7 L 603.7 243.6 \" fill=\"#000000\"/>\n",
       "<path class=\"atom-19\" d=\"M 576.7 546.6 L 581.7 546.6 L 581.7 529.3 L 576.1 531.1 L 575.4 529.1 L 582.5 526.0 L 584.8 526.4 L 584.8 546.6 L 589.3 546.6 L 589.3 549.2 L 576.7 549.2 L 576.7 546.6 \" fill=\"#000000\"/>\n",
       "<path class=\"atom-19\" d=\"M 598.9 525.8 Q 603.0 525.8, 605.1 528.6 Q 607.2 531.4, 607.2 537.0 Q 607.2 543.1, 604.6 546.3 Q 602.0 549.5, 597.1 549.5 Q 595.7 549.5, 594.4 549.1 Q 593.2 548.8, 592.0 548.1 L 593.3 545.9 Q 595.0 546.9, 597.1 546.9 Q 600.3 546.9, 602.0 544.8 Q 603.7 542.6, 603.9 538.3 Q 602.7 539.4, 601.2 540.0 Q 599.7 540.5, 598.1 540.5 Q 596.1 540.5, 594.5 539.6 Q 592.9 538.8, 592.0 537.2 Q 591.1 535.6, 591.1 533.5 Q 591.1 531.3, 592.1 529.6 Q 593.1 527.8, 594.9 526.8 Q 596.7 525.8, 598.9 525.8 M 594.4 533.5 Q 594.4 535.6, 595.5 536.7 Q 596.7 537.9, 598.7 537.9 Q 600.1 537.9, 601.5 537.4 Q 602.9 536.8, 603.9 535.8 Q 603.7 532.0, 602.5 530.2 Q 601.3 528.5, 598.9 528.5 Q 597.6 528.5, 596.6 529.2 Q 595.6 529.8, 595.0 531.0 Q 594.4 532.1, 594.4 533.5 \" fill=\"#000000\"/>\n",
       "<path class=\"atom-19\" d=\"M 609.6 545.4 L 612.9 545.4 L 612.9 548.7 L 609.6 548.7 L 609.6 545.4 M 609.6 534.2 L 612.9 534.2 L 612.9 537.4 L 609.6 537.4 L 609.6 534.2 \" fill=\"#000000\"/>\n",
       "<path class=\"atom-19\" d=\"M 615.7 526.1 L 618.8 526.1 L 618.8 535.9 L 630.6 535.9 L 630.6 526.1 L 633.7 526.1 L 633.7 549.2 L 630.6 549.2 L 630.6 538.5 L 618.8 538.5 L 618.8 549.2 L 615.7 549.2 L 615.7 526.1 \" fill=\"#000000\"/>\n",
       "<path class=\"atom-20\" d=\"M 367.3 537.7 Q 368.1 535.5, 370.2 534.3 Q 372.2 533.1, 375.0 533.1 Q 378.5 533.1, 380.5 535.0 Q 382.4 536.8, 382.4 540.2 Q 382.4 543.6, 379.9 546.8 Q 377.3 550.0, 372.1 553.8 L 382.8 553.8 L 382.8 556.4 L 367.2 556.4 L 367.2 554.3 Q 371.5 551.2, 374.1 548.9 Q 376.7 546.6, 377.9 544.6 Q 379.1 542.5, 379.1 540.4 Q 379.1 538.2, 378.0 536.9 Q 376.9 535.7, 375.0 535.7 Q 373.1 535.7, 371.9 536.4 Q 370.7 537.2, 369.8 538.8 L 367.3 537.7 \" fill=\"#000000\"/>\n",
       "<path class=\"atom-20\" d=\"M 393.3 556.7 Q 389.0 556.7, 386.9 553.6 Q 384.8 550.4, 384.8 544.8 Q 384.8 539.3, 386.9 536.2 Q 389.0 533.1, 393.3 533.1 Q 397.5 533.1, 399.6 536.2 Q 401.7 539.3, 401.7 544.8 Q 401.7 550.4, 399.6 553.6 Q 397.5 556.7, 393.3 556.7 M 393.3 554.1 Q 395.8 554.1, 397.1 551.8 Q 398.4 549.4, 398.4 544.8 Q 398.4 540.3, 397.1 538.0 Q 395.8 535.7, 393.3 535.7 Q 390.8 535.7, 389.4 538.0 Q 388.1 540.3, 388.1 544.8 Q 388.1 549.4, 389.4 551.8 Q 390.8 554.1, 393.3 554.1 \" fill=\"#000000\"/>\n",
       "<path class=\"atom-20\" d=\"M 404.2 552.6 L 407.4 552.6 L 407.4 555.9 L 404.2 555.9 L 404.2 552.6 M 404.2 541.4 L 407.4 541.4 L 407.4 544.6 L 404.2 544.6 L 404.2 541.4 \" fill=\"#000000\"/>\n",
       "<path class=\"atom-20\" d=\"M 410.2 533.3 L 413.3 533.3 L 413.3 543.1 L 425.2 543.1 L 425.2 533.3 L 428.3 533.3 L 428.3 556.4 L 425.2 556.4 L 425.2 545.8 L 413.3 545.8 L 413.3 556.4 L 410.2 556.4 L 410.2 533.3 \" fill=\"#000000\"/>\n",
       "<path class=\"atom-21\" d=\"M 693.9 454.4 Q 694.7 452.2, 696.7 451.0 Q 698.7 449.8, 701.6 449.8 Q 705.1 449.8, 707.0 451.7 Q 709.0 453.6, 709.0 456.9 Q 709.0 460.4, 706.4 463.6 Q 703.9 466.8, 698.7 470.5 L 709.4 470.5 L 709.4 473.2 L 693.8 473.2 L 693.8 471.0 Q 698.1 467.9, 700.6 465.6 Q 703.2 463.3, 704.5 461.3 Q 705.7 459.2, 705.7 457.1 Q 705.7 454.9, 704.6 453.6 Q 703.5 452.4, 701.6 452.4 Q 699.7 452.4, 698.5 453.1 Q 697.2 453.9, 696.3 455.6 L 693.9 454.4 \" fill=\"#000000\"/>\n",
       "<path class=\"atom-21\" d=\"M 712.4 470.5 L 717.5 470.5 L 717.5 453.3 L 711.9 455.0 L 711.1 453.1 L 718.2 449.9 L 720.5 450.3 L 720.5 470.5 L 725.1 470.5 L 725.1 473.2 L 712.4 473.2 L 712.4 470.5 \" fill=\"#000000\"/>\n",
       "<path class=\"atom-21\" d=\"M 727.5 469.3 L 730.8 469.3 L 730.8 472.6 L 727.5 472.6 L 727.5 469.3 M 727.5 458.1 L 730.8 458.1 L 730.8 461.4 L 727.5 461.4 L 727.5 458.1 \" fill=\"#000000\"/>\n",
       "<path class=\"atom-21\" d=\"M 733.6 450.0 L 736.7 450.0 L 736.7 459.9 L 748.5 459.9 L 748.5 450.0 L 751.7 450.0 L 751.7 473.2 L 748.5 473.2 L 748.5 462.5 L 736.7 462.5 L 736.7 473.2 L 733.6 473.2 L 733.6 450.0 \" fill=\"#000000\"/>\n",
       "<path class=\"note\" d=\"M 183.8 398.8 L 186.4 398.8 L 186.4 390.1 L 183.6 391.0 L 183.2 390.0 L 186.7 388.4 L 187.9 388.6 L 187.9 398.8 L 190.2 398.8 L 190.2 400.1 L 183.8 400.1 L 183.8 398.8 \" fill=\"#000000\"/>\n",
       "<path class=\"note\" d=\"M 225.9 388.8 Q 226.4 387.7, 227.4 387.1 Q 228.4 386.5, 229.8 386.5 Q 231.5 386.5, 232.5 387.4 Q 233.5 388.4, 233.5 390.1 Q 233.5 391.8, 232.2 393.4 Q 231.0 395.0, 228.3 396.9 L 233.7 396.9 L 233.7 398.2 L 225.9 398.2 L 225.9 397.1 Q 228.1 395.6, 229.3 394.4 Q 230.6 393.3, 231.2 392.2 Q 231.9 391.2, 231.9 390.1 Q 231.9 389.0, 231.3 388.4 Q 230.7 387.8, 229.8 387.8 Q 228.9 387.8, 228.2 388.2 Q 227.6 388.5, 227.2 389.4 L 225.9 388.8 \" fill=\"#000000\"/>\n",
       "<path class=\"note\" d=\"M 313.0 388.5 Q 314.1 388.8, 314.7 389.5 Q 315.2 390.3, 315.2 391.4 Q 315.2 392.4, 314.7 393.1 Q 314.3 393.9, 313.4 394.3 Q 312.5 394.7, 311.3 394.7 Q 310.0 394.7, 309.1 394.3 Q 308.2 393.9, 307.5 393.0 L 308.4 392.0 Q 309.1 392.8, 309.7 393.1 Q 310.3 393.4, 311.3 393.4 Q 312.3 393.4, 313.0 392.9 Q 313.6 392.3, 313.6 391.4 Q 313.6 390.2, 312.9 389.7 Q 312.3 389.1, 310.9 389.1 L 310.0 389.1 L 310.0 388.0 L 310.8 388.0 Q 312.0 388.0, 312.7 387.4 Q 313.4 386.9, 313.4 385.8 Q 313.4 385.1, 312.8 384.6 Q 312.3 384.2, 311.3 384.2 Q 310.3 384.2, 309.7 384.5 Q 309.1 384.9, 308.7 385.7 L 307.6 385.1 Q 308.0 384.2, 309.0 383.5 Q 309.9 382.9, 311.3 382.9 Q 313.0 382.9, 314.0 383.7 Q 315.0 384.5, 315.0 385.8 Q 315.0 386.8, 314.5 387.4 Q 314.0 388.1, 313.0 388.5 \" fill=\"#000000\"/>\n",
       "<path class=\"note\" d=\"M 401.4 382.4 L 402.8 382.4 L 402.8 383.7 L 401.4 383.7 L 401.4 386.3 L 399.9 386.3 L 399.9 383.7 L 393.9 383.7 L 393.9 382.6 L 399.0 374.8 L 401.4 374.8 L 401.4 382.4 M 395.8 382.4 L 399.9 382.4 L 399.9 375.8 L 395.8 382.4 \" fill=\"#000000\"/>\n",
       "<path class=\"note\" d=\"M 465.8 352.6 Q 466.8 352.6, 467.6 353.1 Q 468.4 353.5, 468.8 354.3 Q 469.3 355.1, 469.3 356.1 Q 469.3 357.2, 468.8 358.1 Q 468.3 359.0, 467.4 359.5 Q 466.5 360.0, 465.4 360.0 Q 463.3 360.0, 462.3 358.6 Q 461.3 357.2, 461.3 354.4 Q 461.3 351.3, 462.5 349.7 Q 463.8 348.1, 466.3 348.1 Q 467.0 348.1, 467.6 348.3 Q 468.2 348.5, 468.8 348.8 L 468.2 349.9 Q 467.3 349.4, 466.3 349.4 Q 464.7 349.4, 463.8 350.5 Q 463.0 351.6, 462.9 353.7 Q 463.5 353.2, 464.2 352.9 Q 465.0 352.6, 465.8 352.6 M 465.4 358.6 Q 466.0 358.6, 466.5 358.3 Q 467.1 358.0, 467.4 357.4 Q 467.7 356.8, 467.7 356.1 Q 467.7 355.1, 467.1 354.5 Q 466.5 353.9, 465.5 353.9 Q 464.8 353.9, 464.1 354.2 Q 463.4 354.5, 462.9 355.0 Q 463.0 356.9, 463.6 357.8 Q 464.2 358.6, 465.4 358.6 \" fill=\"#000000\"/>\n",
       "<path class=\"note\" d=\"M 521.5 351.3 Q 522.5 351.8, 523.1 352.4 Q 523.7 353.1, 523.7 354.3 Q 523.7 355.2, 523.2 356.0 Q 522.7 356.8, 521.8 357.2 Q 520.9 357.6, 519.7 357.6 Q 517.8 357.6, 516.7 356.7 Q 515.6 355.8, 515.6 354.3 Q 515.6 353.3, 516.1 352.6 Q 516.5 351.9, 517.6 351.3 Q 516.8 350.9, 516.4 350.3 Q 516.0 349.7, 516.0 348.7 Q 516.0 347.3, 517.0 346.5 Q 518.0 345.7, 519.6 345.7 Q 521.3 345.7, 522.3 346.5 Q 523.3 347.3, 523.3 348.7 Q 523.3 349.5, 522.8 350.2 Q 522.4 350.8, 521.5 351.3 M 519.6 347.0 Q 518.7 347.0, 518.1 347.4 Q 517.6 347.9, 517.6 348.7 Q 517.6 349.3, 518.0 349.7 Q 518.3 350.1, 518.8 350.3 Q 519.4 350.5, 520.4 350.9 Q 521.1 350.4, 521.4 349.9 Q 521.7 349.4, 521.7 348.7 Q 521.7 347.9, 521.1 347.4 Q 520.6 347.0, 519.6 347.0 M 519.7 356.4 Q 520.8 356.4, 521.4 355.8 Q 522.1 355.2, 522.1 354.2 Q 522.1 353.6, 521.8 353.2 Q 521.4 352.8, 520.9 352.6 Q 520.4 352.4, 519.5 352.1 L 518.7 351.8 Q 517.9 352.3, 517.6 352.9 Q 517.2 353.5, 517.2 354.2 Q 517.2 355.2, 517.9 355.8 Q 518.6 356.4, 519.7 356.4 \" fill=\"#000000\"/>\n",
       "<path class=\"note\" d=\"M 548.8 391.6 Q 550.9 391.6, 551.9 393.0 Q 552.9 394.4, 552.9 397.2 Q 552.9 400.3, 551.6 401.9 Q 550.4 403.4, 547.9 403.4 Q 547.2 403.4, 546.6 403.3 Q 546.0 403.1, 545.4 402.8 L 546.0 401.7 Q 546.9 402.1, 547.9 402.1 Q 549.5 402.1, 550.3 401.1 Q 551.2 400.0, 551.3 397.9 Q 550.7 398.4, 549.9 398.7 Q 549.2 399.0, 548.4 399.0 Q 547.4 399.0, 546.6 398.5 Q 545.8 398.1, 545.4 397.3 Q 544.9 396.5, 544.9 395.5 Q 544.9 394.3, 545.4 393.5 Q 545.9 392.6, 546.8 392.1 Q 547.7 391.6, 548.8 391.6 M 546.5 395.5 Q 546.5 396.5, 547.1 397.1 Q 547.7 397.7, 548.7 397.7 Q 549.4 397.7, 550.1 397.4 Q 550.8 397.1, 551.3 396.6 Q 551.2 394.7, 550.6 393.8 Q 550.0 393.0, 548.8 393.0 Q 548.2 393.0, 547.6 393.3 Q 547.1 393.6, 546.8 394.2 Q 546.5 394.8, 546.5 395.5 \" fill=\"#000000\"/>\n",
       "<path class=\"note\" d=\"M 526.0 441.3 L 520.0 441.3 L 520.0 440.0 L 527.7 440.0 L 527.7 441.1 L 523.0 451.5 L 521.4 451.5 L 526.0 441.3 \" fill=\"#000000\"/>\n",
       "<path class=\"note\" d=\"M 469.7 446.7 Q 470.7 446.7, 471.6 447.1 Q 472.4 447.6, 472.9 448.4 Q 473.4 449.2, 473.4 450.3 Q 473.4 451.5, 472.8 452.3 Q 472.2 453.2, 471.3 453.6 Q 470.3 454.1, 469.2 454.1 Q 468.2 454.1, 467.2 453.7 Q 466.2 453.3, 465.5 452.5 L 466.5 451.5 Q 467.1 452.1, 467.8 452.4 Q 468.5 452.8, 469.3 452.8 Q 470.3 452.8, 471.0 452.1 Q 471.7 451.5, 471.7 450.3 Q 471.7 449.1, 471.0 448.5 Q 470.3 447.9, 469.2 447.9 Q 468.2 447.9, 467.0 448.4 L 466.1 447.9 L 466.7 442.4 L 472.6 442.4 L 472.5 443.7 L 468.0 443.7 L 467.7 447.1 Q 468.7 446.7, 469.7 446.7 \" fill=\"#000000\"/>\n",
       "</svg>"
      ],
      "text/plain": [
       "<IPython.core.display.SVG object>"
      ]
     },
     "execution_count": 32,
     "metadata": {},
     "output_type": "execute_result"
    }
   ],
   "source": [
    "svmol1new = visualizations._show_common_core_gradient( mol1, hit_ats1, order1new, percomponent = True, numbers = True)                   \n",
    "SVG(svmol1new)"
   ]
  },
  {
   "cell_type": "code",
   "execution_count": null,
   "id": "b59ce004",
   "metadata": {},
   "outputs": [],
   "source": []
  },
  {
   "cell_type": "code",
   "execution_count": 33,
   "id": "2132ff42",
   "metadata": {},
   "outputs": [
    {
     "data": {
      "image/svg+xml": [
       "<svg xmlns=\"http://www.w3.org/2000/svg\" xmlns:rdkit=\"http://www.rdkit.org/xml\" xmlns:xlink=\"http://www.w3.org/1999/xlink\" version=\"1.1\" baseProfile=\"full\" xml:space=\"preserve\" width=\"800px\" height=\"800px\" viewBox=\"0 0 800 800\">\n",
       "<!-- END OF HEADER -->\n",
       "<rect style=\"opacity:1.0;fill:#FFFFFF;stroke:none\" width=\"800.0\" height=\"800.0\" x=\"0.0\" y=\"0.0\"> </rect>\n",
       "<path d=\"M 168.3,414.3 L 249.9,410.7\" style=\"fill:none;fill-rule:evenodd;stroke:#CCCCCC;stroke-width:17.4px;stroke-linecap:butt;stroke-linejoin:miter;stroke-opacity:1\"/>\n",
       "<path d=\"M 249.9,410.7 L 331.4,407.1\" style=\"fill:none;fill-rule:evenodd;stroke:#CCCCCC;stroke-width:17.4px;stroke-linecap:butt;stroke-linejoin:miter;stroke-opacity:1\"/>\n",
       "<path d=\"M 331.4,407.1 L 413.0,403.5\" style=\"fill:none;fill-rule:evenodd;stroke:#CCCCCC;stroke-width:17.4px;stroke-linecap:butt;stroke-linejoin:miter;stroke-opacity:1\"/>\n",
       "<path d=\"M 413.0,403.5 L 450.6,331.0\" style=\"fill:none;fill-rule:evenodd;stroke:#CCCCCC;stroke-width:17.4px;stroke-linecap:butt;stroke-linejoin:miter;stroke-opacity:1\"/>\n",
       "<path d=\"M 413.0,403.5 L 456.9,472.3\" style=\"fill:none;fill-rule:evenodd;stroke:#CCCCCC;stroke-width:17.4px;stroke-linecap:butt;stroke-linejoin:miter;stroke-opacity:1\"/>\n",
       "<path d=\"M 450.6,331.0 L 532.2,327.4\" style=\"fill:none;fill-rule:evenodd;stroke:#CCCCCC;stroke-width:17.4px;stroke-linecap:butt;stroke-linejoin:miter;stroke-opacity:1\"/>\n",
       "<path d=\"M 532.2,327.4 L 576.1,396.3\" style=\"fill:none;fill-rule:evenodd;stroke:#CCCCCC;stroke-width:17.4px;stroke-linecap:butt;stroke-linejoin:miter;stroke-opacity:1\"/>\n",
       "<path d=\"M 576.1,396.3 L 538.5,468.7\" style=\"fill:none;fill-rule:evenodd;stroke:#CCCCCC;stroke-width:17.4px;stroke-linecap:butt;stroke-linejoin:miter;stroke-opacity:1\"/>\n",
       "<path d=\"M 576.1,396.3 L 657.7,392.6\" style=\"fill:none;fill-rule:evenodd;stroke:#CCCCCC;stroke-width:17.4px;stroke-linecap:butt;stroke-linejoin:miter;stroke-opacity:1\"/>\n",
       "<path d=\"M 538.5,468.7 L 456.9,472.3\" style=\"fill:none;fill-rule:evenodd;stroke:#CCCCCC;stroke-width:17.4px;stroke-linecap:butt;stroke-linejoin:miter;stroke-opacity:1\"/>\n",
       "<path d=\"M 657.7,392.6 L 701.6,461.5\" style=\"fill:none;fill-rule:evenodd;stroke:#CCCCCC;stroke-width:17.4px;stroke-linecap:butt;stroke-linejoin:miter;stroke-opacity:1\"/>\n",
       "<ellipse cx=\"162.0\" cy=\"414.5\" rx=\"29.8\" ry=\"16.7\" style=\"fill:#FF0000;fill-rule:evenodd;stroke:#FF0000;stroke-width:1.0px;stroke-linecap:butt;stroke-linejoin:miter;stroke-opacity:1\"/>\n",
       "<ellipse cx=\"244.8\" cy=\"410.9\" rx=\"27.7\" ry=\"16.7\" style=\"fill:#FF3F00;fill-rule:evenodd;stroke:#FF3F00;stroke-width:1.0px;stroke-linecap:butt;stroke-linejoin:miter;stroke-opacity:1\"/>\n",
       "<ellipse cx=\"325.6\" cy=\"407.2\" rx=\"28.8\" ry=\"16.7\" style=\"fill:#FF7F00;fill-rule:evenodd;stroke:#FF7F00;stroke-width:1.0px;stroke-linecap:butt;stroke-linejoin:miter;stroke-opacity:1\"/>\n",
       "<ellipse cx=\"407.1\" cy=\"403.6\" rx=\"28.8\" ry=\"16.8\" style=\"fill:#FFBF00;fill-rule:evenodd;stroke:#FFBF00;stroke-width:1.0px;stroke-linecap:butt;stroke-linejoin:miter;stroke-opacity:1\"/>\n",
       "<ellipse cx=\"443.8\" cy=\"331.2\" rx=\"30.4\" ry=\"16.7\" style=\"fill:#FFFF00;fill-rule:evenodd;stroke:#FFFF00;stroke-width:1.0px;stroke-linecap:butt;stroke-linejoin:miter;stroke-opacity:1\"/>\n",
       "<ellipse cx=\"526.3\" cy=\"327.6\" rx=\"28.9\" ry=\"16.7\" style=\"fill:#7FFF00;fill-rule:evenodd;stroke:#7FFF00;stroke-width:1.0px;stroke-linecap:butt;stroke-linejoin:miter;stroke-opacity:1\"/>\n",
       "<ellipse cx=\"570.2\" cy=\"396.4\" rx=\"29.1\" ry=\"16.7\" style=\"fill:#00FF00;fill-rule:evenodd;stroke:#00FF00;stroke-width:1.0px;stroke-linecap:butt;stroke-linejoin:miter;stroke-opacity:1\"/>\n",
       "<ellipse cx=\"532.6\" cy=\"468.8\" rx=\"28.7\" ry=\"16.7\" style=\"fill:#3FFF00;fill-rule:evenodd;stroke:#3FFF00;stroke-width:1.0px;stroke-linecap:butt;stroke-linejoin:miter;stroke-opacity:1\"/>\n",
       "<ellipse cx=\"450.8\" cy=\"472.5\" rx=\"29.3\" ry=\"16.8\" style=\"fill:#BFFF00;fill-rule:evenodd;stroke:#BFFF00;stroke-width:1.0px;stroke-linecap:butt;stroke-linejoin:miter;stroke-opacity:1\"/>\n",
       "<ellipse cx=\"672.0\" cy=\"392.8\" rx=\"31.5\" ry=\"16.8\" style=\"fill:#002600;fill-rule:evenodd;stroke:#002600;stroke-width:1.0px;stroke-linecap:butt;stroke-linejoin:miter;stroke-opacity:1\"/>\n",
       "<ellipse cx=\"722.7\" cy=\"461.5\" rx=\"40.9\" ry=\"16.5\" style=\"fill:#002600;fill-rule:evenodd;stroke:#002600;stroke-width:1.0px;stroke-linecap:butt;stroke-linejoin:miter;stroke-opacity:1\"/>\n",
       "<path class=\"bond-0 atom-0 atom-1\" d=\"M 185.1,413.6 L 223.6,411.9\" style=\"fill:none;fill-rule:evenodd;stroke:#000000;stroke-width:2.0px;stroke-linecap:butt;stroke-linejoin:miter;stroke-opacity:1\"/>\n",
       "<path class=\"bond-10 atom-0 atom-10\" d=\"M 138.9,415.6 L 97.1,417.5\" style=\"fill:none;fill-rule:evenodd;stroke:#000000;stroke-width:2.0px;stroke-linecap:butt;stroke-linejoin:miter;stroke-opacity:1\"/>\n",
       "<path class=\"bond-11 atom-0 atom-11\" d=\"M 167.7,400.6 L 165.3,346.1\" style=\"fill:none;fill-rule:evenodd;stroke:#000000;stroke-width:2.0px;stroke-linecap:butt;stroke-linejoin:miter;stroke-opacity:1\"/>\n",
       "<path class=\"bond-12 atom-0 atom-12\" d=\"M 168.9,428.3 L 171.3,482.6\" style=\"fill:none;fill-rule:evenodd;stroke:#000000;stroke-width:2.0px;stroke-linecap:butt;stroke-linejoin:miter;stroke-opacity:1\"/>\n",
       "<path class=\"bond-1 atom-1 atom-2\" d=\"M 266.4,410.0 L 303.6,408.3\" style=\"fill:none;fill-rule:evenodd;stroke:#000000;stroke-width:2.0px;stroke-linecap:butt;stroke-linejoin:miter;stroke-opacity:1\"/>\n",
       "<path class=\"bond-13 atom-1 atom-13\" d=\"M 249.3,397.0 L 246.8,342.5\" style=\"fill:none;fill-rule:evenodd;stroke:#000000;stroke-width:2.0px;stroke-linecap:butt;stroke-linejoin:miter;stroke-opacity:1\"/>\n",
       "<path class=\"bond-14 atom-1 atom-14\" d=\"M 250.5,424.7 L 252.9,479.0\" style=\"fill:none;fill-rule:evenodd;stroke:#000000;stroke-width:2.0px;stroke-linecap:butt;stroke-linejoin:miter;stroke-opacity:1\"/>\n",
       "<path class=\"bond-2 atom-2 atom-3\" d=\"M 348.0,406.4 L 385.2,404.7\" style=\"fill:none;fill-rule:evenodd;stroke:#000000;stroke-width:2.0px;stroke-linecap:butt;stroke-linejoin:miter;stroke-opacity:1\"/>\n",
       "<path class=\"bond-15 atom-2 atom-15\" d=\"M 330.8,393.4 L 328.4,338.9\" style=\"fill:none;fill-rule:evenodd;stroke:#000000;stroke-width:2.0px;stroke-linecap:butt;stroke-linejoin:miter;stroke-opacity:1\"/>\n",
       "<path class=\"bond-16 atom-2 atom-16\" d=\"M 332.1,421.1 L 334.5,475.4\" style=\"fill:none;fill-rule:evenodd;stroke:#000000;stroke-width:2.0px;stroke-linecap:butt;stroke-linejoin:miter;stroke-opacity:1\"/>\n",
       "<path class=\"bond-3 atom-3 atom-4\" d=\"M 420.1,389.8 L 444.0,343.8\" style=\"fill:none;fill-rule:evenodd;stroke:#000000;stroke-width:2.0px;stroke-linecap:butt;stroke-linejoin:miter;stroke-opacity:1\"/>\n",
       "<path class=\"bond-3 atom-3 atom-4\" d=\"M 438.2,390.4 L 454.9,358.3\" style=\"fill:none;fill-rule:evenodd;stroke:#000000;stroke-width:2.0px;stroke-linecap:butt;stroke-linejoin:miter;stroke-opacity:1\"/>\n",
       "<path class=\"bond-9 atom-8 atom-3\" d=\"M 448.1,458.6 L 421.7,417.1\" style=\"fill:none;fill-rule:evenodd;stroke:#000000;stroke-width:2.0px;stroke-linecap:butt;stroke-linejoin:miter;stroke-opacity:1\"/>\n",
       "<path class=\"bond-4 atom-4 atom-5\" d=\"M 467.3,330.3 L 504.3,328.7\" style=\"fill:none;fill-rule:evenodd;stroke:#000000;stroke-width:2.0px;stroke-linecap:butt;stroke-linejoin:miter;stroke-opacity:1\"/>\n",
       "<path class=\"bond-17 atom-4 atom-17\" d=\"M 442.0,317.6 L 415.2,275.5\" style=\"fill:none;fill-rule:evenodd;stroke:#000000;stroke-width:2.0px;stroke-linecap:butt;stroke-linejoin:miter;stroke-opacity:1\"/>\n",
       "<path class=\"bond-5 atom-5 atom-6\" d=\"M 541.1,341.5 L 571.3,388.8\" style=\"fill:none;fill-rule:evenodd;stroke:#000000;stroke-width:2.0px;stroke-linecap:butt;stroke-linejoin:miter;stroke-opacity:1\"/>\n",
       "<path class=\"bond-5 atom-5 atom-6\" d=\"M 531.9,357.3 L 553.0,390.5\" style=\"fill:none;fill-rule:evenodd;stroke:#000000;stroke-width:2.0px;stroke-linecap:butt;stroke-linejoin:miter;stroke-opacity:1\"/>\n",
       "<path class=\"bond-18 atom-5 atom-18\" d=\"M 539.3,313.7 L 562.9,268.3\" style=\"fill:none;fill-rule:evenodd;stroke:#000000;stroke-width:2.0px;stroke-linecap:butt;stroke-linejoin:miter;stroke-opacity:1\"/>\n",
       "<path class=\"bond-6 atom-6 atom-7\" d=\"M 569.3,409.4 L 545.4,455.3\" style=\"fill:none;fill-rule:evenodd;stroke:#000000;stroke-width:2.0px;stroke-linecap:butt;stroke-linejoin:miter;stroke-opacity:1\"/>\n",
       "<path class=\"bond-8 atom-6 atom-9\" d=\"M 592.8,395.5 L 620.4,394.3\" style=\"fill:none;fill-rule:evenodd;stroke:#000000;stroke-width:2.0px;stroke-linecap:butt;stroke-linejoin:miter;stroke-opacity:1\"/>\n",
       "<path class=\"bond-8 atom-6 atom-9\" d=\"M 620.4,394.3 L 648.0,393.1\" style=\"fill:none;fill-rule:evenodd;stroke:#FF0000;stroke-width:2.0px;stroke-linecap:butt;stroke-linejoin:miter;stroke-opacity:1\"/>\n",
       "<path class=\"bond-7 atom-7 atom-8\" d=\"M 510.3,469.9 L 472.9,471.6\" style=\"fill:none;fill-rule:evenodd;stroke:#000000;stroke-width:2.0px;stroke-linecap:butt;stroke-linejoin:miter;stroke-opacity:1\"/>\n",
       "<path class=\"bond-7 atom-7 atom-8\" d=\"M 503.9,453.9 L 477.8,455.0\" style=\"fill:none;fill-rule:evenodd;stroke:#000000;stroke-width:2.0px;stroke-linecap:butt;stroke-linejoin:miter;stroke-opacity:1\"/>\n",
       "<path class=\"bond-19 atom-7 atom-19\" d=\"M 547.4,482.7 L 574.0,524.3\" style=\"fill:none;fill-rule:evenodd;stroke:#000000;stroke-width:2.0px;stroke-linecap:butt;stroke-linejoin:miter;stroke-opacity:1\"/>\n",
       "<path class=\"bond-20 atom-8 atom-20\" d=\"M 450.0,485.5 L 426.1,531.6\" style=\"fill:none;fill-rule:evenodd;stroke:#000000;stroke-width:2.0px;stroke-linecap:butt;stroke-linejoin:miter;stroke-opacity:1\"/>\n",
       "<path class=\"bond-21 atom-9 atom-21\" d=\"M 666.6,406.6 L 679.8,427.4\" style=\"fill:none;fill-rule:evenodd;stroke:#FF0000;stroke-width:2.0px;stroke-linecap:butt;stroke-linejoin:miter;stroke-opacity:1\"/>\n",
       "<path class=\"bond-21 atom-9 atom-21\" d=\"M 679.8,427.4 L 693.1,448.2\" style=\"fill:none;fill-rule:evenodd;stroke:#000000;stroke-width:2.0px;stroke-linecap:butt;stroke-linejoin:miter;stroke-opacity:1\"/>\n",
       "<path class=\"atom-0\" d=\"M 149.4 426.3 Q 145.2 426.3, 143.0 423.1 Q 140.9 420.0, 140.9 414.4 Q 140.9 408.8, 143.0 405.7 Q 145.1 402.6, 149.4 402.6 Q 153.7 402.6, 155.8 405.7 Q 157.9 408.8, 157.9 414.4 Q 157.9 420.0, 155.7 423.1 Q 153.6 426.3, 149.4 426.3 M 149.4 423.7 Q 151.9 423.7, 153.3 421.3 Q 154.6 419.0, 154.6 414.4 Q 154.6 409.9, 153.3 407.6 Q 151.9 405.2, 149.4 405.2 Q 146.9 405.2, 145.5 407.6 Q 144.2 409.9, 144.2 414.4 Q 144.2 419.0, 145.5 421.3 Q 146.9 423.7, 149.4 423.7 \" fill=\"#000000\"/>\n",
       "<path class=\"atom-0\" d=\"M 160.3 422.2 L 163.6 422.2 L 163.6 425.5 L 160.3 425.5 L 160.3 422.2 M 160.3 411.0 L 163.6 411.0 L 163.6 414.2 L 160.3 414.2 L 160.3 411.0 \" fill=\"#000000\"/>\n",
       "<path class=\"atom-0\" d=\"M 165.2 414.4 Q 165.2 408.7, 167.9 405.7 Q 170.6 402.6, 175.7 402.6 Q 180.5 402.6, 183.0 406.0 L 180.9 407.8 Q 179.0 405.3, 175.7 405.3 Q 172.2 405.3, 170.4 407.7 Q 168.5 410.0, 168.5 414.4 Q 168.5 419.0, 170.4 421.3 Q 172.4 423.7, 176.1 423.7 Q 178.6 423.7, 181.6 422.2 L 182.5 424.6 Q 181.3 425.4, 179.5 425.9 Q 177.7 426.3, 175.6 426.3 Q 170.6 426.3, 167.9 423.2 Q 165.2 420.2, 165.2 414.4 \" fill=\"#000000\"/>\n",
       "<path class=\"atom-1\" d=\"M 226.5 419.8 L 231.5 419.8 L 231.5 402.5 L 225.9 404.2 L 225.2 402.3 L 232.3 399.1 L 234.6 399.5 L 234.6 419.8 L 239.1 419.8 L 239.1 422.4 L 226.5 422.4 L 226.5 419.8 \" fill=\"#000000\"/>\n",
       "<path class=\"atom-1\" d=\"M 241.6 418.6 L 244.8 418.6 L 244.8 421.8 L 241.6 421.8 L 241.6 418.6 M 241.6 407.3 L 244.8 407.3 L 244.8 410.6 L 241.6 410.6 L 241.6 407.3 \" fill=\"#000000\"/>\n",
       "<path class=\"atom-1\" d=\"M 246.5 410.8 Q 246.5 405.1, 249.2 402.1 Q 251.9 399.0, 257.0 399.0 Q 261.8 399.0, 264.3 402.4 L 262.2 404.1 Q 260.3 401.7, 257.0 401.7 Q 253.5 401.7, 251.6 404.0 Q 249.8 406.4, 249.8 410.8 Q 249.8 415.4, 251.7 417.7 Q 253.6 420.1, 257.4 420.1 Q 259.9 420.1, 262.9 418.5 L 263.8 421.0 Q 262.6 421.8, 260.8 422.2 Q 258.9 422.7, 256.9 422.7 Q 251.9 422.7, 249.2 419.6 Q 246.5 416.6, 246.5 410.8 \" fill=\"#000000\"/>\n",
       "<path class=\"atom-2\" d=\"M 305.3 400.0 Q 306.1 397.9, 308.2 396.6 Q 310.2 395.4, 313.0 395.4 Q 316.5 395.4, 318.5 397.3 Q 320.4 399.2, 320.4 402.6 Q 320.4 406.0, 317.9 409.2 Q 315.4 412.4, 310.1 416.2 L 320.8 416.2 L 320.8 418.8 L 305.2 418.8 L 305.2 416.6 Q 309.5 413.5, 312.1 411.2 Q 314.7 409.0, 315.9 406.9 Q 317.2 404.8, 317.2 402.7 Q 317.2 400.5, 316.0 399.3 Q 314.9 398.0, 313.0 398.0 Q 311.1 398.0, 309.9 398.8 Q 308.7 399.5, 307.8 401.2 L 305.3 400.0 \" fill=\"#000000\"/>\n",
       "<path class=\"atom-2\" d=\"M 323.3 415.0 L 326.5 415.0 L 326.5 418.2 L 323.3 418.2 L 323.3 415.0 M 323.3 403.7 L 326.5 403.7 L 326.5 407.0 L 323.3 407.0 L 323.3 403.7 \" fill=\"#000000\"/>\n",
       "<path class=\"atom-2\" d=\"M 328.2 407.2 Q 328.2 401.4, 330.8 398.4 Q 333.5 395.4, 338.7 395.4 Q 343.4 395.4, 346.0 398.8 L 343.8 400.5 Q 342.0 398.1, 338.7 398.1 Q 335.2 398.1, 333.3 400.4 Q 331.5 402.8, 331.5 407.2 Q 331.5 411.8, 333.4 414.1 Q 335.3 416.5, 339.0 416.5 Q 341.6 416.5, 344.5 414.9 L 345.5 417.4 Q 344.3 418.2, 342.4 418.6 Q 340.6 419.1, 338.6 419.1 Q 333.5 419.1, 330.8 416.0 Q 328.2 412.9, 328.2 407.2 \" fill=\"#000000\"/>\n",
       "<path class=\"atom-3\" d=\"M 397.9 403.0 Q 400.1 403.6, 401.2 405.1 Q 402.3 406.6, 402.3 408.8 Q 402.3 410.8, 401.3 412.3 Q 400.4 413.8, 398.6 414.7 Q 396.8 415.5, 394.4 415.5 Q 391.9 415.5, 390.1 414.7 Q 388.2 413.8, 386.8 412.0 L 388.6 410.1 Q 390.1 411.7, 391.3 412.3 Q 392.5 412.9, 394.4 412.9 Q 396.5 412.9, 397.8 411.8 Q 399.1 410.6, 399.1 408.8 Q 399.1 406.5, 397.7 405.4 Q 396.4 404.3, 393.6 404.3 L 391.9 404.3 L 391.9 402.0 L 393.4 402.0 Q 395.9 401.9, 397.2 400.9 Q 398.6 399.8, 398.6 397.7 Q 398.6 396.2, 397.5 395.3 Q 396.3 394.4, 394.5 394.4 Q 392.5 394.4, 391.3 395.1 Q 390.1 395.8, 389.2 397.5 L 387.0 396.3 Q 387.8 394.4, 389.7 393.1 Q 391.7 391.8, 394.5 391.8 Q 397.8 391.8, 399.8 393.4 Q 401.8 395.0, 401.8 397.7 Q 401.8 399.6, 400.8 400.9 Q 399.8 402.2, 397.9 403.0 \" fill=\"#000000\"/>\n",
       "<path class=\"atom-3\" d=\"M 404.8 411.4 L 408.0 411.4 L 408.0 414.6 L 404.8 414.6 L 404.8 411.4 M 404.8 400.1 L 408.0 400.1 L 408.0 403.4 L 404.8 403.4 L 404.8 400.1 \" fill=\"#000000\"/>\n",
       "<path class=\"atom-3\" d=\"M 409.7 403.6 Q 409.7 397.8, 412.3 394.8 Q 415.1 391.8, 420.2 391.8 Q 425.0 391.8, 427.5 395.2 L 425.3 396.9 Q 423.5 394.5, 420.2 394.5 Q 416.7 394.5, 414.8 396.8 Q 413.0 399.1, 413.0 403.6 Q 413.0 408.2, 414.9 410.5 Q 416.8 412.9, 420.5 412.9 Q 423.1 412.9, 426.1 411.3 L 427.0 413.8 Q 425.8 414.6, 423.9 415.0 Q 422.1 415.5, 420.1 415.5 Q 415.1 415.5, 412.3 412.4 Q 409.7 409.3, 409.7 403.6 \" fill=\"#000000\"/>\n",
       "<path class=\"atom-4\" d=\"M 437.3 334.8 L 440.1 334.8 L 440.1 337.4 L 437.3 337.4 L 437.3 342.7 L 434.2 342.7 L 434.2 337.4 L 422.3 337.4 L 422.3 335.4 L 432.4 319.6 L 437.3 319.6 L 437.3 334.8 M 426.1 334.8 L 434.2 334.8 L 434.2 321.7 L 426.1 334.8 \" fill=\"#000000\"/>\n",
       "<path class=\"atom-4\" d=\"M 442.5 338.9 L 445.8 338.9 L 445.8 342.2 L 442.5 342.2 L 442.5 338.9 M 442.5 327.7 L 445.8 327.7 L 445.8 330.9 L 442.5 330.9 L 442.5 327.7 \" fill=\"#000000\"/>\n",
       "<path class=\"atom-4\" d=\"M 447.4 331.1 Q 447.4 325.4, 450.1 322.4 Q 452.8 319.4, 458.0 319.4 Q 462.7 319.4, 465.3 322.7 L 463.1 324.5 Q 461.3 322.0, 458.0 322.0 Q 454.5 322.0, 452.6 324.4 Q 450.8 326.7, 450.8 331.1 Q 450.8 335.7, 452.7 338.1 Q 454.6 340.4, 458.3 340.4 Q 460.9 340.4, 463.8 338.9 L 464.7 341.3 Q 463.5 342.1, 461.7 342.6 Q 459.9 343.0, 457.9 343.0 Q 452.8 343.0, 450.1 340.0 Q 447.4 336.9, 447.4 331.1 \" fill=\"#000000\"/>\n",
       "<path class=\"atom-5\" d=\"M 514.3 324.7 Q 516.3 324.7, 518.0 325.5 Q 519.7 326.4, 520.6 328.0 Q 521.6 329.6, 521.6 331.8 Q 521.6 334.2, 520.4 335.9 Q 519.2 337.6, 517.3 338.5 Q 515.5 339.4, 513.3 339.4 Q 511.2 339.4, 509.2 338.6 Q 507.3 337.8, 505.9 336.3 L 507.9 334.3 Q 509.0 335.5, 510.4 336.1 Q 511.9 336.7, 513.4 336.7 Q 515.5 336.7, 516.9 335.5 Q 518.3 334.2, 518.3 331.9 Q 518.3 329.4, 516.9 328.3 Q 515.5 327.1, 513.2 327.1 Q 511.2 327.1, 508.9 328.0 L 507.1 327.1 L 508.2 316.0 L 520.1 316.0 L 519.8 318.6 L 510.9 318.6 L 510.2 325.5 Q 512.3 324.7, 514.3 324.7 \" fill=\"#000000\"/>\n",
       "<path class=\"atom-5\" d=\"M 524.0 335.3 L 527.3 335.3 L 527.3 338.6 L 524.0 338.6 L 524.0 335.3 M 524.0 324.1 L 527.3 324.1 L 527.3 327.3 L 524.0 327.3 L 524.0 324.1 \" fill=\"#000000\"/>\n",
       "<path class=\"atom-5\" d=\"M 528.9 327.5 Q 528.9 321.8, 531.6 318.8 Q 534.3 315.7, 539.4 315.7 Q 544.2 315.7, 546.7 319.1 L 544.6 320.9 Q 542.7 318.4, 539.4 318.4 Q 535.9 318.4, 534.1 320.8 Q 532.2 323.1, 532.2 327.5 Q 532.2 332.1, 534.1 334.5 Q 536.1 336.8, 539.8 336.8 Q 542.3 336.8, 545.3 335.3 L 546.2 337.7 Q 545.0 338.5, 543.2 339.0 Q 541.3 339.4, 539.3 339.4 Q 534.3 339.4, 531.6 336.3 Q 528.9 333.3, 528.9 327.5 \" fill=\"#000000\"/>\n",
       "<path class=\"atom-6\" d=\"M 558.6 393.5 Q 560.7 393.5, 562.3 394.4 Q 563.9 395.3, 564.7 396.9 Q 565.6 398.5, 565.6 400.5 Q 565.6 402.8, 564.6 404.5 Q 563.6 406.2, 561.9 407.2 Q 560.1 408.2, 557.8 408.2 Q 553.7 408.2, 551.6 405.4 Q 549.6 402.6, 549.6 397.1 Q 549.6 390.9, 552.1 387.8 Q 554.7 384.6, 559.6 384.6 Q 561.1 384.6, 562.3 384.9 Q 563.5 385.2, 564.7 385.9 L 563.4 388.1 Q 561.7 387.2, 559.7 387.2 Q 556.4 387.2, 554.7 389.3 Q 553.1 391.4, 552.9 395.7 Q 554.1 394.7, 555.5 394.1 Q 557.0 393.5, 558.6 393.5 M 557.9 405.5 Q 559.1 405.5, 560.1 404.9 Q 561.2 404.2, 561.8 403.1 Q 562.4 401.9, 562.4 400.5 Q 562.4 398.5, 561.2 397.3 Q 560.1 396.1, 558.0 396.1 Q 556.6 396.1, 555.2 396.7 Q 553.9 397.3, 552.9 398.2 Q 553.0 402.1, 554.2 403.8 Q 555.4 405.5, 557.9 405.5 \" fill=\"#000000\"/>\n",
       "<path class=\"atom-6\" d=\"M 568.1 404.1 L 571.3 404.1 L 571.3 407.4 L 568.1 407.4 L 568.1 404.1 M 568.1 392.9 L 571.3 392.9 L 571.3 396.2 L 568.1 396.2 L 568.1 392.9 \" fill=\"#000000\"/>\n",
       "<path class=\"atom-6\" d=\"M 573.0 396.4 Q 573.0 390.6, 575.6 387.6 Q 578.4 384.6, 583.5 384.6 Q 588.3 384.6, 590.8 387.9 L 588.6 389.7 Q 586.8 387.2, 583.5 387.2 Q 580.0 387.2, 578.1 389.6 Q 576.3 391.9, 576.3 396.4 Q 576.3 400.9, 578.2 403.3 Q 580.1 405.6, 583.8 405.6 Q 586.4 405.6, 589.4 404.1 L 590.3 406.5 Q 589.1 407.3, 587.2 407.8 Q 585.4 408.2, 583.4 408.2 Q 578.4 408.2, 575.6 405.2 Q 573.0 402.1, 573.0 396.4 \" fill=\"#000000\"/>\n",
       "<path class=\"atom-7\" d=\"M 524.4 459.9 L 512.3 459.9 L 512.3 457.3 L 527.6 457.3 L 527.6 459.6 L 518.3 480.4 L 515.2 480.4 L 524.4 459.9 \" fill=\"#000000\"/>\n",
       "<path class=\"atom-7\" d=\"M 530.1 476.6 L 533.4 476.6 L 533.4 479.8 L 530.1 479.8 L 530.1 476.6 M 530.1 465.3 L 533.4 465.3 L 533.4 468.6 L 530.1 468.6 L 530.1 465.3 \" fill=\"#000000\"/>\n",
       "<path class=\"atom-7\" d=\"M 535.0 468.8 Q 535.0 463.0, 537.7 460.0 Q 540.4 457.0, 545.5 457.0 Q 550.3 457.0, 552.8 460.4 L 550.7 462.1 Q 548.8 459.7, 545.5 459.7 Q 542.0 459.7, 540.1 462.0 Q 538.3 464.4, 538.3 468.8 Q 538.3 473.4, 540.2 475.7 Q 542.1 478.1, 545.9 478.1 Q 548.4 478.1, 551.4 476.5 L 552.3 479.0 Q 551.1 479.8, 549.3 480.2 Q 547.4 480.7, 545.4 480.7 Q 540.4 480.7, 537.7 477.6 Q 535.0 474.5, 535.0 468.8 \" fill=\"#000000\"/>\n",
       "<path class=\"atom-8\" d=\"M 441.9 471.8 Q 444.0 472.7, 445.2 474.0 Q 446.4 475.4, 446.4 477.7 Q 446.4 479.6, 445.4 481.2 Q 444.4 482.7, 442.6 483.5 Q 440.8 484.3, 438.4 484.3 Q 434.5 484.3, 432.3 482.6 Q 430.1 480.8, 430.1 477.7 Q 430.1 475.8, 431.1 474.4 Q 432.0 472.9, 434.1 471.9 Q 432.6 471.0, 431.7 469.8 Q 430.9 468.5, 430.9 466.5 Q 430.9 463.8, 432.9 462.2 Q 434.9 460.6, 438.2 460.6 Q 441.6 460.6, 443.6 462.2 Q 445.6 463.8, 445.6 466.5 Q 445.6 468.2, 444.6 469.5 Q 443.7 470.7, 441.9 471.8 M 438.2 463.1 Q 436.3 463.1, 435.2 464.0 Q 434.2 464.9, 434.2 466.5 Q 434.2 467.7, 434.9 468.6 Q 435.6 469.3, 436.6 469.8 Q 437.7 470.3, 439.7 470.9 Q 441.1 470.0, 441.7 468.9 Q 442.3 467.9, 442.3 466.5 Q 442.3 464.9, 441.2 464.0 Q 440.2 463.1, 438.2 463.1 M 438.4 481.9 Q 440.5 481.9, 441.8 480.7 Q 443.1 479.6, 443.1 477.6 Q 443.1 476.4, 442.5 475.6 Q 441.8 474.8, 440.7 474.4 Q 439.7 473.9, 437.9 473.3 L 436.4 472.8 Q 434.8 473.8, 434.1 475.0 Q 433.3 476.1, 433.3 477.6 Q 433.3 479.6, 434.7 480.7 Q 436.1 481.9, 438.4 481.9 \" fill=\"#000000\"/>\n",
       "<path class=\"atom-8\" d=\"M 448.9 480.2 L 452.1 480.2 L 452.1 483.4 L 448.9 483.4 L 448.9 480.2 M 448.9 468.9 L 452.1 468.9 L 452.1 472.2 L 448.9 472.2 L 448.9 468.9 \" fill=\"#000000\"/>\n",
       "<path class=\"atom-8\" d=\"M 453.8 472.4 Q 453.8 466.7, 456.4 463.7 Q 459.1 460.6, 464.3 460.6 Q 469.0 460.6, 471.6 464.0 L 469.4 465.7 Q 467.6 463.3, 464.3 463.3 Q 460.8 463.3, 458.9 465.6 Q 457.1 468.0, 457.1 472.4 Q 457.1 477.0, 459.0 479.3 Q 460.9 481.7, 464.6 481.7 Q 467.2 481.7, 470.1 480.1 L 471.1 482.6 Q 469.9 483.4, 468.0 483.8 Q 466.2 484.3, 464.2 484.3 Q 459.1 484.3, 456.4 481.2 Q 453.8 478.2, 453.8 472.4 \" fill=\"#000000\"/>\n",
       "<path class=\"atom-9\" d=\"M 657.4 381.0 Q 661.5 381.0, 663.6 383.8 Q 665.7 386.5, 665.7 392.1 Q 665.7 398.2, 663.1 401.4 Q 660.6 404.6, 655.6 404.6 Q 654.2 404.6, 652.9 404.3 Q 651.7 403.9, 650.6 403.3 L 651.8 401.1 Q 653.5 402.0, 655.6 402.0 Q 658.9 402.0, 660.5 399.9 Q 662.2 397.8, 662.4 393.4 Q 661.2 394.5, 659.7 395.1 Q 658.2 395.6, 656.6 395.6 Q 654.6 395.6, 653.0 394.8 Q 651.4 393.9, 650.5 392.3 Q 649.6 390.7, 649.6 388.7 Q 649.6 386.4, 650.6 384.7 Q 651.6 382.9, 653.4 381.9 Q 655.2 381.0, 657.4 381.0 M 652.9 388.6 Q 652.9 390.7, 654.1 391.9 Q 655.2 393.0, 657.2 393.0 Q 658.6 393.0, 660.0 392.5 Q 661.4 391.9, 662.4 390.9 Q 662.3 387.1, 661.0 385.4 Q 659.8 383.6, 657.4 383.6 Q 656.1 383.6, 655.1 384.3 Q 654.1 384.9, 653.5 386.1 Q 652.9 387.2, 652.9 388.6 \" fill=\"#FF0000\"/>\n",
       "<path class=\"atom-9\" d=\"M 668.1 400.5 L 671.4 400.5 L 671.4 403.8 L 668.1 403.8 L 668.1 400.5 M 668.1 389.3 L 671.4 389.3 L 671.4 392.5 L 668.1 392.5 L 668.1 389.3 \" fill=\"#FF0000\"/>\n",
       "<path class=\"atom-9\" d=\"M 673.0 392.7 Q 673.0 387.2, 675.8 384.1 Q 678.5 381.0, 683.6 381.0 Q 688.8 381.0, 691.5 384.1 Q 694.3 387.2, 694.3 392.7 Q 694.3 398.3, 691.5 401.5 Q 688.7 404.7, 683.6 404.7 Q 678.5 404.7, 675.8 401.5 Q 673.0 398.4, 673.0 392.7 M 683.6 402.1 Q 687.2 402.1, 689.1 399.7 Q 691.0 397.3, 691.0 392.7 Q 691.0 388.2, 689.1 385.9 Q 687.2 383.6, 683.6 383.6 Q 680.1 383.6, 678.2 385.9 Q 676.3 388.1, 676.3 392.7 Q 676.3 397.4, 678.2 399.7 Q 680.1 402.1, 683.6 402.1 \" fill=\"#FF0000\"/>\n",
       "<path class=\"atom-10\" d=\"M 37.6 427.0 L 42.7 427.0 L 42.7 409.7 L 37.1 411.5 L 36.4 409.5 L 43.4 406.4 L 45.8 406.8 L 45.8 427.0 L 50.3 427.0 L 50.3 429.6 L 37.6 429.6 L 37.6 427.0 \" fill=\"#000000\"/>\n",
       "<path class=\"atom-10\" d=\"M 60.8 429.9 Q 56.5 429.9, 54.4 426.8 Q 52.3 423.6, 52.3 418.0 Q 52.3 412.5, 54.4 409.3 Q 56.5 406.2, 60.8 406.2 Q 65.0 406.2, 67.1 409.3 Q 69.2 412.5, 69.2 418.0 Q 69.2 423.6, 67.1 426.8 Q 65.0 429.9, 60.8 429.9 M 60.8 427.3 Q 63.3 427.3, 64.6 425.0 Q 65.9 422.6, 65.9 418.0 Q 65.9 413.5, 64.6 411.2 Q 63.3 408.9, 60.8 408.9 Q 58.3 408.9, 56.9 411.2 Q 55.6 413.5, 55.6 418.0 Q 55.6 422.6, 56.9 425.0 Q 58.3 427.3, 60.8 427.3 \" fill=\"#000000\"/>\n",
       "<path class=\"atom-10\" d=\"M 71.7 425.8 L 74.9 425.8 L 74.9 429.1 L 71.7 429.1 L 71.7 425.8 M 71.7 414.6 L 74.9 414.6 L 74.9 417.8 L 71.7 417.8 L 71.7 414.6 \" fill=\"#000000\"/>\n",
       "<path class=\"atom-10\" d=\"M 77.7 406.5 L 80.8 406.5 L 80.8 416.3 L 92.7 416.3 L 92.7 406.5 L 95.8 406.5 L 95.8 429.6 L 92.7 429.6 L 92.7 418.9 L 80.8 418.9 L 80.8 429.6 L 77.7 429.6 L 77.7 406.5 \" fill=\"#000000\"/>\n",
       "<path class=\"atom-11\" d=\"M 159.0 341.8 L 164.1 341.8 L 164.1 324.5 L 158.5 326.2 L 157.7 324.3 L 164.8 321.1 L 167.1 321.5 L 167.1 341.8 L 171.7 341.8 L 171.7 344.4 L 159.0 344.4 L 159.0 341.8 \" fill=\"#000000\"/>\n",
       "<path class=\"atom-11\" d=\"M 174.7 341.8 L 179.8 341.8 L 179.8 324.5 L 174.2 326.2 L 173.4 324.3 L 180.5 321.1 L 182.8 321.5 L 182.8 341.8 L 187.4 341.8 L 187.4 344.4 L 174.7 344.4 L 174.7 341.8 \" fill=\"#000000\"/>\n",
       "<path class=\"atom-11\" d=\"M 189.8 340.6 L 193.1 340.6 L 193.1 343.8 L 189.8 343.8 L 189.8 340.6 M 189.8 329.3 L 193.1 329.3 L 193.1 332.6 L 189.8 332.6 L 189.8 329.3 \" fill=\"#000000\"/>\n",
       "<path class=\"atom-11\" d=\"M 195.9 321.3 L 199.0 321.3 L 199.0 331.1 L 210.8 331.1 L 210.8 321.3 L 214.0 321.3 L 214.0 344.4 L 210.8 344.4 L 210.8 333.7 L 199.0 333.7 L 199.0 344.4 L 195.9 344.4 L 195.9 321.3 \" fill=\"#000000\"/>\n",
       "<path class=\"atom-12\" d=\"M 166.2 505.0 L 171.3 505.0 L 171.3 487.7 L 165.7 489.4 L 165.0 487.5 L 172.0 484.3 L 174.4 484.7 L 174.4 505.0 L 178.9 505.0 L 178.9 507.6 L 166.2 507.6 L 166.2 505.0 \" fill=\"#000000\"/>\n",
       "<path class=\"atom-12\" d=\"M 180.6 488.8 Q 181.4 486.6, 183.5 485.4 Q 185.5 484.2, 188.3 484.2 Q 191.8 484.2, 193.8 486.1 Q 195.7 488.0, 195.7 491.3 Q 195.7 494.8, 193.2 498.0 Q 190.7 501.2, 185.4 505.0 L 196.1 505.0 L 196.1 507.6 L 180.5 507.6 L 180.5 505.4 Q 184.8 502.3, 187.4 500.0 Q 190.0 497.7, 191.2 495.7 Q 192.4 493.6, 192.4 491.5 Q 192.4 489.3, 191.3 488.0 Q 190.2 486.8, 188.3 486.8 Q 186.4 486.8, 185.2 487.6 Q 184.0 488.3, 183.1 490.0 L 180.6 488.8 \" fill=\"#000000\"/>\n",
       "<path class=\"atom-12\" d=\"M 198.6 503.8 L 201.8 503.8 L 201.8 507.0 L 198.6 507.0 L 198.6 503.8 M 198.6 492.5 L 201.8 492.5 L 201.8 495.8 L 198.6 495.8 L 198.6 492.5 \" fill=\"#000000\"/>\n",
       "<path class=\"atom-12\" d=\"M 204.6 484.5 L 207.7 484.5 L 207.7 494.3 L 219.6 494.3 L 219.6 484.5 L 222.7 484.5 L 222.7 507.6 L 219.6 507.6 L 219.6 496.9 L 207.7 496.9 L 207.7 507.6 L 204.6 507.6 L 204.6 484.5 \" fill=\"#000000\"/>\n",
       "<path class=\"atom-13\" d=\"M 240.6 338.2 L 245.6 338.2 L 245.6 321.0 L 240.0 322.7 L 239.3 320.8 L 246.4 317.6 L 248.7 318.0 L 248.7 338.2 L 253.2 338.2 L 253.2 340.8 L 240.6 340.8 L 240.6 338.2 \" fill=\"#000000\"/>\n",
       "<path class=\"atom-13\" d=\"M 265.7 328.7 Q 268.0 329.3, 269.0 330.8 Q 270.1 332.2, 270.1 334.5 Q 270.1 336.5, 269.2 338.0 Q 268.2 339.5, 266.4 340.4 Q 264.6 341.2, 262.2 341.2 Q 259.8 341.2, 257.9 340.3 Q 256.1 339.4, 254.6 337.7 L 256.5 335.8 Q 257.9 337.3, 259.1 338.0 Q 260.3 338.6, 262.2 338.6 Q 264.3 338.6, 265.6 337.4 Q 266.9 336.3, 266.9 334.5 Q 266.9 332.1, 265.5 331.1 Q 264.2 330.0, 261.4 330.0 L 259.7 330.0 L 259.7 327.6 L 261.2 327.6 Q 263.7 327.6, 265.0 326.5 Q 266.4 325.4, 266.4 323.4 Q 266.4 321.9, 265.3 321.0 Q 264.2 320.1, 262.3 320.1 Q 260.3 320.1, 259.1 320.8 Q 258.0 321.4, 257.0 323.2 L 254.8 322.0 Q 255.6 320.0, 257.6 318.8 Q 259.5 317.5, 262.3 317.5 Q 265.7 317.5, 267.7 319.1 Q 269.7 320.7, 269.7 323.4 Q 269.7 325.2, 268.6 326.6 Q 267.6 327.9, 265.7 328.7 \" fill=\"#000000\"/>\n",
       "<path class=\"atom-13\" d=\"M 272.6 337.0 L 275.9 337.0 L 275.9 340.3 L 272.6 340.3 L 272.6 337.0 M 272.6 325.8 L 275.9 325.8 L 275.9 329.1 L 272.6 329.1 L 272.6 325.8 \" fill=\"#000000\"/>\n",
       "<path class=\"atom-13\" d=\"M 278.6 317.7 L 281.8 317.7 L 281.8 327.6 L 293.6 327.6 L 293.6 317.7 L 296.7 317.7 L 296.7 340.8 L 293.6 340.8 L 293.6 330.2 L 281.8 330.2 L 281.8 340.8 L 278.6 340.8 L 278.6 317.7 \" fill=\"#000000\"/>\n",
       "<path class=\"atom-14\" d=\"M 247.8 501.3 L 252.8 501.3 L 252.8 484.0 L 247.3 485.7 L 246.5 483.8 L 253.6 480.6 L 255.9 481.0 L 255.9 501.3 L 260.5 501.3 L 260.5 503.9 L 247.8 503.9 L 247.8 501.3 \" fill=\"#000000\"/>\n",
       "<path class=\"atom-14\" d=\"M 276.5 496.0 L 279.2 496.0 L 279.2 498.6 L 276.5 498.6 L 276.5 503.9 L 273.4 503.9 L 273.4 498.6 L 261.4 498.6 L 261.4 496.5 L 271.6 480.8 L 276.5 480.8 L 276.5 496.0 M 265.2 496.0 L 273.4 496.0 L 273.4 482.9 L 265.2 496.0 \" fill=\"#000000\"/>\n",
       "<path class=\"atom-14\" d=\"M 281.7 500.1 L 284.9 500.1 L 284.9 503.3 L 281.7 503.3 L 281.7 500.1 M 281.7 488.8 L 284.9 488.8 L 284.9 492.1 L 281.7 492.1 L 281.7 488.8 \" fill=\"#000000\"/>\n",
       "<path class=\"atom-14\" d=\"M 287.7 480.8 L 290.9 480.8 L 290.9 490.6 L 302.7 490.6 L 302.7 480.8 L 305.8 480.8 L 305.8 503.9 L 302.7 503.9 L 302.7 493.2 L 290.9 493.2 L 290.9 503.9 L 287.7 503.9 L 287.7 480.8 \" fill=\"#000000\"/>\n",
       "<path class=\"atom-15\" d=\"M 322.1 334.5 L 327.2 334.5 L 327.2 317.3 L 321.6 319.0 L 320.8 317.1 L 327.9 313.9 L 330.2 314.3 L 330.2 334.5 L 334.8 334.5 L 334.8 337.2 L 322.1 337.2 L 322.1 334.5 \" fill=\"#000000\"/>\n",
       "<path class=\"atom-15\" d=\"M 344.7 322.7 Q 346.7 322.7, 348.4 323.6 Q 350.0 324.4, 351.0 326.1 Q 351.9 327.7, 351.9 329.8 Q 351.9 332.2, 350.8 334.0 Q 349.6 335.7, 347.7 336.5 Q 345.8 337.4, 343.7 337.4 Q 341.5 337.4, 339.6 336.6 Q 337.6 335.9, 336.3 334.4 L 338.2 332.3 Q 339.3 333.5, 340.8 334.2 Q 342.3 334.8, 343.8 334.8 Q 345.8 334.8, 347.2 333.5 Q 348.7 332.2, 348.7 329.9 Q 348.7 327.5, 347.2 326.3 Q 345.8 325.1, 343.6 325.1 Q 341.5 325.1, 339.3 326.0 L 337.5 325.2 L 338.6 314.0 L 350.5 314.0 L 350.2 316.7 L 341.3 316.7 L 340.6 323.5 Q 342.7 322.7, 344.7 322.7 \" fill=\"#000000\"/>\n",
       "<path class=\"atom-15\" d=\"M 354.4 333.3 L 357.6 333.3 L 357.6 336.6 L 354.4 336.6 L 354.4 333.3 M 354.4 322.1 L 357.6 322.1 L 357.6 325.4 L 354.4 325.4 L 354.4 322.1 \" fill=\"#000000\"/>\n",
       "<path class=\"atom-15\" d=\"M 360.4 314.0 L 363.6 314.0 L 363.6 323.9 L 375.4 323.9 L 375.4 314.0 L 378.5 314.0 L 378.5 337.2 L 375.4 337.2 L 375.4 326.5 L 363.6 326.5 L 363.6 337.2 L 360.4 337.2 L 360.4 314.0 \" fill=\"#000000\"/>\n",
       "<path class=\"atom-16\" d=\"M 329.3 497.7 L 334.4 497.7 L 334.4 480.5 L 328.8 482.2 L 328.1 480.3 L 335.2 477.1 L 337.5 477.5 L 337.5 497.7 L 342.0 497.7 L 342.0 500.3 L 329.3 500.3 L 329.3 497.7 \" fill=\"#000000\"/>\n",
       "<path class=\"atom-16\" d=\"M 353.3 485.9 Q 355.3 485.9, 356.9 486.8 Q 358.5 487.7, 359.4 489.3 Q 360.3 490.9, 360.3 492.9 Q 360.3 495.2, 359.3 496.9 Q 358.3 498.6, 356.5 499.6 Q 354.7 500.6, 352.5 500.6 Q 348.4 500.6, 346.3 497.8 Q 344.2 495.0, 344.2 489.5 Q 344.2 483.3, 346.8 480.2 Q 349.4 477.0, 354.3 477.0 Q 355.7 477.0, 356.9 477.3 Q 358.2 477.6, 359.4 478.3 L 358.1 480.5 Q 356.4 479.6, 354.3 479.6 Q 351.1 479.6, 349.4 481.7 Q 347.7 483.8, 347.5 488.1 Q 348.7 487.1, 350.2 486.5 Q 351.7 485.9, 353.3 485.9 M 352.5 497.9 Q 353.8 497.9, 354.8 497.3 Q 355.8 496.6, 356.4 495.5 Q 357.0 494.3, 357.0 492.9 Q 357.0 490.9, 355.9 489.7 Q 354.7 488.5, 352.7 488.5 Q 351.3 488.5, 349.9 489.1 Q 348.5 489.7, 347.5 490.6 Q 347.7 494.5, 348.9 496.2 Q 350.1 497.9, 352.5 497.9 \" fill=\"#000000\"/>\n",
       "<path class=\"atom-16\" d=\"M 362.7 496.5 L 366.0 496.5 L 366.0 499.8 L 362.7 499.8 L 362.7 496.5 M 362.7 485.3 L 366.0 485.3 L 366.0 488.6 L 362.7 488.6 L 362.7 485.3 \" fill=\"#000000\"/>\n",
       "<path class=\"atom-16\" d=\"M 368.8 477.2 L 371.9 477.2 L 371.9 487.1 L 383.7 487.1 L 383.7 477.2 L 386.9 477.2 L 386.9 500.3 L 383.7 500.3 L 383.7 489.7 L 371.9 489.7 L 371.9 500.3 L 368.8 500.3 L 368.8 477.2 \" fill=\"#000000\"/>\n",
       "<path class=\"atom-17\" d=\"M 360.6 271.2 L 365.6 271.2 L 365.6 254.0 L 360.1 255.7 L 359.3 253.8 L 366.4 250.6 L 368.7 251.0 L 368.7 271.2 L 373.3 271.2 L 373.3 273.8 L 360.6 273.8 L 360.6 271.2 \" fill=\"#000000\"/>\n",
       "<path class=\"atom-17\" d=\"M 386.0 253.3 L 373.8 253.3 L 373.8 250.7 L 389.2 250.7 L 389.2 253.0 L 379.9 273.8 L 376.7 273.8 L 386.0 253.3 \" fill=\"#000000\"/>\n",
       "<path class=\"atom-17\" d=\"M 391.6 270.0 L 394.9 270.0 L 394.9 273.3 L 391.6 273.3 L 391.6 270.0 M 391.6 258.8 L 394.9 258.8 L 394.9 262.1 L 391.6 262.1 L 391.6 258.8 \" fill=\"#000000\"/>\n",
       "<path class=\"atom-17\" d=\"M 397.7 250.7 L 400.8 250.7 L 400.8 260.6 L 412.6 260.6 L 412.6 250.7 L 415.8 250.7 L 415.8 273.8 L 412.6 273.8 L 412.6 263.2 L 400.8 263.2 L 400.8 273.8 L 397.7 273.8 L 397.7 250.7 \" fill=\"#000000\"/>\n",
       "<path class=\"atom-18\" d=\"M 564.1 264.1 L 569.2 264.1 L 569.2 246.8 L 563.6 248.5 L 562.9 246.6 L 570.0 243.4 L 572.3 243.8 L 572.3 264.1 L 576.8 264.1 L 576.8 266.7 L 564.1 266.7 L 564.1 264.1 \" fill=\"#000000\"/>\n",
       "<path class=\"atom-18\" d=\"M 590.6 254.4 Q 592.8 255.4, 594.0 256.7 Q 595.2 258.1, 595.2 260.3 Q 595.2 262.3, 594.2 263.8 Q 593.1 265.3, 591.3 266.2 Q 589.5 267.0, 587.1 267.0 Q 583.3 267.0, 581.1 265.2 Q 578.8 263.4, 578.8 260.3 Q 578.8 258.5, 579.8 257.0 Q 580.8 255.6, 582.8 254.5 Q 581.3 253.7, 580.5 252.4 Q 579.7 251.2, 579.7 249.2 Q 579.7 246.5, 581.7 244.9 Q 583.6 243.3, 587.0 243.3 Q 590.4 243.3, 592.3 244.9 Q 594.3 246.5, 594.3 249.2 Q 594.3 250.9, 593.4 252.2 Q 592.5 253.4, 590.6 254.4 M 587.0 245.7 Q 585.1 245.7, 584.0 246.7 Q 583.0 247.6, 583.0 249.2 Q 583.0 250.4, 583.7 251.2 Q 584.4 252.0, 585.4 252.5 Q 586.5 252.9, 588.4 253.6 Q 589.8 252.6, 590.4 251.6 Q 591.1 250.6, 591.1 249.2 Q 591.1 247.6, 590.0 246.7 Q 588.9 245.7, 587.0 245.7 M 587.1 264.6 Q 589.3 264.6, 590.6 263.4 Q 591.9 262.2, 591.9 260.3 Q 591.9 259.1, 591.2 258.3 Q 590.5 257.5, 589.5 257.0 Q 588.5 256.6, 586.6 256.0 L 585.2 255.5 Q 583.5 256.5, 582.8 257.7 Q 582.1 258.8, 582.1 260.3 Q 582.1 262.2, 583.5 263.4 Q 584.9 264.6, 587.1 264.6 \" fill=\"#000000\"/>\n",
       "<path class=\"atom-18\" d=\"M 597.6 262.9 L 600.9 262.9 L 600.9 266.1 L 597.6 266.1 L 597.6 262.9 M 597.6 251.6 L 600.9 251.6 L 600.9 254.9 L 597.6 254.9 L 597.6 251.6 \" fill=\"#000000\"/>\n",
       "<path class=\"atom-18\" d=\"M 603.7 243.6 L 606.8 243.6 L 606.8 253.4 L 618.6 253.4 L 618.6 243.6 L 621.8 243.6 L 621.8 266.7 L 618.6 266.7 L 618.6 256.0 L 606.8 256.0 L 606.8 266.7 L 603.7 266.7 L 603.7 243.6 \" fill=\"#000000\"/>\n",
       "<path class=\"atom-19\" d=\"M 576.7 546.6 L 581.7 546.6 L 581.7 529.3 L 576.1 531.1 L 575.4 529.1 L 582.5 526.0 L 584.8 526.4 L 584.8 546.6 L 589.3 546.6 L 589.3 549.2 L 576.7 549.2 L 576.7 546.6 \" fill=\"#000000\"/>\n",
       "<path class=\"atom-19\" d=\"M 598.9 525.8 Q 603.0 525.8, 605.1 528.6 Q 607.2 531.4, 607.2 537.0 Q 607.2 543.1, 604.6 546.3 Q 602.0 549.5, 597.1 549.5 Q 595.7 549.5, 594.4 549.1 Q 593.2 548.8, 592.0 548.1 L 593.3 545.9 Q 595.0 546.9, 597.1 546.9 Q 600.3 546.9, 602.0 544.8 Q 603.7 542.6, 603.9 538.3 Q 602.7 539.4, 601.2 540.0 Q 599.7 540.5, 598.1 540.5 Q 596.1 540.5, 594.5 539.6 Q 592.9 538.8, 592.0 537.2 Q 591.1 535.6, 591.1 533.5 Q 591.1 531.3, 592.1 529.6 Q 593.1 527.8, 594.9 526.8 Q 596.7 525.8, 598.9 525.8 M 594.4 533.5 Q 594.4 535.6, 595.5 536.7 Q 596.7 537.9, 598.7 537.9 Q 600.1 537.9, 601.5 537.4 Q 602.9 536.8, 603.9 535.8 Q 603.7 532.0, 602.5 530.2 Q 601.3 528.5, 598.9 528.5 Q 597.6 528.5, 596.6 529.2 Q 595.6 529.8, 595.0 531.0 Q 594.4 532.1, 594.4 533.5 \" fill=\"#000000\"/>\n",
       "<path class=\"atom-19\" d=\"M 609.6 545.4 L 612.9 545.4 L 612.9 548.7 L 609.6 548.7 L 609.6 545.4 M 609.6 534.2 L 612.9 534.2 L 612.9 537.4 L 609.6 537.4 L 609.6 534.2 \" fill=\"#000000\"/>\n",
       "<path class=\"atom-19\" d=\"M 615.7 526.1 L 618.8 526.1 L 618.8 535.9 L 630.6 535.9 L 630.6 526.1 L 633.7 526.1 L 633.7 549.2 L 630.6 549.2 L 630.6 538.5 L 618.8 538.5 L 618.8 549.2 L 615.7 549.2 L 615.7 526.1 \" fill=\"#000000\"/>\n",
       "<path class=\"atom-20\" d=\"M 367.3 537.7 Q 368.1 535.5, 370.2 534.3 Q 372.2 533.1, 375.0 533.1 Q 378.5 533.1, 380.5 535.0 Q 382.4 536.8, 382.4 540.2 Q 382.4 543.6, 379.9 546.8 Q 377.3 550.0, 372.1 553.8 L 382.8 553.8 L 382.8 556.4 L 367.2 556.4 L 367.2 554.3 Q 371.5 551.2, 374.1 548.9 Q 376.7 546.6, 377.9 544.6 Q 379.1 542.5, 379.1 540.4 Q 379.1 538.2, 378.0 536.9 Q 376.9 535.7, 375.0 535.7 Q 373.1 535.7, 371.9 536.4 Q 370.7 537.2, 369.8 538.8 L 367.3 537.7 \" fill=\"#000000\"/>\n",
       "<path class=\"atom-20\" d=\"M 393.3 556.7 Q 389.0 556.7, 386.9 553.6 Q 384.8 550.4, 384.8 544.8 Q 384.8 539.3, 386.9 536.2 Q 389.0 533.1, 393.3 533.1 Q 397.5 533.1, 399.6 536.2 Q 401.7 539.3, 401.7 544.8 Q 401.7 550.4, 399.6 553.6 Q 397.5 556.7, 393.3 556.7 M 393.3 554.1 Q 395.8 554.1, 397.1 551.8 Q 398.4 549.4, 398.4 544.8 Q 398.4 540.3, 397.1 538.0 Q 395.8 535.7, 393.3 535.7 Q 390.8 535.7, 389.4 538.0 Q 388.1 540.3, 388.1 544.8 Q 388.1 549.4, 389.4 551.8 Q 390.8 554.1, 393.3 554.1 \" fill=\"#000000\"/>\n",
       "<path class=\"atom-20\" d=\"M 404.2 552.6 L 407.4 552.6 L 407.4 555.9 L 404.2 555.9 L 404.2 552.6 M 404.2 541.4 L 407.4 541.4 L 407.4 544.6 L 404.2 544.6 L 404.2 541.4 \" fill=\"#000000\"/>\n",
       "<path class=\"atom-20\" d=\"M 410.2 533.3 L 413.3 533.3 L 413.3 543.1 L 425.2 543.1 L 425.2 533.3 L 428.3 533.3 L 428.3 556.4 L 425.2 556.4 L 425.2 545.8 L 413.3 545.8 L 413.3 556.4 L 410.2 556.4 L 410.2 533.3 \" fill=\"#000000\"/>\n",
       "<path class=\"atom-21\" d=\"M 693.9 454.4 Q 694.7 452.2, 696.7 451.0 Q 698.7 449.8, 701.6 449.8 Q 705.1 449.8, 707.0 451.7 Q 709.0 453.6, 709.0 456.9 Q 709.0 460.4, 706.4 463.6 Q 703.9 466.8, 698.7 470.5 L 709.4 470.5 L 709.4 473.2 L 693.8 473.2 L 693.8 471.0 Q 698.1 467.9, 700.6 465.6 Q 703.2 463.3, 704.5 461.3 Q 705.7 459.2, 705.7 457.1 Q 705.7 454.9, 704.6 453.6 Q 703.5 452.4, 701.6 452.4 Q 699.7 452.4, 698.5 453.1 Q 697.2 453.9, 696.3 455.6 L 693.9 454.4 \" fill=\"#000000\"/>\n",
       "<path class=\"atom-21\" d=\"M 712.4 470.5 L 717.5 470.5 L 717.5 453.3 L 711.9 455.0 L 711.1 453.1 L 718.2 449.9 L 720.5 450.3 L 720.5 470.5 L 725.1 470.5 L 725.1 473.2 L 712.4 473.2 L 712.4 470.5 \" fill=\"#000000\"/>\n",
       "<path class=\"atom-21\" d=\"M 727.5 469.3 L 730.8 469.3 L 730.8 472.6 L 727.5 472.6 L 727.5 469.3 M 727.5 458.1 L 730.8 458.1 L 730.8 461.4 L 727.5 461.4 L 727.5 458.1 \" fill=\"#000000\"/>\n",
       "<path class=\"atom-21\" d=\"M 733.6 450.0 L 736.7 450.0 L 736.7 459.9 L 748.5 459.9 L 748.5 450.0 L 751.7 450.0 L 751.7 473.2 L 748.5 473.2 L 748.5 462.5 L 736.7 462.5 L 736.7 473.2 L 733.6 473.2 L 733.6 450.0 \" fill=\"#000000\"/>\n",
       "<path class=\"note\" d=\"M 183.8 398.8 L 186.4 398.8 L 186.4 390.1 L 183.6 391.0 L 183.2 390.0 L 186.7 388.4 L 187.9 388.6 L 187.9 398.8 L 190.2 398.8 L 190.2 400.1 L 183.8 400.1 L 183.8 398.8 \" fill=\"#000000\"/>\n",
       "<path class=\"note\" d=\"M 225.9 388.8 Q 226.4 387.7, 227.4 387.1 Q 228.4 386.5, 229.8 386.5 Q 231.5 386.5, 232.5 387.4 Q 233.5 388.4, 233.5 390.1 Q 233.5 391.8, 232.2 393.4 Q 231.0 395.0, 228.3 396.9 L 233.7 396.9 L 233.7 398.2 L 225.9 398.2 L 225.9 397.1 Q 228.1 395.6, 229.3 394.4 Q 230.6 393.3, 231.2 392.2 Q 231.9 391.2, 231.9 390.1 Q 231.9 389.0, 231.3 388.4 Q 230.7 387.8, 229.8 387.8 Q 228.9 387.8, 228.2 388.2 Q 227.6 388.5, 227.2 389.4 L 225.9 388.8 \" fill=\"#000000\"/>\n",
       "<path class=\"note\" d=\"M 313.0 388.5 Q 314.1 388.8, 314.7 389.5 Q 315.2 390.3, 315.2 391.4 Q 315.2 392.4, 314.7 393.1 Q 314.3 393.9, 313.4 394.3 Q 312.5 394.7, 311.3 394.7 Q 310.0 394.7, 309.1 394.3 Q 308.2 393.9, 307.5 393.0 L 308.4 392.0 Q 309.1 392.8, 309.7 393.1 Q 310.3 393.4, 311.3 393.4 Q 312.3 393.4, 313.0 392.9 Q 313.6 392.3, 313.6 391.4 Q 313.6 390.2, 312.9 389.7 Q 312.3 389.1, 310.9 389.1 L 310.0 389.1 L 310.0 388.0 L 310.8 388.0 Q 312.0 388.0, 312.7 387.4 Q 313.4 386.9, 313.4 385.8 Q 313.4 385.1, 312.8 384.6 Q 312.3 384.2, 311.3 384.2 Q 310.3 384.2, 309.7 384.5 Q 309.1 384.9, 308.7 385.7 L 307.6 385.1 Q 308.0 384.2, 309.0 383.5 Q 309.9 382.9, 311.3 382.9 Q 313.0 382.9, 314.0 383.7 Q 315.0 384.5, 315.0 385.8 Q 315.0 386.8, 314.5 387.4 Q 314.0 388.1, 313.0 388.5 \" fill=\"#000000\"/>\n",
       "<path class=\"note\" d=\"M 401.4 382.4 L 402.8 382.4 L 402.8 383.7 L 401.4 383.7 L 401.4 386.3 L 399.9 386.3 L 399.9 383.7 L 393.9 383.7 L 393.9 382.6 L 399.0 374.8 L 401.4 374.8 L 401.4 382.4 M 395.8 382.4 L 399.9 382.4 L 399.9 375.8 L 395.8 382.4 \" fill=\"#000000\"/>\n",
       "<path class=\"note\" d=\"M 465.6 352.5 Q 466.6 352.5, 467.4 353.0 Q 468.2 353.4, 468.7 354.2 Q 469.2 355.0, 469.2 356.1 Q 469.2 357.3, 468.6 358.2 Q 468.0 359.0, 467.1 359.5 Q 466.1 359.9, 465.1 359.9 Q 464.0 359.9, 463.0 359.5 Q 462.0 359.1, 461.4 358.4 L 462.3 357.3 Q 462.9 357.9, 463.6 358.3 Q 464.4 358.6, 465.1 358.6 Q 466.1 358.6, 466.8 357.9 Q 467.6 357.3, 467.6 356.1 Q 467.6 354.9, 466.8 354.3 Q 466.1 353.8, 465.0 353.8 Q 464.0 353.8, 462.9 354.2 L 462.0 353.8 L 462.5 348.2 L 468.5 348.2 L 468.3 349.5 L 463.9 349.5 L 463.5 352.9 Q 464.5 352.5, 465.6 352.5 \" fill=\"#000000\"/>\n",
       "<path class=\"note\" d=\"M 521.9 347.1 L 515.8 347.1 L 515.8 345.8 L 523.5 345.8 L 523.5 347.0 L 518.8 357.4 L 517.2 357.4 L 521.9 347.1 \" fill=\"#000000\"/>\n",
       "<path class=\"note\" d=\"M 548.8 391.6 Q 550.9 391.6, 551.9 393.0 Q 552.9 394.4, 552.9 397.2 Q 552.9 400.3, 551.6 401.9 Q 550.4 403.4, 547.9 403.4 Q 547.2 403.4, 546.6 403.3 Q 546.0 403.1, 545.4 402.8 L 546.0 401.7 Q 546.9 402.1, 547.9 402.1 Q 549.5 402.1, 550.3 401.1 Q 551.2 400.0, 551.3 397.9 Q 550.7 398.4, 549.9 398.7 Q 549.2 399.0, 548.4 399.0 Q 547.4 399.0, 546.6 398.5 Q 545.8 398.1, 545.4 397.3 Q 544.9 396.5, 544.9 395.5 Q 544.9 394.3, 545.4 393.5 Q 545.9 392.6, 546.8 392.1 Q 547.7 391.6, 548.8 391.6 M 546.5 395.5 Q 546.5 396.5, 547.1 397.1 Q 547.7 397.7, 548.7 397.7 Q 549.4 397.7, 550.1 397.4 Q 550.8 397.1, 551.3 396.6 Q 551.2 394.7, 550.6 393.8 Q 550.0 393.0, 548.8 393.0 Q 548.2 393.0, 547.6 393.3 Q 547.1 393.6, 546.8 394.2 Q 546.5 394.8, 546.5 395.5 \" fill=\"#000000\"/>\n",
       "<path class=\"note\" d=\"M 525.6 445.5 Q 526.7 445.9, 527.3 446.6 Q 527.9 447.3, 527.9 448.4 Q 527.9 449.4, 527.4 450.2 Q 526.9 450.9, 526.0 451.4 Q 525.1 451.8, 523.9 451.8 Q 522.0 451.8, 520.8 450.9 Q 519.7 450.0, 519.7 448.4 Q 519.7 447.5, 520.2 446.8 Q 520.7 446.1, 521.7 445.5 Q 521.0 445.1, 520.6 444.5 Q 520.2 443.8, 520.2 442.9 Q 520.2 441.5, 521.1 440.7 Q 522.1 439.9, 523.8 439.9 Q 525.5 439.9, 526.5 440.7 Q 527.5 441.5, 527.5 442.9 Q 527.5 443.7, 527.0 444.3 Q 526.5 445.0, 525.6 445.5 M 523.8 441.1 Q 522.9 441.1, 522.3 441.6 Q 521.8 442.0, 521.8 442.9 Q 521.8 443.5, 522.2 443.9 Q 522.5 444.3, 523.0 444.5 Q 523.5 444.7, 524.5 445.1 Q 525.2 444.6, 525.5 444.1 Q 525.8 443.5, 525.8 442.9 Q 525.8 442.0, 525.3 441.6 Q 524.8 441.1, 523.8 441.1 M 523.9 450.5 Q 525.0 450.5, 525.6 450.0 Q 526.3 449.4, 526.3 448.4 Q 526.3 447.8, 525.9 447.4 Q 525.6 447.0, 525.1 446.8 Q 524.6 446.6, 523.6 446.3 L 522.9 446.0 Q 522.1 446.5, 521.7 447.1 Q 521.4 447.7, 521.4 448.4 Q 521.4 449.4, 522.1 450.0 Q 522.7 450.5, 523.9 450.5 \" fill=\"#000000\"/>\n",
       "<path class=\"note\" d=\"M 470.0 446.8 Q 471.0 446.8, 471.8 447.2 Q 472.6 447.7, 473.0 448.5 Q 473.5 449.3, 473.5 450.3 Q 473.5 451.4, 472.9 452.3 Q 472.5 453.2, 471.6 453.6 Q 470.7 454.1, 469.6 454.1 Q 467.5 454.1, 466.5 452.8 Q 465.4 451.3, 465.4 448.6 Q 465.4 445.5, 466.7 443.9 Q 468.0 442.3, 470.5 442.3 Q 471.2 442.3, 471.8 442.5 Q 472.4 442.6, 473.0 443.0 L 472.4 444.1 Q 471.5 443.6, 470.5 443.6 Q 468.9 443.6, 468.0 444.7 Q 467.2 445.7, 467.1 447.9 Q 467.7 447.4, 468.4 447.1 Q 469.2 446.8, 470.0 446.8 M 469.6 452.8 Q 470.2 452.8, 470.7 452.5 Q 471.2 452.1, 471.5 451.6 Q 471.8 451.0, 471.8 450.3 Q 471.8 449.3, 471.3 448.7 Q 470.7 448.1, 469.7 448.1 Q 469.0 448.1, 468.3 448.4 Q 467.6 448.7, 467.1 449.2 Q 467.2 451.1, 467.8 451.9 Q 468.4 452.8, 469.6 452.8 \" fill=\"#000000\"/>\n",
       "</svg>"
      ],
      "text/plain": [
       "<IPython.core.display.SVG object>"
      ]
     },
     "execution_count": 33,
     "metadata": {},
     "output_type": "execute_result"
    }
   ],
   "source": [
    "svmol1new_iter = visualizations._show_common_core_gradient( mol1, hit_ats1, \n",
    "                                         order1newiter, percomponent = True, numbers = True)\n",
    "SVG(svmol1new_iter)"
   ]
  },
  {
   "cell_type": "code",
   "execution_count": 34,
   "id": "e22016b6",
   "metadata": {},
   "outputs": [
    {
     "data": {
      "image/svg+xml": [
       "<svg xmlns=\"http://www.w3.org/2000/svg\" xmlns:rdkit=\"http://www.rdkit.org/xml\" xmlns:xlink=\"http://www.w3.org/1999/xlink\" version=\"1.1\" baseProfile=\"full\" xml:space=\"preserve\" width=\"800px\" height=\"800px\" viewBox=\"0 0 800 800\">\n",
       "<!-- END OF HEADER -->\n",
       "<rect style=\"opacity:1.0;fill:#FFFFFF;stroke:none\" width=\"800.0\" height=\"800.0\" x=\"0.0\" y=\"0.0\"> </rect>\n",
       "<path d=\"M 168.3,414.3 L 249.9,410.7\" style=\"fill:none;fill-rule:evenodd;stroke:#CCCCCC;stroke-width:17.4px;stroke-linecap:butt;stroke-linejoin:miter;stroke-opacity:1\"/>\n",
       "<path d=\"M 249.9,410.7 L 331.4,407.1\" style=\"fill:none;fill-rule:evenodd;stroke:#CCCCCC;stroke-width:17.4px;stroke-linecap:butt;stroke-linejoin:miter;stroke-opacity:1\"/>\n",
       "<path d=\"M 331.4,407.1 L 413.0,403.5\" style=\"fill:none;fill-rule:evenodd;stroke:#CCCCCC;stroke-width:17.4px;stroke-linecap:butt;stroke-linejoin:miter;stroke-opacity:1\"/>\n",
       "<path d=\"M 413.0,403.5 L 450.6,331.0\" style=\"fill:none;fill-rule:evenodd;stroke:#CCCCCC;stroke-width:17.4px;stroke-linecap:butt;stroke-linejoin:miter;stroke-opacity:1\"/>\n",
       "<path d=\"M 413.0,403.5 L 456.9,472.3\" style=\"fill:none;fill-rule:evenodd;stroke:#CCCCCC;stroke-width:17.4px;stroke-linecap:butt;stroke-linejoin:miter;stroke-opacity:1\"/>\n",
       "<path d=\"M 450.6,331.0 L 532.2,327.4\" style=\"fill:none;fill-rule:evenodd;stroke:#CCCCCC;stroke-width:17.4px;stroke-linecap:butt;stroke-linejoin:miter;stroke-opacity:1\"/>\n",
       "<path d=\"M 532.2,327.4 L 576.1,396.3\" style=\"fill:none;fill-rule:evenodd;stroke:#CCCCCC;stroke-width:17.4px;stroke-linecap:butt;stroke-linejoin:miter;stroke-opacity:1\"/>\n",
       "<path d=\"M 576.1,396.3 L 538.5,468.7\" style=\"fill:none;fill-rule:evenodd;stroke:#CCCCCC;stroke-width:17.4px;stroke-linecap:butt;stroke-linejoin:miter;stroke-opacity:1\"/>\n",
       "<path d=\"M 576.1,396.3 L 657.7,392.6\" style=\"fill:none;fill-rule:evenodd;stroke:#CCCCCC;stroke-width:17.4px;stroke-linecap:butt;stroke-linejoin:miter;stroke-opacity:1\"/>\n",
       "<path d=\"M 538.5,468.7 L 456.9,472.3\" style=\"fill:none;fill-rule:evenodd;stroke:#CCCCCC;stroke-width:17.4px;stroke-linecap:butt;stroke-linejoin:miter;stroke-opacity:1\"/>\n",
       "<path d=\"M 657.7,392.6 L 701.6,461.5\" style=\"fill:none;fill-rule:evenodd;stroke:#CCCCCC;stroke-width:17.4px;stroke-linecap:butt;stroke-linejoin:miter;stroke-opacity:1\"/>\n",
       "<ellipse cx=\"162.0\" cy=\"414.5\" rx=\"29.8\" ry=\"16.7\" style=\"fill:#FF0000;fill-rule:evenodd;stroke:#FF0000;stroke-width:1.0px;stroke-linecap:butt;stroke-linejoin:miter;stroke-opacity:1\"/>\n",
       "<ellipse cx=\"244.8\" cy=\"410.9\" rx=\"27.7\" ry=\"16.7\" style=\"fill:#FF3F00;fill-rule:evenodd;stroke:#FF3F00;stroke-width:1.0px;stroke-linecap:butt;stroke-linejoin:miter;stroke-opacity:1\"/>\n",
       "<ellipse cx=\"325.6\" cy=\"407.2\" rx=\"28.8\" ry=\"16.7\" style=\"fill:#FF7F00;fill-rule:evenodd;stroke:#FF7F00;stroke-width:1.0px;stroke-linecap:butt;stroke-linejoin:miter;stroke-opacity:1\"/>\n",
       "<ellipse cx=\"407.1\" cy=\"403.6\" rx=\"28.8\" ry=\"16.8\" style=\"fill:#FFBF00;fill-rule:evenodd;stroke:#FFBF00;stroke-width:1.0px;stroke-linecap:butt;stroke-linejoin:miter;stroke-opacity:1\"/>\n",
       "<ellipse cx=\"443.8\" cy=\"331.2\" rx=\"30.4\" ry=\"16.7\" style=\"fill:#FFFF00;fill-rule:evenodd;stroke:#FFFF00;stroke-width:1.0px;stroke-linecap:butt;stroke-linejoin:miter;stroke-opacity:1\"/>\n",
       "<ellipse cx=\"526.3\" cy=\"327.6\" rx=\"28.9\" ry=\"16.7\" style=\"fill:#7FFF00;fill-rule:evenodd;stroke:#7FFF00;stroke-width:1.0px;stroke-linecap:butt;stroke-linejoin:miter;stroke-opacity:1\"/>\n",
       "<ellipse cx=\"570.2\" cy=\"396.4\" rx=\"29.1\" ry=\"16.7\" style=\"fill:#00FF00;fill-rule:evenodd;stroke:#00FF00;stroke-width:1.0px;stroke-linecap:butt;stroke-linejoin:miter;stroke-opacity:1\"/>\n",
       "<ellipse cx=\"532.6\" cy=\"468.8\" rx=\"28.7\" ry=\"16.7\" style=\"fill:#3FFF00;fill-rule:evenodd;stroke:#3FFF00;stroke-width:1.0px;stroke-linecap:butt;stroke-linejoin:miter;stroke-opacity:1\"/>\n",
       "<ellipse cx=\"450.8\" cy=\"472.5\" rx=\"29.3\" ry=\"16.8\" style=\"fill:#BFFF00;fill-rule:evenodd;stroke:#BFFF00;stroke-width:1.0px;stroke-linecap:butt;stroke-linejoin:miter;stroke-opacity:1\"/>\n",
       "<ellipse cx=\"672.0\" cy=\"392.8\" rx=\"31.5\" ry=\"16.8\" style=\"fill:#002600;fill-rule:evenodd;stroke:#002600;stroke-width:1.0px;stroke-linecap:butt;stroke-linejoin:miter;stroke-opacity:1\"/>\n",
       "<ellipse cx=\"722.7\" cy=\"461.5\" rx=\"40.9\" ry=\"16.5\" style=\"fill:#002600;fill-rule:evenodd;stroke:#002600;stroke-width:1.0px;stroke-linecap:butt;stroke-linejoin:miter;stroke-opacity:1\"/>\n",
       "<path class=\"bond-0 atom-0 atom-1\" d=\"M 185.1,413.6 L 223.6,411.9\" style=\"fill:none;fill-rule:evenodd;stroke:#000000;stroke-width:2.0px;stroke-linecap:butt;stroke-linejoin:miter;stroke-opacity:1\"/>\n",
       "<path class=\"bond-10 atom-0 atom-10\" d=\"M 138.9,415.6 L 97.1,417.5\" style=\"fill:none;fill-rule:evenodd;stroke:#000000;stroke-width:2.0px;stroke-linecap:butt;stroke-linejoin:miter;stroke-opacity:1\"/>\n",
       "<path class=\"bond-11 atom-0 atom-11\" d=\"M 167.7,400.6 L 165.3,346.1\" style=\"fill:none;fill-rule:evenodd;stroke:#000000;stroke-width:2.0px;stroke-linecap:butt;stroke-linejoin:miter;stroke-opacity:1\"/>\n",
       "<path class=\"bond-12 atom-0 atom-12\" d=\"M 168.9,428.3 L 171.3,482.6\" style=\"fill:none;fill-rule:evenodd;stroke:#000000;stroke-width:2.0px;stroke-linecap:butt;stroke-linejoin:miter;stroke-opacity:1\"/>\n",
       "<path class=\"bond-1 atom-1 atom-2\" d=\"M 266.4,410.0 L 303.6,408.3\" style=\"fill:none;fill-rule:evenodd;stroke:#000000;stroke-width:2.0px;stroke-linecap:butt;stroke-linejoin:miter;stroke-opacity:1\"/>\n",
       "<path class=\"bond-13 atom-1 atom-13\" d=\"M 249.3,397.0 L 246.8,342.5\" style=\"fill:none;fill-rule:evenodd;stroke:#000000;stroke-width:2.0px;stroke-linecap:butt;stroke-linejoin:miter;stroke-opacity:1\"/>\n",
       "<path class=\"bond-14 atom-1 atom-14\" d=\"M 250.5,424.7 L 252.9,479.0\" style=\"fill:none;fill-rule:evenodd;stroke:#000000;stroke-width:2.0px;stroke-linecap:butt;stroke-linejoin:miter;stroke-opacity:1\"/>\n",
       "<path class=\"bond-2 atom-2 atom-3\" d=\"M 348.0,406.4 L 385.2,404.7\" style=\"fill:none;fill-rule:evenodd;stroke:#000000;stroke-width:2.0px;stroke-linecap:butt;stroke-linejoin:miter;stroke-opacity:1\"/>\n",
       "<path class=\"bond-15 atom-2 atom-15\" d=\"M 330.8,393.4 L 328.4,338.9\" style=\"fill:none;fill-rule:evenodd;stroke:#000000;stroke-width:2.0px;stroke-linecap:butt;stroke-linejoin:miter;stroke-opacity:1\"/>\n",
       "<path class=\"bond-16 atom-2 atom-16\" d=\"M 332.1,421.1 L 334.5,475.4\" style=\"fill:none;fill-rule:evenodd;stroke:#000000;stroke-width:2.0px;stroke-linecap:butt;stroke-linejoin:miter;stroke-opacity:1\"/>\n",
       "<path class=\"bond-3 atom-3 atom-4\" d=\"M 420.1,389.8 L 444.0,343.8\" style=\"fill:none;fill-rule:evenodd;stroke:#000000;stroke-width:2.0px;stroke-linecap:butt;stroke-linejoin:miter;stroke-opacity:1\"/>\n",
       "<path class=\"bond-3 atom-3 atom-4\" d=\"M 438.2,390.4 L 454.9,358.3\" style=\"fill:none;fill-rule:evenodd;stroke:#000000;stroke-width:2.0px;stroke-linecap:butt;stroke-linejoin:miter;stroke-opacity:1\"/>\n",
       "<path class=\"bond-9 atom-8 atom-3\" d=\"M 448.1,458.6 L 421.7,417.1\" style=\"fill:none;fill-rule:evenodd;stroke:#000000;stroke-width:2.0px;stroke-linecap:butt;stroke-linejoin:miter;stroke-opacity:1\"/>\n",
       "<path class=\"bond-4 atom-4 atom-5\" d=\"M 467.3,330.3 L 504.3,328.7\" style=\"fill:none;fill-rule:evenodd;stroke:#000000;stroke-width:2.0px;stroke-linecap:butt;stroke-linejoin:miter;stroke-opacity:1\"/>\n",
       "<path class=\"bond-17 atom-4 atom-17\" d=\"M 442.0,317.6 L 415.2,275.5\" style=\"fill:none;fill-rule:evenodd;stroke:#000000;stroke-width:2.0px;stroke-linecap:butt;stroke-linejoin:miter;stroke-opacity:1\"/>\n",
       "<path class=\"bond-5 atom-5 atom-6\" d=\"M 541.1,341.5 L 571.3,388.8\" style=\"fill:none;fill-rule:evenodd;stroke:#000000;stroke-width:2.0px;stroke-linecap:butt;stroke-linejoin:miter;stroke-opacity:1\"/>\n",
       "<path class=\"bond-5 atom-5 atom-6\" d=\"M 531.9,357.3 L 553.0,390.5\" style=\"fill:none;fill-rule:evenodd;stroke:#000000;stroke-width:2.0px;stroke-linecap:butt;stroke-linejoin:miter;stroke-opacity:1\"/>\n",
       "<path class=\"bond-18 atom-5 atom-18\" d=\"M 539.3,313.7 L 562.9,268.3\" style=\"fill:none;fill-rule:evenodd;stroke:#000000;stroke-width:2.0px;stroke-linecap:butt;stroke-linejoin:miter;stroke-opacity:1\"/>\n",
       "<path class=\"bond-6 atom-6 atom-7\" d=\"M 569.3,409.4 L 545.4,455.3\" style=\"fill:none;fill-rule:evenodd;stroke:#000000;stroke-width:2.0px;stroke-linecap:butt;stroke-linejoin:miter;stroke-opacity:1\"/>\n",
       "<path class=\"bond-8 atom-6 atom-9\" d=\"M 592.8,395.5 L 620.4,394.3\" style=\"fill:none;fill-rule:evenodd;stroke:#000000;stroke-width:2.0px;stroke-linecap:butt;stroke-linejoin:miter;stroke-opacity:1\"/>\n",
       "<path class=\"bond-8 atom-6 atom-9\" d=\"M 620.4,394.3 L 648.0,393.1\" style=\"fill:none;fill-rule:evenodd;stroke:#FF0000;stroke-width:2.0px;stroke-linecap:butt;stroke-linejoin:miter;stroke-opacity:1\"/>\n",
       "<path class=\"bond-7 atom-7 atom-8\" d=\"M 510.3,469.9 L 472.9,471.6\" style=\"fill:none;fill-rule:evenodd;stroke:#000000;stroke-width:2.0px;stroke-linecap:butt;stroke-linejoin:miter;stroke-opacity:1\"/>\n",
       "<path class=\"bond-7 atom-7 atom-8\" d=\"M 503.9,453.9 L 477.8,455.0\" style=\"fill:none;fill-rule:evenodd;stroke:#000000;stroke-width:2.0px;stroke-linecap:butt;stroke-linejoin:miter;stroke-opacity:1\"/>\n",
       "<path class=\"bond-19 atom-7 atom-19\" d=\"M 547.4,482.7 L 574.0,524.3\" style=\"fill:none;fill-rule:evenodd;stroke:#000000;stroke-width:2.0px;stroke-linecap:butt;stroke-linejoin:miter;stroke-opacity:1\"/>\n",
       "<path class=\"bond-20 atom-8 atom-20\" d=\"M 450.0,485.5 L 426.1,531.6\" style=\"fill:none;fill-rule:evenodd;stroke:#000000;stroke-width:2.0px;stroke-linecap:butt;stroke-linejoin:miter;stroke-opacity:1\"/>\n",
       "<path class=\"bond-21 atom-9 atom-21\" d=\"M 666.6,406.6 L 679.8,427.4\" style=\"fill:none;fill-rule:evenodd;stroke:#FF0000;stroke-width:2.0px;stroke-linecap:butt;stroke-linejoin:miter;stroke-opacity:1\"/>\n",
       "<path class=\"bond-21 atom-9 atom-21\" d=\"M 679.8,427.4 L 693.1,448.2\" style=\"fill:none;fill-rule:evenodd;stroke:#000000;stroke-width:2.0px;stroke-linecap:butt;stroke-linejoin:miter;stroke-opacity:1\"/>\n",
       "<path class=\"atom-0\" d=\"M 149.4 426.3 Q 145.2 426.3, 143.0 423.1 Q 140.9 420.0, 140.9 414.4 Q 140.9 408.8, 143.0 405.7 Q 145.1 402.6, 149.4 402.6 Q 153.7 402.6, 155.8 405.7 Q 157.9 408.8, 157.9 414.4 Q 157.9 420.0, 155.7 423.1 Q 153.6 426.3, 149.4 426.3 M 149.4 423.7 Q 151.9 423.7, 153.3 421.3 Q 154.6 419.0, 154.6 414.4 Q 154.6 409.9, 153.3 407.6 Q 151.9 405.2, 149.4 405.2 Q 146.9 405.2, 145.5 407.6 Q 144.2 409.9, 144.2 414.4 Q 144.2 419.0, 145.5 421.3 Q 146.9 423.7, 149.4 423.7 \" fill=\"#000000\"/>\n",
       "<path class=\"atom-0\" d=\"M 160.3 422.2 L 163.6 422.2 L 163.6 425.5 L 160.3 425.5 L 160.3 422.2 M 160.3 411.0 L 163.6 411.0 L 163.6 414.2 L 160.3 414.2 L 160.3 411.0 \" fill=\"#000000\"/>\n",
       "<path class=\"atom-0\" d=\"M 165.2 414.4 Q 165.2 408.7, 167.9 405.7 Q 170.6 402.6, 175.7 402.6 Q 180.5 402.6, 183.0 406.0 L 180.9 407.8 Q 179.0 405.3, 175.7 405.3 Q 172.2 405.3, 170.4 407.7 Q 168.5 410.0, 168.5 414.4 Q 168.5 419.0, 170.4 421.3 Q 172.4 423.7, 176.1 423.7 Q 178.6 423.7, 181.6 422.2 L 182.5 424.6 Q 181.3 425.4, 179.5 425.9 Q 177.7 426.3, 175.6 426.3 Q 170.6 426.3, 167.9 423.2 Q 165.2 420.2, 165.2 414.4 \" fill=\"#000000\"/>\n",
       "<path class=\"atom-1\" d=\"M 226.5 419.8 L 231.5 419.8 L 231.5 402.5 L 225.9 404.2 L 225.2 402.3 L 232.3 399.1 L 234.6 399.5 L 234.6 419.8 L 239.1 419.8 L 239.1 422.4 L 226.5 422.4 L 226.5 419.8 \" fill=\"#000000\"/>\n",
       "<path class=\"atom-1\" d=\"M 241.6 418.6 L 244.8 418.6 L 244.8 421.8 L 241.6 421.8 L 241.6 418.6 M 241.6 407.3 L 244.8 407.3 L 244.8 410.6 L 241.6 410.6 L 241.6 407.3 \" fill=\"#000000\"/>\n",
       "<path class=\"atom-1\" d=\"M 246.5 410.8 Q 246.5 405.1, 249.2 402.1 Q 251.9 399.0, 257.0 399.0 Q 261.8 399.0, 264.3 402.4 L 262.2 404.1 Q 260.3 401.7, 257.0 401.7 Q 253.5 401.7, 251.6 404.0 Q 249.8 406.4, 249.8 410.8 Q 249.8 415.4, 251.7 417.7 Q 253.6 420.1, 257.4 420.1 Q 259.9 420.1, 262.9 418.5 L 263.8 421.0 Q 262.6 421.8, 260.8 422.2 Q 258.9 422.7, 256.9 422.7 Q 251.9 422.7, 249.2 419.6 Q 246.5 416.6, 246.5 410.8 \" fill=\"#000000\"/>\n",
       "<path class=\"atom-2\" d=\"M 305.3 400.0 Q 306.1 397.9, 308.2 396.6 Q 310.2 395.4, 313.0 395.4 Q 316.5 395.4, 318.5 397.3 Q 320.4 399.2, 320.4 402.6 Q 320.4 406.0, 317.9 409.2 Q 315.4 412.4, 310.1 416.2 L 320.8 416.2 L 320.8 418.8 L 305.2 418.8 L 305.2 416.6 Q 309.5 413.5, 312.1 411.2 Q 314.7 409.0, 315.9 406.9 Q 317.2 404.8, 317.2 402.7 Q 317.2 400.5, 316.0 399.3 Q 314.9 398.0, 313.0 398.0 Q 311.1 398.0, 309.9 398.8 Q 308.7 399.5, 307.8 401.2 L 305.3 400.0 \" fill=\"#000000\"/>\n",
       "<path class=\"atom-2\" d=\"M 323.3 415.0 L 326.5 415.0 L 326.5 418.2 L 323.3 418.2 L 323.3 415.0 M 323.3 403.7 L 326.5 403.7 L 326.5 407.0 L 323.3 407.0 L 323.3 403.7 \" fill=\"#000000\"/>\n",
       "<path class=\"atom-2\" d=\"M 328.2 407.2 Q 328.2 401.4, 330.8 398.4 Q 333.5 395.4, 338.7 395.4 Q 343.4 395.4, 346.0 398.8 L 343.8 400.5 Q 342.0 398.1, 338.7 398.1 Q 335.2 398.1, 333.3 400.4 Q 331.5 402.8, 331.5 407.2 Q 331.5 411.8, 333.4 414.1 Q 335.3 416.5, 339.0 416.5 Q 341.6 416.5, 344.5 414.9 L 345.5 417.4 Q 344.3 418.2, 342.4 418.6 Q 340.6 419.1, 338.6 419.1 Q 333.5 419.1, 330.8 416.0 Q 328.2 412.9, 328.2 407.2 \" fill=\"#000000\"/>\n",
       "<path class=\"atom-3\" d=\"M 397.9 403.0 Q 400.1 403.6, 401.2 405.1 Q 402.3 406.6, 402.3 408.8 Q 402.3 410.8, 401.3 412.3 Q 400.4 413.8, 398.6 414.7 Q 396.8 415.5, 394.4 415.5 Q 391.9 415.5, 390.1 414.7 Q 388.2 413.8, 386.8 412.0 L 388.6 410.1 Q 390.1 411.7, 391.3 412.3 Q 392.5 412.9, 394.4 412.9 Q 396.5 412.9, 397.8 411.8 Q 399.1 410.6, 399.1 408.8 Q 399.1 406.5, 397.7 405.4 Q 396.4 404.3, 393.6 404.3 L 391.9 404.3 L 391.9 402.0 L 393.4 402.0 Q 395.9 401.9, 397.2 400.9 Q 398.6 399.8, 398.6 397.7 Q 398.6 396.2, 397.5 395.3 Q 396.3 394.4, 394.5 394.4 Q 392.5 394.4, 391.3 395.1 Q 390.1 395.8, 389.2 397.5 L 387.0 396.3 Q 387.8 394.4, 389.7 393.1 Q 391.7 391.8, 394.5 391.8 Q 397.8 391.8, 399.8 393.4 Q 401.8 395.0, 401.8 397.7 Q 401.8 399.6, 400.8 400.9 Q 399.8 402.2, 397.9 403.0 \" fill=\"#000000\"/>\n",
       "<path class=\"atom-3\" d=\"M 404.8 411.4 L 408.0 411.4 L 408.0 414.6 L 404.8 414.6 L 404.8 411.4 M 404.8 400.1 L 408.0 400.1 L 408.0 403.4 L 404.8 403.4 L 404.8 400.1 \" fill=\"#000000\"/>\n",
       "<path class=\"atom-3\" d=\"M 409.7 403.6 Q 409.7 397.8, 412.3 394.8 Q 415.1 391.8, 420.2 391.8 Q 425.0 391.8, 427.5 395.2 L 425.3 396.9 Q 423.5 394.5, 420.2 394.5 Q 416.7 394.5, 414.8 396.8 Q 413.0 399.1, 413.0 403.6 Q 413.0 408.2, 414.9 410.5 Q 416.8 412.9, 420.5 412.9 Q 423.1 412.9, 426.1 411.3 L 427.0 413.8 Q 425.8 414.6, 423.9 415.0 Q 422.1 415.5, 420.1 415.5 Q 415.1 415.5, 412.3 412.4 Q 409.7 409.3, 409.7 403.6 \" fill=\"#000000\"/>\n",
       "<path class=\"atom-4\" d=\"M 437.3 334.8 L 440.1 334.8 L 440.1 337.4 L 437.3 337.4 L 437.3 342.7 L 434.2 342.7 L 434.2 337.4 L 422.3 337.4 L 422.3 335.4 L 432.4 319.6 L 437.3 319.6 L 437.3 334.8 M 426.1 334.8 L 434.2 334.8 L 434.2 321.7 L 426.1 334.8 \" fill=\"#000000\"/>\n",
       "<path class=\"atom-4\" d=\"M 442.5 338.9 L 445.8 338.9 L 445.8 342.2 L 442.5 342.2 L 442.5 338.9 M 442.5 327.7 L 445.8 327.7 L 445.8 330.9 L 442.5 330.9 L 442.5 327.7 \" fill=\"#000000\"/>\n",
       "<path class=\"atom-4\" d=\"M 447.4 331.1 Q 447.4 325.4, 450.1 322.4 Q 452.8 319.4, 458.0 319.4 Q 462.7 319.4, 465.3 322.7 L 463.1 324.5 Q 461.3 322.0, 458.0 322.0 Q 454.5 322.0, 452.6 324.4 Q 450.8 326.7, 450.8 331.1 Q 450.8 335.7, 452.7 338.1 Q 454.6 340.4, 458.3 340.4 Q 460.9 340.4, 463.8 338.9 L 464.7 341.3 Q 463.5 342.1, 461.7 342.6 Q 459.9 343.0, 457.9 343.0 Q 452.8 343.0, 450.1 340.0 Q 447.4 336.9, 447.4 331.1 \" fill=\"#000000\"/>\n",
       "<path class=\"atom-5\" d=\"M 514.3 324.7 Q 516.3 324.7, 518.0 325.5 Q 519.7 326.4, 520.6 328.0 Q 521.6 329.6, 521.6 331.8 Q 521.6 334.2, 520.4 335.9 Q 519.2 337.6, 517.3 338.5 Q 515.5 339.4, 513.3 339.4 Q 511.2 339.4, 509.2 338.6 Q 507.3 337.8, 505.9 336.3 L 507.9 334.3 Q 509.0 335.5, 510.4 336.1 Q 511.9 336.7, 513.4 336.7 Q 515.5 336.7, 516.9 335.5 Q 518.3 334.2, 518.3 331.9 Q 518.3 329.4, 516.9 328.3 Q 515.5 327.1, 513.2 327.1 Q 511.2 327.1, 508.9 328.0 L 507.1 327.1 L 508.2 316.0 L 520.1 316.0 L 519.8 318.6 L 510.9 318.6 L 510.2 325.5 Q 512.3 324.7, 514.3 324.7 \" fill=\"#000000\"/>\n",
       "<path class=\"atom-5\" d=\"M 524.0 335.3 L 527.3 335.3 L 527.3 338.6 L 524.0 338.6 L 524.0 335.3 M 524.0 324.1 L 527.3 324.1 L 527.3 327.3 L 524.0 327.3 L 524.0 324.1 \" fill=\"#000000\"/>\n",
       "<path class=\"atom-5\" d=\"M 528.9 327.5 Q 528.9 321.8, 531.6 318.8 Q 534.3 315.7, 539.4 315.7 Q 544.2 315.7, 546.7 319.1 L 544.6 320.9 Q 542.7 318.4, 539.4 318.4 Q 535.9 318.4, 534.1 320.8 Q 532.2 323.1, 532.2 327.5 Q 532.2 332.1, 534.1 334.5 Q 536.1 336.8, 539.8 336.8 Q 542.3 336.8, 545.3 335.3 L 546.2 337.7 Q 545.0 338.5, 543.2 339.0 Q 541.3 339.4, 539.3 339.4 Q 534.3 339.4, 531.6 336.3 Q 528.9 333.3, 528.9 327.5 \" fill=\"#000000\"/>\n",
       "<path class=\"atom-6\" d=\"M 558.6 393.5 Q 560.7 393.5, 562.3 394.4 Q 563.9 395.3, 564.7 396.9 Q 565.6 398.5, 565.6 400.5 Q 565.6 402.8, 564.6 404.5 Q 563.6 406.2, 561.9 407.2 Q 560.1 408.2, 557.8 408.2 Q 553.7 408.2, 551.6 405.4 Q 549.6 402.6, 549.6 397.1 Q 549.6 390.9, 552.1 387.8 Q 554.7 384.6, 559.6 384.6 Q 561.1 384.6, 562.3 384.9 Q 563.5 385.2, 564.7 385.9 L 563.4 388.1 Q 561.7 387.2, 559.7 387.2 Q 556.4 387.2, 554.7 389.3 Q 553.1 391.4, 552.9 395.7 Q 554.1 394.7, 555.5 394.1 Q 557.0 393.5, 558.6 393.5 M 557.9 405.5 Q 559.1 405.5, 560.1 404.9 Q 561.2 404.2, 561.8 403.1 Q 562.4 401.9, 562.4 400.5 Q 562.4 398.5, 561.2 397.3 Q 560.1 396.1, 558.0 396.1 Q 556.6 396.1, 555.2 396.7 Q 553.9 397.3, 552.9 398.2 Q 553.0 402.1, 554.2 403.8 Q 555.4 405.5, 557.9 405.5 \" fill=\"#000000\"/>\n",
       "<path class=\"atom-6\" d=\"M 568.1 404.1 L 571.3 404.1 L 571.3 407.4 L 568.1 407.4 L 568.1 404.1 M 568.1 392.9 L 571.3 392.9 L 571.3 396.2 L 568.1 396.2 L 568.1 392.9 \" fill=\"#000000\"/>\n",
       "<path class=\"atom-6\" d=\"M 573.0 396.4 Q 573.0 390.6, 575.6 387.6 Q 578.4 384.6, 583.5 384.6 Q 588.3 384.6, 590.8 387.9 L 588.6 389.7 Q 586.8 387.2, 583.5 387.2 Q 580.0 387.2, 578.1 389.6 Q 576.3 391.9, 576.3 396.4 Q 576.3 400.9, 578.2 403.3 Q 580.1 405.6, 583.8 405.6 Q 586.4 405.6, 589.4 404.1 L 590.3 406.5 Q 589.1 407.3, 587.2 407.8 Q 585.4 408.2, 583.4 408.2 Q 578.4 408.2, 575.6 405.2 Q 573.0 402.1, 573.0 396.4 \" fill=\"#000000\"/>\n",
       "<path class=\"atom-7\" d=\"M 524.4 459.9 L 512.3 459.9 L 512.3 457.3 L 527.6 457.3 L 527.6 459.6 L 518.3 480.4 L 515.2 480.4 L 524.4 459.9 \" fill=\"#000000\"/>\n",
       "<path class=\"atom-7\" d=\"M 530.1 476.6 L 533.4 476.6 L 533.4 479.8 L 530.1 479.8 L 530.1 476.6 M 530.1 465.3 L 533.4 465.3 L 533.4 468.6 L 530.1 468.6 L 530.1 465.3 \" fill=\"#000000\"/>\n",
       "<path class=\"atom-7\" d=\"M 535.0 468.8 Q 535.0 463.0, 537.7 460.0 Q 540.4 457.0, 545.5 457.0 Q 550.3 457.0, 552.8 460.4 L 550.7 462.1 Q 548.8 459.7, 545.5 459.7 Q 542.0 459.7, 540.1 462.0 Q 538.3 464.4, 538.3 468.8 Q 538.3 473.4, 540.2 475.7 Q 542.1 478.1, 545.9 478.1 Q 548.4 478.1, 551.4 476.5 L 552.3 479.0 Q 551.1 479.8, 549.3 480.2 Q 547.4 480.7, 545.4 480.7 Q 540.4 480.7, 537.7 477.6 Q 535.0 474.5, 535.0 468.8 \" fill=\"#000000\"/>\n",
       "<path class=\"atom-8\" d=\"M 441.9 471.8 Q 444.0 472.7, 445.2 474.0 Q 446.4 475.4, 446.4 477.7 Q 446.4 479.6, 445.4 481.2 Q 444.4 482.7, 442.6 483.5 Q 440.8 484.3, 438.4 484.3 Q 434.5 484.3, 432.3 482.6 Q 430.1 480.8, 430.1 477.7 Q 430.1 475.8, 431.1 474.4 Q 432.0 472.9, 434.1 471.9 Q 432.6 471.0, 431.7 469.8 Q 430.9 468.5, 430.9 466.5 Q 430.9 463.8, 432.9 462.2 Q 434.9 460.6, 438.2 460.6 Q 441.6 460.6, 443.6 462.2 Q 445.6 463.8, 445.6 466.5 Q 445.6 468.2, 444.6 469.5 Q 443.7 470.7, 441.9 471.8 M 438.2 463.1 Q 436.3 463.1, 435.2 464.0 Q 434.2 464.9, 434.2 466.5 Q 434.2 467.7, 434.9 468.6 Q 435.6 469.3, 436.6 469.8 Q 437.7 470.3, 439.7 470.9 Q 441.1 470.0, 441.7 468.9 Q 442.3 467.9, 442.3 466.5 Q 442.3 464.9, 441.2 464.0 Q 440.2 463.1, 438.2 463.1 M 438.4 481.9 Q 440.5 481.9, 441.8 480.7 Q 443.1 479.6, 443.1 477.6 Q 443.1 476.4, 442.5 475.6 Q 441.8 474.8, 440.7 474.4 Q 439.7 473.9, 437.9 473.3 L 436.4 472.8 Q 434.8 473.8, 434.1 475.0 Q 433.3 476.1, 433.3 477.6 Q 433.3 479.6, 434.7 480.7 Q 436.1 481.9, 438.4 481.9 \" fill=\"#000000\"/>\n",
       "<path class=\"atom-8\" d=\"M 448.9 480.2 L 452.1 480.2 L 452.1 483.4 L 448.9 483.4 L 448.9 480.2 M 448.9 468.9 L 452.1 468.9 L 452.1 472.2 L 448.9 472.2 L 448.9 468.9 \" fill=\"#000000\"/>\n",
       "<path class=\"atom-8\" d=\"M 453.8 472.4 Q 453.8 466.7, 456.4 463.7 Q 459.1 460.6, 464.3 460.6 Q 469.0 460.6, 471.6 464.0 L 469.4 465.7 Q 467.6 463.3, 464.3 463.3 Q 460.8 463.3, 458.9 465.6 Q 457.1 468.0, 457.1 472.4 Q 457.1 477.0, 459.0 479.3 Q 460.9 481.7, 464.6 481.7 Q 467.2 481.7, 470.1 480.1 L 471.1 482.6 Q 469.9 483.4, 468.0 483.8 Q 466.2 484.3, 464.2 484.3 Q 459.1 484.3, 456.4 481.2 Q 453.8 478.2, 453.8 472.4 \" fill=\"#000000\"/>\n",
       "<path class=\"atom-9\" d=\"M 657.4 381.0 Q 661.5 381.0, 663.6 383.8 Q 665.7 386.5, 665.7 392.1 Q 665.7 398.2, 663.1 401.4 Q 660.6 404.6, 655.6 404.6 Q 654.2 404.6, 652.9 404.3 Q 651.7 403.9, 650.6 403.3 L 651.8 401.1 Q 653.5 402.0, 655.6 402.0 Q 658.9 402.0, 660.5 399.9 Q 662.2 397.8, 662.4 393.4 Q 661.2 394.5, 659.7 395.1 Q 658.2 395.6, 656.6 395.6 Q 654.6 395.6, 653.0 394.8 Q 651.4 393.9, 650.5 392.3 Q 649.6 390.7, 649.6 388.7 Q 649.6 386.4, 650.6 384.7 Q 651.6 382.9, 653.4 381.9 Q 655.2 381.0, 657.4 381.0 M 652.9 388.6 Q 652.9 390.7, 654.1 391.9 Q 655.2 393.0, 657.2 393.0 Q 658.6 393.0, 660.0 392.5 Q 661.4 391.9, 662.4 390.9 Q 662.3 387.1, 661.0 385.4 Q 659.8 383.6, 657.4 383.6 Q 656.1 383.6, 655.1 384.3 Q 654.1 384.9, 653.5 386.1 Q 652.9 387.2, 652.9 388.6 \" fill=\"#FF0000\"/>\n",
       "<path class=\"atom-9\" d=\"M 668.1 400.5 L 671.4 400.5 L 671.4 403.8 L 668.1 403.8 L 668.1 400.5 M 668.1 389.3 L 671.4 389.3 L 671.4 392.5 L 668.1 392.5 L 668.1 389.3 \" fill=\"#FF0000\"/>\n",
       "<path class=\"atom-9\" d=\"M 673.0 392.7 Q 673.0 387.2, 675.8 384.1 Q 678.5 381.0, 683.6 381.0 Q 688.8 381.0, 691.5 384.1 Q 694.3 387.2, 694.3 392.7 Q 694.3 398.3, 691.5 401.5 Q 688.7 404.7, 683.6 404.7 Q 678.5 404.7, 675.8 401.5 Q 673.0 398.4, 673.0 392.7 M 683.6 402.1 Q 687.2 402.1, 689.1 399.7 Q 691.0 397.3, 691.0 392.7 Q 691.0 388.2, 689.1 385.9 Q 687.2 383.6, 683.6 383.6 Q 680.1 383.6, 678.2 385.9 Q 676.3 388.1, 676.3 392.7 Q 676.3 397.4, 678.2 399.7 Q 680.1 402.1, 683.6 402.1 \" fill=\"#FF0000\"/>\n",
       "<path class=\"atom-10\" d=\"M 37.6 427.0 L 42.7 427.0 L 42.7 409.7 L 37.1 411.5 L 36.4 409.5 L 43.4 406.4 L 45.8 406.8 L 45.8 427.0 L 50.3 427.0 L 50.3 429.6 L 37.6 429.6 L 37.6 427.0 \" fill=\"#000000\"/>\n",
       "<path class=\"atom-10\" d=\"M 60.8 429.9 Q 56.5 429.9, 54.4 426.8 Q 52.3 423.6, 52.3 418.0 Q 52.3 412.5, 54.4 409.3 Q 56.5 406.2, 60.8 406.2 Q 65.0 406.2, 67.1 409.3 Q 69.2 412.5, 69.2 418.0 Q 69.2 423.6, 67.1 426.8 Q 65.0 429.9, 60.8 429.9 M 60.8 427.3 Q 63.3 427.3, 64.6 425.0 Q 65.9 422.6, 65.9 418.0 Q 65.9 413.5, 64.6 411.2 Q 63.3 408.9, 60.8 408.9 Q 58.3 408.9, 56.9 411.2 Q 55.6 413.5, 55.6 418.0 Q 55.6 422.6, 56.9 425.0 Q 58.3 427.3, 60.8 427.3 \" fill=\"#000000\"/>\n",
       "<path class=\"atom-10\" d=\"M 71.7 425.8 L 74.9 425.8 L 74.9 429.1 L 71.7 429.1 L 71.7 425.8 M 71.7 414.6 L 74.9 414.6 L 74.9 417.8 L 71.7 417.8 L 71.7 414.6 \" fill=\"#000000\"/>\n",
       "<path class=\"atom-10\" d=\"M 77.7 406.5 L 80.8 406.5 L 80.8 416.3 L 92.7 416.3 L 92.7 406.5 L 95.8 406.5 L 95.8 429.6 L 92.7 429.6 L 92.7 418.9 L 80.8 418.9 L 80.8 429.6 L 77.7 429.6 L 77.7 406.5 \" fill=\"#000000\"/>\n",
       "<path class=\"atom-11\" d=\"M 159.0 341.8 L 164.1 341.8 L 164.1 324.5 L 158.5 326.2 L 157.7 324.3 L 164.8 321.1 L 167.1 321.5 L 167.1 341.8 L 171.7 341.8 L 171.7 344.4 L 159.0 344.4 L 159.0 341.8 \" fill=\"#000000\"/>\n",
       "<path class=\"atom-11\" d=\"M 174.7 341.8 L 179.8 341.8 L 179.8 324.5 L 174.2 326.2 L 173.4 324.3 L 180.5 321.1 L 182.8 321.5 L 182.8 341.8 L 187.4 341.8 L 187.4 344.4 L 174.7 344.4 L 174.7 341.8 \" fill=\"#000000\"/>\n",
       "<path class=\"atom-11\" d=\"M 189.8 340.6 L 193.1 340.6 L 193.1 343.8 L 189.8 343.8 L 189.8 340.6 M 189.8 329.3 L 193.1 329.3 L 193.1 332.6 L 189.8 332.6 L 189.8 329.3 \" fill=\"#000000\"/>\n",
       "<path class=\"atom-11\" d=\"M 195.9 321.3 L 199.0 321.3 L 199.0 331.1 L 210.8 331.1 L 210.8 321.3 L 214.0 321.3 L 214.0 344.4 L 210.8 344.4 L 210.8 333.7 L 199.0 333.7 L 199.0 344.4 L 195.9 344.4 L 195.9 321.3 \" fill=\"#000000\"/>\n",
       "<path class=\"atom-12\" d=\"M 166.2 505.0 L 171.3 505.0 L 171.3 487.7 L 165.7 489.4 L 165.0 487.5 L 172.0 484.3 L 174.4 484.7 L 174.4 505.0 L 178.9 505.0 L 178.9 507.6 L 166.2 507.6 L 166.2 505.0 \" fill=\"#000000\"/>\n",
       "<path class=\"atom-12\" d=\"M 180.6 488.8 Q 181.4 486.6, 183.5 485.4 Q 185.5 484.2, 188.3 484.2 Q 191.8 484.2, 193.8 486.1 Q 195.7 488.0, 195.7 491.3 Q 195.7 494.8, 193.2 498.0 Q 190.7 501.2, 185.4 505.0 L 196.1 505.0 L 196.1 507.6 L 180.5 507.6 L 180.5 505.4 Q 184.8 502.3, 187.4 500.0 Q 190.0 497.7, 191.2 495.7 Q 192.4 493.6, 192.4 491.5 Q 192.4 489.3, 191.3 488.0 Q 190.2 486.8, 188.3 486.8 Q 186.4 486.8, 185.2 487.6 Q 184.0 488.3, 183.1 490.0 L 180.6 488.8 \" fill=\"#000000\"/>\n",
       "<path class=\"atom-12\" d=\"M 198.6 503.8 L 201.8 503.8 L 201.8 507.0 L 198.6 507.0 L 198.6 503.8 M 198.6 492.5 L 201.8 492.5 L 201.8 495.8 L 198.6 495.8 L 198.6 492.5 \" fill=\"#000000\"/>\n",
       "<path class=\"atom-12\" d=\"M 204.6 484.5 L 207.7 484.5 L 207.7 494.3 L 219.6 494.3 L 219.6 484.5 L 222.7 484.5 L 222.7 507.6 L 219.6 507.6 L 219.6 496.9 L 207.7 496.9 L 207.7 507.6 L 204.6 507.6 L 204.6 484.5 \" fill=\"#000000\"/>\n",
       "<path class=\"atom-13\" d=\"M 240.6 338.2 L 245.6 338.2 L 245.6 321.0 L 240.0 322.7 L 239.3 320.8 L 246.4 317.6 L 248.7 318.0 L 248.7 338.2 L 253.2 338.2 L 253.2 340.8 L 240.6 340.8 L 240.6 338.2 \" fill=\"#000000\"/>\n",
       "<path class=\"atom-13\" d=\"M 265.7 328.7 Q 268.0 329.3, 269.0 330.8 Q 270.1 332.2, 270.1 334.5 Q 270.1 336.5, 269.2 338.0 Q 268.2 339.5, 266.4 340.4 Q 264.6 341.2, 262.2 341.2 Q 259.8 341.2, 257.9 340.3 Q 256.1 339.4, 254.6 337.7 L 256.5 335.8 Q 257.9 337.3, 259.1 338.0 Q 260.3 338.6, 262.2 338.6 Q 264.3 338.6, 265.6 337.4 Q 266.9 336.3, 266.9 334.5 Q 266.9 332.1, 265.5 331.1 Q 264.2 330.0, 261.4 330.0 L 259.7 330.0 L 259.7 327.6 L 261.2 327.6 Q 263.7 327.6, 265.0 326.5 Q 266.4 325.4, 266.4 323.4 Q 266.4 321.9, 265.3 321.0 Q 264.2 320.1, 262.3 320.1 Q 260.3 320.1, 259.1 320.8 Q 258.0 321.4, 257.0 323.2 L 254.8 322.0 Q 255.6 320.0, 257.6 318.8 Q 259.5 317.5, 262.3 317.5 Q 265.7 317.5, 267.7 319.1 Q 269.7 320.7, 269.7 323.4 Q 269.7 325.2, 268.6 326.6 Q 267.6 327.9, 265.7 328.7 \" fill=\"#000000\"/>\n",
       "<path class=\"atom-13\" d=\"M 272.6 337.0 L 275.9 337.0 L 275.9 340.3 L 272.6 340.3 L 272.6 337.0 M 272.6 325.8 L 275.9 325.8 L 275.9 329.1 L 272.6 329.1 L 272.6 325.8 \" fill=\"#000000\"/>\n",
       "<path class=\"atom-13\" d=\"M 278.6 317.7 L 281.8 317.7 L 281.8 327.6 L 293.6 327.6 L 293.6 317.7 L 296.7 317.7 L 296.7 340.8 L 293.6 340.8 L 293.6 330.2 L 281.8 330.2 L 281.8 340.8 L 278.6 340.8 L 278.6 317.7 \" fill=\"#000000\"/>\n",
       "<path class=\"atom-14\" d=\"M 247.8 501.3 L 252.8 501.3 L 252.8 484.0 L 247.3 485.7 L 246.5 483.8 L 253.6 480.6 L 255.9 481.0 L 255.9 501.3 L 260.5 501.3 L 260.5 503.9 L 247.8 503.9 L 247.8 501.3 \" fill=\"#000000\"/>\n",
       "<path class=\"atom-14\" d=\"M 276.5 496.0 L 279.2 496.0 L 279.2 498.6 L 276.5 498.6 L 276.5 503.9 L 273.4 503.9 L 273.4 498.6 L 261.4 498.6 L 261.4 496.5 L 271.6 480.8 L 276.5 480.8 L 276.5 496.0 M 265.2 496.0 L 273.4 496.0 L 273.4 482.9 L 265.2 496.0 \" fill=\"#000000\"/>\n",
       "<path class=\"atom-14\" d=\"M 281.7 500.1 L 284.9 500.1 L 284.9 503.3 L 281.7 503.3 L 281.7 500.1 M 281.7 488.8 L 284.9 488.8 L 284.9 492.1 L 281.7 492.1 L 281.7 488.8 \" fill=\"#000000\"/>\n",
       "<path class=\"atom-14\" d=\"M 287.7 480.8 L 290.9 480.8 L 290.9 490.6 L 302.7 490.6 L 302.7 480.8 L 305.8 480.8 L 305.8 503.9 L 302.7 503.9 L 302.7 493.2 L 290.9 493.2 L 290.9 503.9 L 287.7 503.9 L 287.7 480.8 \" fill=\"#000000\"/>\n",
       "<path class=\"atom-15\" d=\"M 322.1 334.5 L 327.2 334.5 L 327.2 317.3 L 321.6 319.0 L 320.8 317.1 L 327.9 313.9 L 330.2 314.3 L 330.2 334.5 L 334.8 334.5 L 334.8 337.2 L 322.1 337.2 L 322.1 334.5 \" fill=\"#000000\"/>\n",
       "<path class=\"atom-15\" d=\"M 344.7 322.7 Q 346.7 322.7, 348.4 323.6 Q 350.0 324.4, 351.0 326.1 Q 351.9 327.7, 351.9 329.8 Q 351.9 332.2, 350.8 334.0 Q 349.6 335.7, 347.7 336.5 Q 345.8 337.4, 343.7 337.4 Q 341.5 337.4, 339.6 336.6 Q 337.6 335.9, 336.3 334.4 L 338.2 332.3 Q 339.3 333.5, 340.8 334.2 Q 342.3 334.8, 343.8 334.8 Q 345.8 334.8, 347.2 333.5 Q 348.7 332.2, 348.7 329.9 Q 348.7 327.5, 347.2 326.3 Q 345.8 325.1, 343.6 325.1 Q 341.5 325.1, 339.3 326.0 L 337.5 325.2 L 338.6 314.0 L 350.5 314.0 L 350.2 316.7 L 341.3 316.7 L 340.6 323.5 Q 342.7 322.7, 344.7 322.7 \" fill=\"#000000\"/>\n",
       "<path class=\"atom-15\" d=\"M 354.4 333.3 L 357.6 333.3 L 357.6 336.6 L 354.4 336.6 L 354.4 333.3 M 354.4 322.1 L 357.6 322.1 L 357.6 325.4 L 354.4 325.4 L 354.4 322.1 \" fill=\"#000000\"/>\n",
       "<path class=\"atom-15\" d=\"M 360.4 314.0 L 363.6 314.0 L 363.6 323.9 L 375.4 323.9 L 375.4 314.0 L 378.5 314.0 L 378.5 337.2 L 375.4 337.2 L 375.4 326.5 L 363.6 326.5 L 363.6 337.2 L 360.4 337.2 L 360.4 314.0 \" fill=\"#000000\"/>\n",
       "<path class=\"atom-16\" d=\"M 329.3 497.7 L 334.4 497.7 L 334.4 480.5 L 328.8 482.2 L 328.1 480.3 L 335.2 477.1 L 337.5 477.5 L 337.5 497.7 L 342.0 497.7 L 342.0 500.3 L 329.3 500.3 L 329.3 497.7 \" fill=\"#000000\"/>\n",
       "<path class=\"atom-16\" d=\"M 353.3 485.9 Q 355.3 485.9, 356.9 486.8 Q 358.5 487.7, 359.4 489.3 Q 360.3 490.9, 360.3 492.9 Q 360.3 495.2, 359.3 496.9 Q 358.3 498.6, 356.5 499.6 Q 354.7 500.6, 352.5 500.6 Q 348.4 500.6, 346.3 497.8 Q 344.2 495.0, 344.2 489.5 Q 344.2 483.3, 346.8 480.2 Q 349.4 477.0, 354.3 477.0 Q 355.7 477.0, 356.9 477.3 Q 358.2 477.6, 359.4 478.3 L 358.1 480.5 Q 356.4 479.6, 354.3 479.6 Q 351.1 479.6, 349.4 481.7 Q 347.7 483.8, 347.5 488.1 Q 348.7 487.1, 350.2 486.5 Q 351.7 485.9, 353.3 485.9 M 352.5 497.9 Q 353.8 497.9, 354.8 497.3 Q 355.8 496.6, 356.4 495.5 Q 357.0 494.3, 357.0 492.9 Q 357.0 490.9, 355.9 489.7 Q 354.7 488.5, 352.7 488.5 Q 351.3 488.5, 349.9 489.1 Q 348.5 489.7, 347.5 490.6 Q 347.7 494.5, 348.9 496.2 Q 350.1 497.9, 352.5 497.9 \" fill=\"#000000\"/>\n",
       "<path class=\"atom-16\" d=\"M 362.7 496.5 L 366.0 496.5 L 366.0 499.8 L 362.7 499.8 L 362.7 496.5 M 362.7 485.3 L 366.0 485.3 L 366.0 488.6 L 362.7 488.6 L 362.7 485.3 \" fill=\"#000000\"/>\n",
       "<path class=\"atom-16\" d=\"M 368.8 477.2 L 371.9 477.2 L 371.9 487.1 L 383.7 487.1 L 383.7 477.2 L 386.9 477.2 L 386.9 500.3 L 383.7 500.3 L 383.7 489.7 L 371.9 489.7 L 371.9 500.3 L 368.8 500.3 L 368.8 477.2 \" fill=\"#000000\"/>\n",
       "<path class=\"atom-17\" d=\"M 360.6 271.2 L 365.6 271.2 L 365.6 254.0 L 360.1 255.7 L 359.3 253.8 L 366.4 250.6 L 368.7 251.0 L 368.7 271.2 L 373.3 271.2 L 373.3 273.8 L 360.6 273.8 L 360.6 271.2 \" fill=\"#000000\"/>\n",
       "<path class=\"atom-17\" d=\"M 386.0 253.3 L 373.8 253.3 L 373.8 250.7 L 389.2 250.7 L 389.2 253.0 L 379.9 273.8 L 376.7 273.8 L 386.0 253.3 \" fill=\"#000000\"/>\n",
       "<path class=\"atom-17\" d=\"M 391.6 270.0 L 394.9 270.0 L 394.9 273.3 L 391.6 273.3 L 391.6 270.0 M 391.6 258.8 L 394.9 258.8 L 394.9 262.1 L 391.6 262.1 L 391.6 258.8 \" fill=\"#000000\"/>\n",
       "<path class=\"atom-17\" d=\"M 397.7 250.7 L 400.8 250.7 L 400.8 260.6 L 412.6 260.6 L 412.6 250.7 L 415.8 250.7 L 415.8 273.8 L 412.6 273.8 L 412.6 263.2 L 400.8 263.2 L 400.8 273.8 L 397.7 273.8 L 397.7 250.7 \" fill=\"#000000\"/>\n",
       "<path class=\"atom-18\" d=\"M 564.1 264.1 L 569.2 264.1 L 569.2 246.8 L 563.6 248.5 L 562.9 246.6 L 570.0 243.4 L 572.3 243.8 L 572.3 264.1 L 576.8 264.1 L 576.8 266.7 L 564.1 266.7 L 564.1 264.1 \" fill=\"#000000\"/>\n",
       "<path class=\"atom-18\" d=\"M 590.6 254.4 Q 592.8 255.4, 594.0 256.7 Q 595.2 258.1, 595.2 260.3 Q 595.2 262.3, 594.2 263.8 Q 593.1 265.3, 591.3 266.2 Q 589.5 267.0, 587.1 267.0 Q 583.3 267.0, 581.1 265.2 Q 578.8 263.4, 578.8 260.3 Q 578.8 258.5, 579.8 257.0 Q 580.8 255.6, 582.8 254.5 Q 581.3 253.7, 580.5 252.4 Q 579.7 251.2, 579.7 249.2 Q 579.7 246.5, 581.7 244.9 Q 583.6 243.3, 587.0 243.3 Q 590.4 243.3, 592.3 244.9 Q 594.3 246.5, 594.3 249.2 Q 594.3 250.9, 593.4 252.2 Q 592.5 253.4, 590.6 254.4 M 587.0 245.7 Q 585.1 245.7, 584.0 246.7 Q 583.0 247.6, 583.0 249.2 Q 583.0 250.4, 583.7 251.2 Q 584.4 252.0, 585.4 252.5 Q 586.5 252.9, 588.4 253.6 Q 589.8 252.6, 590.4 251.6 Q 591.1 250.6, 591.1 249.2 Q 591.1 247.6, 590.0 246.7 Q 588.9 245.7, 587.0 245.7 M 587.1 264.6 Q 589.3 264.6, 590.6 263.4 Q 591.9 262.2, 591.9 260.3 Q 591.9 259.1, 591.2 258.3 Q 590.5 257.5, 589.5 257.0 Q 588.5 256.6, 586.6 256.0 L 585.2 255.5 Q 583.5 256.5, 582.8 257.7 Q 582.1 258.8, 582.1 260.3 Q 582.1 262.2, 583.5 263.4 Q 584.9 264.6, 587.1 264.6 \" fill=\"#000000\"/>\n",
       "<path class=\"atom-18\" d=\"M 597.6 262.9 L 600.9 262.9 L 600.9 266.1 L 597.6 266.1 L 597.6 262.9 M 597.6 251.6 L 600.9 251.6 L 600.9 254.9 L 597.6 254.9 L 597.6 251.6 \" fill=\"#000000\"/>\n",
       "<path class=\"atom-18\" d=\"M 603.7 243.6 L 606.8 243.6 L 606.8 253.4 L 618.6 253.4 L 618.6 243.6 L 621.8 243.6 L 621.8 266.7 L 618.6 266.7 L 618.6 256.0 L 606.8 256.0 L 606.8 266.7 L 603.7 266.7 L 603.7 243.6 \" fill=\"#000000\"/>\n",
       "<path class=\"atom-19\" d=\"M 576.7 546.6 L 581.7 546.6 L 581.7 529.3 L 576.1 531.1 L 575.4 529.1 L 582.5 526.0 L 584.8 526.4 L 584.8 546.6 L 589.3 546.6 L 589.3 549.2 L 576.7 549.2 L 576.7 546.6 \" fill=\"#000000\"/>\n",
       "<path class=\"atom-19\" d=\"M 598.9 525.8 Q 603.0 525.8, 605.1 528.6 Q 607.2 531.4, 607.2 537.0 Q 607.2 543.1, 604.6 546.3 Q 602.0 549.5, 597.1 549.5 Q 595.7 549.5, 594.4 549.1 Q 593.2 548.8, 592.0 548.1 L 593.3 545.9 Q 595.0 546.9, 597.1 546.9 Q 600.3 546.9, 602.0 544.8 Q 603.7 542.6, 603.9 538.3 Q 602.7 539.4, 601.2 540.0 Q 599.7 540.5, 598.1 540.5 Q 596.1 540.5, 594.5 539.6 Q 592.9 538.8, 592.0 537.2 Q 591.1 535.6, 591.1 533.5 Q 591.1 531.3, 592.1 529.6 Q 593.1 527.8, 594.9 526.8 Q 596.7 525.8, 598.9 525.8 M 594.4 533.5 Q 594.4 535.6, 595.5 536.7 Q 596.7 537.9, 598.7 537.9 Q 600.1 537.9, 601.5 537.4 Q 602.9 536.8, 603.9 535.8 Q 603.7 532.0, 602.5 530.2 Q 601.3 528.5, 598.9 528.5 Q 597.6 528.5, 596.6 529.2 Q 595.6 529.8, 595.0 531.0 Q 594.4 532.1, 594.4 533.5 \" fill=\"#000000\"/>\n",
       "<path class=\"atom-19\" d=\"M 609.6 545.4 L 612.9 545.4 L 612.9 548.7 L 609.6 548.7 L 609.6 545.4 M 609.6 534.2 L 612.9 534.2 L 612.9 537.4 L 609.6 537.4 L 609.6 534.2 \" fill=\"#000000\"/>\n",
       "<path class=\"atom-19\" d=\"M 615.7 526.1 L 618.8 526.1 L 618.8 535.9 L 630.6 535.9 L 630.6 526.1 L 633.7 526.1 L 633.7 549.2 L 630.6 549.2 L 630.6 538.5 L 618.8 538.5 L 618.8 549.2 L 615.7 549.2 L 615.7 526.1 \" fill=\"#000000\"/>\n",
       "<path class=\"atom-20\" d=\"M 367.3 537.7 Q 368.1 535.5, 370.2 534.3 Q 372.2 533.1, 375.0 533.1 Q 378.5 533.1, 380.5 535.0 Q 382.4 536.8, 382.4 540.2 Q 382.4 543.6, 379.9 546.8 Q 377.3 550.0, 372.1 553.8 L 382.8 553.8 L 382.8 556.4 L 367.2 556.4 L 367.2 554.3 Q 371.5 551.2, 374.1 548.9 Q 376.7 546.6, 377.9 544.6 Q 379.1 542.5, 379.1 540.4 Q 379.1 538.2, 378.0 536.9 Q 376.9 535.7, 375.0 535.7 Q 373.1 535.7, 371.9 536.4 Q 370.7 537.2, 369.8 538.8 L 367.3 537.7 \" fill=\"#000000\"/>\n",
       "<path class=\"atom-20\" d=\"M 393.3 556.7 Q 389.0 556.7, 386.9 553.6 Q 384.8 550.4, 384.8 544.8 Q 384.8 539.3, 386.9 536.2 Q 389.0 533.1, 393.3 533.1 Q 397.5 533.1, 399.6 536.2 Q 401.7 539.3, 401.7 544.8 Q 401.7 550.4, 399.6 553.6 Q 397.5 556.7, 393.3 556.7 M 393.3 554.1 Q 395.8 554.1, 397.1 551.8 Q 398.4 549.4, 398.4 544.8 Q 398.4 540.3, 397.1 538.0 Q 395.8 535.7, 393.3 535.7 Q 390.8 535.7, 389.4 538.0 Q 388.1 540.3, 388.1 544.8 Q 388.1 549.4, 389.4 551.8 Q 390.8 554.1, 393.3 554.1 \" fill=\"#000000\"/>\n",
       "<path class=\"atom-20\" d=\"M 404.2 552.6 L 407.4 552.6 L 407.4 555.9 L 404.2 555.9 L 404.2 552.6 M 404.2 541.4 L 407.4 541.4 L 407.4 544.6 L 404.2 544.6 L 404.2 541.4 \" fill=\"#000000\"/>\n",
       "<path class=\"atom-20\" d=\"M 410.2 533.3 L 413.3 533.3 L 413.3 543.1 L 425.2 543.1 L 425.2 533.3 L 428.3 533.3 L 428.3 556.4 L 425.2 556.4 L 425.2 545.8 L 413.3 545.8 L 413.3 556.4 L 410.2 556.4 L 410.2 533.3 \" fill=\"#000000\"/>\n",
       "<path class=\"atom-21\" d=\"M 693.9 454.4 Q 694.7 452.2, 696.7 451.0 Q 698.7 449.8, 701.6 449.8 Q 705.1 449.8, 707.0 451.7 Q 709.0 453.6, 709.0 456.9 Q 709.0 460.4, 706.4 463.6 Q 703.9 466.8, 698.7 470.5 L 709.4 470.5 L 709.4 473.2 L 693.8 473.2 L 693.8 471.0 Q 698.1 467.9, 700.6 465.6 Q 703.2 463.3, 704.5 461.3 Q 705.7 459.2, 705.7 457.1 Q 705.7 454.9, 704.6 453.6 Q 703.5 452.4, 701.6 452.4 Q 699.7 452.4, 698.5 453.1 Q 697.2 453.9, 696.3 455.6 L 693.9 454.4 \" fill=\"#000000\"/>\n",
       "<path class=\"atom-21\" d=\"M 712.4 470.5 L 717.5 470.5 L 717.5 453.3 L 711.9 455.0 L 711.1 453.1 L 718.2 449.9 L 720.5 450.3 L 720.5 470.5 L 725.1 470.5 L 725.1 473.2 L 712.4 473.2 L 712.4 470.5 \" fill=\"#000000\"/>\n",
       "<path class=\"atom-21\" d=\"M 727.5 469.3 L 730.8 469.3 L 730.8 472.6 L 727.5 472.6 L 727.5 469.3 M 727.5 458.1 L 730.8 458.1 L 730.8 461.4 L 727.5 461.4 L 727.5 458.1 \" fill=\"#000000\"/>\n",
       "<path class=\"atom-21\" d=\"M 733.6 450.0 L 736.7 450.0 L 736.7 459.9 L 748.5 459.9 L 748.5 450.0 L 751.7 450.0 L 751.7 473.2 L 748.5 473.2 L 748.5 462.5 L 736.7 462.5 L 736.7 473.2 L 733.6 473.2 L 733.6 450.0 \" fill=\"#000000\"/>\n",
       "<path class=\"note\" d=\"M 183.8 398.8 L 186.4 398.8 L 186.4 390.1 L 183.6 391.0 L 183.2 390.0 L 186.7 388.4 L 187.9 388.6 L 187.9 398.8 L 190.2 398.8 L 190.2 400.1 L 183.8 400.1 L 183.8 398.8 \" fill=\"#000000\"/>\n",
       "<path class=\"note\" d=\"M 225.9 388.8 Q 226.4 387.7, 227.4 387.1 Q 228.4 386.5, 229.8 386.5 Q 231.5 386.5, 232.5 387.4 Q 233.5 388.4, 233.5 390.1 Q 233.5 391.8, 232.2 393.4 Q 231.0 395.0, 228.3 396.9 L 233.7 396.9 L 233.7 398.2 L 225.9 398.2 L 225.9 397.1 Q 228.1 395.6, 229.3 394.4 Q 230.6 393.3, 231.2 392.2 Q 231.9 391.2, 231.9 390.1 Q 231.9 389.0, 231.3 388.4 Q 230.7 387.8, 229.8 387.8 Q 228.9 387.8, 228.2 388.2 Q 227.6 388.5, 227.2 389.4 L 225.9 388.8 \" fill=\"#000000\"/>\n",
       "<path class=\"note\" d=\"M 313.0 388.5 Q 314.1 388.8, 314.7 389.5 Q 315.2 390.3, 315.2 391.4 Q 315.2 392.4, 314.7 393.1 Q 314.3 393.9, 313.4 394.3 Q 312.5 394.7, 311.3 394.7 Q 310.0 394.7, 309.1 394.3 Q 308.2 393.9, 307.5 393.0 L 308.4 392.0 Q 309.1 392.8, 309.7 393.1 Q 310.3 393.4, 311.3 393.4 Q 312.3 393.4, 313.0 392.9 Q 313.6 392.3, 313.6 391.4 Q 313.6 390.2, 312.9 389.7 Q 312.3 389.1, 310.9 389.1 L 310.0 389.1 L 310.0 388.0 L 310.8 388.0 Q 312.0 388.0, 312.7 387.4 Q 313.4 386.9, 313.4 385.8 Q 313.4 385.1, 312.8 384.6 Q 312.3 384.2, 311.3 384.2 Q 310.3 384.2, 309.7 384.5 Q 309.1 384.9, 308.7 385.7 L 307.6 385.1 Q 308.0 384.2, 309.0 383.5 Q 309.9 382.9, 311.3 382.9 Q 313.0 382.9, 314.0 383.7 Q 315.0 384.5, 315.0 385.8 Q 315.0 386.8, 314.5 387.4 Q 314.0 388.1, 313.0 388.5 \" fill=\"#000000\"/>\n",
       "<path class=\"note\" d=\"M 401.4 382.4 L 402.8 382.4 L 402.8 383.7 L 401.4 383.7 L 401.4 386.3 L 399.9 386.3 L 399.9 383.7 L 393.9 383.7 L 393.9 382.6 L 399.0 374.8 L 401.4 374.8 L 401.4 382.4 M 395.8 382.4 L 399.9 382.4 L 399.9 375.8 L 395.8 382.4 \" fill=\"#000000\"/>\n",
       "<path class=\"note\" d=\"M 465.6 352.5 Q 466.6 352.5, 467.4 353.0 Q 468.2 353.4, 468.7 354.2 Q 469.2 355.0, 469.2 356.1 Q 469.2 357.3, 468.6 358.2 Q 468.0 359.0, 467.1 359.5 Q 466.1 359.9, 465.1 359.9 Q 464.0 359.9, 463.0 359.5 Q 462.0 359.1, 461.4 358.4 L 462.3 357.3 Q 462.9 357.9, 463.6 358.3 Q 464.4 358.6, 465.1 358.6 Q 466.1 358.6, 466.8 357.9 Q 467.6 357.3, 467.6 356.1 Q 467.6 354.9, 466.8 354.3 Q 466.1 353.8, 465.0 353.8 Q 464.0 353.8, 462.9 354.2 L 462.0 353.8 L 462.5 348.2 L 468.5 348.2 L 468.3 349.5 L 463.9 349.5 L 463.5 352.9 Q 464.5 352.5, 465.6 352.5 \" fill=\"#000000\"/>\n",
       "<path class=\"note\" d=\"M 521.9 347.1 L 515.8 347.1 L 515.8 345.8 L 523.5 345.8 L 523.5 347.0 L 518.8 357.4 L 517.2 357.4 L 521.9 347.1 \" fill=\"#000000\"/>\n",
       "<path class=\"note\" d=\"M 548.8 391.6 Q 550.9 391.6, 551.9 393.0 Q 552.9 394.4, 552.9 397.2 Q 552.9 400.3, 551.6 401.9 Q 550.4 403.4, 547.9 403.4 Q 547.2 403.4, 546.6 403.3 Q 546.0 403.1, 545.4 402.8 L 546.0 401.7 Q 546.9 402.1, 547.9 402.1 Q 549.5 402.1, 550.3 401.1 Q 551.2 400.0, 551.3 397.9 Q 550.7 398.4, 549.9 398.7 Q 549.2 399.0, 548.4 399.0 Q 547.4 399.0, 546.6 398.5 Q 545.8 398.1, 545.4 397.3 Q 544.9 396.5, 544.9 395.5 Q 544.9 394.3, 545.4 393.5 Q 545.9 392.6, 546.8 392.1 Q 547.7 391.6, 548.8 391.6 M 546.5 395.5 Q 546.5 396.5, 547.1 397.1 Q 547.7 397.7, 548.7 397.7 Q 549.4 397.7, 550.1 397.4 Q 550.8 397.1, 551.3 396.6 Q 551.2 394.7, 550.6 393.8 Q 550.0 393.0, 548.8 393.0 Q 548.2 393.0, 547.6 393.3 Q 547.1 393.6, 546.8 394.2 Q 546.5 394.8, 546.5 395.5 \" fill=\"#000000\"/>\n",
       "<path class=\"note\" d=\"M 525.6 445.5 Q 526.7 445.9, 527.3 446.6 Q 527.9 447.3, 527.9 448.4 Q 527.9 449.4, 527.4 450.2 Q 526.9 450.9, 526.0 451.4 Q 525.1 451.8, 523.9 451.8 Q 522.0 451.8, 520.8 450.9 Q 519.7 450.0, 519.7 448.4 Q 519.7 447.5, 520.2 446.8 Q 520.7 446.1, 521.7 445.5 Q 521.0 445.1, 520.6 444.5 Q 520.2 443.8, 520.2 442.9 Q 520.2 441.5, 521.1 440.7 Q 522.1 439.9, 523.8 439.9 Q 525.5 439.9, 526.5 440.7 Q 527.5 441.5, 527.5 442.9 Q 527.5 443.7, 527.0 444.3 Q 526.5 445.0, 525.6 445.5 M 523.8 441.1 Q 522.9 441.1, 522.3 441.6 Q 521.8 442.0, 521.8 442.9 Q 521.8 443.5, 522.2 443.9 Q 522.5 444.3, 523.0 444.5 Q 523.5 444.7, 524.5 445.1 Q 525.2 444.6, 525.5 444.1 Q 525.8 443.5, 525.8 442.9 Q 525.8 442.0, 525.3 441.6 Q 524.8 441.1, 523.8 441.1 M 523.9 450.5 Q 525.0 450.5, 525.6 450.0 Q 526.3 449.4, 526.3 448.4 Q 526.3 447.8, 525.9 447.4 Q 525.6 447.0, 525.1 446.8 Q 524.6 446.6, 523.6 446.3 L 522.9 446.0 Q 522.1 446.5, 521.7 447.1 Q 521.4 447.7, 521.4 448.4 Q 521.4 449.4, 522.1 450.0 Q 522.7 450.5, 523.9 450.5 \" fill=\"#000000\"/>\n",
       "<path class=\"note\" d=\"M 470.0 446.8 Q 471.0 446.8, 471.8 447.2 Q 472.6 447.7, 473.0 448.5 Q 473.5 449.3, 473.5 450.3 Q 473.5 451.4, 472.9 452.3 Q 472.5 453.2, 471.6 453.6 Q 470.7 454.1, 469.6 454.1 Q 467.5 454.1, 466.5 452.8 Q 465.4 451.3, 465.4 448.6 Q 465.4 445.5, 466.7 443.9 Q 468.0 442.3, 470.5 442.3 Q 471.2 442.3, 471.8 442.5 Q 472.4 442.6, 473.0 443.0 L 472.4 444.1 Q 471.5 443.6, 470.5 443.6 Q 468.9 443.6, 468.0 444.7 Q 467.2 445.7, 467.1 447.9 Q 467.7 447.4, 468.4 447.1 Q 469.2 446.8, 470.0 446.8 M 469.6 452.8 Q 470.2 452.8, 470.7 452.5 Q 471.2 452.1, 471.5 451.6 Q 471.8 451.0, 471.8 450.3 Q 471.8 449.3, 471.3 448.7 Q 470.7 448.1, 469.7 448.1 Q 469.0 448.1, 468.3 448.4 Q 467.6 448.7, 467.1 449.2 Q 467.2 451.1, 467.8 451.9 Q 468.4 452.8, 469.6 452.8 \" fill=\"#000000\"/>\n",
       "</svg>"
      ],
      "text/plain": [
       "<IPython.core.display.SVG object>"
      ]
     },
     "execution_count": 34,
     "metadata": {},
     "output_type": "execute_result"
    }
   ],
   "source": [
    "svmol1new_iter_change = visualizations._show_common_core_gradient( mol1, hit_ats1, \n",
    "                                         order1newiter_change, percomponent = True, numbers = True)\n",
    "SVG(svmol1new_iter_change)"
   ]
  },
  {
   "cell_type": "code",
   "execution_count": 35,
   "id": "f72b6082",
   "metadata": {},
   "outputs": [
    {
     "data": {
      "application/3dmoljs_load.v0": "<div id=\"3dmolviewer_16667915479983723\"  style=\"position: relative; width: 640px; height: 480px\">\n        <p id=\"3dmolwarning_16667915479983723\" style=\"background-color:#ffcccc;color:black\">You appear to be running in JupyterLab (or JavaScript failed to load for some other reason).  You need to install the 3dmol extension: <br>\n        <tt>jupyter labextension install jupyterlab_3dmol</tt></p>\n        </div>\n<script>\n\nvar loadScriptAsync = function(uri){\n  return new Promise((resolve, reject) => {\n    var tag = document.createElement('script');\n    tag.src = uri;\n    tag.async = true;\n    tag.onload = () => {\n      resolve();\n    };\n  var firstScriptTag = document.getElementsByTagName('script')[0];\n  firstScriptTag.parentNode.insertBefore(tag, firstScriptTag);\n});\n};\n\nif(typeof $3Dmolpromise === 'undefined') {\n$3Dmolpromise = null;\n  $3Dmolpromise = loadScriptAsync('https://3dmol.org/build/3Dmol.js');\n}\n\nvar viewer_16667915479983723 = null;\nvar warn = document.getElementById(\"3dmolwarning_16667915479983723\");\nif(warn) {\n    warn.parentNode.removeChild(warn);\n}\n$3Dmolpromise.then(function() {\nviewer_16667915479983723 = $3Dmol.createViewer($(\"#3dmolviewer_16667915479983723\"),{backgroundColor:\"white\"});\nviewer_16667915479983723.zoomTo();\n\tviewer_16667915479983723.removeAllModels();\n\tviewer_16667915479983723.addModel(\"\\n     RDKit          3D\\n\\n  9  9  0  0  0  0  0  0  0  0999 V2000\\n    6.2505    0.1892    1.2713 C   0  0  0  0  0  0  0  0  0  0  0  0\\n    5.2228   -0.4684    2.1803 C   0  0  0  0  0  0  0  0  0  0  0  0\\n    3.8471   -0.3518    1.6134 C   0  0  0  0  0  0  0  0  0  0  0  0\\n    3.4161   -1.2459    0.6262 C   0  0  0  0  0  0  0  0  0  0  0  0\\n    2.1309   -1.1285    0.0880 C   0  0  0  0  0  0  0  0  0  0  0  0\\n    1.2758   -0.1161    0.5342 C   0  0  0  0  0  0  0  0  0  0  0  0\\n    1.7057    0.7797    1.5180 C   0  0  0  0  0  0  0  0  0  0  0  0\\n    2.9908    0.6627    2.0566 C   0  0  0  0  0  0  0  0  0  0  0  0\\n    0.0000    0.0000    0.0000 O   0  0  0  0  0  0  0  0  0  0  0  0\\n  1  2  1  0\\n  2  3  1  0\\n  3  4  4  0\\n  4  5  4  0\\n  5  6  4  0\\n  6  7  4  0\\n  7  8  4  0\\n  6  9  1  0\\n  8  3  4  0\\nM  END\\n\",\"mol\");\n\tviewer_16667915479983723.setStyle({\"model\": 0},{\"stick\": {}});\n\tviewer_16667915479983723.setBackgroundColor(\"0xeeeeee\");\n\tviewer_16667915479983723.zoomTo();\nviewer_16667915479983723.render();\n});\n</script><script>\n            $3Dmolpromise.then(function() { //wrap in promise for non-interactive functionality\n                \n                viewer_16667915479983723.render();\n            });\n            </script>",
      "text/html": [
       "<div id=\"3dmolviewer_16667915479983723\"  style=\"position: relative; width: 640px; height: 480px\">\n",
       "        <p id=\"3dmolwarning_16667915479983723\" style=\"background-color:#ffcccc;color:black\">You appear to be running in JupyterLab (or JavaScript failed to load for some other reason).  You need to install the 3dmol extension: <br>\n",
       "        <tt>jupyter labextension install jupyterlab_3dmol</tt></p>\n",
       "        </div>\n",
       "<script>\n",
       "\n",
       "var loadScriptAsync = function(uri){\n",
       "  return new Promise((resolve, reject) => {\n",
       "    var tag = document.createElement('script');\n",
       "    tag.src = uri;\n",
       "    tag.async = true;\n",
       "    tag.onload = () => {\n",
       "      resolve();\n",
       "    };\n",
       "  var firstScriptTag = document.getElementsByTagName('script')[0];\n",
       "  firstScriptTag.parentNode.insertBefore(tag, firstScriptTag);\n",
       "});\n",
       "};\n",
       "\n",
       "if(typeof $3Dmolpromise === 'undefined') {\n",
       "$3Dmolpromise = null;\n",
       "  $3Dmolpromise = loadScriptAsync('https://3dmol.org/build/3Dmol.js');\n",
       "}\n",
       "\n",
       "var viewer_16667915479983723 = null;\n",
       "var warn = document.getElementById(\"3dmolwarning_16667915479983723\");\n",
       "if(warn) {\n",
       "    warn.parentNode.removeChild(warn);\n",
       "}\n",
       "$3Dmolpromise.then(function() {\n",
       "viewer_16667915479983723 = $3Dmol.createViewer($(\"#3dmolviewer_16667915479983723\"),{backgroundColor:\"white\"});\n",
       "viewer_16667915479983723.zoomTo();\n",
       "\tviewer_16667915479983723.removeAllModels();\n",
       "\tviewer_16667915479983723.addModel(\"\\n     RDKit          3D\\n\\n  9  9  0  0  0  0  0  0  0  0999 V2000\\n    6.2505    0.1892    1.2713 C   0  0  0  0  0  0  0  0  0  0  0  0\\n    5.2228   -0.4684    2.1803 C   0  0  0  0  0  0  0  0  0  0  0  0\\n    3.8471   -0.3518    1.6134 C   0  0  0  0  0  0  0  0  0  0  0  0\\n    3.4161   -1.2459    0.6262 C   0  0  0  0  0  0  0  0  0  0  0  0\\n    2.1309   -1.1285    0.0880 C   0  0  0  0  0  0  0  0  0  0  0  0\\n    1.2758   -0.1161    0.5342 C   0  0  0  0  0  0  0  0  0  0  0  0\\n    1.7057    0.7797    1.5180 C   0  0  0  0  0  0  0  0  0  0  0  0\\n    2.9908    0.6627    2.0566 C   0  0  0  0  0  0  0  0  0  0  0  0\\n    0.0000    0.0000    0.0000 O   0  0  0  0  0  0  0  0  0  0  0  0\\n  1  2  1  0\\n  2  3  1  0\\n  3  4  4  0\\n  4  5  4  0\\n  5  6  4  0\\n  6  7  4  0\\n  7  8  4  0\\n  6  9  1  0\\n  8  3  4  0\\nM  END\\n\",\"mol\");\n",
       "\tviewer_16667915479983723.setStyle({\"model\": 0},{\"stick\": {}});\n",
       "\tviewer_16667915479983723.setBackgroundColor(\"0xeeeeee\");\n",
       "\tviewer_16667915479983723.zoomTo();\n",
       "viewer_16667915479983723.render();\n",
       "});\n",
       "</script><script>\n",
       "            $3Dmolpromise.then(function() { //wrap in promise for non-interactive functionality\n",
       "                \n",
       "                viewer_16667915479983723.render();\n",
       "            });\n",
       "            </script>"
      ]
     },
     "metadata": {},
     "output_type": "display_data"
    },
    {
     "data": {
      "application/3dmoljs_load.v0": "<script>\n            $3Dmolpromise.then(function() { //wrap in promise for non-interactive functionality\n                \tviewer_16667915479983723.removeAllModels();\n\tviewer_16667915479983723.addModel(\"\\n     RDKit          3D\\n\\n  8  8  0  0  0  0  0  0  0  0999 V2000\\n    5.2228   -0.4684    2.1803 C   0  0  0  0  0  0  0  0  0  0  0  0\\n    3.8471   -0.3518    1.6134 C   0  0  0  0  0  0  0  0  0  0  0  0\\n    3.4161   -1.2459    0.6262 C   0  0  0  0  0  0  0  0  0  0  0  0\\n    2.1309   -1.1285    0.0880 C   0  0  0  0  0  0  0  0  0  0  0  0\\n    1.2758   -0.1161    0.5342 C   0  0  0  0  0  0  0  0  0  0  0  0\\n    1.7057    0.7797    1.5180 C   0  0  0  0  0  0  0  0  0  0  0  0\\n    2.9908    0.6627    2.0566 C   0  0  0  0  0  0  0  0  0  0  0  0\\n    0.0000    0.0000    0.0000 O   0  0  0  0  0  0  0  0  0  0  0  0\\n  1  2  1  0\\n  2  3  4  0\\n  3  4  4  0\\n  4  5  4  0\\n  5  6  4  0\\n  6  7  4  0\\n  5  8  1  0\\n  7  2  4  0\\nM  END\\n\",\"mol\");\n\tviewer_16667915479983723.setStyle({\"model\": 0},{\"stick\": {}});\n\tviewer_16667915479983723.setBackgroundColor(\"0xeeeeee\");\n\n                viewer_16667915479983723.render();\n            });\n            </script>",
      "text/html": [
       "<script>\n",
       "            $3Dmolpromise.then(function() { //wrap in promise for non-interactive functionality\n",
       "                \tviewer_16667915479983723.removeAllModels();\n",
       "\tviewer_16667915479983723.addModel(\"\\n     RDKit          3D\\n\\n  8  8  0  0  0  0  0  0  0  0999 V2000\\n    5.2228   -0.4684    2.1803 C   0  0  0  0  0  0  0  0  0  0  0  0\\n    3.8471   -0.3518    1.6134 C   0  0  0  0  0  0  0  0  0  0  0  0\\n    3.4161   -1.2459    0.6262 C   0  0  0  0  0  0  0  0  0  0  0  0\\n    2.1309   -1.1285    0.0880 C   0  0  0  0  0  0  0  0  0  0  0  0\\n    1.2758   -0.1161    0.5342 C   0  0  0  0  0  0  0  0  0  0  0  0\\n    1.7057    0.7797    1.5180 C   0  0  0  0  0  0  0  0  0  0  0  0\\n    2.9908    0.6627    2.0566 C   0  0  0  0  0  0  0  0  0  0  0  0\\n    0.0000    0.0000    0.0000 O   0  0  0  0  0  0  0  0  0  0  0  0\\n  1  2  1  0\\n  2  3  4  0\\n  3  4  4  0\\n  4  5  4  0\\n  5  6  4  0\\n  6  7  4  0\\n  5  8  1  0\\n  7  2  4  0\\nM  END\\n\",\"mol\");\n",
       "\tviewer_16667915479983723.setStyle({\"model\": 0},{\"stick\": {}});\n",
       "\tviewer_16667915479983723.setBackgroundColor(\"0xeeeeee\");\n",
       "\n",
       "                viewer_16667915479983723.render();\n",
       "            });\n",
       "            </script>"
      ]
     },
     "metadata": {},
     "output_type": "display_data"
    },
    {
     "data": {
      "application/3dmoljs_load.v0": "<script>\n            $3Dmolpromise.then(function() { //wrap in promise for non-interactive functionality\n                \tviewer_16667915479983723.removeAllModels();\n\tviewer_16667915479983723.addModel(\"\\n     RDKit          3D\\n\\n  7  7  0  0  0  0  0  0  0  0999 V2000\\n    3.8471   -0.3518    1.6134 C   0  0  0  0  0  0  0  0  0  0  0  0\\n    3.4161   -1.2459    0.6262 C   0  0  0  0  0  0  0  0  0  0  0  0\\n    2.1309   -1.1285    0.0880 C   0  0  0  0  0  0  0  0  0  0  0  0\\n    1.2758   -0.1161    0.5342 C   0  0  0  0  0  0  0  0  0  0  0  0\\n    1.7057    0.7797    1.5180 C   0  0  0  0  0  0  0  0  0  0  0  0\\n    2.9908    0.6627    2.0566 C   0  0  0  0  0  0  0  0  0  0  0  0\\n    0.0000    0.0000    0.0000 O   0  0  0  0  0  0  0  0  0  0  0  0\\n  1  2  4  0\\n  2  3  4  0\\n  3  4  4  0\\n  4  5  4  0\\n  5  6  4  0\\n  4  7  1  0\\n  6  1  4  0\\nM  END\\n\",\"mol\");\n\tviewer_16667915479983723.setStyle({\"model\": 0},{\"stick\": {}});\n\tviewer_16667915479983723.setBackgroundColor(\"0xeeeeee\");\n\n                viewer_16667915479983723.render();\n            });\n            </script>",
      "text/html": [
       "<script>\n",
       "            $3Dmolpromise.then(function() { //wrap in promise for non-interactive functionality\n",
       "                \tviewer_16667915479983723.removeAllModels();\n",
       "\tviewer_16667915479983723.addModel(\"\\n     RDKit          3D\\n\\n  7  7  0  0  0  0  0  0  0  0999 V2000\\n    3.8471   -0.3518    1.6134 C   0  0  0  0  0  0  0  0  0  0  0  0\\n    3.4161   -1.2459    0.6262 C   0  0  0  0  0  0  0  0  0  0  0  0\\n    2.1309   -1.1285    0.0880 C   0  0  0  0  0  0  0  0  0  0  0  0\\n    1.2758   -0.1161    0.5342 C   0  0  0  0  0  0  0  0  0  0  0  0\\n    1.7057    0.7797    1.5180 C   0  0  0  0  0  0  0  0  0  0  0  0\\n    2.9908    0.6627    2.0566 C   0  0  0  0  0  0  0  0  0  0  0  0\\n    0.0000    0.0000    0.0000 O   0  0  0  0  0  0  0  0  0  0  0  0\\n  1  2  4  0\\n  2  3  4  0\\n  3  4  4  0\\n  4  5  4  0\\n  5  6  4  0\\n  4  7  1  0\\n  6  1  4  0\\nM  END\\n\",\"mol\");\n",
       "\tviewer_16667915479983723.setStyle({\"model\": 0},{\"stick\": {}});\n",
       "\tviewer_16667915479983723.setBackgroundColor(\"0xeeeeee\");\n",
       "\n",
       "                viewer_16667915479983723.render();\n",
       "            });\n",
       "            </script>"
      ]
     },
     "metadata": {},
     "output_type": "display_data"
    },
    {
     "data": {
      "application/3dmoljs_load.v0": "<script>\n            $3Dmolpromise.then(function() { //wrap in promise for non-interactive functionality\n                \tviewer_16667915479983723.removeAllModels();\n\tviewer_16667915479983723.addModel(\"\\n     RDKit          3D\\n\\n  6  5  0  0  0  0  0  0  0  0999 V2000\\n    3.4161   -1.2459    0.6262 C   0  0  0  0  0  0  0  0  0  0  0  0\\n    2.1309   -1.1285    0.0880 C   0  0  0  0  0  0  0  0  0  0  0  0\\n    1.2758   -0.1161    0.5342 C   0  0  0  0  0  0  0  0  0  0  0  0\\n    1.7057    0.7797    1.5180 C   0  0  0  0  0  0  0  0  0  0  0  0\\n    2.9908    0.6627    2.0566 C   0  0  0  0  0  0  0  0  0  0  0  0\\n    0.0000    0.0000    0.0000 O   0  0  0  0  0  0  0  0  0  0  0  0\\n  1  2  4  0\\n  2  3  4  0\\n  3  4  4  0\\n  4  5  4  0\\n  3  6  1  0\\nM  END\\n\",\"mol\");\n\tviewer_16667915479983723.setStyle({\"model\": 0},{\"stick\": {}});\n\tviewer_16667915479983723.setBackgroundColor(\"0xeeeeee\");\n\n                viewer_16667915479983723.render();\n            });\n            </script>",
      "text/html": [
       "<script>\n",
       "            $3Dmolpromise.then(function() { //wrap in promise for non-interactive functionality\n",
       "                \tviewer_16667915479983723.removeAllModels();\n",
       "\tviewer_16667915479983723.addModel(\"\\n     RDKit          3D\\n\\n  6  5  0  0  0  0  0  0  0  0999 V2000\\n    3.4161   -1.2459    0.6262 C   0  0  0  0  0  0  0  0  0  0  0  0\\n    2.1309   -1.1285    0.0880 C   0  0  0  0  0  0  0  0  0  0  0  0\\n    1.2758   -0.1161    0.5342 C   0  0  0  0  0  0  0  0  0  0  0  0\\n    1.7057    0.7797    1.5180 C   0  0  0  0  0  0  0  0  0  0  0  0\\n    2.9908    0.6627    2.0566 C   0  0  0  0  0  0  0  0  0  0  0  0\\n    0.0000    0.0000    0.0000 O   0  0  0  0  0  0  0  0  0  0  0  0\\n  1  2  4  0\\n  2  3  4  0\\n  3  4  4  0\\n  4  5  4  0\\n  3  6  1  0\\nM  END\\n\",\"mol\");\n",
       "\tviewer_16667915479983723.setStyle({\"model\": 0},{\"stick\": {}});\n",
       "\tviewer_16667915479983723.setBackgroundColor(\"0xeeeeee\");\n",
       "\n",
       "                viewer_16667915479983723.render();\n",
       "            });\n",
       "            </script>"
      ]
     },
     "metadata": {},
     "output_type": "display_data"
    },
    {
     "data": {
      "application/3dmoljs_load.v0": "<script>\n            $3Dmolpromise.then(function() { //wrap in promise for non-interactive functionality\n                \tviewer_16667915479983723.removeAllModels();\n\tviewer_16667915479983723.addModel(\"\\n     RDKit          3D\\n\\n  5  4  0  0  0  0  0  0  0  0999 V2000\\n    2.1309   -1.1285    0.0880 C   0  0  0  0  0  0  0  0  0  0  0  0\\n    1.2758   -0.1161    0.5342 C   0  0  0  0  0  0  0  0  0  0  0  0\\n    1.7057    0.7797    1.5180 C   0  0  0  0  0  0  0  0  0  0  0  0\\n    2.9908    0.6627    2.0566 C   0  0  0  0  0  0  0  0  0  0  0  0\\n    0.0000    0.0000    0.0000 O   0  0  0  0  0  0  0  0  0  0  0  0\\n  1  2  4  0\\n  2  3  4  0\\n  3  4  4  0\\n  2  5  1  0\\nM  END\\n\",\"mol\");\n\tviewer_16667915479983723.setStyle({\"model\": 0},{\"stick\": {}});\n\tviewer_16667915479983723.setBackgroundColor(\"0xeeeeee\");\n\n                viewer_16667915479983723.render();\n            });\n            </script>",
      "text/html": [
       "<script>\n",
       "            $3Dmolpromise.then(function() { //wrap in promise for non-interactive functionality\n",
       "                \tviewer_16667915479983723.removeAllModels();\n",
       "\tviewer_16667915479983723.addModel(\"\\n     RDKit          3D\\n\\n  5  4  0  0  0  0  0  0  0  0999 V2000\\n    2.1309   -1.1285    0.0880 C   0  0  0  0  0  0  0  0  0  0  0  0\\n    1.2758   -0.1161    0.5342 C   0  0  0  0  0  0  0  0  0  0  0  0\\n    1.7057    0.7797    1.5180 C   0  0  0  0  0  0  0  0  0  0  0  0\\n    2.9908    0.6627    2.0566 C   0  0  0  0  0  0  0  0  0  0  0  0\\n    0.0000    0.0000    0.0000 O   0  0  0  0  0  0  0  0  0  0  0  0\\n  1  2  4  0\\n  2  3  4  0\\n  3  4  4  0\\n  2  5  1  0\\nM  END\\n\",\"mol\");\n",
       "\tviewer_16667915479983723.setStyle({\"model\": 0},{\"stick\": {}});\n",
       "\tviewer_16667915479983723.setBackgroundColor(\"0xeeeeee\");\n",
       "\n",
       "                viewer_16667915479983723.render();\n",
       "            });\n",
       "            </script>"
      ]
     },
     "metadata": {},
     "output_type": "display_data"
    },
    {
     "data": {
      "application/3dmoljs_load.v0": "<script>\n            $3Dmolpromise.then(function() { //wrap in promise for non-interactive functionality\n                \tviewer_16667915479983723.removeAllModels();\n\tviewer_16667915479983723.addModel(\"\\n     RDKit          3D\\n\\n  4  3  0  0  0  0  0  0  0  0999 V2000\\n    2.1309   -1.1285    0.0880 C   0  0  0  0  0  0  0  0  0  0  0  0\\n    1.2758   -0.1161    0.5342 C   0  0  0  0  0  0  0  0  0  0  0  0\\n    1.7057    0.7797    1.5180 C   0  0  0  0  0  0  0  0  0  0  0  0\\n    0.0000    0.0000    0.0000 O   0  0  0  0  0  0  0  0  0  0  0  0\\n  1  2  4  0\\n  2  3  4  0\\n  2  4  1  0\\nM  END\\n\",\"mol\");\n\tviewer_16667915479983723.setStyle({\"model\": 0},{\"stick\": {}});\n\tviewer_16667915479983723.setBackgroundColor(\"0xeeeeee\");\n\n                viewer_16667915479983723.render();\n            });\n            </script>",
      "text/html": [
       "<script>\n",
       "            $3Dmolpromise.then(function() { //wrap in promise for non-interactive functionality\n",
       "                \tviewer_16667915479983723.removeAllModels();\n",
       "\tviewer_16667915479983723.addModel(\"\\n     RDKit          3D\\n\\n  4  3  0  0  0  0  0  0  0  0999 V2000\\n    2.1309   -1.1285    0.0880 C   0  0  0  0  0  0  0  0  0  0  0  0\\n    1.2758   -0.1161    0.5342 C   0  0  0  0  0  0  0  0  0  0  0  0\\n    1.7057    0.7797    1.5180 C   0  0  0  0  0  0  0  0  0  0  0  0\\n    0.0000    0.0000    0.0000 O   0  0  0  0  0  0  0  0  0  0  0  0\\n  1  2  4  0\\n  2  3  4  0\\n  2  4  1  0\\nM  END\\n\",\"mol\");\n",
       "\tviewer_16667915479983723.setStyle({\"model\": 0},{\"stick\": {}});\n",
       "\tviewer_16667915479983723.setBackgroundColor(\"0xeeeeee\");\n",
       "\n",
       "                viewer_16667915479983723.render();\n",
       "            });\n",
       "            </script>"
      ]
     },
     "metadata": {},
     "output_type": "display_data"
    },
    {
     "data": {
      "application/3dmoljs_load.v0": "<script>\n            $3Dmolpromise.then(function() { //wrap in promise for non-interactive functionality\n                \tviewer_16667915479983723.removeAllModels();\n\tviewer_16667915479983723.addModel(\"\\n     RDKit          3D\\n\\n  3  2  0  0  0  0  0  0  0  0999 V2000\\n    1.2758   -0.1161    0.5342 C   0  0  0  0  0  0  0  0  0  0  0  0\\n    1.7057    0.7797    1.5180 C   0  0  0  0  0  0  0  0  0  0  0  0\\n    0.0000    0.0000    0.0000 O   0  0  0  0  0  0  0  0  0  0  0  0\\n  1  2  4  0\\n  1  3  1  0\\nM  END\\n\",\"mol\");\n\tviewer_16667915479983723.setStyle({\"model\": 0},{\"stick\": {}});\n\tviewer_16667915479983723.setBackgroundColor(\"0xeeeeee\");\n\n                viewer_16667915479983723.render();\n            });\n            </script>",
      "text/html": [
       "<script>\n",
       "            $3Dmolpromise.then(function() { //wrap in promise for non-interactive functionality\n",
       "                \tviewer_16667915479983723.removeAllModels();\n",
       "\tviewer_16667915479983723.addModel(\"\\n     RDKit          3D\\n\\n  3  2  0  0  0  0  0  0  0  0999 V2000\\n    1.2758   -0.1161    0.5342 C   0  0  0  0  0  0  0  0  0  0  0  0\\n    1.7057    0.7797    1.5180 C   0  0  0  0  0  0  0  0  0  0  0  0\\n    0.0000    0.0000    0.0000 O   0  0  0  0  0  0  0  0  0  0  0  0\\n  1  2  4  0\\n  1  3  1  0\\nM  END\\n\",\"mol\");\n",
       "\tviewer_16667915479983723.setStyle({\"model\": 0},{\"stick\": {}});\n",
       "\tviewer_16667915479983723.setBackgroundColor(\"0xeeeeee\");\n",
       "\n",
       "                viewer_16667915479983723.render();\n",
       "            });\n",
       "            </script>"
      ]
     },
     "metadata": {},
     "output_type": "display_data"
    },
    {
     "data": {
      "application/3dmoljs_load.v0": "<script>\n            $3Dmolpromise.then(function() { //wrap in promise for non-interactive functionality\n                \tviewer_16667915479983723.removeAllModels();\n\tviewer_16667915479983723.addModel(\"\\n     RDKit          3D\\n\\n  2  1  0  0  0  0  0  0  0  0999 V2000\\n    1.2758   -0.1161    0.5342 C   0  0  0  0  0  0  0  0  0  0  0  0\\n    0.0000    0.0000    0.0000 O   0  0  0  0  0  0  0  0  0  0  0  0\\n  1  2  1  0\\nM  END\\n\",\"mol\");\n\tviewer_16667915479983723.setStyle({\"model\": 0},{\"stick\": {}});\n\tviewer_16667915479983723.setBackgroundColor(\"0xeeeeee\");\n\n                viewer_16667915479983723.render();\n            });\n            </script>",
      "text/html": [
       "<script>\n",
       "            $3Dmolpromise.then(function() { //wrap in promise for non-interactive functionality\n",
       "                \tviewer_16667915479983723.removeAllModels();\n",
       "\tviewer_16667915479983723.addModel(\"\\n     RDKit          3D\\n\\n  2  1  0  0  0  0  0  0  0  0999 V2000\\n    1.2758   -0.1161    0.5342 C   0  0  0  0  0  0  0  0  0  0  0  0\\n    0.0000    0.0000    0.0000 O   0  0  0  0  0  0  0  0  0  0  0  0\\n  1  2  1  0\\nM  END\\n\",\"mol\");\n",
       "\tviewer_16667915479983723.setStyle({\"model\": 0},{\"stick\": {}});\n",
       "\tviewer_16667915479983723.setBackgroundColor(\"0xeeeeee\");\n",
       "\n",
       "                viewer_16667915479983723.render();\n",
       "            });\n",
       "            </script>"
      ]
     },
     "metadata": {},
     "output_type": "display_data"
    },
    {
     "data": {
      "application/3dmoljs_load.v0": "<script>\n            $3Dmolpromise.then(function() { //wrap in promise for non-interactive functionality\n                \tviewer_16667915479983723.removeAllModels();\n\tviewer_16667915479983723.addModel(\"\\n     RDKit          3D\\n\\n  1  0  0  0  0  0  0  0  0  0999 V2000\\n    0.0000    0.0000    0.0000 O   0  0  0  0  0  0  0  0  0  0  0  0\\nM  END\\n\",\"mol\");\n\tviewer_16667915479983723.setStyle({\"model\": 0},{\"stick\": {}});\n\tviewer_16667915479983723.setBackgroundColor(\"0xeeeeee\");\n\n                viewer_16667915479983723.render();\n            });\n            </script>",
      "text/html": [
       "<script>\n",
       "            $3Dmolpromise.then(function() { //wrap in promise for non-interactive functionality\n",
       "                \tviewer_16667915479983723.removeAllModels();\n",
       "\tviewer_16667915479983723.addModel(\"\\n     RDKit          3D\\n\\n  1  0  0  0  0  0  0  0  0  0999 V2000\\n    0.0000    0.0000    0.0000 O   0  0  0  0  0  0  0  0  0  0  0  0\\nM  END\\n\",\"mol\");\n",
       "\tviewer_16667915479983723.setStyle({\"model\": 0},{\"stick\": {}});\n",
       "\tviewer_16667915479983723.setBackgroundColor(\"0xeeeeee\");\n",
       "\n",
       "                viewer_16667915479983723.render();\n",
       "            });\n",
       "            </script>"
      ]
     },
     "metadata": {},
     "output_type": "display_data"
    }
   ],
   "source": [
    "visualizations.animated_visualization_3d_v1_wo_ccoremol(mol1, order1newiter, hit_ats1)"
   ]
  },
  {
   "cell_type": "code",
   "execution_count": 36,
   "id": "28251e43",
   "metadata": {},
   "outputs": [
    {
     "data": {
      "application/3dmoljs_load.v0": "<div id=\"3dmolviewer_16667915571475406\"  style=\"position: relative; width: 640px; height: 480px\">\n        <p id=\"3dmolwarning_16667915571475406\" style=\"background-color:#ffcccc;color:black\">You appear to be running in JupyterLab (or JavaScript failed to load for some other reason).  You need to install the 3dmol extension: <br>\n        <tt>jupyter labextension install jupyterlab_3dmol</tt></p>\n        </div>\n<script>\n\nvar loadScriptAsync = function(uri){\n  return new Promise((resolve, reject) => {\n    var tag = document.createElement('script');\n    tag.src = uri;\n    tag.async = true;\n    tag.onload = () => {\n      resolve();\n    };\n  var firstScriptTag = document.getElementsByTagName('script')[0];\n  firstScriptTag.parentNode.insertBefore(tag, firstScriptTag);\n});\n};\n\nif(typeof $3Dmolpromise === 'undefined') {\n$3Dmolpromise = null;\n  $3Dmolpromise = loadScriptAsync('https://3dmol.org/build/3Dmol.js');\n}\n\nvar viewer_16667915571475406 = null;\nvar warn = document.getElementById(\"3dmolwarning_16667915571475406\");\nif(warn) {\n    warn.parentNode.removeChild(warn);\n}\n$3Dmolpromise.then(function() {\nviewer_16667915571475406 = $3Dmol.createViewer($(\"#3dmolviewer_16667915571475406\"),{backgroundColor:\"white\"});\nviewer_16667915571475406.zoomTo();\n\tviewer_16667915571475406.removeAllModels();\n\tviewer_16667915571475406.addModel(\"\\n     RDKit          3D\\n\\n  9  9  0  0  0  0  0  0  0  0999 V2000\\n    6.2505    0.1892    1.2713 C   0  0  0  0  0  0  0  0  0  0  0  0\\n    5.2228   -0.4684    2.1803 C   0  0  0  0  0  0  0  0  0  0  0  0\\n    3.8471   -0.3518    1.6134 C   0  0  0  0  0  0  0  0  0  0  0  0\\n    3.4161   -1.2459    0.6262 C   0  0  0  0  0  0  0  0  0  0  0  0\\n    2.1309   -1.1285    0.0880 C   0  0  0  0  0  0  0  0  0  0  0  0\\n    1.2758   -0.1161    0.5342 C   0  0  0  0  0  0  0  0  0  0  0  0\\n    1.7057    0.7797    1.5180 C   0  0  0  0  0  0  0  0  0  0  0  0\\n    2.9908    0.6627    2.0566 C   0  0  0  0  0  0  0  0  0  0  0  0\\n    0.0000    0.0000    0.0000 O   0  0  0  0  0  0  0  0  0  0  0  0\\n  1  2  1  0\\n  2  3  1  0\\n  3  4  4  0\\n  4  5  4  0\\n  5  6  4  0\\n  6  7  4  0\\n  7  8  4  0\\n  6  9  1  0\\n  8  3  4  0\\nM  END\\n\",\"mol\");\n\tviewer_16667915571475406.setStyle({\"model\": 0},{\"stick\": {}});\n\tviewer_16667915571475406.addModel(\"\\n     RDKit          3D\\n\\n  1  0  0  0  0  0  0  0  0  0999 V2000\\n    0.0000    0.0000    0.0000 O   0  0  0  0  0  0  0  0  0  0  0  0\\nM  END\\n\",\"mol\");\n\tviewer_16667915571475406.setStyle({\"model\": 1},{\"sphere\": {\"radius\": 0.8}});\n\tviewer_16667915571475406.setBackgroundColor(\"0xeeeeee\");\n\tviewer_16667915571475406.zoomTo();\nviewer_16667915571475406.render();\n});\n</script><script>\n            $3Dmolpromise.then(function() { //wrap in promise for non-interactive functionality\n                \n                viewer_16667915571475406.render();\n            });\n            </script>",
      "text/html": [
       "<div id=\"3dmolviewer_16667915571475406\"  style=\"position: relative; width: 640px; height: 480px\">\n",
       "        <p id=\"3dmolwarning_16667915571475406\" style=\"background-color:#ffcccc;color:black\">You appear to be running in JupyterLab (or JavaScript failed to load for some other reason).  You need to install the 3dmol extension: <br>\n",
       "        <tt>jupyter labextension install jupyterlab_3dmol</tt></p>\n",
       "        </div>\n",
       "<script>\n",
       "\n",
       "var loadScriptAsync = function(uri){\n",
       "  return new Promise((resolve, reject) => {\n",
       "    var tag = document.createElement('script');\n",
       "    tag.src = uri;\n",
       "    tag.async = true;\n",
       "    tag.onload = () => {\n",
       "      resolve();\n",
       "    };\n",
       "  var firstScriptTag = document.getElementsByTagName('script')[0];\n",
       "  firstScriptTag.parentNode.insertBefore(tag, firstScriptTag);\n",
       "});\n",
       "};\n",
       "\n",
       "if(typeof $3Dmolpromise === 'undefined') {\n",
       "$3Dmolpromise = null;\n",
       "  $3Dmolpromise = loadScriptAsync('https://3dmol.org/build/3Dmol.js');\n",
       "}\n",
       "\n",
       "var viewer_16667915571475406 = null;\n",
       "var warn = document.getElementById(\"3dmolwarning_16667915571475406\");\n",
       "if(warn) {\n",
       "    warn.parentNode.removeChild(warn);\n",
       "}\n",
       "$3Dmolpromise.then(function() {\n",
       "viewer_16667915571475406 = $3Dmol.createViewer($(\"#3dmolviewer_16667915571475406\"),{backgroundColor:\"white\"});\n",
       "viewer_16667915571475406.zoomTo();\n",
       "\tviewer_16667915571475406.removeAllModels();\n",
       "\tviewer_16667915571475406.addModel(\"\\n     RDKit          3D\\n\\n  9  9  0  0  0  0  0  0  0  0999 V2000\\n    6.2505    0.1892    1.2713 C   0  0  0  0  0  0  0  0  0  0  0  0\\n    5.2228   -0.4684    2.1803 C   0  0  0  0  0  0  0  0  0  0  0  0\\n    3.8471   -0.3518    1.6134 C   0  0  0  0  0  0  0  0  0  0  0  0\\n    3.4161   -1.2459    0.6262 C   0  0  0  0  0  0  0  0  0  0  0  0\\n    2.1309   -1.1285    0.0880 C   0  0  0  0  0  0  0  0  0  0  0  0\\n    1.2758   -0.1161    0.5342 C   0  0  0  0  0  0  0  0  0  0  0  0\\n    1.7057    0.7797    1.5180 C   0  0  0  0  0  0  0  0  0  0  0  0\\n    2.9908    0.6627    2.0566 C   0  0  0  0  0  0  0  0  0  0  0  0\\n    0.0000    0.0000    0.0000 O   0  0  0  0  0  0  0  0  0  0  0  0\\n  1  2  1  0\\n  2  3  1  0\\n  3  4  4  0\\n  4  5  4  0\\n  5  6  4  0\\n  6  7  4  0\\n  7  8  4  0\\n  6  9  1  0\\n  8  3  4  0\\nM  END\\n\",\"mol\");\n",
       "\tviewer_16667915571475406.setStyle({\"model\": 0},{\"stick\": {}});\n",
       "\tviewer_16667915571475406.addModel(\"\\n     RDKit          3D\\n\\n  1  0  0  0  0  0  0  0  0  0999 V2000\\n    0.0000    0.0000    0.0000 O   0  0  0  0  0  0  0  0  0  0  0  0\\nM  END\\n\",\"mol\");\n",
       "\tviewer_16667915571475406.setStyle({\"model\": 1},{\"sphere\": {\"radius\": 0.8}});\n",
       "\tviewer_16667915571475406.setBackgroundColor(\"0xeeeeee\");\n",
       "\tviewer_16667915571475406.zoomTo();\n",
       "viewer_16667915571475406.render();\n",
       "});\n",
       "</script><script>\n",
       "            $3Dmolpromise.then(function() { //wrap in promise for non-interactive functionality\n",
       "                \n",
       "                viewer_16667915571475406.render();\n",
       "            });\n",
       "            </script>"
      ]
     },
     "metadata": {},
     "output_type": "display_data"
    },
    {
     "data": {
      "application/3dmoljs_load.v0": "<script>\n            $3Dmolpromise.then(function() { //wrap in promise for non-interactive functionality\n                \tviewer_16667915571475406.removeAllModels();\n\tviewer_16667915571475406.addModel(\"\\n     RDKit          3D\\n\\n  8  8  0  0  0  0  0  0  0  0999 V2000\\n    5.2228   -0.4684    2.1803 C   0  0  0  0  0  0  0  0  0  0  0  0\\n    3.8471   -0.3518    1.6134 C   0  0  0  0  0  0  0  0  0  0  0  0\\n    3.4161   -1.2459    0.6262 C   0  0  0  0  0  0  0  0  0  0  0  0\\n    2.1309   -1.1285    0.0880 C   0  0  0  0  0  0  0  0  0  0  0  0\\n    1.2758   -0.1161    0.5342 C   0  0  0  0  0  0  0  0  0  0  0  0\\n    1.7057    0.7797    1.5180 C   0  0  0  0  0  0  0  0  0  0  0  0\\n    2.9908    0.6627    2.0566 C   0  0  0  0  0  0  0  0  0  0  0  0\\n    0.0000    0.0000    0.0000 O   0  0  0  0  0  0  0  0  0  0  0  0\\n  1  2  1  0\\n  2  3  4  0\\n  3  4  4  0\\n  4  5  4  0\\n  5  6  4  0\\n  6  7  4  0\\n  5  8  1  0\\n  7  2  4  0\\nM  END\\n\",\"mol\");\n\tviewer_16667915571475406.setStyle({\"model\": 0},{\"stick\": {}});\n\tviewer_16667915571475406.addModel(\"\\n     RDKit          3D\\n\\n  1  0  0  0  0  0  0  0  0  0999 V2000\\n    0.0000    0.0000    0.0000 O   0  0  0  0  0  0  0  0  0  0  0  0\\nM  END\\n\",\"mol\");\n\tviewer_16667915571475406.setStyle({\"model\": 1},{\"sphere\": {\"radius\": 0.8}});\n\tviewer_16667915571475406.setBackgroundColor(\"0xeeeeee\");\n\n                viewer_16667915571475406.render();\n            });\n            </script>",
      "text/html": [
       "<script>\n",
       "            $3Dmolpromise.then(function() { //wrap in promise for non-interactive functionality\n",
       "                \tviewer_16667915571475406.removeAllModels();\n",
       "\tviewer_16667915571475406.addModel(\"\\n     RDKit          3D\\n\\n  8  8  0  0  0  0  0  0  0  0999 V2000\\n    5.2228   -0.4684    2.1803 C   0  0  0  0  0  0  0  0  0  0  0  0\\n    3.8471   -0.3518    1.6134 C   0  0  0  0  0  0  0  0  0  0  0  0\\n    3.4161   -1.2459    0.6262 C   0  0  0  0  0  0  0  0  0  0  0  0\\n    2.1309   -1.1285    0.0880 C   0  0  0  0  0  0  0  0  0  0  0  0\\n    1.2758   -0.1161    0.5342 C   0  0  0  0  0  0  0  0  0  0  0  0\\n    1.7057    0.7797    1.5180 C   0  0  0  0  0  0  0  0  0  0  0  0\\n    2.9908    0.6627    2.0566 C   0  0  0  0  0  0  0  0  0  0  0  0\\n    0.0000    0.0000    0.0000 O   0  0  0  0  0  0  0  0  0  0  0  0\\n  1  2  1  0\\n  2  3  4  0\\n  3  4  4  0\\n  4  5  4  0\\n  5  6  4  0\\n  6  7  4  0\\n  5  8  1  0\\n  7  2  4  0\\nM  END\\n\",\"mol\");\n",
       "\tviewer_16667915571475406.setStyle({\"model\": 0},{\"stick\": {}});\n",
       "\tviewer_16667915571475406.addModel(\"\\n     RDKit          3D\\n\\n  1  0  0  0  0  0  0  0  0  0999 V2000\\n    0.0000    0.0000    0.0000 O   0  0  0  0  0  0  0  0  0  0  0  0\\nM  END\\n\",\"mol\");\n",
       "\tviewer_16667915571475406.setStyle({\"model\": 1},{\"sphere\": {\"radius\": 0.8}});\n",
       "\tviewer_16667915571475406.setBackgroundColor(\"0xeeeeee\");\n",
       "\n",
       "                viewer_16667915571475406.render();\n",
       "            });\n",
       "            </script>"
      ]
     },
     "metadata": {},
     "output_type": "display_data"
    },
    {
     "data": {
      "application/3dmoljs_load.v0": "<script>\n            $3Dmolpromise.then(function() { //wrap in promise for non-interactive functionality\n                \tviewer_16667915571475406.removeAllModels();\n\tviewer_16667915571475406.addModel(\"\\n     RDKit          3D\\n\\n  7  7  0  0  0  0  0  0  0  0999 V2000\\n    3.8471   -0.3518    1.6134 C   0  0  0  0  0  0  0  0  0  0  0  0\\n    3.4161   -1.2459    0.6262 C   0  0  0  0  0  0  0  0  0  0  0  0\\n    2.1309   -1.1285    0.0880 C   0  0  0  0  0  0  0  0  0  0  0  0\\n    1.2758   -0.1161    0.5342 C   0  0  0  0  0  0  0  0  0  0  0  0\\n    1.7057    0.7797    1.5180 C   0  0  0  0  0  0  0  0  0  0  0  0\\n    2.9908    0.6627    2.0566 C   0  0  0  0  0  0  0  0  0  0  0  0\\n    0.0000    0.0000    0.0000 O   0  0  0  0  0  0  0  0  0  0  0  0\\n  1  2  4  0\\n  2  3  4  0\\n  3  4  4  0\\n  4  5  4  0\\n  5  6  4  0\\n  4  7  1  0\\n  6  1  4  0\\nM  END\\n\",\"mol\");\n\tviewer_16667915571475406.setStyle({\"model\": 0},{\"stick\": {}});\n\tviewer_16667915571475406.addModel(\"\\n     RDKit          3D\\n\\n  1  0  0  0  0  0  0  0  0  0999 V2000\\n    0.0000    0.0000    0.0000 O   0  0  0  0  0  0  0  0  0  0  0  0\\nM  END\\n\",\"mol\");\n\tviewer_16667915571475406.setStyle({\"model\": 1},{\"sphere\": {\"radius\": 0.8}});\n\tviewer_16667915571475406.setBackgroundColor(\"0xeeeeee\");\n\n                viewer_16667915571475406.render();\n            });\n            </script>",
      "text/html": [
       "<script>\n",
       "            $3Dmolpromise.then(function() { //wrap in promise for non-interactive functionality\n",
       "                \tviewer_16667915571475406.removeAllModels();\n",
       "\tviewer_16667915571475406.addModel(\"\\n     RDKit          3D\\n\\n  7  7  0  0  0  0  0  0  0  0999 V2000\\n    3.8471   -0.3518    1.6134 C   0  0  0  0  0  0  0  0  0  0  0  0\\n    3.4161   -1.2459    0.6262 C   0  0  0  0  0  0  0  0  0  0  0  0\\n    2.1309   -1.1285    0.0880 C   0  0  0  0  0  0  0  0  0  0  0  0\\n    1.2758   -0.1161    0.5342 C   0  0  0  0  0  0  0  0  0  0  0  0\\n    1.7057    0.7797    1.5180 C   0  0  0  0  0  0  0  0  0  0  0  0\\n    2.9908    0.6627    2.0566 C   0  0  0  0  0  0  0  0  0  0  0  0\\n    0.0000    0.0000    0.0000 O   0  0  0  0  0  0  0  0  0  0  0  0\\n  1  2  4  0\\n  2  3  4  0\\n  3  4  4  0\\n  4  5  4  0\\n  5  6  4  0\\n  4  7  1  0\\n  6  1  4  0\\nM  END\\n\",\"mol\");\n",
       "\tviewer_16667915571475406.setStyle({\"model\": 0},{\"stick\": {}});\n",
       "\tviewer_16667915571475406.addModel(\"\\n     RDKit          3D\\n\\n  1  0  0  0  0  0  0  0  0  0999 V2000\\n    0.0000    0.0000    0.0000 O   0  0  0  0  0  0  0  0  0  0  0  0\\nM  END\\n\",\"mol\");\n",
       "\tviewer_16667915571475406.setStyle({\"model\": 1},{\"sphere\": {\"radius\": 0.8}});\n",
       "\tviewer_16667915571475406.setBackgroundColor(\"0xeeeeee\");\n",
       "\n",
       "                viewer_16667915571475406.render();\n",
       "            });\n",
       "            </script>"
      ]
     },
     "metadata": {},
     "output_type": "display_data"
    },
    {
     "data": {
      "application/3dmoljs_load.v0": "<script>\n            $3Dmolpromise.then(function() { //wrap in promise for non-interactive functionality\n                \tviewer_16667915571475406.removeAllModels();\n\tviewer_16667915571475406.addModel(\"\\n     RDKit          3D\\n\\n  6  5  0  0  0  0  0  0  0  0999 V2000\\n    3.4161   -1.2459    0.6262 C   0  0  0  0  0  0  0  0  0  0  0  0\\n    2.1309   -1.1285    0.0880 C   0  0  0  0  0  0  0  0  0  0  0  0\\n    1.2758   -0.1161    0.5342 C   0  0  0  0  0  0  0  0  0  0  0  0\\n    1.7057    0.7797    1.5180 C   0  0  0  0  0  0  0  0  0  0  0  0\\n    2.9908    0.6627    2.0566 C   0  0  0  0  0  0  0  0  0  0  0  0\\n    0.0000    0.0000    0.0000 O   0  0  0  0  0  0  0  0  0  0  0  0\\n  1  2  4  0\\n  2  3  4  0\\n  3  4  4  0\\n  4  5  4  0\\n  3  6  1  0\\nM  END\\n\",\"mol\");\n\tviewer_16667915571475406.setStyle({\"model\": 0},{\"stick\": {}});\n\tviewer_16667915571475406.addModel(\"\\n     RDKit          3D\\n\\n  1  0  0  0  0  0  0  0  0  0999 V2000\\n    0.0000    0.0000    0.0000 O   0  0  0  0  0  0  0  0  0  0  0  0\\nM  END\\n\",\"mol\");\n\tviewer_16667915571475406.setStyle({\"model\": 1},{\"sphere\": {\"radius\": 0.8}});\n\tviewer_16667915571475406.setBackgroundColor(\"0xeeeeee\");\n\n                viewer_16667915571475406.render();\n            });\n            </script>",
      "text/html": [
       "<script>\n",
       "            $3Dmolpromise.then(function() { //wrap in promise for non-interactive functionality\n",
       "                \tviewer_16667915571475406.removeAllModels();\n",
       "\tviewer_16667915571475406.addModel(\"\\n     RDKit          3D\\n\\n  6  5  0  0  0  0  0  0  0  0999 V2000\\n    3.4161   -1.2459    0.6262 C   0  0  0  0  0  0  0  0  0  0  0  0\\n    2.1309   -1.1285    0.0880 C   0  0  0  0  0  0  0  0  0  0  0  0\\n    1.2758   -0.1161    0.5342 C   0  0  0  0  0  0  0  0  0  0  0  0\\n    1.7057    0.7797    1.5180 C   0  0  0  0  0  0  0  0  0  0  0  0\\n    2.9908    0.6627    2.0566 C   0  0  0  0  0  0  0  0  0  0  0  0\\n    0.0000    0.0000    0.0000 O   0  0  0  0  0  0  0  0  0  0  0  0\\n  1  2  4  0\\n  2  3  4  0\\n  3  4  4  0\\n  4  5  4  0\\n  3  6  1  0\\nM  END\\n\",\"mol\");\n",
       "\tviewer_16667915571475406.setStyle({\"model\": 0},{\"stick\": {}});\n",
       "\tviewer_16667915571475406.addModel(\"\\n     RDKit          3D\\n\\n  1  0  0  0  0  0  0  0  0  0999 V2000\\n    0.0000    0.0000    0.0000 O   0  0  0  0  0  0  0  0  0  0  0  0\\nM  END\\n\",\"mol\");\n",
       "\tviewer_16667915571475406.setStyle({\"model\": 1},{\"sphere\": {\"radius\": 0.8}});\n",
       "\tviewer_16667915571475406.setBackgroundColor(\"0xeeeeee\");\n",
       "\n",
       "                viewer_16667915571475406.render();\n",
       "            });\n",
       "            </script>"
      ]
     },
     "metadata": {},
     "output_type": "display_data"
    },
    {
     "data": {
      "application/3dmoljs_load.v0": "<script>\n            $3Dmolpromise.then(function() { //wrap in promise for non-interactive functionality\n                \tviewer_16667915571475406.removeAllModels();\n\tviewer_16667915571475406.addModel(\"\\n     RDKit          3D\\n\\n  5  4  0  0  0  0  0  0  0  0999 V2000\\n    2.1309   -1.1285    0.0880 C   0  0  0  0  0  0  0  0  0  0  0  0\\n    1.2758   -0.1161    0.5342 C   0  0  0  0  0  0  0  0  0  0  0  0\\n    1.7057    0.7797    1.5180 C   0  0  0  0  0  0  0  0  0  0  0  0\\n    2.9908    0.6627    2.0566 C   0  0  0  0  0  0  0  0  0  0  0  0\\n    0.0000    0.0000    0.0000 O   0  0  0  0  0  0  0  0  0  0  0  0\\n  1  2  4  0\\n  2  3  4  0\\n  3  4  4  0\\n  2  5  1  0\\nM  END\\n\",\"mol\");\n\tviewer_16667915571475406.setStyle({\"model\": 0},{\"stick\": {}});\n\tviewer_16667915571475406.addModel(\"\\n     RDKit          3D\\n\\n  1  0  0  0  0  0  0  0  0  0999 V2000\\n    0.0000    0.0000    0.0000 O   0  0  0  0  0  0  0  0  0  0  0  0\\nM  END\\n\",\"mol\");\n\tviewer_16667915571475406.setStyle({\"model\": 1},{\"sphere\": {\"radius\": 0.8}});\n\tviewer_16667915571475406.setBackgroundColor(\"0xeeeeee\");\n\n                viewer_16667915571475406.render();\n            });\n            </script>",
      "text/html": [
       "<script>\n",
       "            $3Dmolpromise.then(function() { //wrap in promise for non-interactive functionality\n",
       "                \tviewer_16667915571475406.removeAllModels();\n",
       "\tviewer_16667915571475406.addModel(\"\\n     RDKit          3D\\n\\n  5  4  0  0  0  0  0  0  0  0999 V2000\\n    2.1309   -1.1285    0.0880 C   0  0  0  0  0  0  0  0  0  0  0  0\\n    1.2758   -0.1161    0.5342 C   0  0  0  0  0  0  0  0  0  0  0  0\\n    1.7057    0.7797    1.5180 C   0  0  0  0  0  0  0  0  0  0  0  0\\n    2.9908    0.6627    2.0566 C   0  0  0  0  0  0  0  0  0  0  0  0\\n    0.0000    0.0000    0.0000 O   0  0  0  0  0  0  0  0  0  0  0  0\\n  1  2  4  0\\n  2  3  4  0\\n  3  4  4  0\\n  2  5  1  0\\nM  END\\n\",\"mol\");\n",
       "\tviewer_16667915571475406.setStyle({\"model\": 0},{\"stick\": {}});\n",
       "\tviewer_16667915571475406.addModel(\"\\n     RDKit          3D\\n\\n  1  0  0  0  0  0  0  0  0  0999 V2000\\n    0.0000    0.0000    0.0000 O   0  0  0  0  0  0  0  0  0  0  0  0\\nM  END\\n\",\"mol\");\n",
       "\tviewer_16667915571475406.setStyle({\"model\": 1},{\"sphere\": {\"radius\": 0.8}});\n",
       "\tviewer_16667915571475406.setBackgroundColor(\"0xeeeeee\");\n",
       "\n",
       "                viewer_16667915571475406.render();\n",
       "            });\n",
       "            </script>"
      ]
     },
     "metadata": {},
     "output_type": "display_data"
    },
    {
     "data": {
      "application/3dmoljs_load.v0": "<script>\n            $3Dmolpromise.then(function() { //wrap in promise for non-interactive functionality\n                \tviewer_16667915571475406.removeAllModels();\n\tviewer_16667915571475406.addModel(\"\\n     RDKit          3D\\n\\n  4  3  0  0  0  0  0  0  0  0999 V2000\\n    2.1309   -1.1285    0.0880 C   0  0  0  0  0  0  0  0  0  0  0  0\\n    1.2758   -0.1161    0.5342 C   0  0  0  0  0  0  0  0  0  0  0  0\\n    1.7057    0.7797    1.5180 C   0  0  0  0  0  0  0  0  0  0  0  0\\n    0.0000    0.0000    0.0000 O   0  0  0  0  0  0  0  0  0  0  0  0\\n  1  2  4  0\\n  2  3  4  0\\n  2  4  1  0\\nM  END\\n\",\"mol\");\n\tviewer_16667915571475406.setStyle({\"model\": 0},{\"stick\": {}});\n\tviewer_16667915571475406.addModel(\"\\n     RDKit          3D\\n\\n  1  0  0  0  0  0  0  0  0  0999 V2000\\n    0.0000    0.0000    0.0000 O   0  0  0  0  0  0  0  0  0  0  0  0\\nM  END\\n\",\"mol\");\n\tviewer_16667915571475406.setStyle({\"model\": 1},{\"sphere\": {\"radius\": 0.8}});\n\tviewer_16667915571475406.setBackgroundColor(\"0xeeeeee\");\n\n                viewer_16667915571475406.render();\n            });\n            </script>",
      "text/html": [
       "<script>\n",
       "            $3Dmolpromise.then(function() { //wrap in promise for non-interactive functionality\n",
       "                \tviewer_16667915571475406.removeAllModels();\n",
       "\tviewer_16667915571475406.addModel(\"\\n     RDKit          3D\\n\\n  4  3  0  0  0  0  0  0  0  0999 V2000\\n    2.1309   -1.1285    0.0880 C   0  0  0  0  0  0  0  0  0  0  0  0\\n    1.2758   -0.1161    0.5342 C   0  0  0  0  0  0  0  0  0  0  0  0\\n    1.7057    0.7797    1.5180 C   0  0  0  0  0  0  0  0  0  0  0  0\\n    0.0000    0.0000    0.0000 O   0  0  0  0  0  0  0  0  0  0  0  0\\n  1  2  4  0\\n  2  3  4  0\\n  2  4  1  0\\nM  END\\n\",\"mol\");\n",
       "\tviewer_16667915571475406.setStyle({\"model\": 0},{\"stick\": {}});\n",
       "\tviewer_16667915571475406.addModel(\"\\n     RDKit          3D\\n\\n  1  0  0  0  0  0  0  0  0  0999 V2000\\n    0.0000    0.0000    0.0000 O   0  0  0  0  0  0  0  0  0  0  0  0\\nM  END\\n\",\"mol\");\n",
       "\tviewer_16667915571475406.setStyle({\"model\": 1},{\"sphere\": {\"radius\": 0.8}});\n",
       "\tviewer_16667915571475406.setBackgroundColor(\"0xeeeeee\");\n",
       "\n",
       "                viewer_16667915571475406.render();\n",
       "            });\n",
       "            </script>"
      ]
     },
     "metadata": {},
     "output_type": "display_data"
    },
    {
     "data": {
      "application/3dmoljs_load.v0": "<script>\n            $3Dmolpromise.then(function() { //wrap in promise for non-interactive functionality\n                \tviewer_16667915571475406.removeAllModels();\n\tviewer_16667915571475406.addModel(\"\\n     RDKit          3D\\n\\n  3  2  0  0  0  0  0  0  0  0999 V2000\\n    1.2758   -0.1161    0.5342 C   0  0  0  0  0  0  0  0  0  0  0  0\\n    1.7057    0.7797    1.5180 C   0  0  0  0  0  0  0  0  0  0  0  0\\n    0.0000    0.0000    0.0000 O   0  0  0  0  0  0  0  0  0  0  0  0\\n  1  2  4  0\\n  1  3  1  0\\nM  END\\n\",\"mol\");\n\tviewer_16667915571475406.setStyle({\"model\": 0},{\"stick\": {}});\n\tviewer_16667915571475406.addModel(\"\\n     RDKit          3D\\n\\n  1  0  0  0  0  0  0  0  0  0999 V2000\\n    0.0000    0.0000    0.0000 O   0  0  0  0  0  0  0  0  0  0  0  0\\nM  END\\n\",\"mol\");\n\tviewer_16667915571475406.setStyle({\"model\": 1},{\"sphere\": {\"radius\": 0.8}});\n\tviewer_16667915571475406.setBackgroundColor(\"0xeeeeee\");\n\n                viewer_16667915571475406.render();\n            });\n            </script>",
      "text/html": [
       "<script>\n",
       "            $3Dmolpromise.then(function() { //wrap in promise for non-interactive functionality\n",
       "                \tviewer_16667915571475406.removeAllModels();\n",
       "\tviewer_16667915571475406.addModel(\"\\n     RDKit          3D\\n\\n  3  2  0  0  0  0  0  0  0  0999 V2000\\n    1.2758   -0.1161    0.5342 C   0  0  0  0  0  0  0  0  0  0  0  0\\n    1.7057    0.7797    1.5180 C   0  0  0  0  0  0  0  0  0  0  0  0\\n    0.0000    0.0000    0.0000 O   0  0  0  0  0  0  0  0  0  0  0  0\\n  1  2  4  0\\n  1  3  1  0\\nM  END\\n\",\"mol\");\n",
       "\tviewer_16667915571475406.setStyle({\"model\": 0},{\"stick\": {}});\n",
       "\tviewer_16667915571475406.addModel(\"\\n     RDKit          3D\\n\\n  1  0  0  0  0  0  0  0  0  0999 V2000\\n    0.0000    0.0000    0.0000 O   0  0  0  0  0  0  0  0  0  0  0  0\\nM  END\\n\",\"mol\");\n",
       "\tviewer_16667915571475406.setStyle({\"model\": 1},{\"sphere\": {\"radius\": 0.8}});\n",
       "\tviewer_16667915571475406.setBackgroundColor(\"0xeeeeee\");\n",
       "\n",
       "                viewer_16667915571475406.render();\n",
       "            });\n",
       "            </script>"
      ]
     },
     "metadata": {},
     "output_type": "display_data"
    },
    {
     "data": {
      "application/3dmoljs_load.v0": "<script>\n            $3Dmolpromise.then(function() { //wrap in promise for non-interactive functionality\n                \tviewer_16667915571475406.removeAllModels();\n\tviewer_16667915571475406.addModel(\"\\n     RDKit          3D\\n\\n  2  1  0  0  0  0  0  0  0  0999 V2000\\n    1.2758   -0.1161    0.5342 C   0  0  0  0  0  0  0  0  0  0  0  0\\n    0.0000    0.0000    0.0000 O   0  0  0  0  0  0  0  0  0  0  0  0\\n  1  2  1  0\\nM  END\\n\",\"mol\");\n\tviewer_16667915571475406.setStyle({\"model\": 0},{\"stick\": {}});\n\tviewer_16667915571475406.addModel(\"\\n     RDKit          3D\\n\\n  1  0  0  0  0  0  0  0  0  0999 V2000\\n    0.0000    0.0000    0.0000 O   0  0  0  0  0  0  0  0  0  0  0  0\\nM  END\\n\",\"mol\");\n\tviewer_16667915571475406.setStyle({\"model\": 1},{\"sphere\": {\"radius\": 0.8}});\n\tviewer_16667915571475406.setBackgroundColor(\"0xeeeeee\");\n\n                viewer_16667915571475406.render();\n            });\n            </script>",
      "text/html": [
       "<script>\n",
       "            $3Dmolpromise.then(function() { //wrap in promise for non-interactive functionality\n",
       "                \tviewer_16667915571475406.removeAllModels();\n",
       "\tviewer_16667915571475406.addModel(\"\\n     RDKit          3D\\n\\n  2  1  0  0  0  0  0  0  0  0999 V2000\\n    1.2758   -0.1161    0.5342 C   0  0  0  0  0  0  0  0  0  0  0  0\\n    0.0000    0.0000    0.0000 O   0  0  0  0  0  0  0  0  0  0  0  0\\n  1  2  1  0\\nM  END\\n\",\"mol\");\n",
       "\tviewer_16667915571475406.setStyle({\"model\": 0},{\"stick\": {}});\n",
       "\tviewer_16667915571475406.addModel(\"\\n     RDKit          3D\\n\\n  1  0  0  0  0  0  0  0  0  0999 V2000\\n    0.0000    0.0000    0.0000 O   0  0  0  0  0  0  0  0  0  0  0  0\\nM  END\\n\",\"mol\");\n",
       "\tviewer_16667915571475406.setStyle({\"model\": 1},{\"sphere\": {\"radius\": 0.8}});\n",
       "\tviewer_16667915571475406.setBackgroundColor(\"0xeeeeee\");\n",
       "\n",
       "                viewer_16667915571475406.render();\n",
       "            });\n",
       "            </script>"
      ]
     },
     "metadata": {},
     "output_type": "display_data"
    },
    {
     "data": {
      "application/3dmoljs_load.v0": "<script>\n            $3Dmolpromise.then(function() { //wrap in promise for non-interactive functionality\n                \tviewer_16667915571475406.removeAllModels();\n\tviewer_16667915571475406.addModel(\"\\n     RDKit          3D\\n\\n  1  0  0  0  0  0  0  0  0  0999 V2000\\n    0.0000    0.0000    0.0000 O   0  0  0  0  0  0  0  0  0  0  0  0\\nM  END\\n\",\"mol\");\n\tviewer_16667915571475406.setStyle({\"model\": 0},{\"stick\": {}});\n\tviewer_16667915571475406.addModel(\"\\n     RDKit          3D\\n\\n  1  0  0  0  0  0  0  0  0  0999 V2000\\n    0.0000    0.0000    0.0000 O   0  0  0  0  0  0  0  0  0  0  0  0\\nM  END\\n\",\"mol\");\n\tviewer_16667915571475406.setStyle({\"model\": 1},{\"sphere\": {\"radius\": 0.8}});\n\tviewer_16667915571475406.setBackgroundColor(\"0xeeeeee\");\n\n                viewer_16667915571475406.render();\n            });\n            </script>",
      "text/html": [
       "<script>\n",
       "            $3Dmolpromise.then(function() { //wrap in promise for non-interactive functionality\n",
       "                \tviewer_16667915571475406.removeAllModels();\n",
       "\tviewer_16667915571475406.addModel(\"\\n     RDKit          3D\\n\\n  1  0  0  0  0  0  0  0  0  0999 V2000\\n    0.0000    0.0000    0.0000 O   0  0  0  0  0  0  0  0  0  0  0  0\\nM  END\\n\",\"mol\");\n",
       "\tviewer_16667915571475406.setStyle({\"model\": 0},{\"stick\": {}});\n",
       "\tviewer_16667915571475406.addModel(\"\\n     RDKit          3D\\n\\n  1  0  0  0  0  0  0  0  0  0999 V2000\\n    0.0000    0.0000    0.0000 O   0  0  0  0  0  0  0  0  0  0  0  0\\nM  END\\n\",\"mol\");\n",
       "\tviewer_16667915571475406.setStyle({\"model\": 1},{\"sphere\": {\"radius\": 0.8}});\n",
       "\tviewer_16667915571475406.setBackgroundColor(\"0xeeeeee\");\n",
       "\n",
       "                viewer_16667915571475406.render();\n",
       "            });\n",
       "            </script>"
      ]
     },
     "metadata": {},
     "output_type": "display_data"
    }
   ],
   "source": [
    "visualizations.animated_visualization_3d_v2_wo_ccoremol(mol1, order1newiter, hit_ats1)"
   ]
  },
  {
   "cell_type": "code",
   "execution_count": null,
   "id": "ea20dd12",
   "metadata": {},
   "outputs": [],
   "source": []
  }
 ],
 "metadata": {
  "kernelspec": {
   "display_name": "Python 3 (ipykernel)",
   "language": "python",
   "name": "python3"
  },
  "language_info": {
   "codemirror_mode": {
    "name": "ipython",
    "version": 3
   },
   "file_extension": ".py",
   "mimetype": "text/x-python",
   "name": "python",
   "nbconvert_exporter": "python",
   "pygments_lexer": "ipython3",
   "version": "3.9.7"
  }
 },
 "nbformat": 4,
 "nbformat_minor": 5
}
